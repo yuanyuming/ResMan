{
 "cells": [
  {
   "cell_type": "markdown",
   "metadata": {},
   "source": [
    "## Environment Setup"
   ]
  },
  {
   "cell_type": "code",
   "execution_count": 1,
   "metadata": {},
   "outputs": [],
   "source": [
    "from ray.rllib.algorithms.algorithm import Algorithm\n",
    "import rllib_setup\n",
    "from ray.tune import register_env\n",
    "\n",
    "env = rllib_setup.get_env(10,6)\n",
    "env_name = \"VJS\"\n",
    "register_env(\n",
    "    env_name,\n",
    "    lambda config: rllib_setup.get_env_continuous(\n",
    "        10,6\n",
    "    ),\n",
    ")\n"
   ]
  },
  {
   "cell_type": "markdown",
   "metadata": {},
   "source": [
    "## Evaluation"
   ]
  },
  {
   "cell_type": "markdown",
   "metadata": {},
   "source": [
    "### Random"
   ]
  },
  {
   "cell_type": "code",
   "execution_count": 2,
   "metadata": {},
   "outputs": [
    {
     "data": {
      "text/html": [
       "<pre style=\"white-space:pre;overflow-x:auto;line-height:normal;font-family:Menlo,'DejaVu Sans Mono',consolas,'Courier New',monospace\">| <span style=\"color: #008080; text-decoration-color: #008080; font-weight: bold\">1042</span> | <span style=\"color: #008080; text-decoration-color: #008080; font-weight: bold\">792</span> | <span style=\"color: #008080; text-decoration-color: #008080; font-weight: bold\">1375438.6250000002</span> | <span style=\"color: #008080; text-decoration-color: #008080; font-weight: bold\">508313.5353758052</span> | <span style=\"color: #008080; text-decoration-color: #008080; font-weight: bold\">0.19440940678355564</span> |\n",
       "</pre>\n"
      ],
      "text/plain": [
       "| \u001b[1;36m1042\u001b[0m | \u001b[1;36m792\u001b[0m | \u001b[1;36m1375438.6250000002\u001b[0m | \u001b[1;36m508313.5353758052\u001b[0m | \u001b[1;36m0.19440940678355564\u001b[0m |\n"
      ]
     },
     "metadata": {},
     "output_type": "display_data"
    },
    {
     "data": {
      "text/html": [
       "<pre style=\"white-space:pre;overflow-x:auto;line-height:normal;font-family:Menlo,'DejaVu Sans Mono',consolas,'Courier New',monospace\">| <span style=\"color: #008080; text-decoration-color: #008080; font-weight: bold\">1042</span> | <span style=\"color: #008080; text-decoration-color: #008080; font-weight: bold\">790</span> | <span style=\"color: #008080; text-decoration-color: #008080; font-weight: bold\">1439944.3249999997</span> | <span style=\"color: #008080; text-decoration-color: #008080; font-weight: bold\">492018.6166086058</span> | <span style=\"color: #008080; text-decoration-color: #008080; font-weight: bold\">0.18172517842192196</span> |\n",
       "</pre>\n"
      ],
      "text/plain": [
       "| \u001b[1;36m1042\u001b[0m | \u001b[1;36m790\u001b[0m | \u001b[1;36m1439944.3249999997\u001b[0m | \u001b[1;36m492018.6166086058\u001b[0m | \u001b[1;36m0.18172517842192196\u001b[0m |\n"
      ]
     },
     "metadata": {},
     "output_type": "display_data"
    },
    {
     "data": {
      "text/html": [
       "<pre style=\"white-space:pre;overflow-x:auto;line-height:normal;font-family:Menlo,'DejaVu Sans Mono',consolas,'Courier New',monospace\">| <span style=\"color: #008080; text-decoration-color: #008080; font-weight: bold\">1028</span> | <span style=\"color: #008080; text-decoration-color: #008080; font-weight: bold\">790</span> | <span style=\"color: #008080; text-decoration-color: #008080; font-weight: bold\">1512929.8249999997</span> | <span style=\"color: #008080; text-decoration-color: #008080; font-weight: bold\">581303.6883950182</span> | <span style=\"color: #008080; text-decoration-color: #008080; font-weight: bold\">0.182602634064964</span> |\n",
       "</pre>\n"
      ],
      "text/plain": [
       "| \u001b[1;36m1028\u001b[0m | \u001b[1;36m790\u001b[0m | \u001b[1;36m1512929.8249999997\u001b[0m | \u001b[1;36m581303.6883950182\u001b[0m | \u001b[1;36m0.182602634064964\u001b[0m |\n"
      ]
     },
     "metadata": {},
     "output_type": "display_data"
    },
    {
     "data": {
      "text/html": [
       "<pre style=\"white-space:pre;overflow-x:auto;line-height:normal;font-family:Menlo,'DejaVu Sans Mono',consolas,'Courier New',monospace\">| <span style=\"color: #008080; text-decoration-color: #008080; font-weight: bold\">1028</span> | <span style=\"color: #008080; text-decoration-color: #008080; font-weight: bold\">798</span> | <span style=\"color: #008080; text-decoration-color: #008080; font-weight: bold\">1524234.5000000002</span> | <span style=\"color: #008080; text-decoration-color: #008080; font-weight: bold\">584156.748887402</span> | <span style=\"color: #008080; text-decoration-color: #008080; font-weight: bold\">0.18920012699037925</span> |\n",
       "</pre>\n"
      ],
      "text/plain": [
       "| \u001b[1;36m1028\u001b[0m | \u001b[1;36m798\u001b[0m | \u001b[1;36m1524234.5000000002\u001b[0m | \u001b[1;36m584156.748887402\u001b[0m | \u001b[1;36m0.18920012699037925\u001b[0m |\n"
      ]
     },
     "metadata": {},
     "output_type": "display_data"
    },
    {
     "data": {
      "text/html": [
       "<pre style=\"white-space:pre;overflow-x:auto;line-height:normal;font-family:Menlo,'DejaVu Sans Mono',consolas,'Courier New',monospace\">| <span style=\"color: #008080; text-decoration-color: #008080; font-weight: bold\">1081</span> | <span style=\"color: #008080; text-decoration-color: #008080; font-weight: bold\">821</span> | <span style=\"color: #008080; text-decoration-color: #008080; font-weight: bold\">1591181.0</span> | <span style=\"color: #008080; text-decoration-color: #008080; font-weight: bold\">592230.8605780115</span> | <span style=\"color: #008080; text-decoration-color: #008080; font-weight: bold\">0.211900232139585</span> |\n",
       "</pre>\n"
      ],
      "text/plain": [
       "| \u001b[1;36m1081\u001b[0m | \u001b[1;36m821\u001b[0m | \u001b[1;36m1591181.0\u001b[0m | \u001b[1;36m592230.8605780115\u001b[0m | \u001b[1;36m0.211900232139585\u001b[0m |\n"
      ]
     },
     "metadata": {},
     "output_type": "display_data"
    },
    {
     "data": {
      "text/html": [
       "<pre style=\"white-space:pre;overflow-x:auto;line-height:normal;font-family:Menlo,'DejaVu Sans Mono',consolas,'Courier New',monospace\">| <span style=\"color: #008080; text-decoration-color: #008080; font-weight: bold\">1081</span> | <span style=\"color: #008080; text-decoration-color: #008080; font-weight: bold\">789</span> | <span style=\"color: #008080; text-decoration-color: #008080; font-weight: bold\">1505354.0750000002</span> | <span style=\"color: #008080; text-decoration-color: #008080; font-weight: bold\">586052.434704451</span> | <span style=\"color: #008080; text-decoration-color: #008080; font-weight: bold\">0.1897399759828716</span> |\n",
       "</pre>\n"
      ],
      "text/plain": [
       "| \u001b[1;36m1081\u001b[0m | \u001b[1;36m789\u001b[0m | \u001b[1;36m1505354.0750000002\u001b[0m | \u001b[1;36m586052.434704451\u001b[0m | \u001b[1;36m0.1897399759828716\u001b[0m |\n"
      ]
     },
     "metadata": {},
     "output_type": "display_data"
    },
    {
     "data": {
      "text/html": [
       "<pre style=\"white-space:pre;overflow-x:auto;line-height:normal;font-family:Menlo,'DejaVu Sans Mono',consolas,'Courier New',monospace\">| <span style=\"color: #008080; text-decoration-color: #008080; font-weight: bold\">993</span> | <span style=\"color: #008080; text-decoration-color: #008080; font-weight: bold\">734</span> | <span style=\"color: #008080; text-decoration-color: #008080; font-weight: bold\">1388277.3499999996</span> | <span style=\"color: #008080; text-decoration-color: #008080; font-weight: bold\">525776.6559664359</span> | <span style=\"color: #008080; text-decoration-color: #008080; font-weight: bold\">0.20433769927769352</span> |\n",
       "</pre>\n"
      ],
      "text/plain": [
       "| \u001b[1;36m993\u001b[0m | \u001b[1;36m734\u001b[0m | \u001b[1;36m1388277.3499999996\u001b[0m | \u001b[1;36m525776.6559664359\u001b[0m | \u001b[1;36m0.20433769927769352\u001b[0m |\n"
      ]
     },
     "metadata": {},
     "output_type": "display_data"
    },
    {
     "data": {
      "text/html": [
       "<pre style=\"white-space:pre;overflow-x:auto;line-height:normal;font-family:Menlo,'DejaVu Sans Mono',consolas,'Courier New',monospace\">| <span style=\"color: #008080; text-decoration-color: #008080; font-weight: bold\">993</span> | <span style=\"color: #008080; text-decoration-color: #008080; font-weight: bold\">752</span> | <span style=\"color: #008080; text-decoration-color: #008080; font-weight: bold\">1400052.9500000004</span> | <span style=\"color: #008080; text-decoration-color: #008080; font-weight: bold\">523869.84742802335</span> | <span style=\"color: #008080; text-decoration-color: #008080; font-weight: bold\">0.19867457442367015</span> |\n",
       "</pre>\n"
      ],
      "text/plain": [
       "| \u001b[1;36m993\u001b[0m | \u001b[1;36m752\u001b[0m | \u001b[1;36m1400052.9500000004\u001b[0m | \u001b[1;36m523869.84742802335\u001b[0m | \u001b[1;36m0.19867457442367015\u001b[0m |\n"
      ]
     },
     "metadata": {},
     "output_type": "display_data"
    },
    {
     "data": {
      "text/html": [
       "<pre style=\"white-space:pre;overflow-x:auto;line-height:normal;font-family:Menlo,'DejaVu Sans Mono',consolas,'Courier New',monospace\">| <span style=\"color: #008080; text-decoration-color: #008080; font-weight: bold\">1015</span> | <span style=\"color: #008080; text-decoration-color: #008080; font-weight: bold\">764</span> | <span style=\"color: #008080; text-decoration-color: #008080; font-weight: bold\">1441045.0250000001</span> | <span style=\"color: #008080; text-decoration-color: #008080; font-weight: bold\">531454.9006448454</span> | <span style=\"color: #008080; text-decoration-color: #008080; font-weight: bold\">0.17877381189548633</span> |\n",
       "</pre>\n"
      ],
      "text/plain": [
       "| \u001b[1;36m1015\u001b[0m | \u001b[1;36m764\u001b[0m | \u001b[1;36m1441045.0250000001\u001b[0m | \u001b[1;36m531454.9006448454\u001b[0m | \u001b[1;36m0.17877381189548633\u001b[0m |\n"
      ]
     },
     "metadata": {},
     "output_type": "display_data"
    },
    {
     "data": {
      "text/html": [
       "<pre style=\"white-space:pre;overflow-x:auto;line-height:normal;font-family:Menlo,'DejaVu Sans Mono',consolas,'Courier New',monospace\">| <span style=\"color: #008080; text-decoration-color: #008080; font-weight: bold\">1015</span> | <span style=\"color: #008080; text-decoration-color: #008080; font-weight: bold\">776</span> | <span style=\"color: #008080; text-decoration-color: #008080; font-weight: bold\">1448943.8749999995</span> | <span style=\"color: #008080; text-decoration-color: #008080; font-weight: bold\">529757.8597200956</span> | <span style=\"color: #008080; text-decoration-color: #008080; font-weight: bold\">0.1764639251687811</span> |\n",
       "</pre>\n"
      ],
      "text/plain": [
       "| \u001b[1;36m1015\u001b[0m | \u001b[1;36m776\u001b[0m | \u001b[1;36m1448943.8749999995\u001b[0m | \u001b[1;36m529757.8597200956\u001b[0m | \u001b[1;36m0.1764639251687811\u001b[0m |\n"
      ]
     },
     "metadata": {},
     "output_type": "display_data"
    }
   ],
   "source": [
    "from environment import Environment\n",
    "para = Environment.VehicleJobSchedulingParameters(average_per_slot=10, machine_numbers=6, duration=30)\n",
    "env = Environment.VehicleJobSchedulingEnvACE(parameter=para)\n",
    "\n",
    "# 使用五个种子分别为0,12,234,3456,45678进行测试\n",
    "seeds = [0,12,234,3456,45678]\n",
    "for seed in seeds:\n",
    "    for i in range(2):\n",
    "        env.reset(seed=seed)\n",
    "        for agent in env.agent_iter():\n",
    "            env.step(env.action_space(agent).sample())\n",
    "        \n"
   ]
  },
  {
   "cell_type": "markdown",
   "metadata": {},
   "source": [
    "### Fixed"
   ]
  },
  {
   "cell_type": "code",
   "execution_count": 3,
   "metadata": {},
   "outputs": [
    {
     "data": {
      "text/html": [
       "<pre style=\"white-space:pre;overflow-x:auto;line-height:normal;font-family:Menlo,'DejaVu Sans Mono',consolas,'Courier New',monospace\">| <span style=\"color: #008080; text-decoration-color: #008080; font-weight: bold\">1042</span> | <span style=\"color: #008080; text-decoration-color: #008080; font-weight: bold\">937</span> | <span style=\"color: #008080; text-decoration-color: #008080; font-weight: bold\">1527823.4749999999</span> | <span style=\"color: #008080; text-decoration-color: #008080; font-weight: bold\">698047.109830856</span> | <span style=\"color: #008080; text-decoration-color: #008080; font-weight: bold\">0.18950047264812642</span> |\n",
       "</pre>\n"
      ],
      "text/plain": [
       "| \u001b[1;36m1042\u001b[0m | \u001b[1;36m937\u001b[0m | \u001b[1;36m1527823.4749999999\u001b[0m | \u001b[1;36m698047.109830856\u001b[0m | \u001b[1;36m0.18950047264812642\u001b[0m |\n"
      ]
     },
     "metadata": {},
     "output_type": "display_data"
    },
    {
     "data": {
      "text/html": [
       "<pre style=\"white-space:pre;overflow-x:auto;line-height:normal;font-family:Menlo,'DejaVu Sans Mono',consolas,'Courier New',monospace\">| <span style=\"color: #008080; text-decoration-color: #008080; font-weight: bold\">1042</span> | <span style=\"color: #008080; text-decoration-color: #008080; font-weight: bold\">937</span> | <span style=\"color: #008080; text-decoration-color: #008080; font-weight: bold\">1527823.4749999999</span> | <span style=\"color: #008080; text-decoration-color: #008080; font-weight: bold\">698047.109830856</span> | <span style=\"color: #008080; text-decoration-color: #008080; font-weight: bold\">0.18950047264812642</span> |\n",
       "</pre>\n"
      ],
      "text/plain": [
       "| \u001b[1;36m1042\u001b[0m | \u001b[1;36m937\u001b[0m | \u001b[1;36m1527823.4749999999\u001b[0m | \u001b[1;36m698047.109830856\u001b[0m | \u001b[1;36m0.18950047264812642\u001b[0m |\n"
      ]
     },
     "metadata": {},
     "output_type": "display_data"
    },
    {
     "data": {
      "text/html": [
       "<pre style=\"white-space:pre;overflow-x:auto;line-height:normal;font-family:Menlo,'DejaVu Sans Mono',consolas,'Courier New',monospace\">| <span style=\"color: #008080; text-decoration-color: #008080; font-weight: bold\">1028</span> | <span style=\"color: #008080; text-decoration-color: #008080; font-weight: bold\">944</span> | <span style=\"color: #008080; text-decoration-color: #008080; font-weight: bold\">1634844.725</span> | <span style=\"color: #008080; text-decoration-color: #008080; font-weight: bold\">802717.672697853</span> | <span style=\"color: #008080; text-decoration-color: #008080; font-weight: bold\">0.20409025312009027</span> |\n",
       "</pre>\n"
      ],
      "text/plain": [
       "| \u001b[1;36m1028\u001b[0m | \u001b[1;36m944\u001b[0m | \u001b[1;36m1634844.725\u001b[0m | \u001b[1;36m802717.672697853\u001b[0m | \u001b[1;36m0.20409025312009027\u001b[0m |\n"
      ]
     },
     "metadata": {},
     "output_type": "display_data"
    },
    {
     "data": {
      "text/html": [
       "<pre style=\"white-space:pre;overflow-x:auto;line-height:normal;font-family:Menlo,'DejaVu Sans Mono',consolas,'Courier New',monospace\">| <span style=\"color: #008080; text-decoration-color: #008080; font-weight: bold\">1028</span> | <span style=\"color: #008080; text-decoration-color: #008080; font-weight: bold\">944</span> | <span style=\"color: #008080; text-decoration-color: #008080; font-weight: bold\">1634844.725</span> | <span style=\"color: #008080; text-decoration-color: #008080; font-weight: bold\">802717.672697853</span> | <span style=\"color: #008080; text-decoration-color: #008080; font-weight: bold\">0.20409025312009027</span> |\n",
       "</pre>\n"
      ],
      "text/plain": [
       "| \u001b[1;36m1028\u001b[0m | \u001b[1;36m944\u001b[0m | \u001b[1;36m1634844.725\u001b[0m | \u001b[1;36m802717.672697853\u001b[0m | \u001b[1;36m0.20409025312009027\u001b[0m |\n"
      ]
     },
     "metadata": {},
     "output_type": "display_data"
    },
    {
     "data": {
      "text/html": [
       "<pre style=\"white-space:pre;overflow-x:auto;line-height:normal;font-family:Menlo,'DejaVu Sans Mono',consolas,'Courier New',monospace\">| <span style=\"color: #008080; text-decoration-color: #008080; font-weight: bold\">1081</span> | <span style=\"color: #008080; text-decoration-color: #008080; font-weight: bold\">997</span> | <span style=\"color: #008080; text-decoration-color: #008080; font-weight: bold\">1732694.7500000005</span> | <span style=\"color: #008080; text-decoration-color: #008080; font-weight: bold\">819445.851457201</span> | <span style=\"color: #008080; text-decoration-color: #008080; font-weight: bold\">0.20102213679338135</span> |\n",
       "</pre>\n"
      ],
      "text/plain": [
       "| \u001b[1;36m1081\u001b[0m | \u001b[1;36m997\u001b[0m | \u001b[1;36m1732694.7500000005\u001b[0m | \u001b[1;36m819445.851457201\u001b[0m | \u001b[1;36m0.20102213679338135\u001b[0m |\n"
      ]
     },
     "metadata": {},
     "output_type": "display_data"
    },
    {
     "data": {
      "text/html": [
       "<pre style=\"white-space:pre;overflow-x:auto;line-height:normal;font-family:Menlo,'DejaVu Sans Mono',consolas,'Courier New',monospace\">| <span style=\"color: #008080; text-decoration-color: #008080; font-weight: bold\">1081</span> | <span style=\"color: #008080; text-decoration-color: #008080; font-weight: bold\">997</span> | <span style=\"color: #008080; text-decoration-color: #008080; font-weight: bold\">1732694.7500000005</span> | <span style=\"color: #008080; text-decoration-color: #008080; font-weight: bold\">819445.851457201</span> | <span style=\"color: #008080; text-decoration-color: #008080; font-weight: bold\">0.20102213679338135</span> |\n",
       "</pre>\n"
      ],
      "text/plain": [
       "| \u001b[1;36m1081\u001b[0m | \u001b[1;36m997\u001b[0m | \u001b[1;36m1732694.7500000005\u001b[0m | \u001b[1;36m819445.851457201\u001b[0m | \u001b[1;36m0.20102213679338135\u001b[0m |\n"
      ]
     },
     "metadata": {},
     "output_type": "display_data"
    },
    {
     "data": {
      "text/html": [
       "<pre style=\"white-space:pre;overflow-x:auto;line-height:normal;font-family:Menlo,'DejaVu Sans Mono',consolas,'Courier New',monospace\">| <span style=\"color: #008080; text-decoration-color: #008080; font-weight: bold\">993</span> | <span style=\"color: #008080; text-decoration-color: #008080; font-weight: bold\">902</span> | <span style=\"color: #008080; text-decoration-color: #008080; font-weight: bold\">1529344.925</span> | <span style=\"color: #008080; text-decoration-color: #008080; font-weight: bold\">737490.0184337051</span> | <span style=\"color: #008080; text-decoration-color: #008080; font-weight: bold\">0.20199943397371142</span> |\n",
       "</pre>\n"
      ],
      "text/plain": [
       "| \u001b[1;36m993\u001b[0m | \u001b[1;36m902\u001b[0m | \u001b[1;36m1529344.925\u001b[0m | \u001b[1;36m737490.0184337051\u001b[0m | \u001b[1;36m0.20199943397371142\u001b[0m |\n"
      ]
     },
     "metadata": {},
     "output_type": "display_data"
    },
    {
     "data": {
      "text/html": [
       "<pre style=\"white-space:pre;overflow-x:auto;line-height:normal;font-family:Menlo,'DejaVu Sans Mono',consolas,'Courier New',monospace\">| <span style=\"color: #008080; text-decoration-color: #008080; font-weight: bold\">993</span> | <span style=\"color: #008080; text-decoration-color: #008080; font-weight: bold\">902</span> | <span style=\"color: #008080; text-decoration-color: #008080; font-weight: bold\">1529344.925</span> | <span style=\"color: #008080; text-decoration-color: #008080; font-weight: bold\">737490.0184337051</span> | <span style=\"color: #008080; text-decoration-color: #008080; font-weight: bold\">0.20199943397371142</span> |\n",
       "</pre>\n"
      ],
      "text/plain": [
       "| \u001b[1;36m993\u001b[0m | \u001b[1;36m902\u001b[0m | \u001b[1;36m1529344.925\u001b[0m | \u001b[1;36m737490.0184337051\u001b[0m | \u001b[1;36m0.20199943397371142\u001b[0m |\n"
      ]
     },
     "metadata": {},
     "output_type": "display_data"
    },
    {
     "data": {
      "text/html": [
       "<pre style=\"white-space:pre;overflow-x:auto;line-height:normal;font-family:Menlo,'DejaVu Sans Mono',consolas,'Courier New',monospace\">| <span style=\"color: #008080; text-decoration-color: #008080; font-weight: bold\">1015</span> | <span style=\"color: #008080; text-decoration-color: #008080; font-weight: bold\">938</span> | <span style=\"color: #008080; text-decoration-color: #008080; font-weight: bold\">1565552.5999999999</span> | <span style=\"color: #008080; text-decoration-color: #008080; font-weight: bold\">741094.001911726</span> | <span style=\"color: #008080; text-decoration-color: #008080; font-weight: bold\">0.2004906942603649</span> |\n",
       "</pre>\n"
      ],
      "text/plain": [
       "| \u001b[1;36m1015\u001b[0m | \u001b[1;36m938\u001b[0m | \u001b[1;36m1565552.5999999999\u001b[0m | \u001b[1;36m741094.001911726\u001b[0m | \u001b[1;36m0.2004906942603649\u001b[0m |\n"
      ]
     },
     "metadata": {},
     "output_type": "display_data"
    },
    {
     "data": {
      "text/html": [
       "<pre style=\"white-space:pre;overflow-x:auto;line-height:normal;font-family:Menlo,'DejaVu Sans Mono',consolas,'Courier New',monospace\">| <span style=\"color: #008080; text-decoration-color: #008080; font-weight: bold\">1015</span> | <span style=\"color: #008080; text-decoration-color: #008080; font-weight: bold\">938</span> | <span style=\"color: #008080; text-decoration-color: #008080; font-weight: bold\">1565552.5999999999</span> | <span style=\"color: #008080; text-decoration-color: #008080; font-weight: bold\">741094.001911726</span> | <span style=\"color: #008080; text-decoration-color: #008080; font-weight: bold\">0.2004906942603649</span> |\n",
       "</pre>\n"
      ],
      "text/plain": [
       "| \u001b[1;36m1015\u001b[0m | \u001b[1;36m938\u001b[0m | \u001b[1;36m1565552.5999999999\u001b[0m | \u001b[1;36m741094.001911726\u001b[0m | \u001b[1;36m0.2004906942603649\u001b[0m |\n"
      ]
     },
     "metadata": {},
     "output_type": "display_data"
    }
   ],
   "source": [
    "# Set the fixed quote\n",
    "fixed_quote = 1\n",
    "\n",
    "# Apply the fixed quote strategy\n",
    "for seed in seeds:\n",
    "    for i in range(2):\n",
    "        env.reset(seed=seed)\n",
    "        for agent in env.agent_iter():\n",
    "            action = fixed_quote\n",
    "            env.step(action)\n"
   ]
  },
  {
   "cell_type": "markdown",
   "metadata": {},
   "source": [
    "### PPO"
   ]
  },
  {
   "cell_type": "code",
   "execution_count": 4,
   "metadata": {},
   "outputs": [
    {
     "name": "stderr",
     "output_type": "stream",
     "text": [
      "2023-11-23 16:54:18,515\tWARNING algorithm_config.py:643 -- Cannot create PPOConfig from given `config_dict`! Property __stdout_file__ not supported.\n"
     ]
    },
    {
     "name": "stderr",
     "output_type": "stream",
     "text": [
      "/home/yuan/ResMan/man/lib/python3.9/site-packages/ray/rllib/algorithms/algorithm.py:442: RayDeprecationWarning: This API is deprecated and may be removed in future Ray releases. You could suppress this warning by setting env variable PYTHONWARNINGS=\"ignore::DeprecationWarning\"\n",
      "`UnifiedLogger` will be removed in Ray 2.7.\n",
      "  return UnifiedLogger(config, logdir, loggers=None)\n",
      "/home/yuan/ResMan/man/lib/python3.9/site-packages/ray/tune/logger/unified.py:53: RayDeprecationWarning: This API is deprecated and may be removed in future Ray releases. You could suppress this warning by setting env variable PYTHONWARNINGS=\"ignore::DeprecationWarning\"\n",
      "The `JsonLogger interface is deprecated in favor of the `ray.tune.json.JsonLoggerCallback` interface and will be removed in Ray 2.7.\n",
      "  self._loggers.append(cls(self.config, self.logdir, self.trial))\n",
      "/home/yuan/ResMan/man/lib/python3.9/site-packages/ray/tune/logger/unified.py:53: RayDeprecationWarning: This API is deprecated and may be removed in future Ray releases. You could suppress this warning by setting env variable PYTHONWARNINGS=\"ignore::DeprecationWarning\"\n",
      "The `CSVLogger interface is deprecated in favor of the `ray.tune.csv.CSVLoggerCallback` interface and will be removed in Ray 2.7.\n",
      "  self._loggers.append(cls(self.config, self.logdir, self.trial))\n",
      "/home/yuan/ResMan/man/lib/python3.9/site-packages/ray/tune/logger/unified.py:53: RayDeprecationWarning: This API is deprecated and may be removed in future Ray releases. You could suppress this warning by setting env variable PYTHONWARNINGS=\"ignore::DeprecationWarning\"\n",
      "The `TBXLogger interface is deprecated in favor of the `ray.tune.tensorboardx.TBXLoggerCallback` interface and will be removed in Ray 2.7.\n",
      "  self._loggers.append(cls(self.config, self.logdir, self.trial))\n",
      "2023-11-23 16:54:27,705\tINFO worker.py:1627 -- Started a local Ray instance. View the dashboard at \u001b[1m\u001b[32m127.0.0.1:8265 \u001b[39m\u001b[22m\n",
      "2023-11-23 16:54:46,047\tINFO trainable.py:173 -- Trainable.setup took 27.501 seconds. If your trainable is slow to initialize, consider setting reuse_actors=True to reduce actor creation overheads.\n"
     ]
    },
    {
     "data": {
      "text/html": [
       "<pre style=\"white-space:pre;overflow-x:auto;line-height:normal;font-family:Menlo,'DejaVu Sans Mono',consolas,'Courier New',monospace\">| <span style=\"color: #008080; text-decoration-color: #008080; font-weight: bold\">963</span> | <span style=\"color: #008080; text-decoration-color: #008080; font-weight: bold\">901</span> | <span style=\"color: #008080; text-decoration-color: #008080; font-weight: bold\">1412096.795143723</span> | <span style=\"color: #008080; text-decoration-color: #008080; font-weight: bold\">750253.492368766</span> | <span style=\"color: #008080; text-decoration-color: #008080; font-weight: bold\">0.1879106709158692</span> |\n",
       "</pre>\n"
      ],
      "text/plain": [
       "| \u001b[1;36m963\u001b[0m | \u001b[1;36m901\u001b[0m | \u001b[1;36m1412096.795143723\u001b[0m | \u001b[1;36m750253.492368766\u001b[0m | \u001b[1;36m0.1879106709158692\u001b[0m |\n"
      ]
     },
     "metadata": {},
     "output_type": "display_data"
    },
    {
     "data": {
      "text/html": [
       "<pre style=\"white-space:pre;overflow-x:auto;line-height:normal;font-family:Menlo,'DejaVu Sans Mono',consolas,'Courier New',monospace\">| <span style=\"color: #008080; text-decoration-color: #008080; font-weight: bold\">973</span> | <span style=\"color: #008080; text-decoration-color: #008080; font-weight: bold\">895</span> | <span style=\"color: #008080; text-decoration-color: #008080; font-weight: bold\">1489496.0445817106</span> | <span style=\"color: #008080; text-decoration-color: #008080; font-weight: bold\">776786.8367893419</span> | <span style=\"color: #008080; text-decoration-color: #008080; font-weight: bold\">0.20416533663966505</span> |\n",
       "</pre>\n"
      ],
      "text/plain": [
       "| \u001b[1;36m973\u001b[0m | \u001b[1;36m895\u001b[0m | \u001b[1;36m1489496.0445817106\u001b[0m | \u001b[1;36m776786.8367893419\u001b[0m | \u001b[1;36m0.20416533663966505\u001b[0m |\n"
      ]
     },
     "metadata": {},
     "output_type": "display_data"
    },
    {
     "data": {
      "text/html": [
       "<pre style=\"white-space:pre;overflow-x:auto;line-height:normal;font-family:Menlo,'DejaVu Sans Mono',consolas,'Courier New',monospace\">| <span style=\"color: #008080; text-decoration-color: #008080; font-weight: bold\">958</span> | <span style=\"color: #008080; text-decoration-color: #008080; font-weight: bold\">886</span> | <span style=\"color: #008080; text-decoration-color: #008080; font-weight: bold\">1419744.243829727</span> | <span style=\"color: #008080; text-decoration-color: #008080; font-weight: bold\">758697.6823518428</span> | <span style=\"color: #008080; text-decoration-color: #008080; font-weight: bold\">0.188271171503227</span> |\n",
       "</pre>\n"
      ],
      "text/plain": [
       "| \u001b[1;36m958\u001b[0m | \u001b[1;36m886\u001b[0m | \u001b[1;36m1419744.243829727\u001b[0m | \u001b[1;36m758697.6823518428\u001b[0m | \u001b[1;36m0.188271171503227\u001b[0m |\n"
      ]
     },
     "metadata": {},
     "output_type": "display_data"
    },
    {
     "data": {
      "text/html": [
       "<pre style=\"white-space:pre;overflow-x:auto;line-height:normal;font-family:Menlo,'DejaVu Sans Mono',consolas,'Courier New',monospace\">| <span style=\"color: #008080; text-decoration-color: #008080; font-weight: bold\">950</span> | <span style=\"color: #008080; text-decoration-color: #008080; font-weight: bold\">877</span> | <span style=\"color: #008080; text-decoration-color: #008080; font-weight: bold\">1456867.3336237664</span> | <span style=\"color: #008080; text-decoration-color: #008080; font-weight: bold\">742766.095695463</span> | <span style=\"color: #008080; text-decoration-color: #008080; font-weight: bold\">0.20946071415717582</span> |\n",
       "</pre>\n"
      ],
      "text/plain": [
       "| \u001b[1;36m950\u001b[0m | \u001b[1;36m877\u001b[0m | \u001b[1;36m1456867.3336237664\u001b[0m | \u001b[1;36m742766.095695463\u001b[0m | \u001b[1;36m0.20946071415717582\u001b[0m |\n"
      ]
     },
     "metadata": {},
     "output_type": "display_data"
    },
    {
     "data": {
      "text/html": [
       "<pre style=\"white-space:pre;overflow-x:auto;line-height:normal;font-family:Menlo,'DejaVu Sans Mono',consolas,'Courier New',monospace\">| <span style=\"color: #008080; text-decoration-color: #008080; font-weight: bold\">999</span> | <span style=\"color: #008080; text-decoration-color: #008080; font-weight: bold\">940</span> | <span style=\"color: #008080; text-decoration-color: #008080; font-weight: bold\">1525228.5626996153</span> | <span style=\"color: #008080; text-decoration-color: #008080; font-weight: bold\">809837.9177725638</span> | <span style=\"color: #008080; text-decoration-color: #008080; font-weight: bold\">0.19424720963258546</span> |\n",
       "</pre>\n"
      ],
      "text/plain": [
       "| \u001b[1;36m999\u001b[0m | \u001b[1;36m940\u001b[0m | \u001b[1;36m1525228.5626996153\u001b[0m | \u001b[1;36m809837.9177725638\u001b[0m | \u001b[1;36m0.19424720963258546\u001b[0m |\n"
      ]
     },
     "metadata": {},
     "output_type": "display_data"
    },
    {
     "data": {
      "text/html": [
       "<pre style=\"white-space:pre;overflow-x:auto;line-height:normal;font-family:Menlo,'DejaVu Sans Mono',consolas,'Courier New',monospace\">| <span style=\"color: #008080; text-decoration-color: #008080; font-weight: bold\">952</span> | <span style=\"color: #008080; text-decoration-color: #008080; font-weight: bold\">865</span> | <span style=\"color: #008080; text-decoration-color: #008080; font-weight: bold\">1472688.1718914502</span> | <span style=\"color: #008080; text-decoration-color: #008080; font-weight: bold\">754291.1010204487</span> | <span style=\"color: #008080; text-decoration-color: #008080; font-weight: bold\">0.20414780585788694</span> |\n",
       "</pre>\n"
      ],
      "text/plain": [
       "| \u001b[1;36m952\u001b[0m | \u001b[1;36m865\u001b[0m | \u001b[1;36m1472688.1718914502\u001b[0m | \u001b[1;36m754291.1010204487\u001b[0m | \u001b[1;36m0.20414780585788694\u001b[0m |\n"
      ]
     },
     "metadata": {},
     "output_type": "display_data"
    },
    {
     "data": {
      "text/html": [
       "<pre style=\"white-space:pre;overflow-x:auto;line-height:normal;font-family:Menlo,'DejaVu Sans Mono',consolas,'Courier New',monospace\">| <span style=\"color: #008080; text-decoration-color: #008080; font-weight: bold\">1008</span> | <span style=\"color: #008080; text-decoration-color: #008080; font-weight: bold\">929</span> | <span style=\"color: #008080; text-decoration-color: #008080; font-weight: bold\">1540849.425180256</span> | <span style=\"color: #008080; text-decoration-color: #008080; font-weight: bold\">769880.427347583</span> | <span style=\"color: #008080; text-decoration-color: #008080; font-weight: bold\">0.2114654970335529</span> |\n",
       "</pre>\n"
      ],
      "text/plain": [
       "| \u001b[1;36m1008\u001b[0m | \u001b[1;36m929\u001b[0m | \u001b[1;36m1540849.425180256\u001b[0m | \u001b[1;36m769880.427347583\u001b[0m | \u001b[1;36m0.2114654970335529\u001b[0m |\n"
      ]
     },
     "metadata": {},
     "output_type": "display_data"
    },
    {
     "data": {
      "text/html": [
       "<pre style=\"white-space:pre;overflow-x:auto;line-height:normal;font-family:Menlo,'DejaVu Sans Mono',consolas,'Courier New',monospace\">| <span style=\"color: #008080; text-decoration-color: #008080; font-weight: bold\">1048</span> | <span style=\"color: #008080; text-decoration-color: #008080; font-weight: bold\">958</span> | <span style=\"color: #008080; text-decoration-color: #008080; font-weight: bold\">1492462.3879610295</span> | <span style=\"color: #008080; text-decoration-color: #008080; font-weight: bold\">805823.6988165395</span> | <span style=\"color: #008080; text-decoration-color: #008080; font-weight: bold\">0.20595657710041368</span> |\n",
       "</pre>\n"
      ],
      "text/plain": [
       "| \u001b[1;36m1048\u001b[0m | \u001b[1;36m958\u001b[0m | \u001b[1;36m1492462.3879610295\u001b[0m | \u001b[1;36m805823.6988165395\u001b[0m | \u001b[1;36m0.20595657710041368\u001b[0m |\n"
      ]
     },
     "metadata": {},
     "output_type": "display_data"
    },
    {
     "data": {
      "text/html": [
       "<pre style=\"white-space:pre;overflow-x:auto;line-height:normal;font-family:Menlo,'DejaVu Sans Mono',consolas,'Courier New',monospace\">| <span style=\"color: #008080; text-decoration-color: #008080; font-weight: bold\">1026</span> | <span style=\"color: #008080; text-decoration-color: #008080; font-weight: bold\">953</span> | <span style=\"color: #008080; text-decoration-color: #008080; font-weight: bold\">1612738.739407658</span> | <span style=\"color: #008080; text-decoration-color: #008080; font-weight: bold\">860212.4790973415</span> | <span style=\"color: #008080; text-decoration-color: #008080; font-weight: bold\">0.20123133203840038</span> |\n",
       "</pre>\n"
      ],
      "text/plain": [
       "| \u001b[1;36m1026\u001b[0m | \u001b[1;36m953\u001b[0m | \u001b[1;36m1612738.739407658\u001b[0m | \u001b[1;36m860212.4790973415\u001b[0m | \u001b[1;36m0.20123133203840038\u001b[0m |\n"
      ]
     },
     "metadata": {},
     "output_type": "display_data"
    },
    {
     "data": {
      "text/html": [
       "<pre style=\"white-space:pre;overflow-x:auto;line-height:normal;font-family:Menlo,'DejaVu Sans Mono',consolas,'Courier New',monospace\">| <span style=\"color: #008080; text-decoration-color: #008080; font-weight: bold\">969</span> | <span style=\"color: #008080; text-decoration-color: #008080; font-weight: bold\">900</span> | <span style=\"color: #008080; text-decoration-color: #008080; font-weight: bold\">1524664.922028541</span> | <span style=\"color: #008080; text-decoration-color: #008080; font-weight: bold\">773561.4988517879</span> | <span style=\"color: #008080; text-decoration-color: #008080; font-weight: bold\">0.22399609101643214</span> |\n",
       "</pre>\n"
      ],
      "text/plain": [
       "| \u001b[1;36m969\u001b[0m | \u001b[1;36m900\u001b[0m | \u001b[1;36m1524664.922028541\u001b[0m | \u001b[1;36m773561.4988517879\u001b[0m | \u001b[1;36m0.22399609101643214\u001b[0m |\n"
      ]
     },
     "metadata": {},
     "output_type": "display_data"
    },
    {
     "data": {
      "text/plain": [
       "{'evaluation': {'sampler_results': {'episode_reward_max': 1596559.3617117405,\n",
       "   'episode_reward_min': 1396257.9824311137,\n",
       "   'episode_reward_mean': 1481246.6728841185,\n",
       "   'episode_len_mean': 4042.7,\n",
       "   'episode_media': {},\n",
       "   'episodes_this_iter': 10,\n",
       "   'policy_reward_min': {'Machine_0': 159716.25,\n",
       "    'Machine_2': 215271.4499999997,\n",
       "    'Machine_4': 340389.7413326389,\n",
       "    'Machine_5': 268065.4499999995,\n",
       "    'Machine_3': 163133.01585137844,\n",
       "    'Machine_1': 100395.0059717773},\n",
       "   'policy_reward_max': {'Machine_0': 223294.52461624146,\n",
       "    'Machine_2': 341496.5740135425,\n",
       "    'Machine_4': 457645.59423415735,\n",
       "    'Machine_5': 343246.9499999994,\n",
       "    'Machine_3': 201127.8512738943,\n",
       "    'Machine_1': 162636.78859763168},\n",
       "   'policy_reward_mean': {'Machine_0': 184198.10083799958,\n",
       "    'Machine_2': 284583.7252561028,\n",
       "    'Machine_4': 391240.2702318019,\n",
       "    'Machine_5': 306920.212892496,\n",
       "    'Machine_3': 180015.6590123892,\n",
       "    'Machine_1': 134288.70465332855},\n",
       "   'custom_metrics': {},\n",
       "   'hist_stats': {'episode_reward': [1396257.9824311137,\n",
       "     1471932.726099193,\n",
       "     1405339.6160595417,\n",
       "     1440058.4501999617,\n",
       "     1516197.3016351461,\n",
       "     1454009.3387095928,\n",
       "     1531867.8317071795,\n",
       "     1482303.9235010147,\n",
       "     1596559.3617117405,\n",
       "     1517940.1967867017],\n",
       "    'episode_lengths': [3958,\n",
       "     4026,\n",
       "     3922,\n",
       "     3907,\n",
       "     4092,\n",
       "     3946,\n",
       "     4127,\n",
       "     4251,\n",
       "     4204,\n",
       "     3994],\n",
       "    'policy_Machine_0_reward': [159716.25,\n",
       "     167829.82169222832,\n",
       "     185763.47226172686,\n",
       "     182613.16591644287,\n",
       "     191776.45504188538,\n",
       "     187226.59770405293,\n",
       "     183969.45243287086,\n",
       "     185771.25,\n",
       "     174020.01871454716,\n",
       "     223294.52461624146],\n",
       "    'policy_Machine_2_reward': [278272.4690355773,\n",
       "     256279.94999999946,\n",
       "     215271.4499999997,\n",
       "     318785.57861162367,\n",
       "     262539.4499999995,\n",
       "     333113.4984291309,\n",
       "     341496.5740135425,\n",
       "     275251.94999999955,\n",
       "     275797.2399641986,\n",
       "     289029.09250695654],\n",
       "    'policy_Machine_4_reward': [343717.4032118803,\n",
       "     403296.6859961636,\n",
       "     384577.705200184,\n",
       "     340389.7413326389,\n",
       "     395120.0480313785,\n",
       "     351289.4116885549,\n",
       "     432267.68502359465,\n",
       "     387564.51830767456,\n",
       "     457645.59423415735,\n",
       "     416533.9092917926],\n",
       "    'policy_Machine_5_reward': [293638.9499999995,\n",
       "     343246.9499999994,\n",
       "     283572.4499999994,\n",
       "     285142.9499999995,\n",
       "     342126.4499999994,\n",
       "     268065.4499999995,\n",
       "     290013.40087873884,\n",
       "     316840.94999999943,\n",
       "     333183.1280462259,\n",
       "     313371.4499999995],\n",
       "    'policy_Machine_3_reward': [172575.84609800577,\n",
       "     172318.27321386337,\n",
       "     173517.75,\n",
       "     176793.54508191347,\n",
       "     190198.63760769367,\n",
       "     191353.08167517185,\n",
       "     183725.71338665485,\n",
       "     175412.8759353161,\n",
       "     201127.8512738943,\n",
       "     163133.01585137844],\n",
       "    'policy_Machine_1_reward': [148337.0640856503,\n",
       "     128961.04519693828,\n",
       "     162636.78859763168,\n",
       "     136333.46925734277,\n",
       "     134436.26095418917,\n",
       "     122961.29921268208,\n",
       "     100395.0059717773,\n",
       "     141462.3792580246,\n",
       "     154785.52947871672,\n",
       "     112578.20452033261]},\n",
       "   'sampler_perf': {'mean_raw_obs_processing_ms': 0.31522742315110996,\n",
       "    'mean_inference_ms': 2.4479128574421543,\n",
       "    'mean_action_processing_ms': 0.22507806058758922,\n",
       "    'mean_env_wait_ms': 0.12721224072732734,\n",
       "    'mean_env_render_ms': 0.0},\n",
       "   'num_faulty_episodes': 0,\n",
       "   'connector_metrics': {'ObsPreprocessorConnector_ms': 0.006160736083984375,\n",
       "    'StateBufferConnector_ms': 0.004734992980957031,\n",
       "    'ViewRequirementAgentConnector_ms': 0.1279787222544352}},\n",
       "  'episode_reward_max': 1596559.3617117405,\n",
       "  'episode_reward_min': 1396257.9824311137,\n",
       "  'episode_reward_mean': 1481246.6728841185,\n",
       "  'episode_len_mean': 4042.7,\n",
       "  'episode_media': {},\n",
       "  'episodes_this_iter': 10,\n",
       "  'policy_reward_min': {'Machine_0': 159716.25,\n",
       "   'Machine_2': 215271.4499999997,\n",
       "   'Machine_4': 340389.7413326389,\n",
       "   'Machine_5': 268065.4499999995,\n",
       "   'Machine_3': 163133.01585137844,\n",
       "   'Machine_1': 100395.0059717773},\n",
       "  'policy_reward_max': {'Machine_0': 223294.52461624146,\n",
       "   'Machine_2': 341496.5740135425,\n",
       "   'Machine_4': 457645.59423415735,\n",
       "   'Machine_5': 343246.9499999994,\n",
       "   'Machine_3': 201127.8512738943,\n",
       "   'Machine_1': 162636.78859763168},\n",
       "  'policy_reward_mean': {'Machine_0': 184198.10083799958,\n",
       "   'Machine_2': 284583.7252561028,\n",
       "   'Machine_4': 391240.2702318019,\n",
       "   'Machine_5': 306920.212892496,\n",
       "   'Machine_3': 180015.6590123892,\n",
       "   'Machine_1': 134288.70465332855},\n",
       "  'custom_metrics': {},\n",
       "  'hist_stats': {'episode_reward': [1396257.9824311137,\n",
       "    1471932.726099193,\n",
       "    1405339.6160595417,\n",
       "    1440058.4501999617,\n",
       "    1516197.3016351461,\n",
       "    1454009.3387095928,\n",
       "    1531867.8317071795,\n",
       "    1482303.9235010147,\n",
       "    1596559.3617117405,\n",
       "    1517940.1967867017],\n",
       "   'episode_lengths': [3958,\n",
       "    4026,\n",
       "    3922,\n",
       "    3907,\n",
       "    4092,\n",
       "    3946,\n",
       "    4127,\n",
       "    4251,\n",
       "    4204,\n",
       "    3994],\n",
       "   'policy_Machine_0_reward': [159716.25,\n",
       "    167829.82169222832,\n",
       "    185763.47226172686,\n",
       "    182613.16591644287,\n",
       "    191776.45504188538,\n",
       "    187226.59770405293,\n",
       "    183969.45243287086,\n",
       "    185771.25,\n",
       "    174020.01871454716,\n",
       "    223294.52461624146],\n",
       "   'policy_Machine_2_reward': [278272.4690355773,\n",
       "    256279.94999999946,\n",
       "    215271.4499999997,\n",
       "    318785.57861162367,\n",
       "    262539.4499999995,\n",
       "    333113.4984291309,\n",
       "    341496.5740135425,\n",
       "    275251.94999999955,\n",
       "    275797.2399641986,\n",
       "    289029.09250695654],\n",
       "   'policy_Machine_4_reward': [343717.4032118803,\n",
       "    403296.6859961636,\n",
       "    384577.705200184,\n",
       "    340389.7413326389,\n",
       "    395120.0480313785,\n",
       "    351289.4116885549,\n",
       "    432267.68502359465,\n",
       "    387564.51830767456,\n",
       "    457645.59423415735,\n",
       "    416533.9092917926],\n",
       "   'policy_Machine_5_reward': [293638.9499999995,\n",
       "    343246.9499999994,\n",
       "    283572.4499999994,\n",
       "    285142.9499999995,\n",
       "    342126.4499999994,\n",
       "    268065.4499999995,\n",
       "    290013.40087873884,\n",
       "    316840.94999999943,\n",
       "    333183.1280462259,\n",
       "    313371.4499999995],\n",
       "   'policy_Machine_3_reward': [172575.84609800577,\n",
       "    172318.27321386337,\n",
       "    173517.75,\n",
       "    176793.54508191347,\n",
       "    190198.63760769367,\n",
       "    191353.08167517185,\n",
       "    183725.71338665485,\n",
       "    175412.8759353161,\n",
       "    201127.8512738943,\n",
       "    163133.01585137844],\n",
       "   'policy_Machine_1_reward': [148337.0640856503,\n",
       "    128961.04519693828,\n",
       "    162636.78859763168,\n",
       "    136333.46925734277,\n",
       "    134436.26095418917,\n",
       "    122961.29921268208,\n",
       "    100395.0059717773,\n",
       "    141462.3792580246,\n",
       "    154785.52947871672,\n",
       "    112578.20452033261]},\n",
       "  'sampler_perf': {'mean_raw_obs_processing_ms': 0.31522742315110996,\n",
       "   'mean_inference_ms': 2.4479128574421543,\n",
       "   'mean_action_processing_ms': 0.22507806058758922,\n",
       "   'mean_env_wait_ms': 0.12721224072732734,\n",
       "   'mean_env_render_ms': 0.0},\n",
       "  'num_faulty_episodes': 0,\n",
       "  'connector_metrics': {'ObsPreprocessorConnector_ms': 0.006160736083984375,\n",
       "   'StateBufferConnector_ms': 0.004734992980957031,\n",
       "   'ViewRequirementAgentConnector_ms': 0.1279787222544352},\n",
       "  'num_agent_steps_sampled_this_iter': 40427,\n",
       "  'num_env_steps_sampled_this_iter': 40427,\n",
       "  'timesteps_this_iter': 40427}}"
      ]
     },
     "execution_count": 4,
     "metadata": {},
     "output_type": "execute_result"
    }
   ],
   "source": [
    "algo = Algorithm.from_checkpoint('/home/yuan/ray_results/PPO6_20/PPO_VJS_aec24_00000_0_2023-10-06_11-08-54/checkpoint_003700')\n",
    "algo.evaluate()\n",
    "\n"
   ]
  },
  {
   "cell_type": "code",
   "execution_count": 5,
   "metadata": {},
   "outputs": [],
   "source": [
    "algo.cleanup()\n"
   ]
  },
  {
   "cell_type": "markdown",
   "metadata": {},
   "source": [
    "### PPO+LTSM"
   ]
  },
  {
   "cell_type": "code",
   "execution_count": 6,
   "metadata": {},
   "outputs": [
    {
     "name": "stderr",
     "output_type": "stream",
     "text": [
      "/home/yuan/ResMan/man/lib/python3.9/site-packages/ray/rllib/algorithms/algorithm.py:442: RayDeprecationWarning: This API is deprecated and may be removed in future Ray releases. You could suppress this warning by setting env variable PYTHONWARNINGS=\"ignore::DeprecationWarning\"\n",
      "`UnifiedLogger` will be removed in Ray 2.7.\n",
      "  return UnifiedLogger(config, logdir, loggers=None)\n",
      "/home/yuan/ResMan/man/lib/python3.9/site-packages/ray/tune/logger/unified.py:53: RayDeprecationWarning: This API is deprecated and may be removed in future Ray releases. You could suppress this warning by setting env variable PYTHONWARNINGS=\"ignore::DeprecationWarning\"\n",
      "The `JsonLogger interface is deprecated in favor of the `ray.tune.json.JsonLoggerCallback` interface and will be removed in Ray 2.7.\n",
      "  self._loggers.append(cls(self.config, self.logdir, self.trial))\n",
      "/home/yuan/ResMan/man/lib/python3.9/site-packages/ray/tune/logger/unified.py:53: RayDeprecationWarning: This API is deprecated and may be removed in future Ray releases. You could suppress this warning by setting env variable PYTHONWARNINGS=\"ignore::DeprecationWarning\"\n",
      "The `CSVLogger interface is deprecated in favor of the `ray.tune.csv.CSVLoggerCallback` interface and will be removed in Ray 2.7.\n",
      "  self._loggers.append(cls(self.config, self.logdir, self.trial))\n",
      "/home/yuan/ResMan/man/lib/python3.9/site-packages/ray/tune/logger/unified.py:53: RayDeprecationWarning: This API is deprecated and may be removed in future Ray releases. You could suppress this warning by setting env variable PYTHONWARNINGS=\"ignore::DeprecationWarning\"\n",
      "The `TBXLogger interface is deprecated in favor of the `ray.tune.tensorboardx.TBXLoggerCallback` interface and will be removed in Ray 2.7.\n",
      "  self._loggers.append(cls(self.config, self.logdir, self.trial))\n"
     ]
    },
    {
     "data": {
      "text/html": [
       "<pre style=\"white-space:pre;overflow-x:auto;line-height:normal;font-family:Menlo,'DejaVu Sans Mono',consolas,'Courier New',monospace\">| <span style=\"color: #008080; text-decoration-color: #008080; font-weight: bold\">1032</span> | <span style=\"color: #008080; text-decoration-color: #008080; font-weight: bold\">897</span> | <span style=\"color: #008080; text-decoration-color: #008080; font-weight: bold\">1439470.324057937</span> | <span style=\"color: #008080; text-decoration-color: #008080; font-weight: bold\">691817.1573018866</span> | <span style=\"color: #008080; text-decoration-color: #008080; font-weight: bold\">0.23801808681915604</span> |\n",
       "</pre>\n"
      ],
      "text/plain": [
       "| \u001b[1;36m1032\u001b[0m | \u001b[1;36m897\u001b[0m | \u001b[1;36m1439470.324057937\u001b[0m | \u001b[1;36m691817.1573018866\u001b[0m | \u001b[1;36m0.23801808681915604\u001b[0m |\n"
      ]
     },
     "metadata": {},
     "output_type": "display_data"
    },
    {
     "data": {
      "text/html": [
       "<pre style=\"white-space:pre;overflow-x:auto;line-height:normal;font-family:Menlo,'DejaVu Sans Mono',consolas,'Courier New',monospace\">| <span style=\"color: #008080; text-decoration-color: #008080; font-weight: bold\">981</span> | <span style=\"color: #008080; text-decoration-color: #008080; font-weight: bold\">841</span> | <span style=\"color: #008080; text-decoration-color: #008080; font-weight: bold\">1380949.2466570735</span> | <span style=\"color: #008080; text-decoration-color: #008080; font-weight: bold\">658181.870174373</span> | <span style=\"color: #008080; text-decoration-color: #008080; font-weight: bold\">0.23994013725839317</span> |\n",
       "</pre>\n"
      ],
      "text/plain": [
       "| \u001b[1;36m981\u001b[0m | \u001b[1;36m841\u001b[0m | \u001b[1;36m1380949.2466570735\u001b[0m | \u001b[1;36m658181.870174373\u001b[0m | \u001b[1;36m0.23994013725839317\u001b[0m |\n"
      ]
     },
     "metadata": {},
     "output_type": "display_data"
    },
    {
     "data": {
      "text/html": [
       "<pre style=\"white-space:pre;overflow-x:auto;line-height:normal;font-family:Menlo,'DejaVu Sans Mono',consolas,'Courier New',monospace\">| <span style=\"color: #008080; text-decoration-color: #008080; font-weight: bold\">987</span> | <span style=\"color: #008080; text-decoration-color: #008080; font-weight: bold\">858</span> | <span style=\"color: #008080; text-decoration-color: #008080; font-weight: bold\">1404586.4100506303</span> | <span style=\"color: #008080; text-decoration-color: #008080; font-weight: bold\">652913.2963877554</span> | <span style=\"color: #008080; text-decoration-color: #008080; font-weight: bold\">0.24034136716055465</span> |\n",
       "</pre>\n"
      ],
      "text/plain": [
       "| \u001b[1;36m987\u001b[0m | \u001b[1;36m858\u001b[0m | \u001b[1;36m1404586.4100506303\u001b[0m | \u001b[1;36m652913.2963877554\u001b[0m | \u001b[1;36m0.24034136716055465\u001b[0m |\n"
      ]
     },
     "metadata": {},
     "output_type": "display_data"
    },
    {
     "data": {
      "text/html": [
       "<pre style=\"white-space:pre;overflow-x:auto;line-height:normal;font-family:Menlo,'DejaVu Sans Mono',consolas,'Courier New',monospace\">| <span style=\"color: #008080; text-decoration-color: #008080; font-weight: bold\">1046</span> | <span style=\"color: #008080; text-decoration-color: #008080; font-weight: bold\">926</span> | <span style=\"color: #008080; text-decoration-color: #008080; font-weight: bold\">1614809.2406181102</span> | <span style=\"color: #008080; text-decoration-color: #008080; font-weight: bold\">733600.8617520889</span> | <span style=\"color: #008080; text-decoration-color: #008080; font-weight: bold\">0.24447546631860692</span> |\n",
       "</pre>\n"
      ],
      "text/plain": [
       "| \u001b[1;36m1046\u001b[0m | \u001b[1;36m926\u001b[0m | \u001b[1;36m1614809.2406181102\u001b[0m | \u001b[1;36m733600.8617520889\u001b[0m | \u001b[1;36m0.24447546631860692\u001b[0m |\n"
      ]
     },
     "metadata": {},
     "output_type": "display_data"
    },
    {
     "data": {
      "text/html": [
       "<pre style=\"white-space:pre;overflow-x:auto;line-height:normal;font-family:Menlo,'DejaVu Sans Mono',consolas,'Courier New',monospace\">| <span style=\"color: #008080; text-decoration-color: #008080; font-weight: bold\">963</span> | <span style=\"color: #008080; text-decoration-color: #008080; font-weight: bold\">837</span> | <span style=\"color: #008080; text-decoration-color: #008080; font-weight: bold\">1424759.5286238787</span> | <span style=\"color: #008080; text-decoration-color: #008080; font-weight: bold\">693783.1238322404</span> | <span style=\"color: #008080; text-decoration-color: #008080; font-weight: bold\">0.23003623706446077</span> |\n",
       "</pre>\n"
      ],
      "text/plain": [
       "| \u001b[1;36m963\u001b[0m | \u001b[1;36m837\u001b[0m | \u001b[1;36m1424759.5286238787\u001b[0m | \u001b[1;36m693783.1238322404\u001b[0m | \u001b[1;36m0.23003623706446077\u001b[0m |\n"
      ]
     },
     "metadata": {},
     "output_type": "display_data"
    },
    {
     "data": {
      "text/html": [
       "<pre style=\"white-space:pre;overflow-x:auto;line-height:normal;font-family:Menlo,'DejaVu Sans Mono',consolas,'Courier New',monospace\">| <span style=\"color: #008080; text-decoration-color: #008080; font-weight: bold\">1001</span> | <span style=\"color: #008080; text-decoration-color: #008080; font-weight: bold\">876</span> | <span style=\"color: #008080; text-decoration-color: #008080; font-weight: bold\">1517453.9183470607</span> | <span style=\"color: #008080; text-decoration-color: #008080; font-weight: bold\">672243.8985877462</span> | <span style=\"color: #008080; text-decoration-color: #008080; font-weight: bold\">0.23731842577252052</span> |\n",
       "</pre>\n"
      ],
      "text/plain": [
       "| \u001b[1;36m1001\u001b[0m | \u001b[1;36m876\u001b[0m | \u001b[1;36m1517453.9183470607\u001b[0m | \u001b[1;36m672243.8985877462\u001b[0m | \u001b[1;36m0.23731842577252052\u001b[0m |\n"
      ]
     },
     "metadata": {},
     "output_type": "display_data"
    },
    {
     "data": {
      "text/html": [
       "<pre style=\"white-space:pre;overflow-x:auto;line-height:normal;font-family:Menlo,'DejaVu Sans Mono',consolas,'Courier New',monospace\">| <span style=\"color: #008080; text-decoration-color: #008080; font-weight: bold\">982</span> | <span style=\"color: #008080; text-decoration-color: #008080; font-weight: bold\">854</span> | <span style=\"color: #008080; text-decoration-color: #008080; font-weight: bold\">1519421.2123152614</span> | <span style=\"color: #008080; text-decoration-color: #008080; font-weight: bold\">716381.0703877328</span> | <span style=\"color: #008080; text-decoration-color: #008080; font-weight: bold\">0.2529831717514994</span> |\n",
       "</pre>\n"
      ],
      "text/plain": [
       "| \u001b[1;36m982\u001b[0m | \u001b[1;36m854\u001b[0m | \u001b[1;36m1519421.2123152614\u001b[0m | \u001b[1;36m716381.0703877328\u001b[0m | \u001b[1;36m0.2529831717514994\u001b[0m |\n"
      ]
     },
     "metadata": {},
     "output_type": "display_data"
    },
    {
     "data": {
      "text/html": [
       "<pre style=\"white-space:pre;overflow-x:auto;line-height:normal;font-family:Menlo,'DejaVu Sans Mono',consolas,'Courier New',monospace\">| <span style=\"color: #008080; text-decoration-color: #008080; font-weight: bold\">1067</span> | <span style=\"color: #008080; text-decoration-color: #008080; font-weight: bold\">918</span> | <span style=\"color: #008080; text-decoration-color: #008080; font-weight: bold\">1672893.7440500865</span> | <span style=\"color: #008080; text-decoration-color: #008080; font-weight: bold\">766758.9603895916</span> | <span style=\"color: #008080; text-decoration-color: #008080; font-weight: bold\">0.25574322545914385</span> |\n",
       "</pre>\n"
      ],
      "text/plain": [
       "| \u001b[1;36m1067\u001b[0m | \u001b[1;36m918\u001b[0m | \u001b[1;36m1672893.7440500865\u001b[0m | \u001b[1;36m766758.9603895916\u001b[0m | \u001b[1;36m0.25574322545914385\u001b[0m |\n"
      ]
     },
     "metadata": {},
     "output_type": "display_data"
    },
    {
     "data": {
      "text/html": [
       "<pre style=\"white-space:pre;overflow-x:auto;line-height:normal;font-family:Menlo,'DejaVu Sans Mono',consolas,'Courier New',monospace\">| <span style=\"color: #008080; text-decoration-color: #008080; font-weight: bold\">975</span> | <span style=\"color: #008080; text-decoration-color: #008080; font-weight: bold\">832</span> | <span style=\"color: #008080; text-decoration-color: #008080; font-weight: bold\">1453942.778350652</span> | <span style=\"color: #008080; text-decoration-color: #008080; font-weight: bold\">689680.6197202821</span> | <span style=\"color: #008080; text-decoration-color: #008080; font-weight: bold\">0.24597337268443442</span> |\n",
       "</pre>\n"
      ],
      "text/plain": [
       "| \u001b[1;36m975\u001b[0m | \u001b[1;36m832\u001b[0m | \u001b[1;36m1453942.778350652\u001b[0m | \u001b[1;36m689680.6197202821\u001b[0m | \u001b[1;36m0.24597337268443442\u001b[0m |\n"
      ]
     },
     "metadata": {},
     "output_type": "display_data"
    },
    {
     "data": {
      "text/html": [
       "<pre style=\"white-space:pre;overflow-x:auto;line-height:normal;font-family:Menlo,'DejaVu Sans Mono',consolas,'Courier New',monospace\">| <span style=\"color: #008080; text-decoration-color: #008080; font-weight: bold\">1024</span> | <span style=\"color: #008080; text-decoration-color: #008080; font-weight: bold\">872</span> | <span style=\"color: #008080; text-decoration-color: #008080; font-weight: bold\">1523504.4772173767</span> | <span style=\"color: #008080; text-decoration-color: #008080; font-weight: bold\">724363.0573562223</span> | <span style=\"color: #008080; text-decoration-color: #008080; font-weight: bold\">0.24007147696206346</span> |\n",
       "</pre>\n"
      ],
      "text/plain": [
       "| \u001b[1;36m1024\u001b[0m | \u001b[1;36m872\u001b[0m | \u001b[1;36m1523504.4772173767\u001b[0m | \u001b[1;36m724363.0573562223\u001b[0m | \u001b[1;36m0.24007147696206346\u001b[0m |\n"
      ]
     },
     "metadata": {},
     "output_type": "display_data"
    },
    {
     "data": {
      "text/plain": [
       "{'evaluation': {'sampler_results': {'episode_reward_max': 1661279.912175,\n",
       "   'episode_reward_min': 1371976.7861861587,\n",
       "   'episode_reward_mean': 1482099.2813642262,\n",
       "   'episode_len_mean': 4124.1,\n",
       "   'episode_media': {},\n",
       "   'episodes_this_iter': 10,\n",
       "   'policy_reward_min': {'Machine_0': 183872.25,\n",
       "    'Machine_5': 1201.7696804523455,\n",
       "    'Machine_3': 176098.11405533552,\n",
       "    'Machine_1': 66585.51003377426,\n",
       "    'Machine_4': 294499.0019500142,\n",
       "    'Machine_2': 530658.4499999994},\n",
       "   'policy_reward_max': {'Machine_0': 215466.75,\n",
       "    'Machine_5': 26778.632078897943,\n",
       "    'Machine_3': 248582.9824951887,\n",
       "    'Machine_1': 145491.60127805464,\n",
       "    'Machine_4': 455807.0761446842,\n",
       "    'Machine_2': 613318.9500000001},\n",
       "   'policy_reward_mean': {'Machine_0': 201910.53908525704,\n",
       "    'Machine_5': 16232.630872911195,\n",
       "    'Machine_3': 208888.16348059772,\n",
       "    'Machine_1': 111803.89189825044,\n",
       "    'Machine_4': 365437.9560272104,\n",
       "    'Machine_2': 577826.0999999999},\n",
       "   'custom_metrics': {},\n",
       "   'hist_stats': {'episode_reward': [1424101.172775328,\n",
       "     1371976.7861861587,\n",
       "     1391158.6261707544,\n",
       "     1595986.4978352785,\n",
       "     1417417.3680061698,\n",
       "     1505175.5728481412,\n",
       "     1509745.2801141143,\n",
       "     1661279.912175,\n",
       "     1443062.1000355482,\n",
       "     1501089.4974957705],\n",
       "    'episode_lengths': [4188,\n",
       "     4059,\n",
       "     4051,\n",
       "     4282,\n",
       "     3971,\n",
       "     4110,\n",
       "     4043,\n",
       "     4337,\n",
       "     4005,\n",
       "     4195],\n",
       "    'policy_Machine_0_reward': [203727.61850595474,\n",
       "     204045.75,\n",
       "     203915.25,\n",
       "     196031.25,\n",
       "     207164.25,\n",
       "     199001.25,\n",
       "     183872.25,\n",
       "     201970.2723466158,\n",
       "     203910.75,\n",
       "     215466.75],\n",
       "    'policy_Machine_5_reward': [26489.116462361762,\n",
       "     5344.324202370652,\n",
       "     15030.27322740548,\n",
       "     21558.852512490732,\n",
       "     1201.7696804523455,\n",
       "     26778.632078897943,\n",
       "     7982.13880802392,\n",
       "     22775.834334504576,\n",
       "     19831.038051080686,\n",
       "     15334.329371523847],\n",
       "    'policy_Machine_3_reward': [192219.75,\n",
       "     239127.75,\n",
       "     194285.25,\n",
       "     206941.58128219843,\n",
       "     185677.22097712755,\n",
       "     219784.5579249859,\n",
       "     248582.9824951887,\n",
       "     221916.17807114124,\n",
       "     176098.11405533552,\n",
       "     204248.25],\n",
       "    'policy_Machine_1_reward': [98348.72443764195,\n",
       "     66585.51003377426,\n",
       "     96353.05026047208,\n",
       "     144305.2393218754,\n",
       "     92394.16683565358,\n",
       "     143843.83920668365,\n",
       "     126955.76047496776,\n",
       "     145491.60127805464,\n",
       "     97240.88000957947,\n",
       "     106520.14712380152],\n",
       "    'policy_Machine_4_reward': [357632.01336937014,\n",
       "     294499.0019500142,\n",
       "     314268.3526828771,\n",
       "     429702.1247187144,\n",
       "     400321.5105129366,\n",
       "     344748.3436375743,\n",
       "     343500.69833593426,\n",
       "     455807.0761446842,\n",
       "     335744.86791955295,\n",
       "     378155.5710004457],\n",
       "    'policy_Machine_2_reward': [545683.9499999995,\n",
       "     562374.4499999996,\n",
       "     567306.4499999995,\n",
       "     597447.4499999998,\n",
       "     530658.4499999994,\n",
       "     571018.9499999995,\n",
       "     598851.4499999998,\n",
       "     613318.9500000001,\n",
       "     610236.4500000001,\n",
       "     581364.4499999998]},\n",
       "   'sampler_perf': {'mean_raw_obs_processing_ms': 0.45043326887934787,\n",
       "    'mean_inference_ms': 3.7463649584928964,\n",
       "    'mean_action_processing_ms': 0.25356796339199766,\n",
       "    'mean_env_wait_ms': 0.13285786004517613,\n",
       "    'mean_env_render_ms': 0.0},\n",
       "   'num_faulty_episodes': 0,\n",
       "   'connector_metrics': {'ObsPreprocessorConnector_ms': 0.006476640701293945,\n",
       "    'StateBufferConnector_ms': 0.007203022638956706,\n",
       "    'ViewRequirementAgentConnector_ms': 0.20763874053955078}},\n",
       "  'episode_reward_max': 1661279.912175,\n",
       "  'episode_reward_min': 1371976.7861861587,\n",
       "  'episode_reward_mean': 1482099.2813642262,\n",
       "  'episode_len_mean': 4124.1,\n",
       "  'episode_media': {},\n",
       "  'episodes_this_iter': 10,\n",
       "  'policy_reward_min': {'Machine_0': 183872.25,\n",
       "   'Machine_5': 1201.7696804523455,\n",
       "   'Machine_3': 176098.11405533552,\n",
       "   'Machine_1': 66585.51003377426,\n",
       "   'Machine_4': 294499.0019500142,\n",
       "   'Machine_2': 530658.4499999994},\n",
       "  'policy_reward_max': {'Machine_0': 215466.75,\n",
       "   'Machine_5': 26778.632078897943,\n",
       "   'Machine_3': 248582.9824951887,\n",
       "   'Machine_1': 145491.60127805464,\n",
       "   'Machine_4': 455807.0761446842,\n",
       "   'Machine_2': 613318.9500000001},\n",
       "  'policy_reward_mean': {'Machine_0': 201910.53908525704,\n",
       "   'Machine_5': 16232.630872911195,\n",
       "   'Machine_3': 208888.16348059772,\n",
       "   'Machine_1': 111803.89189825044,\n",
       "   'Machine_4': 365437.9560272104,\n",
       "   'Machine_2': 577826.0999999999},\n",
       "  'custom_metrics': {},\n",
       "  'hist_stats': {'episode_reward': [1424101.172775328,\n",
       "    1371976.7861861587,\n",
       "    1391158.6261707544,\n",
       "    1595986.4978352785,\n",
       "    1417417.3680061698,\n",
       "    1505175.5728481412,\n",
       "    1509745.2801141143,\n",
       "    1661279.912175,\n",
       "    1443062.1000355482,\n",
       "    1501089.4974957705],\n",
       "   'episode_lengths': [4188,\n",
       "    4059,\n",
       "    4051,\n",
       "    4282,\n",
       "    3971,\n",
       "    4110,\n",
       "    4043,\n",
       "    4337,\n",
       "    4005,\n",
       "    4195],\n",
       "   'policy_Machine_0_reward': [203727.61850595474,\n",
       "    204045.75,\n",
       "    203915.25,\n",
       "    196031.25,\n",
       "    207164.25,\n",
       "    199001.25,\n",
       "    183872.25,\n",
       "    201970.2723466158,\n",
       "    203910.75,\n",
       "    215466.75],\n",
       "   'policy_Machine_5_reward': [26489.116462361762,\n",
       "    5344.324202370652,\n",
       "    15030.27322740548,\n",
       "    21558.852512490732,\n",
       "    1201.7696804523455,\n",
       "    26778.632078897943,\n",
       "    7982.13880802392,\n",
       "    22775.834334504576,\n",
       "    19831.038051080686,\n",
       "    15334.329371523847],\n",
       "   'policy_Machine_3_reward': [192219.75,\n",
       "    239127.75,\n",
       "    194285.25,\n",
       "    206941.58128219843,\n",
       "    185677.22097712755,\n",
       "    219784.5579249859,\n",
       "    248582.9824951887,\n",
       "    221916.17807114124,\n",
       "    176098.11405533552,\n",
       "    204248.25],\n",
       "   'policy_Machine_1_reward': [98348.72443764195,\n",
       "    66585.51003377426,\n",
       "    96353.05026047208,\n",
       "    144305.2393218754,\n",
       "    92394.16683565358,\n",
       "    143843.83920668365,\n",
       "    126955.76047496776,\n",
       "    145491.60127805464,\n",
       "    97240.88000957947,\n",
       "    106520.14712380152],\n",
       "   'policy_Machine_4_reward': [357632.01336937014,\n",
       "    294499.0019500142,\n",
       "    314268.3526828771,\n",
       "    429702.1247187144,\n",
       "    400321.5105129366,\n",
       "    344748.3436375743,\n",
       "    343500.69833593426,\n",
       "    455807.0761446842,\n",
       "    335744.86791955295,\n",
       "    378155.5710004457],\n",
       "   'policy_Machine_2_reward': [545683.9499999995,\n",
       "    562374.4499999996,\n",
       "    567306.4499999995,\n",
       "    597447.4499999998,\n",
       "    530658.4499999994,\n",
       "    571018.9499999995,\n",
       "    598851.4499999998,\n",
       "    613318.9500000001,\n",
       "    610236.4500000001,\n",
       "    581364.4499999998]},\n",
       "  'sampler_perf': {'mean_raw_obs_processing_ms': 0.45043326887934787,\n",
       "   'mean_inference_ms': 3.7463649584928964,\n",
       "   'mean_action_processing_ms': 0.25356796339199766,\n",
       "   'mean_env_wait_ms': 0.13285786004517613,\n",
       "   'mean_env_render_ms': 0.0},\n",
       "  'num_faulty_episodes': 0,\n",
       "  'connector_metrics': {'ObsPreprocessorConnector_ms': 0.006476640701293945,\n",
       "   'StateBufferConnector_ms': 0.007203022638956706,\n",
       "   'ViewRequirementAgentConnector_ms': 0.20763874053955078},\n",
       "  'num_agent_steps_sampled_this_iter': 41241,\n",
       "  'num_env_steps_sampled_this_iter': 41241,\n",
       "  'timesteps_this_iter': 41241}}"
      ]
     },
     "execution_count": 6,
     "metadata": {},
     "output_type": "execute_result"
    }
   ],
   "source": [
    "algo = Algorithm.from_checkpoint('/home/yuan/ray_results/PPO6_20_lstm/PPO_VJS_96860_00000_0_2023-10-16_09-44-47/checkpoint_004480')\n",
    "algo.evaluate()\n"
   ]
  }
 ],
 "metadata": {
  "kernelspec": {
   "display_name": "man",
   "language": "python",
   "name": "python3"
  },
  "language_info": {
   "codemirror_mode": {
    "name": "ipython",
    "version": 3
   },
   "file_extension": ".py",
   "mimetype": "text/x-python",
   "name": "python",
   "nbconvert_exporter": "python",
   "pygments_lexer": "ipython3",
   "version": "3.9.13"
  }
 },
 "nbformat": 4,
 "nbformat_minor": 2
}
