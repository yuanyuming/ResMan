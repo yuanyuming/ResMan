{
 "cells": [
  {
   "cell_type": "code",
   "execution_count": null,
   "metadata": {},
   "outputs": [],
   "source": [
    "\"\"\"This is a minimal example of using Tianshou with MARL to train agents.\n",
    "\n",
    "Author: Will (https://github.com/WillDudley)\n",
    "\n",
    "Python version used: 3.8.10\n",
    "\n",
    "Requirements:\n",
    "pettingzoo == 1.22.0\n",
    "git+https://github.com/thu-ml/tianshou\n",
    "\"\"\"\n",
    "\n",
    "import os\n",
    "from typing import Optional, Tuple\n",
    "\n",
    "import gymnasium as gym\n",
    "import numpy as np\n",
    "import torch\n",
    "from tianshou.data import Collector, VectorReplayBuffer\n",
    "from tianshou.env import DummyVectorEnv\n",
    "from tianshou.env.pettingzoo_env import PettingZooEnv\n",
    "from tianshou.policy import BasePolicy, DQNPolicy, MultiAgentPolicyManager, RandomPolicy\n",
    "from tianshou.trainer import offpolicy_trainer\n",
    "from tianshou.utils.net.common import Net\n",
    "\n",
    "from pettingzoo.classic import tictactoe_v3\n",
    "\n",
    "\n",
    "def _get_agents(\n",
    "    agent_learn: Optional[BasePolicy] = None,\n",
    "    agent_opponent: Optional[BasePolicy] = None,\n",
    "    optim: Optional[torch.optim.Optimizer] = None,\n",
    ") -> Tuple[BasePolicy, torch.optim.Optimizer, list]:\n",
    "    env = _get_env()\n",
    "    observation_space = (\n",
    "        env.observation_space[\"observation\"]\n",
    "        if isinstance(env.observation_space, gym.spaces.Dict)\n",
    "        else env.observation_space\n",
    "    )\n",
    "    if agent_learn is None:\n",
    "        # model\n",
    "        net = Net(\n",
    "            state_shape=observation_space.shape or observation_space.n,\n",
    "            action_shape=env.action_space.shape or env.action_space.n,\n",
    "            hidden_sizes=[128, 128, 128, 128],\n",
    "            device=\"cuda\" if torch.cuda.is_available() else \"cpu\",\n",
    "        ).to(\"cuda\" if torch.cuda.is_available() else \"cpu\")\n",
    "        if optim is None:\n",
    "            optim = torch.optim.Adam(net.parameters(), lr=1e-4)\n",
    "        agent_learn = DQNPolicy(\n",
    "            model=net,\n",
    "            optim=optim,\n",
    "            discount_factor=0.9,\n",
    "            estimation_step=3,\n",
    "            target_update_freq=320,\n",
    "        )\n",
    "\n",
    "    if agent_opponent is None:\n",
    "        agent_opponent = RandomPolicy()\n",
    "\n",
    "    agents = [agent_opponent, agent_learn]\n",
    "    policy = MultiAgentPolicyManager(agents, env)\n",
    "    return policy, optim, env.agents\n",
    "\n",
    "\n",
    "def _get_env():\n",
    "    \"\"\"This function is needed to provide callables for DummyVectorEnv.\"\"\"\n",
    "    return PettingZooEnv(tictactoe_v3.env())\n",
    "\n",
    "\n",
    "if __name__ == \"__main__\":\n",
    "    # ======== Step 1: Environment setup =========\n",
    "    train_envs = DummyVectorEnv([_get_env for _ in range(10)])\n",
    "    test_envs = DummyVectorEnv([_get_env for _ in range(10)])\n",
    "\n",
    "    # seed\n",
    "    seed = 1\n",
    "    np.random.seed(seed)\n",
    "    torch.manual_seed(seed)\n",
    "    train_envs.seed(seed)\n",
    "    test_envs.seed(seed)\n",
    "\n",
    "    # ======== Step 2: Agent setup =========\n",
    "    policy, optim, agents = _get_agents()\n",
    "\n",
    "    # ======== Step 3: Collector setup =========\n",
    "    train_collector = Collector(\n",
    "        policy,\n",
    "        train_envs,\n",
    "        VectorReplayBuffer(20_000, len(train_envs)),\n",
    "        exploration_noise=True,\n",
    "    )\n",
    "    test_collector = Collector(policy, test_envs, exploration_noise=True)\n",
    "    # policy.set_eps(1)\n",
    "    train_collector.collect(n_step=64 * 10)  # batch size * training_num\n",
    "\n",
    "    # ======== Step 4: Callback functions setup =========\n",
    "    def save_best_fn(policy):\n",
    "        model_save_path = os.path.join(\"log\", \"rps\", \"dqn\", \"policy.pth\")\n",
    "        os.makedirs(os.path.join(\"log\", \"rps\", \"dqn\"), exist_ok=True)\n",
    "        torch.save(policy.policies[agents[1]].state_dict(), model_save_path)\n",
    "\n",
    "    def stop_fn(mean_rewards):\n",
    "        return mean_rewards >= 0.6\n",
    "\n",
    "    def train_fn(epoch, env_step):\n",
    "        policy.policies[agents[1]].set_eps(0.1)\n",
    "\n",
    "    def test_fn(epoch, env_step):\n",
    "        policy.policies[agents[1]].set_eps(0.05)\n",
    "\n",
    "    def reward_metric(rews):\n",
    "        return rews[:, 1]\n",
    "\n",
    "    # ======== Step 5: Run the trainer =========\n",
    "    result = offpolicy_trainer(\n",
    "        policy=policy,\n",
    "        train_collector=train_collector,\n",
    "        test_collector=test_collector,\n",
    "        max_epoch=50,\n",
    "        step_per_epoch=1000,\n",
    "        step_per_collect=50,\n",
    "        episode_per_test=10,\n",
    "        batch_size=64,\n",
    "        train_fn=train_fn,\n",
    "        test_fn=test_fn,\n",
    "        stop_fn=stop_fn,\n",
    "        save_best_fn=save_best_fn,\n",
    "        update_per_step=0.1,\n",
    "        test_in_train=False,\n",
    "        reward_metric=reward_metric,\n",
    "    )\n",
    "\n",
    "    # return result, policy.policies[agents[1]]\n",
    "    print(f\"\\n==========Result==========\\n{result}\")\n",
    "    print(\"\\n(the trained policy can be accessed via policy.policies[agents[1]])\")"
   ]
  },
  {
   "cell_type": "code",
   "execution_count": null,
   "metadata": {},
   "outputs": [],
   "source": [
    "performance_benchmark(env)"
   ]
  },
  {
   "cell_type": "code",
   "execution_count": null,
   "metadata": {},
   "outputs": [],
   "source": [
    "import Environment\n",
    "env = Environment.VehicleJobSchedulingEnvACE()\n",
    "from pettingzoo.test import performance_benchmark\n",
    "import cProfile\n",
    "cProfile.run(\"performance_benchmark(env)\")"
   ]
  },
  {
   "cell_type": "code",
   "execution_count": null,
   "metadata": {},
   "outputs": [],
   "source": [
    "%conda install scipy"
   ]
  },
  {
   "cell_type": "code",
   "execution_count": 2,
   "metadata": {},
   "outputs": [
    {
     "ename": "AttributeError",
     "evalue": "'Dict' object has no attribute 'low'",
     "output_type": "error",
     "traceback": [
      "\u001b[0;31m---------------------------------------------------------------------------\u001b[0m",
      "\u001b[0;31mTypeError\u001b[0m                                 Traceback (most recent call last)",
      "File \u001b[0;32m~/ResMan/man/lib/python3.9/site-packages/supersuit/lambda_wrappers/observation_lambda.py:49\u001b[0m, in \u001b[0;36maec_observation_lambda.observation_space\u001b[0;34m(self, agent)\u001b[0m\n\u001b[1;32m     48\u001b[0m \u001b[39mtry\u001b[39;00m:\n\u001b[0;32m---> 49\u001b[0m     \u001b[39mreturn\u001b[39;00m \u001b[39mself\u001b[39;49m\u001b[39m.\u001b[39;49mchange_obs_space_fn(old_obs_space, agent)\n\u001b[1;32m     50\u001b[0m \u001b[39mexcept\u001b[39;00m \u001b[39mTypeError\u001b[39;00m:\n",
      "\u001b[0;31mTypeError\u001b[0m: change_space() takes 1 positional argument but 2 were given",
      "\nDuring handling of the above exception, another exception occurred:\n",
      "\u001b[0;31mAttributeError\u001b[0m                            Traceback (most recent call last)",
      "Cell \u001b[0;32mIn[2], line 5\u001b[0m\n\u001b[1;32m      3\u001b[0m \u001b[39mfrom\u001b[39;00m \u001b[39mtianshou\u001b[39;00m\u001b[39m.\u001b[39;00m\u001b[39menv\u001b[39;00m \u001b[39mimport\u001b[39;00m PettingZooEnv\n\u001b[1;32m      4\u001b[0m env \u001b[39m=\u001b[39m Environment\u001b[39m.\u001b[39mVehicleJobSchedulingEnvACE()\n\u001b[0;32m----> 5\u001b[0m env \u001b[39m=\u001b[39m flatten_v0(env)\n\u001b[1;32m      6\u001b[0m env \u001b[39m=\u001b[39m PettingZooEnv(env)\n\u001b[1;32m      8\u001b[0m env\u001b[39m.\u001b[39maction_space\u001b[39m.\u001b[39mshape, env\u001b[39m.\u001b[39mobservation_space\n",
      "File \u001b[0;32m~/ResMan/man/lib/python3.9/site-packages/supersuit/generic_wrappers/basic_wrappers.py:32\u001b[0m, in \u001b[0;36mflatten_v0\u001b[0;34m(env)\u001b[0m\n\u001b[1;32m     31\u001b[0m \u001b[39mdef\u001b[39;00m \u001b[39mflatten_v0\u001b[39m(env):\n\u001b[0;32m---> 32\u001b[0m     \u001b[39mreturn\u001b[39;00m basic_obs_wrapper(env, basic_transforms\u001b[39m.\u001b[39;49mflatten, \u001b[39mTrue\u001b[39;49;00m)\n",
      "File \u001b[0;32m~/ResMan/man/lib/python3.9/site-packages/supersuit/generic_wrappers/basic_wrappers.py:15\u001b[0m, in \u001b[0;36mbasic_obs_wrapper\u001b[0;34m(env, module, param)\u001b[0m\n\u001b[1;32m     13\u001b[0m \u001b[39mdef\u001b[39;00m \u001b[39mchange_obs\u001b[39m(obs, obs_space):\n\u001b[1;32m     14\u001b[0m     \u001b[39mreturn\u001b[39;00m module\u001b[39m.\u001b[39mchange_observation(obs, obs_space, param)\n\u001b[0;32m---> 15\u001b[0m \u001b[39mreturn\u001b[39;00m observation_lambda_v0(env, change_obs, change_space)\n",
      "File \u001b[0;32m~/ResMan/man/lib/python3.9/site-packages/supersuit/utils/wrapper_chooser.py:20\u001b[0m, in \u001b[0;36mWrapperChooser.__call__\u001b[0;34m(self, env, *args, **kwargs)\u001b[0m\n\u001b[1;32m     18\u001b[0m \u001b[39melif\u001b[39;00m \u001b[39misinstance\u001b[39m(env, AECEnv):\n\u001b[1;32m     19\u001b[0m     \u001b[39mif\u001b[39;00m \u001b[39mself\u001b[39m\u001b[39m.\u001b[39maec_wrapper \u001b[39mis\u001b[39;00m \u001b[39mnot\u001b[39;00m \u001b[39mNone\u001b[39;00m:\n\u001b[0;32m---> 20\u001b[0m         \u001b[39mreturn\u001b[39;00m \u001b[39mself\u001b[39;49m\u001b[39m.\u001b[39;49maec_wrapper(env, \u001b[39m*\u001b[39;49margs, \u001b[39m*\u001b[39;49m\u001b[39m*\u001b[39;49mkwargs)\n\u001b[1;32m     21\u001b[0m     \u001b[39melse\u001b[39;00m:\n\u001b[1;32m     22\u001b[0m         \u001b[39mreturn\u001b[39;00m from_parallel(\u001b[39mself\u001b[39m\u001b[39m.\u001b[39mparallel_wrapper(to_parallel(env), \u001b[39m*\u001b[39margs, \u001b[39m*\u001b[39m\u001b[39m*\u001b[39mkwargs))\n",
      "File \u001b[0;32m~/ResMan/man/lib/python3.9/site-packages/supersuit/lambda_wrappers/observation_lambda.py:22\u001b[0m, in \u001b[0;36maec_observation_lambda.__init__\u001b[0;34m(self, env, change_observation_fn, change_obs_space_fn)\u001b[0m\n\u001b[1;32m     19\u001b[0m \u001b[39mif\u001b[39;00m \u001b[39mhasattr\u001b[39m(\u001b[39mself\u001b[39m, \u001b[39m'\u001b[39m\u001b[39mpossible_agents\u001b[39m\u001b[39m'\u001b[39m):\n\u001b[1;32m     20\u001b[0m     \u001b[39mfor\u001b[39;00m agent \u001b[39min\u001b[39;00m \u001b[39mself\u001b[39m\u001b[39m.\u001b[39mpossible_agents:\n\u001b[1;32m     21\u001b[0m         \u001b[39m# call any validation logic in this function\u001b[39;00m\n\u001b[0;32m---> 22\u001b[0m         \u001b[39mself\u001b[39;49m\u001b[39m.\u001b[39;49mobservation_space(agent)\n",
      "File \u001b[0;32m~/ResMan/man/lib/python3.9/site-packages/supersuit/lambda_wrappers/observation_lambda.py:51\u001b[0m, in \u001b[0;36maec_observation_lambda.observation_space\u001b[0;34m(self, agent)\u001b[0m\n\u001b[1;32m     49\u001b[0m     \u001b[39mreturn\u001b[39;00m \u001b[39mself\u001b[39m\u001b[39m.\u001b[39mchange_obs_space_fn(old_obs_space, agent)\n\u001b[1;32m     50\u001b[0m \u001b[39mexcept\u001b[39;00m \u001b[39mTypeError\u001b[39;00m:\n\u001b[0;32m---> 51\u001b[0m     \u001b[39mreturn\u001b[39;00m \u001b[39mself\u001b[39;49m\u001b[39m.\u001b[39;49mchange_obs_space_fn(old_obs_space)\n",
      "File \u001b[0;32m~/ResMan/man/lib/python3.9/site-packages/supersuit/generic_wrappers/basic_wrappers.py:10\u001b[0m, in \u001b[0;36mbasic_obs_wrapper.<locals>.change_space\u001b[0;34m(space)\u001b[0m\n\u001b[1;32m      8\u001b[0m \u001b[39mdef\u001b[39;00m \u001b[39mchange_space\u001b[39m(space):\n\u001b[1;32m      9\u001b[0m     module\u001b[39m.\u001b[39mcheck_param(space, param)\n\u001b[0;32m---> 10\u001b[0m     space \u001b[39m=\u001b[39m module\u001b[39m.\u001b[39;49mchange_obs_space(space, param)\n\u001b[1;32m     11\u001b[0m     \u001b[39mreturn\u001b[39;00m space\n",
      "File \u001b[0;32m~/ResMan/man/lib/python3.9/site-packages/supersuit/utils/basic_transforms/flatten.py:9\u001b[0m, in \u001b[0;36mchange_obs_space\u001b[0;34m(obs_space, param)\u001b[0m\n\u001b[1;32m      8\u001b[0m \u001b[39mdef\u001b[39;00m \u001b[39mchange_obs_space\u001b[39m(obs_space, param):\n\u001b[0;32m----> 9\u001b[0m     \u001b[39mreturn\u001b[39;00m convert_box(\u001b[39mlambda\u001b[39;49;00m obs: change_observation(obs, obs_space, param), obs_space)\n",
      "File \u001b[0;32m~/ResMan/man/lib/python3.9/site-packages/supersuit/utils/basic_transforms/__init__.py:5\u001b[0m, in \u001b[0;36mconvert_box\u001b[0;34m(convert_obs_fn, old_box)\u001b[0m\n\u001b[1;32m      4\u001b[0m \u001b[39mdef\u001b[39;00m \u001b[39mconvert_box\u001b[39m(convert_obs_fn, old_box):\n\u001b[0;32m----> 5\u001b[0m     new_low \u001b[39m=\u001b[39m convert_obs_fn(old_box\u001b[39m.\u001b[39;49mlow)\n\u001b[1;32m      6\u001b[0m     new_high \u001b[39m=\u001b[39m convert_obs_fn(old_box\u001b[39m.\u001b[39mhigh)\n\u001b[1;32m      7\u001b[0m     \u001b[39mreturn\u001b[39;00m Box(low\u001b[39m=\u001b[39mnew_low, high\u001b[39m=\u001b[39mnew_high, dtype\u001b[39m=\u001b[39mnew_low\u001b[39m.\u001b[39mdtype)\n",
      "\u001b[0;31mAttributeError\u001b[0m: 'Dict' object has no attribute 'low'"
     ]
    }
   ],
   "source": [
    "import Environment\n",
    "from supersuit import flatten_v0\n",
    "from tianshou.env import PettingZooEnv\n",
    "env = Environment.VehicleJobSchedulingEnvACE()\n",
    "\n",
    "env = PettingZooEnv(env)\n",
    "\n",
    "env.action_space.shape, env.observation_space"
   ]
  },
  {
   "cell_type": "code",
   "execution_count": 4,
   "metadata": {},
   "outputs": [
    {
     "ename": "ImportError",
     "evalue": "cannot import name 'BaseParallelWraper' from 'pettingzoo.utils.wrappers' (/home/yuan/ResMan/man/lib/python3.9/site-packages/pettingzoo/utils/wrappers/__init__.py)",
     "output_type": "error",
     "traceback": [
      "\u001b[0;31m---------------------------------------------------------------------------\u001b[0m",
      "\u001b[0;31mImportError\u001b[0m                               Traceback (most recent call last)",
      "Cell \u001b[0;32mIn[4], line 1\u001b[0m\n\u001b[0;32m----> 1\u001b[0m \u001b[39mfrom\u001b[39;00m \u001b[39mpettingzoo\u001b[39;00m\u001b[39m.\u001b[39;00m\u001b[39mutils\u001b[39;00m\u001b[39m.\u001b[39;00m\u001b[39mwrappers\u001b[39;00m \u001b[39mimport\u001b[39;00m BaseWrapper, BaseParallelWraper\n",
      "\u001b[0;31mImportError\u001b[0m: cannot import name 'BaseParallelWraper' from 'pettingzoo.utils.wrappers' (/home/yuan/ResMan/man/lib/python3.9/site-packages/pettingzoo/utils/wrappers/__init__.py)"
     ]
    }
   ],
   "source": [
    "from pettingzoo.utils.wrappers import BaseWrapper,BaseParallelWrapper,BaseParallelWraper"
   ]
  },
  {
   "cell_type": "code",
   "execution_count": 15,
   "metadata": {},
   "outputs": [],
   "source": [
    "from rich import pretty\n",
    "pretty.install()"
   ]
  },
  {
   "cell_type": "code",
   "execution_count": 2,
   "metadata": {},
   "outputs": [
    {
     "ename": "KeyError",
     "evalue": "'avail_slot'",
     "output_type": "error",
     "traceback": [
      "\u001b[0;31m---------------------------------------------------------------------------\u001b[0m",
      "\u001b[0;31mKeyError\u001b[0m                                  Traceback (most recent call last)",
      "Cell \u001b[0;32mIn[2], line 1\u001b[0m\n\u001b[0;32m----> 1\u001b[0m env\u001b[39m.\u001b[39;49mreset()\n\u001b[1;32m      2\u001b[0m env\u001b[39m.\u001b[39mstep(\u001b[39m1\u001b[39m)\n\u001b[1;32m      3\u001b[0m env\u001b[39m.\u001b[39mlast()\n",
      "File \u001b[0;32m~/ResMan/man/lib/python3.9/site-packages/gymnasium/core.py:463\u001b[0m, in \u001b[0;36mObservationWrapper.reset\u001b[0;34m(self, seed, options)\u001b[0m\n\u001b[1;32m    461\u001b[0m \u001b[39m\u001b[39m\u001b[39m\"\"\"Modifies the :attr:`env` after calling :meth:`reset`, returning a modified observation using :meth:`self.observation`.\"\"\"\u001b[39;00m\n\u001b[1;32m    462\u001b[0m obs, info \u001b[39m=\u001b[39m \u001b[39mself\u001b[39m\u001b[39m.\u001b[39menv\u001b[39m.\u001b[39mreset(seed\u001b[39m=\u001b[39mseed, options\u001b[39m=\u001b[39moptions)\n\u001b[0;32m--> 463\u001b[0m \u001b[39mreturn\u001b[39;00m \u001b[39mself\u001b[39;49m\u001b[39m.\u001b[39;49mobservation(obs), info\n",
      "File \u001b[0;32m~/ResMan/man/lib/python3.9/site-packages/gymnasium/wrappers/flatten_observation.py:43\u001b[0m, in \u001b[0;36mFlattenObservation.observation\u001b[0;34m(self, observation)\u001b[0m\n\u001b[1;32m     34\u001b[0m \u001b[39mdef\u001b[39;00m \u001b[39mobservation\u001b[39m(\u001b[39mself\u001b[39m, observation):\n\u001b[1;32m     35\u001b[0m \u001b[39m    \u001b[39m\u001b[39m\"\"\"Flattens an observation.\u001b[39;00m\n\u001b[1;32m     36\u001b[0m \n\u001b[1;32m     37\u001b[0m \u001b[39m    Args:\u001b[39;00m\n\u001b[0;32m   (...)\u001b[0m\n\u001b[1;32m     41\u001b[0m \u001b[39m        The flattened observation\u001b[39;00m\n\u001b[1;32m     42\u001b[0m \u001b[39m    \"\"\"\u001b[39;00m\n\u001b[0;32m---> 43\u001b[0m     \u001b[39mreturn\u001b[39;00m spaces\u001b[39m.\u001b[39;49mflatten(\u001b[39mself\u001b[39;49m\u001b[39m.\u001b[39;49menv\u001b[39m.\u001b[39;49mobservation_space, observation)\n",
      "File \u001b[0;32m/root/anaconda3/lib/python3.9/functools.py:888\u001b[0m, in \u001b[0;36msingledispatch.<locals>.wrapper\u001b[0;34m(*args, **kw)\u001b[0m\n\u001b[1;32m    884\u001b[0m \u001b[39mif\u001b[39;00m \u001b[39mnot\u001b[39;00m args:\n\u001b[1;32m    885\u001b[0m     \u001b[39mraise\u001b[39;00m \u001b[39mTypeError\u001b[39;00m(\u001b[39mf\u001b[39m\u001b[39m'\u001b[39m\u001b[39m{\u001b[39;00mfuncname\u001b[39m}\u001b[39;00m\u001b[39m requires at least \u001b[39m\u001b[39m'\u001b[39m\n\u001b[1;32m    886\u001b[0m                     \u001b[39m'\u001b[39m\u001b[39m1 positional argument\u001b[39m\u001b[39m'\u001b[39m)\n\u001b[0;32m--> 888\u001b[0m \u001b[39mreturn\u001b[39;00m dispatch(args[\u001b[39m0\u001b[39;49m]\u001b[39m.\u001b[39;49m\u001b[39m__class__\u001b[39;49m)(\u001b[39m*\u001b[39;49margs, \u001b[39m*\u001b[39;49m\u001b[39m*\u001b[39;49mkw)\n",
      "File \u001b[0;32m~/ResMan/man/lib/python3.9/site-packages/gymnasium/spaces/utils.py:196\u001b[0m, in \u001b[0;36m_flatten_dict\u001b[0;34m(space, x)\u001b[0m\n\u001b[1;32m    192\u001b[0m \u001b[39m@flatten\u001b[39m\u001b[39m.\u001b[39mregister(Dict)\n\u001b[1;32m    193\u001b[0m \u001b[39mdef\u001b[39;00m \u001b[39m_flatten_dict\u001b[39m(space: Dict, x: \u001b[39mdict\u001b[39m[\u001b[39mstr\u001b[39m, Any]) \u001b[39m-\u001b[39m\u001b[39m>\u001b[39m \u001b[39mdict\u001b[39m[\u001b[39mstr\u001b[39m, Any] \u001b[39m|\u001b[39m NDArray[Any]:\n\u001b[1;32m    194\u001b[0m     \u001b[39mif\u001b[39;00m space\u001b[39m.\u001b[39mis_np_flattenable:\n\u001b[1;32m    195\u001b[0m         \u001b[39mreturn\u001b[39;00m np\u001b[39m.\u001b[39mconcatenate(\n\u001b[0;32m--> 196\u001b[0m             [np\u001b[39m.\u001b[39marray(flatten(s, x[key])) \u001b[39mfor\u001b[39;00m key, s \u001b[39min\u001b[39;00m space\u001b[39m.\u001b[39mspaces\u001b[39m.\u001b[39mitems()]\n\u001b[1;32m    197\u001b[0m         )\n\u001b[1;32m    198\u001b[0m     \u001b[39mreturn\u001b[39;00m OrderedDict((key, flatten(s, x[key])) \u001b[39mfor\u001b[39;00m key, s \u001b[39min\u001b[39;00m space\u001b[39m.\u001b[39mspaces\u001b[39m.\u001b[39mitems())\n",
      "File \u001b[0;32m~/ResMan/man/lib/python3.9/site-packages/gymnasium/spaces/utils.py:196\u001b[0m, in \u001b[0;36m<listcomp>\u001b[0;34m(.0)\u001b[0m\n\u001b[1;32m    192\u001b[0m \u001b[39m@flatten\u001b[39m\u001b[39m.\u001b[39mregister(Dict)\n\u001b[1;32m    193\u001b[0m \u001b[39mdef\u001b[39;00m \u001b[39m_flatten_dict\u001b[39m(space: Dict, x: \u001b[39mdict\u001b[39m[\u001b[39mstr\u001b[39m, Any]) \u001b[39m-\u001b[39m\u001b[39m>\u001b[39m \u001b[39mdict\u001b[39m[\u001b[39mstr\u001b[39m, Any] \u001b[39m|\u001b[39m NDArray[Any]:\n\u001b[1;32m    194\u001b[0m     \u001b[39mif\u001b[39;00m space\u001b[39m.\u001b[39mis_np_flattenable:\n\u001b[1;32m    195\u001b[0m         \u001b[39mreturn\u001b[39;00m np\u001b[39m.\u001b[39mconcatenate(\n\u001b[0;32m--> 196\u001b[0m             [np\u001b[39m.\u001b[39marray(flatten(s, x[key])) \u001b[39mfor\u001b[39;00m key, s \u001b[39min\u001b[39;00m space\u001b[39m.\u001b[39mspaces\u001b[39m.\u001b[39mitems()]\n\u001b[1;32m    197\u001b[0m         )\n\u001b[1;32m    198\u001b[0m     \u001b[39mreturn\u001b[39;00m OrderedDict((key, flatten(s, x[key])) \u001b[39mfor\u001b[39;00m key, s \u001b[39min\u001b[39;00m space\u001b[39m.\u001b[39mspaces\u001b[39m.\u001b[39mitems())\n",
      "\u001b[0;31mKeyError\u001b[0m: 'avail_slot'"
     ]
    }
   ],
   "source": [
    "env.reset()\n",
    "env.step(1)\n",
    "env.last()"
   ]
  },
  {
   "cell_type": "code",
   "execution_count": 4,
   "metadata": {},
   "outputs": [],
   "source": [
    "env = Environment.VehicleJobSchedulingEnvACE()\n",
    "sp, _ = env.reset()"
   ]
  },
  {
   "cell_type": "code",
   "execution_count": 6,
   "metadata": {},
   "outputs": [
    {
     "data": {
      "text/plain": [
       "OrderedDict([('avail_slot',\n",
       "              array([[20, 37],\n",
       "                     [20, 37],\n",
       "                     [20, 37],\n",
       "                     [20, 37],\n",
       "                     [20, 37],\n",
       "                     [20, 37],\n",
       "                     [20, 37],\n",
       "                     [20, 37],\n",
       "                     [20, 37],\n",
       "                     [20, 37]], dtype=int8)),\n",
       "             ('request_job',\n",
       "              OrderedDict([('res_vec', [0, 0]),\n",
       "                           ('len', 0),\n",
       "                           ('priority', 0)]))])"
      ]
     },
     "execution_count": 6,
     "metadata": {},
     "output_type": "execute_result"
    }
   ],
   "source": [
    "sp"
   ]
  },
  {
   "cell_type": "code",
   "execution_count": 13,
   "metadata": {},
   "outputs": [
    {
     "ename": "ImportError",
     "evalue": "cannot import name 'AECWrapper' from 'pettingzoo.utils' (/home/yuan/ResMan/man/lib/python3.9/site-packages/pettingzoo/utils/__init__.py)",
     "output_type": "error",
     "traceback": [
      "\u001b[0;31m---------------------------------------------------------------------------\u001b[0m",
      "\u001b[0;31mImportError\u001b[0m                               Traceback (most recent call last)",
      "Cell \u001b[0;32mIn[13], line 3\u001b[0m\n\u001b[1;32m      1\u001b[0m \u001b[39mimport\u001b[39;00m \u001b[39mgym\u001b[39;00m\n\u001b[1;32m      2\u001b[0m \u001b[39mimport\u001b[39;00m \u001b[39mpettingzoo\u001b[39;00m\n\u001b[0;32m----> 3\u001b[0m \u001b[39mfrom\u001b[39;00m \u001b[39mpettingzoo\u001b[39;00m\u001b[39m.\u001b[39;00m\u001b[39mutils\u001b[39;00m \u001b[39mimport\u001b[39;00m AECWrapper \u001b[39m# add this line\u001b[39;00m\n\u001b[1;32m      5\u001b[0m \u001b[39mclass\u001b[39;00m \u001b[39mFlattenWrapper\u001b[39;00m(AECWrapper): \u001b[39m# change this line\u001b[39;00m\n\u001b[1;32m      6\u001b[0m     \u001b[39mdef\u001b[39;00m \u001b[39m__init__\u001b[39m(\u001b[39mself\u001b[39m, env):\n",
      "\u001b[0;31mImportError\u001b[0m: cannot import name 'AECWrapper' from 'pettingzoo.utils' (/home/yuan/ResMan/man/lib/python3.9/site-packages/pettingzoo/utils/__init__.py)"
     ]
    }
   ],
   "source": [
    "\n",
    "\n"
   ]
  },
  {
   "cell_type": "code",
   "execution_count": 1,
   "metadata": {},
   "outputs": [],
   "source": [
    "from environment import Environment\n",
    "\n",
    "env = Environment.VehicleJobSchedulingEnvACE()\n",
    "env.reset()\n",
    "for agent in env.agent_iter(10000):\n",
    "    env.step(env.action_space(agent).sample())"
   ]
  },
  {
   "cell_type": "code",
   "execution_count": 4,
   "metadata": {},
   "outputs": [
    {
     "data": {
      "text/plain": [
       "array([24., 41., 24., 41., 24., 41., 24., 41., 24., 41., 24., 41., 24.,\n",
       "       41., 24., 41., 24., 41., 24., 41.,  0.,  0.,  1.,  0.,  0.,  0.,\n",
       "        0.,  0.,  0.,  0.,  0.,  0.,  1.,  0.,  0.,  0.,  0.,  0.,  0.,\n",
       "        0.,  0.,  0.,  0.])"
      ]
     },
     "execution_count": 4,
     "metadata": {},
     "output_type": "execute_result"
    }
   ],
   "source": [
    "env.observation['Machine_0']"
   ]
  },
  {
   "cell_type": "code",
   "execution_count": 2,
   "metadata": {},
   "outputs": [
    {
     "ename": "IndexError",
     "evalue": "index 18 is out of bounds for axis 0 with size 10",
     "output_type": "error",
     "traceback": [
      "\u001b[0;31m---------------------------------------------------------------------------\u001b[0m",
      "\u001b[0;31mIndexError\u001b[0m                                Traceback (most recent call last)",
      "\u001b[1;32m/home/yuan/ResMan/testApi.ipynb 单元格 14\u001b[0m line \u001b[0;36m2\n\u001b[1;32m      <a href='vscode-notebook-cell://ssh-remote%2Bgtx6180/home/yuan/ResMan/testApi.ipynb#X15sdnNjb2RlLXJlbW90ZQ%3D%3D?line=0'>1</a>\u001b[0m \u001b[39mfor\u001b[39;00m agent \u001b[39min\u001b[39;00m env\u001b[39m.\u001b[39magent_iter(\u001b[39m10000\u001b[39m):\n\u001b[0;32m----> <a href='vscode-notebook-cell://ssh-remote%2Bgtx6180/home/yuan/ResMan/testApi.ipynb#X15sdnNjb2RlLXJlbW90ZQ%3D%3D?line=1'>2</a>\u001b[0m     env\u001b[39m.\u001b[39;49mstep(env\u001b[39m.\u001b[39;49maction_space(agent)\u001b[39m.\u001b[39;49msample())\n",
      "File \u001b[0;32m~/ResMan/environment/Environment.py:517\u001b[0m, in \u001b[0;36mVehicleJobSchedulingEnvACE.step\u001b[0;34m(self, action)\u001b[0m\n\u001b[1;32m    512\u001b[0m \u001b[39mif\u001b[39;00m \u001b[39mself\u001b[39m\u001b[39m.\u001b[39m__agent_selector\u001b[39m.\u001b[39mis_last():\n\u001b[1;32m    513\u001b[0m     \u001b[39m# self._clear_rewards()\u001b[39;00m\n\u001b[1;32m    514\u001b[0m     \u001b[39m# print(self.request_job)\u001b[39;00m\n\u001b[1;32m    515\u001b[0m     \u001b[39mself\u001b[39m\u001b[39m.\u001b[39mauction()\n\u001b[0;32m--> 517\u001b[0m     \u001b[39mself\u001b[39;49m\u001b[39m.\u001b[39;49mnext_job()\n\u001b[1;32m    519\u001b[0m \u001b[39m# !TODO update observation,reward\u001b[39;00m\n\u001b[1;32m    520\u001b[0m \u001b[39mself\u001b[39m\u001b[39m.\u001b[39magent_selection \u001b[39m=\u001b[39m \u001b[39mself\u001b[39m\u001b[39m.\u001b[39m__agent_selector\u001b[39m.\u001b[39mnext()\n",
      "File \u001b[0;32m~/ResMan/environment/Environment.py:442\u001b[0m, in \u001b[0;36mVehicleJobSchedulingEnvACE.next_job\u001b[0;34m(self)\u001b[0m\n\u001b[1;32m    438\u001b[0m     \u001b[39mfor\u001b[39;00m machine_id \u001b[39min\u001b[39;00m \u001b[39mself\u001b[39m\u001b[39m.\u001b[39mrequest_job\u001b[39m.\u001b[39mrestrict_machines:\n\u001b[1;32m    439\u001b[0m         \u001b[39mself\u001b[39m\u001b[39m.\u001b[39mparameters\u001b[39m.\u001b[39mcluster\u001b[39m.\u001b[39mmachines[\n\u001b[1;32m    440\u001b[0m             \u001b[39mint\u001b[39m(machine_id)\n\u001b[1;32m    441\u001b[0m         ]\u001b[39m.\u001b[39mrequest_job \u001b[39m=\u001b[39m \u001b[39mself\u001b[39m\u001b[39m.\u001b[39mrequest_job\n\u001b[0;32m--> 442\u001b[0m         \u001b[39mself\u001b[39m\u001b[39m.\u001b[39mobservation[\u001b[39m\"\u001b[39m\u001b[39mMachine_\u001b[39m\u001b[39m\"\u001b[39m \u001b[39m+\u001b[39m \u001b[39mstr\u001b[39m(machine_id)] \u001b[39m=\u001b[39m flatten(\n\u001b[1;32m    443\u001b[0m             \u001b[39mself\u001b[39;49m\u001b[39m.\u001b[39;49mobs,\n\u001b[1;32m    444\u001b[0m             \u001b[39mself\u001b[39;49m\u001b[39m.\u001b[39;49mparameters\u001b[39m.\u001b[39;49mcluster\u001b[39m.\u001b[39;49mmachines[\u001b[39mint\u001b[39;49m(machine_id)]\u001b[39m.\u001b[39;49mobserve(),\n\u001b[1;32m    445\u001b[0m         )\n\u001b[1;32m    446\u001b[0m     \u001b[39mself\u001b[39m\u001b[39m.\u001b[39m__agent_selector \u001b[39m=\u001b[39m \u001b[39mself\u001b[39m\u001b[39m.\u001b[39m_agent_selector()\n\u001b[1;32m    447\u001b[0m \u001b[39mif\u001b[39;00m \u001b[39mself\u001b[39m\u001b[39m.\u001b[39mrequest_job \u001b[39mis\u001b[39;00m \u001b[39mNone\u001b[39;00m:\n",
      "File \u001b[0;32m/root/anaconda3/lib/python3.9/functools.py:888\u001b[0m, in \u001b[0;36msingledispatch.<locals>.wrapper\u001b[0;34m(*args, **kw)\u001b[0m\n\u001b[1;32m    884\u001b[0m \u001b[39mif\u001b[39;00m \u001b[39mnot\u001b[39;00m args:\n\u001b[1;32m    885\u001b[0m     \u001b[39mraise\u001b[39;00m \u001b[39mTypeError\u001b[39;00m(\u001b[39mf\u001b[39m\u001b[39m'\u001b[39m\u001b[39m{\u001b[39;00mfuncname\u001b[39m}\u001b[39;00m\u001b[39m requires at least \u001b[39m\u001b[39m'\u001b[39m\n\u001b[1;32m    886\u001b[0m                     \u001b[39m'\u001b[39m\u001b[39m1 positional argument\u001b[39m\u001b[39m'\u001b[39m)\n\u001b[0;32m--> 888\u001b[0m \u001b[39mreturn\u001b[39;00m dispatch(args[\u001b[39m0\u001b[39;49m]\u001b[39m.\u001b[39;49m\u001b[39m__class__\u001b[39;49m)(\u001b[39m*\u001b[39;49margs, \u001b[39m*\u001b[39;49m\u001b[39m*\u001b[39;49mkw)\n",
      "File \u001b[0;32m~/ResMan/man/lib/python3.9/site-packages/gymnasium/spaces/utils.py:173\u001b[0m, in \u001b[0;36m_flatten_dict\u001b[0;34m(space, x)\u001b[0m\n\u001b[1;32m    170\u001b[0m \u001b[39m@flatten\u001b[39m\u001b[39m.\u001b[39mregister(Dict)\n\u001b[1;32m    171\u001b[0m \u001b[39mdef\u001b[39;00m \u001b[39m_flatten_dict\u001b[39m(space, x) \u001b[39m-\u001b[39m\u001b[39m>\u001b[39m Union[\u001b[39mdict\u001b[39m, np\u001b[39m.\u001b[39mndarray]:\n\u001b[1;32m    172\u001b[0m     \u001b[39mif\u001b[39;00m space\u001b[39m.\u001b[39mis_np_flattenable:\n\u001b[0;32m--> 173\u001b[0m         \u001b[39mreturn\u001b[39;00m np\u001b[39m.\u001b[39mconcatenate([flatten(s, x[key]) \u001b[39mfor\u001b[39;00m key, s \u001b[39min\u001b[39;00m space\u001b[39m.\u001b[39mspaces\u001b[39m.\u001b[39mitems()])\n\u001b[1;32m    174\u001b[0m     \u001b[39mreturn\u001b[39;00m OrderedDict((key, flatten(s, x[key])) \u001b[39mfor\u001b[39;00m key, s \u001b[39min\u001b[39;00m space\u001b[39m.\u001b[39mspaces\u001b[39m.\u001b[39mitems())\n",
      "File \u001b[0;32m~/ResMan/man/lib/python3.9/site-packages/gymnasium/spaces/utils.py:173\u001b[0m, in \u001b[0;36m<listcomp>\u001b[0;34m(.0)\u001b[0m\n\u001b[1;32m    170\u001b[0m \u001b[39m@flatten\u001b[39m\u001b[39m.\u001b[39mregister(Dict)\n\u001b[1;32m    171\u001b[0m \u001b[39mdef\u001b[39;00m \u001b[39m_flatten_dict\u001b[39m(space, x) \u001b[39m-\u001b[39m\u001b[39m>\u001b[39m Union[\u001b[39mdict\u001b[39m, np\u001b[39m.\u001b[39mndarray]:\n\u001b[1;32m    172\u001b[0m     \u001b[39mif\u001b[39;00m space\u001b[39m.\u001b[39mis_np_flattenable:\n\u001b[0;32m--> 173\u001b[0m         \u001b[39mreturn\u001b[39;00m np\u001b[39m.\u001b[39mconcatenate([flatten(s, x[key]) \u001b[39mfor\u001b[39;00m key, s \u001b[39min\u001b[39;00m space\u001b[39m.\u001b[39mspaces\u001b[39m.\u001b[39mitems()])\n\u001b[1;32m    174\u001b[0m     \u001b[39mreturn\u001b[39;00m OrderedDict((key, flatten(s, x[key])) \u001b[39mfor\u001b[39;00m key, s \u001b[39min\u001b[39;00m space\u001b[39m.\u001b[39mspaces\u001b[39m.\u001b[39mitems())\n",
      "File \u001b[0;32m/root/anaconda3/lib/python3.9/functools.py:888\u001b[0m, in \u001b[0;36msingledispatch.<locals>.wrapper\u001b[0;34m(*args, **kw)\u001b[0m\n\u001b[1;32m    884\u001b[0m \u001b[39mif\u001b[39;00m \u001b[39mnot\u001b[39;00m args:\n\u001b[1;32m    885\u001b[0m     \u001b[39mraise\u001b[39;00m \u001b[39mTypeError\u001b[39;00m(\u001b[39mf\u001b[39m\u001b[39m'\u001b[39m\u001b[39m{\u001b[39;00mfuncname\u001b[39m}\u001b[39;00m\u001b[39m requires at least \u001b[39m\u001b[39m'\u001b[39m\n\u001b[1;32m    886\u001b[0m                     \u001b[39m'\u001b[39m\u001b[39m1 positional argument\u001b[39m\u001b[39m'\u001b[39m)\n\u001b[0;32m--> 888\u001b[0m \u001b[39mreturn\u001b[39;00m dispatch(args[\u001b[39m0\u001b[39;49m]\u001b[39m.\u001b[39;49m\u001b[39m__class__\u001b[39;49m)(\u001b[39m*\u001b[39;49margs, \u001b[39m*\u001b[39;49m\u001b[39m*\u001b[39;49mkw)\n",
      "File \u001b[0;32m~/ResMan/man/lib/python3.9/site-packages/gymnasium/spaces/utils.py:147\u001b[0m, in \u001b[0;36m_flatten_discrete\u001b[0;34m(space, x)\u001b[0m\n\u001b[1;32m    144\u001b[0m \u001b[39m@flatten\u001b[39m\u001b[39m.\u001b[39mregister(Discrete)\n\u001b[1;32m    145\u001b[0m \u001b[39mdef\u001b[39;00m \u001b[39m_flatten_discrete\u001b[39m(space, x) \u001b[39m-\u001b[39m\u001b[39m>\u001b[39m np\u001b[39m.\u001b[39mndarray:\n\u001b[1;32m    146\u001b[0m     onehot \u001b[39m=\u001b[39m np\u001b[39m.\u001b[39mzeros(space\u001b[39m.\u001b[39mn, dtype\u001b[39m=\u001b[39mspace\u001b[39m.\u001b[39mdtype)\n\u001b[0;32m--> 147\u001b[0m     onehot[x \u001b[39m-\u001b[39;49m space\u001b[39m.\u001b[39;49mstart] \u001b[39m=\u001b[39m \u001b[39m1\u001b[39m\n\u001b[1;32m    148\u001b[0m     \u001b[39mreturn\u001b[39;00m onehot\n",
      "\u001b[0;31mIndexError\u001b[0m: index 18 is out of bounds for axis 0 with size 10"
     ]
    }
   ],
   "source": []
  },
  {
   "cell_type": "code",
   "execution_count": 7,
   "metadata": {},
   "outputs": [],
   "source": [
    "dic = env.parameters.cluster.machines[1].observe(\n",
    ")"
   ]
  },
  {
   "cell_type": "code",
   "execution_count": 9,
   "metadata": {},
   "outputs": [
    {
     "data": {
      "text/plain": [
       "array([15., 38., 15., 38., 15., 38., 15., 38., 15., 38., 15., 38., 15.,\n",
       "       38., 15., 38., 15., 38., 15., 38.,  0.,  0.,  1.,  0.,  0.,  0.,\n",
       "        0.,  0.,  0.,  0.,  0.,  0.,  1.,  0.,  0.,  0.,  0.,  0.,  0.,\n",
       "        0.,  0.,  0.,  0.])"
      ]
     },
     "execution_count": 9,
     "metadata": {},
     "output_type": "execute_result"
    }
   ],
   "source": [
    "from gymnasium.spaces.utils import flatten, flatten_space\n",
    "flatten(env.obs, dic)"
   ]
  },
  {
   "cell_type": "code",
   "execution_count": 1,
   "metadata": {},
   "outputs": [],
   "source": [
    "import jax.numpy as jnp\n",
    "from jax import grad, jit, vmap\n",
    "from jax import random"
   ]
  },
  {
   "cell_type": "code",
   "execution_count": 2,
   "metadata": {},
   "outputs": [
    {
     "name": "stderr",
     "output_type": "stream",
     "text": [
      "WARNING: All log messages before absl::InitializeLog() is called are written to STDERR\n",
      "I0000 00:00:1695365322.463636 4159322 tfrt_cpu_pjrt_client.cc:349] TfrtCpuClient created.\n"
     ]
    },
    {
     "name": "stdout",
     "output_type": "stream",
     "text": [
      "[-0.3721109   0.26423115 -0.18252768 -0.7368197  -0.44030377 -0.1521442\n",
      " -0.67135346 -0.5908641   0.73168886  0.5673026 ]\n"
     ]
    }
   ],
   "source": [
    "key = random.PRNGKey(0)\n",
    "x = random.normal(key, (10,))\n",
    "print(x)"
   ]
  },
  {
   "cell_type": "code",
   "execution_count": 4,
   "metadata": {},
   "outputs": [
    {
     "name": "stdout",
     "output_type": "stream",
     "text": [
      "2.59 ms ± 102 µs per loop (mean ± std. dev. of 7 runs, 1 loop each)\n"
     ]
    },
    {
     "name": "stderr",
     "output_type": "stream",
     "text": [
      "2023-09-22 14:50:13.407743: W external/xla/xla/service/gpu/buffer_comparator.cc:1054] INTERNAL: ptxas exited with non-zero error code 65280, output: ptxas /tmp/tempfile-lwh-Super-Server-5d095050-4159322-605ed053a8f85, line 10; fatal   : Unsupported .version 7.8; current version is '7.7'\n",
      "ptxas fatal   : Ptx assembly aborted due to errors\n",
      "\n",
      "Relying on driver to perform ptx compilation. \n",
      "Setting XLA_FLAGS=--xla_gpu_cuda_data_dir=/path/to/cuda  or modifying $PATH can be used to set the location of ptxas\n",
      "This message will only be logged once.\n"
     ]
    }
   ],
   "source": [
    "size = 3000\n",
    "x = random.normal(key, (size, size), dtype=jnp.float32)\n",
    "%timeit jnp.dot(x, x.T).block_until_ready()  # runs on the GPU"
   ]
  },
  {
   "cell_type": "code",
   "execution_count": 5,
   "metadata": {},
   "outputs": [
    {
     "name": "stdout",
     "output_type": "stream",
     "text": [
      "1.13 ms ± 280 µs per loop (mean ± std. dev. of 7 runs, 1 loop each)\n"
     ]
    }
   ],
   "source": [
    "def selu(x, alpha=1.67, lmbda=1.05):\n",
    "  return lmbda * jnp.where(x > 0, x, alpha * jnp.exp(x) - alpha)\n",
    "\n",
    "x = random.normal(key, (1000000,))\n",
    "%timeit selu(x).block_until_ready()"
   ]
  },
  {
   "cell_type": "code",
   "execution_count": 6,
   "metadata": {},
   "outputs": [
    {
     "name": "stdout",
     "output_type": "stream",
     "text": [
      "211 µs ± 58.1 µs per loop (mean ± std. dev. of 7 runs, 10,000 loops each)\n"
     ]
    }
   ],
   "source": [
    "selu_jit = jit(selu)\n",
    "%timeit selu_jit(x).block_until_ready()"
   ]
  },
  {
   "cell_type": "code",
   "execution_count": 1,
   "metadata": {},
   "outputs": [
    {
     "data": {
      "text/plain": [
       "(array([ 72., 144.,  72., 144.,  72., 144.,  72., 144.,  72., 144.,  72.,\n",
       "        144.,  72., 144.,  72., 144.,  72., 144.,  72., 144.,  72., 144.,\n",
       "         72., 144.,  72., 144.,  72., 144.,  72., 144.,  72., 144.,  72.,\n",
       "        144.,  72., 144.,  72., 144.,  72., 144.,   0.,   0.,   1.,   0.,\n",
       "          0.,   0.,   0.,   0.,   0.,   0.,   0.,   0.,   0.,   0.,   0.,\n",
       "          0.,   0.,   0.,   0.,   0.,   0.,   0.,   1.,   0.,   0.,   0.,\n",
       "          0.,   0.,   0.,   0.,   0.,   0.,   0.]),\n",
       " {'Machine_0': {},\n",
       "  'Machine_1': {},\n",
       "  'Machine_2': {},\n",
       "  'Machine_3': {},\n",
       "  'Machine_4': {},\n",
       "  'Machine_5': {},\n",
       "  'Machine_6': {},\n",
       "  'Machine_7': {},\n",
       "  'Machine_8': {},\n",
       "  'Machine_9': {},\n",
       "  'Machine_10': {},\n",
       "  'Machine_11': {}})"
      ]
     },
     "execution_count": 1,
     "metadata": {},
     "output_type": "execute_result"
    }
   ],
   "source": [
    "from environment import Environment\n",
    "\n",
    "env = Environment.VehicleJobSchedulingEnvACE()\n",
    "env.reset()\n"
   ]
  },
  {
   "cell_type": "code",
   "execution_count": 2,
   "metadata": {},
   "outputs": [
    {
     "data": {
      "text/plain": [
       "OrderedDict([('avail_slot',\n",
       "              array([[ 192, 2048],\n",
       "                     [ 192, 2048],\n",
       "                     [ 192, 2048],\n",
       "                     [ 192, 2048],\n",
       "                     [ 192, 2048],\n",
       "                     [ 192, 2048],\n",
       "                     [ 192, 2048],\n",
       "                     [ 192, 2048],\n",
       "                     [ 192, 2048],\n",
       "                     [ 192, 2048],\n",
       "                     [ 192, 2048],\n",
       "                     [ 192, 2048],\n",
       "                     [ 192, 2048],\n",
       "                     [ 192, 2048],\n",
       "                     [ 192, 2048],\n",
       "                     [ 192, 2048],\n",
       "                     [ 192, 2048],\n",
       "                     [ 192, 2048],\n",
       "                     [ 192, 2048],\n",
       "                     [ 192, 2048]], dtype=int16)),\n",
       "             ('request_res_vec', array([0, 0])),\n",
       "             ('request_len', 0),\n",
       "             ('request_priority', 0)])"
      ]
     },
     "execution_count": 2,
     "metadata": {},
     "output_type": "execute_result"
    }
   ],
   "source": [
    "env.parameters.cluster.machines[1].observe()"
   ]
  },
  {
   "cell_type": "code",
   "execution_count": 1,
   "metadata": {},
   "outputs": [
    {
     "name": "stdout",
     "output_type": "stream",
     "text": [
      "Starting performance benchmark\n",
      "8430.592976980437 turns per second\n",
      "702.5494147483697 cycles per second\n",
      "Finished performance benchmark\n",
      "         4115172 function calls (3946068 primitive calls) in 5.002 seconds\n",
      "\n",
      "   Ordered by: standard name\n",
      "\n",
      "   ncalls  tottime  percall  cumtime  percall filename:lineno(function)\n",
      "    40337    0.039    0.000    0.396    0.000 <__array_function__ internals>:177(all)\n",
      "     8959    0.007    0.000    0.126    0.000 <__array_function__ internals>:177(argsort)\n",
      "       36    0.000    0.000    0.000    0.000 <__array_function__ internals>:177(atleast_1d)\n",
      "       36    0.000    0.000    0.001    0.000 <__array_function__ internals>:177(broadcast_arrays)\n",
      "    42276    0.037    0.000    0.200    0.000 <__array_function__ internals>:177(concatenate)\n",
      "      108    0.000    0.000    0.001    0.000 <__array_function__ internals>:177(copyto)\n",
      "    37130    0.026    0.000    0.154    0.000 <__array_function__ internals>:177(dot)\n",
      "     8959    0.007    0.000    0.064    0.000 <__array_function__ internals>:177(sort)\n",
      "        1    0.000    0.000    5.002    5.002 <string>:1(<module>)\n",
      "       36    0.000    0.000    0.002    0.000 <string>:5(_parse_args_rvs)\n",
      "     8959    0.035    0.000    0.228    0.000 AllocationMechanism.py:26(allocate)\n",
      "     8962    0.039    0.000    1.503    0.000 Auction.py:18(auction)\n",
      "     8962    0.027    0.000    0.773    0.000 Auction.py:37(request_auction)\n",
      "        9    0.000    0.000    0.006    0.001 Environment.py:140(reset)\n",
      "      897    0.000    0.000    0.000    0.000 Environment.py:162(stop_condition_time_step)\n",
      "       12    0.000    0.000    0.000    0.000 Environment.py:356(action_space)\n",
      "        9    0.000    0.000    0.014    0.002 Environment.py:367(reset)\n",
      "        9    0.000    0.000    0.000    0.000 Environment.py:370(<listcomp>)\n",
      "        9    0.000    0.000    0.000    0.000 Environment.py:373(<dictcomp>)\n",
      "        9    0.000    0.000    0.000    0.000 Environment.py:374(<dictcomp>)\n",
      "        9    0.000    0.000    0.000    0.000 Environment.py:375(<dictcomp>)\n",
      "        9    0.000    0.000    0.000    0.000 Environment.py:376(<dictcomp>)\n",
      "        9    0.000    0.000    0.000    0.000 Environment.py:377(<dictcomp>)\n",
      "        9    0.000    0.000    0.005    0.001 Environment.py:378(<dictcomp>)\n",
      "        9    0.000    0.000    0.000    0.000 Environment.py:384(<dictcomp>)\n",
      "        9    0.000    0.000    0.000    0.000 Environment.py:393(<listcomp>)\n",
      "        9    0.000    0.000    0.000    0.000 Environment.py:394(<dictcomp>)\n",
      "    42156    0.013    0.000    0.013    0.000 Environment.py:399(observe)\n",
      "     9869    0.005    0.000    0.518    0.000 Environment.py:432(get_job_next_step)\n",
      "     9869    0.020    0.000    0.070    0.000 Environment.py:439(_agent_selector)\n",
      "     8963    0.039    0.000    0.039    0.000 Environment.py:442(<listcomp>)\n",
      "     9860    0.015    0.000    1.518    0.000 Environment.py:449(auction)\n",
      "     9860    0.227    0.000    2.542    0.000 Environment.py:453(next_job)\n",
      "      897    0.027    0.000    0.405    0.000 Environment.py:471(<dictcomp>)\n",
      "      897    0.004    0.000    0.062    0.000 Environment.py:484(round_end)\n",
      "        8    0.000    0.000    0.000    0.000 Environment.py:492(<dictcomp>)\n",
      "        8    0.000    0.000    0.000    0.000 Environment.py:493(<dictcomp>)\n",
      "       20    0.000    0.000    0.000    0.000 Environment.py:498(action)\n",
      "    42156    0.168    0.000    4.373    0.000 Environment.py:509(step)\n",
      "    10738    0.019    0.000    0.136    0.000 Job.py:116(__init__)\n",
      "    10738    0.005    0.000    0.005    0.000 Job.py:148(generate_job)\n",
      "    10738    0.022    0.000    0.111    0.000 Job.py:152(calculate_budget)\n",
      "     7403    0.023    0.000    0.025    0.000 Job.py:172(start)\n",
      "     7403    0.002    0.000    0.002    0.000 Job.py:178(finish)\n",
      "        9    0.000    0.000    0.000    0.000 Job.py:272(reset)\n",
      "       36    0.024    0.001    0.415    0.012 Job.py:302(get_job_collections)\n",
      "        9    0.000    0.000    0.000    0.000 Job.py:327(__iter__)\n",
      "       36    0.000    0.000    0.415    0.012 Job.py:330(__next__)\n",
      "      108    0.000    0.000    0.000    0.000 Job.py:340(__init__)\n",
      "      108    0.000    0.000    0.000    0.000 Job.py:426(__init__)\n",
      "    10738    0.006    0.000    0.031    0.000 Job.py:53(priority_dist)\n",
      "    10738    0.044    0.000    0.217    0.000 Job.py:69(bi_model_dist)\n",
      "      108    0.005    0.000    0.006    0.000 Machine.py:110(reset)\n",
      "    26392    0.021    0.000    0.180    0.000 Machine.py:119(get_bid)\n",
      "    26392    0.044    0.000    0.159    0.000 Machine.py:125(drl_bid)\n",
      "    10764    0.001    0.000    0.001    0.000 Machine.py:134(clear_job)\n",
      "    42255    0.118    0.000    0.226    0.000 Machine.py:137(observe)\n",
      "    26392    0.008    0.000    0.008    0.000 Machine.py:183(request_auction)\n",
      "    31380    0.330    0.000    0.632    0.000 Machine.py:188(can_allocate)\n",
      "     8885    0.139    0.000    0.258    0.000 Machine.py:213(allocate_job)\n",
      "    10764    0.045    0.000    0.048    0.000 Machine.py:253(step)\n",
      "      897    0.001    0.000    0.052    0.000 Machine.py:479(step)\n",
      "      897    0.004    0.000    0.051    0.000 Machine.py:480(<listcomp>)\n",
      "      897    0.001    0.000    0.003    0.000 Machine.py:484(get_finish_job_total)\n",
      "      897    0.001    0.000    0.001    0.000 Machine.py:485(<listcomp>)\n",
      "      897    0.002    0.000    0.004    0.000 Machine.py:490(clear_job)\n",
      "        9    0.000    0.000    0.006    0.001 Machine.py:494(reset)\n",
      "    31380    0.006    0.000    0.006    0.000 Machine.py:499(get_machine)\n",
      "     8962    0.018    0.000    0.058    0.000 Machine.py:521(__init__)\n",
      "     8962    0.033    0.000    0.040    0.000 Machine.py:522(<listcomp>)\n",
      "     8962    0.020    0.000    0.203    0.000 Machine.py:527(get_bids)\n",
      "     8962    0.045    0.000    0.689    0.000 Machine.py:531(request_bids)\n",
      "        9    0.000    0.000    0.000    0.000 Machine.py:568(reset)\n",
      "       36    0.017    0.000    0.511    0.014 Machine.py:573(generate_restrict)\n",
      "        9    0.000    0.000    0.000    0.000 Machine.py:599(__iter__)\n",
      "       36    0.000    0.000    0.511    0.014 Machine.py:602(__next__)\n",
      "        9    0.000    0.000    0.000    0.000 Machine.py:607(__init__)\n",
      "        9    0.000    0.000    0.000    0.000 Machine.py:612(__iter__)\n",
      "      898    0.002    0.000    0.513    0.001 Machine.py:615(__next__)\n",
      "       36    0.000    0.000    0.000    0.000 _discrete_distns.py:853(_argcheck)\n",
      "       36    0.000    0.000    0.001    0.000 _discrete_distns.py:856(_rvs)\n",
      "       36    0.001    0.000    0.006    0.000 _distn_infrastructure.py:1015(rvs)\n",
      "       36    0.000    0.000    0.006    0.000 _distn_infrastructure.py:3313(rvs)\n",
      "       36    0.000    0.000    0.002    0.000 _distn_infrastructure.py:867(_argcheck_rvs)\n",
      "      108    0.000    0.000    0.000    0.000 _distn_infrastructure.py:881(squeeze_left)\n",
      "       36    0.000    0.000    0.000    0.000 _distn_infrastructure.py:897(<listcomp>)\n",
      "       36    0.000    0.000    0.000    0.000 _distn_infrastructure.py:926(<listcomp>)\n",
      "       72    0.000    0.000    0.000    0.000 _methods.py:60(_all)\n",
      "       42    0.000    0.000    0.000    0.000 _ufunc_config.py:131(geterr)\n",
      "       42    0.000    0.000    0.000    0.000 _ufunc_config.py:32(seterr)\n",
      "       21    0.000    0.000    0.000    0.000 _ufunc_config.py:429(__enter__)\n",
      "       21    0.000    0.000    0.000    0.000 _ufunc_config.py:434(__exit__)\n",
      "       48    0.000    0.000    0.000    0.000 abc.py:117(__instancecheck__)\n",
      "      8/2    0.000    0.000    0.000    0.000 abc.py:121(__subclasscheck__)\n",
      "     9869    0.006    0.000    0.012    0.000 agent_selector.py:12(__init__)\n",
      "     9869    0.006    0.000    0.006    0.000 agent_selector.py:15(reinit)\n",
      "    42165    0.035    0.000    0.042    0.000 agent_selector.py:24(next)\n",
      "    52932    0.015    0.000    0.015    0.000 agent_selector.py:29(is_last)\n",
      "    84510    0.010    0.000    0.010    0.000 box.py:141(is_np_flattenable)\n",
      "       21    0.000    0.000    0.000    0.000 contextlib.py:63(_recreate_cm)\n",
      "       21    0.000    0.000    0.002    0.000 contextlib.py:76(inner)\n",
      "    42255    0.050    0.000    0.209    0.000 dict.py:120(is_np_flattenable)\n",
      "   211275    0.085    0.000    0.103    0.000 dict.py:123(<genexpr>)\n",
      "       12    0.000    0.000    0.000    0.000 discrete.py:20(__init__)\n",
      "    84510    0.008    0.000    0.008    0.000 discrete.py:42(is_np_flattenable)\n",
      "    42156    0.065    0.000    0.315    0.000 discrete.py:47(sample)\n",
      "     3513    0.002    0.000    0.002    0.000 env.py:135(num_agents)\n",
      "    42156    0.053    0.000    0.053    0.000 env.py:158(_clear_rewards)\n",
      "    10776    0.034    0.000    0.036    0.000 env.py:163(_accumulate_rewards)\n",
      "     3513    0.003    0.000    0.004    0.000 env.py:171(agent_iter)\n",
      "    42156    0.041    0.000    0.055    0.000 env.py:178(last)\n",
      "     3513    0.001    0.000    0.001    0.000 env.py:256(__init__)\n",
      "     3513    0.002    0.000    0.003    0.000 env.py:260(__iter__)\n",
      "     3513    0.001    0.000    0.001    0.000 env.py:265(__init__)\n",
      "    45669    0.028    0.000    0.028    0.000 env.py:269(__next__)\n",
      "     8959    0.002    0.000    0.002    0.000 fromnumeric.py:1008(_argsort_dispatcher)\n",
      "     8959    0.010    0.000    0.111    0.000 fromnumeric.py:1012(argsort)\n",
      "    40337    0.009    0.000    0.009    0.000 fromnumeric.py:2399(_all_dispatcher)\n",
      "    40337    0.053    0.000    0.309    0.000 fromnumeric.py:2404(all)\n",
      "     8959    0.033    0.000    0.079    0.000 fromnumeric.py:38(_wrapit)\n",
      "     8959    0.019    0.000    0.100    0.000 fromnumeric.py:51(_wrapfunc)\n",
      "    40337    0.076    0.000    0.256    0.000 fromnumeric.py:69(_wrapreduction)\n",
      "    40337    0.020    0.000    0.020    0.000 fromnumeric.py:70(<dictcomp>)\n",
      "     8959    0.002    0.000    0.002    0.000 fromnumeric.py:848(_sort_dispatcher)\n",
      "     8959    0.014    0.000    0.049    0.000 fromnumeric.py:852(sort)\n",
      "   211275    0.118    0.000    0.214    0.000 functools.py:817(dispatch)\n",
      "211275/42255    0.166    0.000    1.411    0.000 functools.py:883(wrapper)\n",
      "        2    0.000    0.000    0.000    0.000 iostream.py:203(schedule)\n",
      "        8    0.000    0.000    0.000    0.000 iostream.py:444(_is_master_process)\n",
      "        8    0.000    0.000    0.000    0.000 iostream.py:465(_schedule_flush)\n",
      "        8    0.000    0.000    0.000    0.000 iostream.py:535(write)\n",
      "        2    0.000    0.000    0.000    0.000 iostream.py:90(_event_pipe)\n",
      "      108    0.000    0.000    0.000    0.000 multiarray.py:1071(copyto)\n",
      "    42276    0.008    0.000    0.008    0.000 multiarray.py:148(concatenate)\n",
      "    37130    0.005    0.000    0.005    0.000 multiarray.py:736(dot)\n",
      "      108    0.000    0.000    0.001    0.000 numeric.py:149(ones)\n",
      "       36    0.000    0.000    0.000    0.000 numeric.py:1859(isscalar)\n",
      "        1    0.170    0.170    5.002    5.002 performance_benchmark.py:7(performance_benchmark)\n",
      "       21    0.000    0.000    0.000    0.000 random.py:791(getrandbits)\n",
      "       12    0.000    0.000    0.001    0.000 seeding.py:9(np_random)\n",
      "       36    0.000    0.000    0.000    0.000 shape_base.py:19(_atleast_1d_dispatcher)\n",
      "       36    0.000    0.000    0.000    0.000 shape_base.py:23(atleast_1d)\n",
      "        2    0.000    0.000    0.000    0.000 socket.py:613(send)\n",
      "       12    0.000    0.000    0.001    0.000 space.py:103(seed)\n",
      "       12    0.000    0.000    0.000    0.000 space.py:50(__init__)\n",
      "    42156    0.010    0.000    0.011    0.000 space.py:72(np_random)\n",
      "       36    0.001    0.000    0.001    0.000 stride_tricks.py:415(_broadcast_shape)\n",
      "       36    0.000    0.000    0.000    0.000 stride_tricks.py:475(_broadcast_arrays_dispatcher)\n",
      "       36    0.000    0.000    0.001    0.000 stride_tricks.py:479(broadcast_arrays)\n",
      "       36    0.000    0.000    0.000    0.000 stride_tricks.py:537(<listcomp>)\n",
      "      144    0.000    0.000    0.000    0.000 stride_tricks.py:541(<genexpr>)\n",
      "        2    0.000    0.000    0.000    0.000 threading.py:1066(_wait_for_tstate_lock)\n",
      "        2    0.000    0.000    0.000    0.000 threading.py:1133(is_alive)\n",
      "        2    0.000    0.000    0.000    0.000 threading.py:536(is_set)\n",
      "    84510    0.068    0.000    0.248    0.000 utils.py:138(_flatten_box_multibinary)\n",
      "    84510    0.069    0.000    0.169    0.000 utils.py:144(_flatten_discrete)\n",
      "    42255    0.107    0.000    1.297    0.000 utils.py:170(_flatten_dict)\n",
      "    42255    0.092    0.000    0.775    0.000 utils.py:173(<listcomp>)\n",
      "   211275    0.073    0.000    0.073    0.000 weakref.py:415(__getitem__)\n",
      "        3    0.000    0.000    0.000    0.000 weakref.py:428(__setitem__)\n",
      "       48    0.000    0.000    0.000    0.000 {built-in method _abc._abc_instancecheck}\n",
      "      8/2    0.000    0.000    0.000    0.000 {built-in method _abc._abc_subclasscheck}\n",
      "   211275    0.023    0.000    0.023    0.000 {built-in method _abc.get_cache_token}\n",
      "   126631    0.064    0.000    0.167    0.000 {built-in method builtins.all}\n",
      "        1    0.000    0.000    5.002    5.002 {built-in method builtins.exec}\n",
      "    17990    0.005    0.000    0.005    0.000 {built-in method builtins.getattr}\n",
      "    42296    0.012    0.000    0.012    0.000 {built-in method builtins.isinstance}\n",
      "       18    0.000    0.000    0.000    0.000 {built-in method builtins.iter}\n",
      "    64622    0.012    0.000    0.012    0.000 {built-in method builtins.len}\n",
      "    10738    0.008    0.000    0.008    0.000 {built-in method builtins.max}\n",
      "9932/9860    0.005    0.000    0.523    0.000 {built-in method builtins.next}\n",
      "        4    0.000    0.000    0.000    0.000 {built-in method builtins.print}\n",
      "      897    0.001    0.000    0.001    0.000 {built-in method builtins.sum}\n",
      "       21    0.000    0.000    0.000    0.000 {built-in method from_bytes}\n",
      "    10738    0.009    0.000    0.009    0.000 {built-in method numpy.arange}\n",
      "    84618    0.108    0.000    0.108    0.000 {built-in method numpy.array}\n",
      "     8995    0.009    0.000    0.009    0.000 {built-in method numpy.asanyarray}\n",
      "    93469    0.077    0.000    0.077    0.000 {built-in method numpy.asarray}\n",
      "   137841    0.329    0.000    0.800    0.000 {built-in method numpy.core._multiarray_umath.implement_array_function}\n",
      "      108    0.000    0.000    0.000    0.000 {built-in method numpy.empty}\n",
      "       84    0.000    0.000    0.000    0.000 {built-in method numpy.geterrobj}\n",
      "       42    0.000    0.000    0.000    0.000 {built-in method numpy.seterrobj}\n",
      "    95248    0.107    0.000    0.107    0.000 {built-in method numpy.zeros}\n",
      "        8    0.000    0.000    0.000    0.000 {built-in method posix.getpid}\n",
      "       21    0.000    0.000    0.000    0.000 {built-in method posix.urandom}\n",
      "     3515    0.001    0.000    0.001    0.000 {built-in method time.time}\n",
      "       21    0.001    0.000    0.001    0.000 {function SeedSequence.generate_state at 0x7f3f600ce310}\n",
      "        8    0.000    0.000    0.000    0.000 {method '__exit__' of '_thread.RLock' objects}\n",
      "        2    0.000    0.000    0.000    0.000 {method 'acquire' of '_thread.lock' objects}\n",
      "       72    0.000    0.000    0.001    0.000 {method 'all' of 'numpy.generic' objects}\n",
      "        2    0.000    0.000    0.000    0.000 {method 'append' of 'collections.deque' objects}\n",
      "    79024    0.011    0.000    0.011    0.000 {method 'append' of 'list' objects}\n",
      "     8959    0.029    0.000    0.029    0.000 {method 'argsort' of 'numpy.ndarray' objects}\n",
      "       36    0.000    0.000    0.000    0.000 {method 'astype' of 'numpy.ndarray' objects}\n",
      "     8959    0.013    0.000    0.013    0.000 {method 'copy' of 'numpy.ndarray' objects}\n",
      "        1    0.000    0.000    0.000    0.000 {method 'disable' of '_lsprof.Profiler' objects}\n",
      "    84510    0.117    0.000    0.117    0.000 {method 'flatten' of 'numpy.ndarray' objects}\n",
      "       36    0.000    0.000    0.000    0.000 {method 'get' of 'dict' objects}\n",
      "    42156    0.240    0.000    0.240    0.000 {method 'integers' of 'numpy.random._generator.Generator' objects}\n",
      "    42255    0.006    0.000    0.006    0.000 {method 'items' of 'collections.OrderedDict' objects}\n",
      "    51113    0.009    0.000    0.009    0.000 {method 'items' of 'dict' objects}\n",
      "        9    0.000    0.000    0.000    0.000 {method 'keys' of 'dict' objects}\n",
      "    10738    0.042    0.000    0.042    0.000 {method 'normal' of 'numpy.random.mtrand.RandomState' objects}\n",
      "       36    0.001    0.000    0.001    0.000 {method 'poisson' of 'numpy.random.mtrand.RandomState' objects}\n",
      "       72    0.000    0.000    0.000    0.000 {method 'pop' of 'dict' objects}\n",
      "    10738    0.047    0.000    0.047    0.000 {method 'rand' of 'numpy.random.mtrand.RandomState' objects}\n",
      "    75166    0.198    0.000    0.198    0.000 {method 'randint' of 'numpy.random.mtrand.RandomState' objects}\n",
      "    40337    0.154    0.000    0.154    0.000 {method 'reduce' of 'numpy.ufunc' objects}\n",
      "     6983    0.002    0.000    0.002    0.000 {method 'remove' of 'list' objects}\n",
      "       36    0.000    0.000    0.000    0.000 {method 'reshape' of 'numpy.ndarray' objects}\n",
      "        9    0.001    0.000    0.002    0.000 {method 'seed' of 'numpy.random.mtrand.RandomState' objects}\n",
      "    10738    0.017    0.000    0.017    0.000 {method 'shuffle' of 'numpy.random.mtrand.RandomState' objects}\n",
      "     8959    0.013    0.000    0.013    0.000 {method 'sort' of 'numpy.ndarray' objects}\n",
      "    42255    0.007    0.000    0.007    0.000 {method 'values' of 'collections.OrderedDict' objects}\n",
      "    84304    0.010    0.000    0.010    0.000 {method 'values' of 'dict' objects}\n",
      "        8    0.000    0.000    0.000    0.000 {method 'write' of '_io.StringIO' objects}\n",
      "\n",
      "\n"
     ]
    }
   ],
   "source": [
    "import cProfile\n",
    "from pettingzoo.test import performance_benchmark\n",
    "from environment import Environment\n",
    "env = Environment.VehicleJobSchedulingEnvACE()\n",
    "cProfile.run(\"performance_benchmark(env)\")\n"
   ]
  },
  {
   "cell_type": "code",
   "execution_count": 6,
   "metadata": {},
   "outputs": [
    {
     "name": "stdout",
     "output_type": "stream",
     "text": [
      "Starting performance benchmark\n",
      "8109.137924775118 turns per second\n",
      "675.7614937312599 cycles per second\n",
      "Finished performance benchmark\n",
      "         3962297 function calls (3799639 primitive calls) in 5.004 seconds\n",
      "\n",
      "   Ordered by: standard name\n",
      "\n",
      "   ncalls  tottime  percall  cumtime  percall filename:lineno(function)\n",
      "    38819    0.039    0.000    0.388    0.000 <__array_function__ internals>:177(all)\n",
      "     8617    0.007    0.000    0.123    0.000 <__array_function__ internals>:177(argsort)\n",
      "       35    0.000    0.000    0.000    0.000 <__array_function__ internals>:177(atleast_1d)\n",
      "       35    0.000    0.000    0.002    0.000 <__array_function__ internals>:177(broadcast_arrays)\n",
      "    40668    0.039    0.000    0.204    0.000 <__array_function__ internals>:177(concatenate)\n",
      "      108    0.000    0.000    0.001    0.000 <__array_function__ internals>:177(copyto)\n",
      "    35862    0.026    0.000    0.152    0.000 <__array_function__ internals>:177(dot)\n",
      "     8617    0.007    0.000    0.063    0.000 <__array_function__ internals>:177(sort)\n",
      "        1    0.000    0.000    5.004    5.004 <string>:1(<module>)\n",
      "       35    0.000    0.000    0.003    0.000 <string>:5(_parse_args_rvs)\n",
      "     8617    0.034    0.000    0.222    0.000 AllocationMechanism.py:26(allocate)\n",
      "     8623    0.042    0.000    1.471    0.000 Auction.py:18(auction)\n",
      "     8623    0.024    0.000    0.757    0.000 Auction.py:37(request_auction)\n",
      "        9    0.000    0.000    0.007    0.001 Environment.py:140(reset)\n",
      "      861    0.001    0.000    0.001    0.000 Environment.py:162(stop_condition_time_step)\n",
      "       12    0.000    0.000    0.000    0.000 Environment.py:356(action_space)\n",
      "        9    0.000    0.000    0.017    0.002 Environment.py:367(reset)\n",
      "        9    0.000    0.000    0.000    0.000 Environment.py:370(<listcomp>)\n",
      "        9    0.000    0.000    0.000    0.000 Environment.py:373(<dictcomp>)\n",
      "        9    0.000    0.000    0.000    0.000 Environment.py:374(<dictcomp>)\n",
      "        9    0.000    0.000    0.000    0.000 Environment.py:375(<dictcomp>)\n",
      "        9    0.000    0.000    0.000    0.000 Environment.py:376(<dictcomp>)\n",
      "        9    0.000    0.000    0.000    0.000 Environment.py:377(<dictcomp>)\n",
      "        9    0.000    0.000    0.006    0.001 Environment.py:378(<dictcomp>)\n",
      "        9    0.000    0.000    0.000    0.000 Environment.py:384(<dictcomp>)\n",
      "        9    0.000    0.000    0.000    0.000 Environment.py:393(<listcomp>)\n",
      "        9    0.000    0.000    0.000    0.000 Environment.py:394(<dictcomp>)\n",
      "    40548    0.013    0.000    0.013    0.000 Environment.py:399(observe)\n",
      "     9494    0.005    0.000    0.562    0.000 Environment.py:432(get_job_next_step)\n",
      "     9494    0.019    0.000    0.068    0.000 Environment.py:439(_agent_selector)\n",
      "     8624    0.037    0.000    0.037    0.000 Environment.py:442(<listcomp>)\n",
      "     9485    0.016    0.000    1.486    0.000 Environment.py:449(auction)\n",
      "     9485    0.223    0.000    2.588    0.000 Environment.py:453(next_job)\n",
      "      861    0.026    0.000    0.404    0.000 Environment.py:471(<dictcomp>)\n",
      "      861    0.004    0.000    0.066    0.000 Environment.py:484(round_end)\n",
      "        8    0.000    0.000    0.000    0.000 Environment.py:492(<dictcomp>)\n",
      "        8    0.000    0.000    0.000    0.000 Environment.py:493(<dictcomp>)\n",
      "       20    0.000    0.000    0.000    0.000 Environment.py:498(action)\n",
      "    40548    0.165    0.000    4.383    0.000 Environment.py:509(step)\n",
      "    10477    0.020    0.000    0.194    0.000 Job.py:116(__init__)\n",
      "    10477    0.005    0.000    0.005    0.000 Job.py:148(generate_job)\n",
      "    10477    0.023    0.000    0.169    0.000 Job.py:152(calculate_budget)\n",
      "     7203    0.023    0.000    0.025    0.000 Job.py:172(start)\n",
      "     7203    0.002    0.000    0.002    0.000 Job.py:178(finish)\n",
      "        9    0.000    0.000    0.000    0.000 Job.py:272(reset)\n",
      "       35    0.025    0.001    0.452    0.013 Job.py:302(get_job_collections)\n",
      "        9    0.000    0.000    0.000    0.000 Job.py:327(__iter__)\n",
      "       35    0.000    0.000    0.452    0.013 Job.py:330(__next__)\n",
      "      108    0.000    0.000    0.000    0.000 Job.py:340(__init__)\n",
      "      108    0.000    0.000    0.000    0.000 Job.py:426(__init__)\n",
      "    10477    0.006    0.000    0.032    0.000 Job.py:53(priority_dist)\n",
      "    10477    0.048    0.000    0.193    0.000 Job.py:69(bi_model_dist)\n",
      "      108    0.006    0.000    0.007    0.000 Machine.py:110(reset)\n",
      "    25385    0.022    0.000    0.174    0.000 Machine.py:119(get_bid)\n",
      "    25385    0.043    0.000    0.153    0.000 Machine.py:125(drl_bid)\n",
      "    10332    0.001    0.000    0.001    0.000 Machine.py:134(clear_job)\n",
      "    40647    0.123    0.000    0.237    0.000 Machine.py:137(observe)\n",
      "    25385    0.008    0.000    0.008    0.000 Machine.py:183(request_auction)\n",
      "    30204    0.325    0.000    0.622    0.000 Machine.py:188(can_allocate)\n",
      "     8545    0.136    0.000    0.252    0.000 Machine.py:213(allocate_job)\n",
      "    10332    0.047    0.000    0.050    0.000 Machine.py:253(step)\n",
      "      861    0.001    0.000    0.055    0.000 Machine.py:479(step)\n",
      "      861    0.004    0.000    0.054    0.000 Machine.py:480(<listcomp>)\n",
      "      861    0.001    0.000    0.003    0.000 Machine.py:484(get_finish_job_total)\n",
      "      861    0.001    0.000    0.001    0.000 Machine.py:485(<listcomp>)\n",
      "      861    0.002    0.000    0.004    0.000 Machine.py:490(clear_job)\n",
      "        9    0.000    0.000    0.007    0.001 Machine.py:494(reset)\n",
      "    30204    0.006    0.000    0.006    0.000 Machine.py:499(get_machine)\n",
      "     8623    0.015    0.000    0.054    0.000 Machine.py:521(__init__)\n",
      "     8623    0.033    0.000    0.039    0.000 Machine.py:522(<listcomp>)\n",
      "     8623    0.019    0.000    0.196    0.000 Machine.py:527(get_bids)\n",
      "     8623    0.043    0.000    0.678    0.000 Machine.py:531(request_bids)\n",
      "        9    0.000    0.000    0.000    0.000 Machine.py:568(reset)\n",
      "       35    0.017    0.000    0.555    0.016 Machine.py:573(generate_restrict)\n",
      "        9    0.000    0.000    0.000    0.000 Machine.py:599(__iter__)\n",
      "       35    0.000    0.000    0.555    0.016 Machine.py:602(__next__)\n",
      "        9    0.000    0.000    0.000    0.000 Machine.py:607(__init__)\n",
      "        9    0.000    0.000    0.000    0.000 Machine.py:612(__iter__)\n",
      "      862    0.002    0.000    0.557    0.001 Machine.py:615(__next__)\n",
      "       35    0.000    0.000    0.000    0.000 _discrete_distns.py:853(_argcheck)\n",
      "       35    0.000    0.000    0.001    0.000 _discrete_distns.py:856(_rvs)\n",
      "       35    0.001    0.000    0.006    0.000 _distn_infrastructure.py:1015(rvs)\n",
      "       35    0.000    0.000    0.006    0.000 _distn_infrastructure.py:3313(rvs)\n",
      "       35    0.001    0.000    0.003    0.000 _distn_infrastructure.py:867(_argcheck_rvs)\n",
      "      105    0.000    0.000    0.000    0.000 _distn_infrastructure.py:881(squeeze_left)\n",
      "       35    0.000    0.000    0.000    0.000 _distn_infrastructure.py:897(<listcomp>)\n",
      "       35    0.000    0.000    0.000    0.000 _distn_infrastructure.py:926(<listcomp>)\n",
      "       70    0.000    0.000    0.000    0.000 _methods.py:60(_all)\n",
      "       42    0.000    0.000    0.000    0.000 _ufunc_config.py:131(geterr)\n",
      "       42    0.000    0.000    0.000    0.000 _ufunc_config.py:32(seterr)\n",
      "       21    0.000    0.000    0.000    0.000 _ufunc_config.py:429(__enter__)\n",
      "       21    0.000    0.000    0.000    0.000 _ufunc_config.py:434(__exit__)\n",
      "       47    0.000    0.000    0.000    0.000 abc.py:117(__instancecheck__)\n",
      "     9494    0.007    0.000    0.013    0.000 agent_selector.py:12(__init__)\n",
      "     9494    0.006    0.000    0.006    0.000 agent_selector.py:15(reinit)\n",
      "    40557    0.034    0.000    0.041    0.000 agent_selector.py:24(next)\n",
      "    50892    0.017    0.000    0.017    0.000 agent_selector.py:29(is_last)\n",
      "    81294    0.010    0.000    0.010    0.000 box.py:141(is_np_flattenable)\n",
      "       21    0.000    0.000    0.000    0.000 contextlib.py:63(_recreate_cm)\n",
      "       21    0.000    0.000    0.002    0.000 contextlib.py:76(inner)\n",
      "    40647    0.049    0.000    0.200    0.000 dict.py:120(is_np_flattenable)\n",
      "   203235    0.082    0.000    0.100    0.000 dict.py:123(<genexpr>)\n",
      "       12    0.000    0.000    0.000    0.000 discrete.py:20(__init__)\n",
      "    81294    0.008    0.000    0.008    0.000 discrete.py:42(is_np_flattenable)\n",
      "    40548    0.065    0.000    0.304    0.000 discrete.py:47(sample)\n",
      "     3379    0.001    0.000    0.002    0.000 env.py:135(num_agents)\n",
      "    40548    0.053    0.000    0.053    0.000 env.py:158(_clear_rewards)\n",
      "    10344    0.032    0.000    0.033    0.000 env.py:163(_accumulate_rewards)\n",
      "     3379    0.003    0.000    0.004    0.000 env.py:171(agent_iter)\n",
      "    40548    0.040    0.000    0.054    0.000 env.py:178(last)\n",
      "     3379    0.001    0.000    0.001    0.000 env.py:256(__init__)\n",
      "     3379    0.002    0.000    0.003    0.000 env.py:260(__iter__)\n",
      "     3379    0.001    0.000    0.001    0.000 env.py:265(__init__)\n",
      "    43927    0.027    0.000    0.027    0.000 env.py:269(__next__)\n",
      "     8617    0.002    0.000    0.002    0.000 fromnumeric.py:1008(_argsort_dispatcher)\n",
      "     8617    0.011    0.000    0.108    0.000 fromnumeric.py:1012(argsort)\n",
      "    38819    0.008    0.000    0.008    0.000 fromnumeric.py:2399(_all_dispatcher)\n",
      "    38819    0.050    0.000    0.302    0.000 fromnumeric.py:2404(all)\n",
      "     8617    0.031    0.000    0.076    0.000 fromnumeric.py:38(_wrapit)\n",
      "     8617    0.019    0.000    0.097    0.000 fromnumeric.py:51(_wrapfunc)\n",
      "    38819    0.074    0.000    0.252    0.000 fromnumeric.py:69(_wrapreduction)\n",
      "    38819    0.020    0.000    0.020    0.000 fromnumeric.py:70(<dictcomp>)\n",
      "     8617    0.002    0.000    0.002    0.000 fromnumeric.py:848(_sort_dispatcher)\n",
      "     8617    0.014    0.000    0.048    0.000 fromnumeric.py:852(sort)\n",
      "   203235    0.118    0.000    0.212    0.000 functools.py:817(dispatch)\n",
      "203235/40647    0.163    0.000    1.406    0.000 functools.py:883(wrapper)\n",
      "        2    0.000    0.000    0.000    0.000 iostream.py:203(schedule)\n",
      "        8    0.000    0.000    0.000    0.000 iostream.py:444(_is_master_process)\n",
      "        8    0.000    0.000    0.000    0.000 iostream.py:465(_schedule_flush)\n",
      "        8    0.000    0.000    0.000    0.000 iostream.py:535(write)\n",
      "        2    0.000    0.000    0.000    0.000 iostream.py:90(_event_pipe)\n",
      "      108    0.000    0.000    0.000    0.000 multiarray.py:1071(copyto)\n",
      "    40668    0.008    0.000    0.008    0.000 multiarray.py:148(concatenate)\n",
      "    35862    0.005    0.000    0.005    0.000 multiarray.py:736(dot)\n",
      "      108    0.000    0.000    0.001    0.000 numeric.py:149(ones)\n",
      "       35    0.000    0.000    0.000    0.000 numeric.py:1859(isscalar)\n",
      "        1    0.174    0.174    5.004    5.004 performance_benchmark.py:7(performance_benchmark)\n",
      "       21    0.000    0.000    0.000    0.000 random.py:791(getrandbits)\n",
      "       12    0.000    0.000    0.001    0.000 seeding.py:9(np_random)\n",
      "       35    0.000    0.000    0.000    0.000 shape_base.py:19(_atleast_1d_dispatcher)\n",
      "       35    0.000    0.000    0.000    0.000 shape_base.py:23(atleast_1d)\n",
      "        2    0.000    0.000    0.000    0.000 socket.py:613(send)\n",
      "       12    0.000    0.000    0.001    0.000 space.py:103(seed)\n",
      "       12    0.000    0.000    0.000    0.000 space.py:50(__init__)\n",
      "    40548    0.010    0.000    0.012    0.000 space.py:72(np_random)\n",
      "       35    0.001    0.000    0.001    0.000 stride_tricks.py:415(_broadcast_shape)\n",
      "       35    0.000    0.000    0.000    0.000 stride_tricks.py:475(_broadcast_arrays_dispatcher)\n",
      "       35    0.000    0.000    0.002    0.000 stride_tricks.py:479(broadcast_arrays)\n",
      "       35    0.000    0.000    0.000    0.000 stride_tricks.py:537(<listcomp>)\n",
      "      140    0.000    0.000    0.000    0.000 stride_tricks.py:541(<genexpr>)\n",
      "        2    0.000    0.000    0.000    0.000 threading.py:1066(_wait_for_tstate_lock)\n",
      "        2    0.000    0.000    0.000    0.000 threading.py:1133(is_alive)\n",
      "        2    0.000    0.000    0.000    0.000 threading.py:536(is_set)\n",
      "    81294    0.066    0.000    0.246    0.000 utils.py:138(_flatten_box_multibinary)\n",
      "    81294    0.078    0.000    0.177    0.000 utils.py:144(_flatten_discrete)\n",
      "    40647    0.109    0.000    1.292    0.000 utils.py:170(_flatten_dict)\n",
      "    40647    0.091    0.000    0.773    0.000 utils.py:173(<listcomp>)\n",
      "   203235    0.070    0.000    0.070    0.000 weakref.py:415(__getitem__)\n",
      "       47    0.000    0.000    0.000    0.000 {built-in method _abc._abc_instancecheck}\n",
      "   203235    0.023    0.000    0.023    0.000 {built-in method _abc.get_cache_token}\n",
      "   121805    0.059    0.000    0.159    0.000 {built-in method builtins.all}\n",
      "        1    0.000    0.000    5.004    5.004 {built-in method builtins.exec}\n",
      "    17304    0.005    0.000    0.005    0.000 {built-in method builtins.getattr}\n",
      "    40685    0.011    0.000    0.011    0.000 {built-in method builtins.isinstance}\n",
      "       18    0.000    0.000    0.000    0.000 {built-in method builtins.iter}\n",
      "    62160    0.011    0.000    0.011    0.000 {built-in method builtins.len}\n",
      "    10477    0.007    0.000    0.007    0.000 {built-in method builtins.max}\n",
      "9555/9485    0.005    0.000    0.567    0.000 {built-in method builtins.next}\n",
      "        4    0.000    0.000    0.000    0.000 {built-in method builtins.print}\n",
      "      861    0.001    0.000    0.001    0.000 {built-in method builtins.sum}\n",
      "       21    0.000    0.000    0.000    0.000 {built-in method from_bytes}\n",
      "    10477    0.010    0.000    0.010    0.000 {built-in method numpy.arange}\n",
      "    81399    0.114    0.000    0.114    0.000 {built-in method numpy.array}\n",
      "     8652    0.009    0.000    0.009    0.000 {built-in method numpy.asanyarray}\n",
      "    89911    0.081    0.000    0.081    0.000 {built-in method numpy.asarray}\n",
      "   132761    0.330    0.000    0.789    0.000 {built-in method numpy.core._multiarray_umath.implement_array_function}\n",
      "      108    0.000    0.000    0.000    0.000 {built-in method numpy.empty}\n",
      "       84    0.000    0.000    0.000    0.000 {built-in method numpy.geterrobj}\n",
      "       42    0.000    0.000    0.000    0.000 {built-in method numpy.seterrobj}\n",
      "    91771    0.107    0.000    0.107    0.000 {built-in method numpy.zeros}\n",
      "        8    0.000    0.000    0.000    0.000 {built-in method posix.getpid}\n",
      "       21    0.000    0.000    0.000    0.000 {built-in method posix.urandom}\n",
      "     3381    0.001    0.000    0.001    0.000 {built-in method time.time}\n",
      "       21    0.001    0.000    0.001    0.000 {function SeedSequence.generate_state at 0x7fa6c278aca0}\n",
      "        8    0.000    0.000    0.000    0.000 {method '__exit__' of '_thread.RLock' objects}\n",
      "        2    0.000    0.000    0.000    0.000 {method 'acquire' of '_thread.lock' objects}\n",
      "       70    0.000    0.000    0.001    0.000 {method 'all' of 'numpy.generic' objects}\n",
      "        2    0.000    0.000    0.000    0.000 {method 'append' of 'collections.deque' objects}\n",
      "    76351    0.011    0.000    0.011    0.000 {method 'append' of 'list' objects}\n",
      "     8617    0.029    0.000    0.029    0.000 {method 'argsort' of 'numpy.ndarray' objects}\n",
      "       35    0.000    0.000    0.000    0.000 {method 'astype' of 'numpy.ndarray' objects}\n",
      "     8617    0.013    0.000    0.013    0.000 {method 'copy' of 'numpy.ndarray' objects}\n",
      "        1    0.000    0.000    0.000    0.000 {method 'disable' of '_lsprof.Profiler' objects}\n",
      "    81294    0.113    0.000    0.113    0.000 {method 'flatten' of 'numpy.ndarray' objects}\n",
      "       35    0.000    0.000    0.000    0.000 {method 'get' of 'dict' objects}\n",
      "    40548    0.228    0.000    0.228    0.000 {method 'integers' of 'numpy.random._generator.Generator' objects}\n",
      "    40647    0.006    0.000    0.006    0.000 {method 'items' of 'collections.OrderedDict' objects}\n",
      "    49163    0.009    0.000    0.009    0.000 {method 'items' of 'dict' objects}\n",
      "        9    0.000    0.000    0.000    0.000 {method 'keys' of 'dict' objects}\n",
      "    10477    0.095    0.000    0.095    0.000 {method 'normal' of 'numpy.random.mtrand.RandomState' objects}\n",
      "       35    0.001    0.000    0.001    0.000 {method 'poisson' of 'numpy.random.mtrand.RandomState' objects}\n",
      "       70    0.000    0.000    0.000    0.000 {method 'pop' of 'dict' objects}\n",
      "    10477    0.009    0.000    0.009    0.000 {method 'rand' of 'numpy.random.mtrand.RandomState' objects}\n",
      "    73339    0.209    0.000    0.209    0.000 {method 'randint' of 'numpy.random.mtrand.RandomState' objects}\n",
      "    38819    0.150    0.000    0.150    0.000 {method 'reduce' of 'numpy.ufunc' objects}\n",
      "     6816    0.002    0.000    0.002    0.000 {method 'remove' of 'list' objects}\n",
      "       35    0.000    0.000    0.000    0.000 {method 'reshape' of 'numpy.ndarray' objects}\n",
      "        9    0.001    0.000    0.002    0.000 {method 'seed' of 'numpy.random.mtrand.RandomState' objects}\n",
      "    10477    0.020    0.000    0.020    0.000 {method 'shuffle' of 'numpy.random.mtrand.RandomState' objects}\n",
      "     8617    0.013    0.000    0.013    0.000 {method 'sort' of 'numpy.ndarray' objects}\n",
      "    40647    0.006    0.000    0.006    0.000 {method 'values' of 'collections.OrderedDict' objects}\n",
      "    81088    0.010    0.000    0.010    0.000 {method 'values' of 'dict' objects}\n",
      "        8    0.000    0.000    0.000    0.000 {method 'write' of '_io.StringIO' objects}\n",
      "\n",
      "\n"
     ]
    }
   ],
   "source": [
    "import cProfile\n",
    "from pettingzoo.test import performance_benchmark\n",
    "from environment import Environment\n",
    "env = Environment.VehicleJobSchedulingEnvACE()\n",
    "cProfile.run(\"performance_benchmark(env)\")"
   ]
  },
  {
   "cell_type": "code",
   "execution_count": null,
   "metadata": {},
   "outputs": [],
   "source": [
    "# 调试Allocation Mechanism"
   ]
  }
 ],
 "metadata": {
  "kernelspec": {
   "display_name": "man",
   "language": "python",
   "name": "python3"
  },
  "language_info": {
   "codemirror_mode": {
    "name": "ipython",
    "version": 3
   },
   "file_extension": ".py",
   "mimetype": "text/x-python",
   "name": "python",
   "nbconvert_exporter": "python",
   "pygments_lexer": "ipython3",
   "version": "3.9.13"
  },
  "orig_nbformat": 4,
  "vscode": {
   "interpreter": {
    "hash": "d652fbd7feb28eaf2ff622dc57929f599600a55ad62e1efe6c9f098053cf5e75"
   }
  }
 },
 "nbformat": 4,
 "nbformat_minor": 2
}
