{
 "cells": [
  {
   "cell_type": "code",
   "execution_count": 20,
   "metadata": {},
   "outputs": [
    {
     "data": {
      "application/vnd.jupyter.widget-view+json": {
       "model_id": "9952484e7cc5498697c99af8124a248c",
       "version_major": 2,
       "version_minor": 0
      },
      "text/plain": [
       "Output()"
      ]
     },
     "metadata": {},
     "output_type": "display_data"
    },
    {
     "data": {
      "text/html": [
       "<pre style=\"white-space:pre;overflow-x:auto;line-height:normal;font-family:Menlo,'DejaVu Sans Mono',consolas,'Courier New',monospace\"></pre>\n"
      ],
      "text/plain": []
     },
     "metadata": {},
     "output_type": "display_data"
    },
    {
     "ename": "KeyboardInterrupt",
     "evalue": "",
     "output_type": "error",
     "traceback": [
      "\u001b[0;31m---------------------------------------------------------------------------\u001b[0m",
      "\u001b[0;31mKeyboardInterrupt\u001b[0m                         Traceback (most recent call last)",
      "Cell \u001b[0;32mIn[20], line 25\u001b[0m\n\u001b[1;32m     23\u001b[0m \u001b[39mwith\u001b[39;00m Live(generate_table(), refresh_per_second\u001b[39m=\u001b[39m\u001b[39m4\u001b[39m) \u001b[39mas\u001b[39;00m live:\n\u001b[1;32m     24\u001b[0m     \u001b[39mfor\u001b[39;00m _ \u001b[39min\u001b[39;00m \u001b[39mrange\u001b[39m(\u001b[39m40\u001b[39m):\n\u001b[0;32m---> 25\u001b[0m         time\u001b[39m.\u001b[39;49msleep(\u001b[39m0.4\u001b[39;49m)\n\u001b[1;32m     26\u001b[0m         live\u001b[39m.\u001b[39mupdate(generate_table())\n",
      "\u001b[0;31mKeyboardInterrupt\u001b[0m: "
     ]
    }
   ],
   "source": [
    "import random\n",
    "import time\n",
    "\n",
    "from rich.live import Live\n",
    "from rich.table import Table\n",
    "\n",
    "\n",
    "def generate_table() -> Table:\n",
    "    \"\"\"Make a new table.\"\"\"\n",
    "    table = Table()\n",
    "    table.add_column(\"ID\")\n",
    "    table.add_column(\"Value\")\n",
    "    table.add_column(\"Status\")\n",
    "\n",
    "    for row in range(random.randint(2, 6)):\n",
    "        value = random.random() * 100\n",
    "        table.add_row(\n",
    "            f\"{row}\", f\"{value:3.2f}\", \"[red]ERROR\" if value < 50 else \"[green]SUCCESS\"\n",
    "        )\n",
    "    return table\n",
    "\n",
    "\n",
    "with Live(generate_table(), refresh_per_second=4) as live:\n",
    "    for _ in range(40):\n",
    "        time.sleep(0.4)\n",
    "        live.update(generate_table())"
   ]
  },
  {
   "cell_type": "code",
   "execution_count": 1,
   "metadata": {},
   "outputs": [
    {
     "data": {
      "text/html": [
       "<pre style=\"white-space:pre;overflow-x:auto;line-height:normal;font-family:Menlo,'DejaVu Sans Mono',consolas,'Courier New',monospace\">这里是Job的内容                       这里是Cluster的内容                                                          \n",
       "                                                                                                                   \n",
       "                                                                                                                   \n",
       "                                                                                                                   \n",
       "                                                                                                                   \n",
       "                                                                                                                   \n",
       "                                                                                                                   \n",
       "                                                                                                                   \n",
       "                                                                                                                   \n",
       "                                                                                                                   \n",
       "                                                                                                                   \n",
       "                                                                                                                   \n",
       "                                                                                                                   \n",
       "                                                                                                                   \n",
       "                                                                                                                   \n",
       "                                                                                                                   \n",
       "                                                                                                                   \n",
       "                                                                                                                   \n",
       "                                                                                                                   \n",
       "                                                                                                                   \n",
       "                                                                                                                   \n",
       "                                                                                                                   \n",
       "                                                                                                                   \n",
       "                                                                                                                   \n",
       "                                                                                                                   \n",
       "                                                                                                                   \n",
       "                                                                                                                   \n",
       "                                                                                                                   \n",
       "                                                                                                                   \n",
       "                                                                                                                   \n",
       "                                                                                                                   \n",
       "                                                                                                                   \n",
       "                                                                                                                   \n",
       "                                                                                                                   \n",
       "                                                                                                                   \n",
       "                                                                                                                   \n",
       "                                                                                                                   \n",
       "                                                                                                                   \n",
       "                                                                                                                   \n",
       "                                                                                                                   \n",
       "                                                                                                                   \n",
       "                                                                                                                   \n",
       "                                                                                                                   \n",
       "                                                                                                                   \n",
       "                                                                                                                   \n",
       "                                                                                                                   \n",
       "                                                                                                                   \n",
       "                                                                                                                   \n",
       "                                                                                                                   \n",
       "                                                                                                                   \n",
       "                                                                                                                   \n",
       "                                                                                                                   \n",
       "                                                                                                                   \n",
       "                                                                                                                   \n",
       "                                                                                                                   \n",
       "                                                                                                                   \n",
       "                                                                                                                   \n",
       "                                                                                                                   \n",
       "                                                                                                                   \n",
       "                                                                                                                   \n",
       "                                                                                                                   \n",
       "                                                                                                                   \n",
       "                                                                                                                   \n",
       "                                                                                                                   \n",
       "                                                                                                                   \n",
       "                                                                                                                   \n",
       "这里是log的内容                                                                                                    \n",
       "                                                                                                                   \n",
       "                                                                                                                   \n",
       "                                                                                                                   \n",
       "                                                                                                                   \n",
       "                                                                                                                   \n",
       "                                                                                                                   \n",
       "                                                                                                                   \n",
       "                                                                                                                   \n",
       "                                                                                                                   \n",
       "                                                                                                                   \n",
       "                                                                                                                   \n",
       "                                                                                                                   \n",
       "                                                                                                                   \n",
       "                                                                                                                   \n",
       "                                                                                                                   \n",
       "                                                                                                                   \n",
       "                                                                                                                   \n",
       "                                                                                                                   \n",
       "                                                                                                                   \n",
       "                                                                                                                   \n",
       "                                                                                                                   \n",
       "                                                                                                                   \n",
       "                                                                                                                   \n",
       "                                                                                                                   \n",
       "                                                                                                                   \n",
       "                                                                                                                   \n",
       "                                                                                                                   \n",
       "                                                                                                                   \n",
       "                                                                                                                   \n",
       "                                                                                                                   \n",
       "                                                                                                                   \n",
       "                                                                                                                   \n",
       "                                                                                                                   \n",
       "</pre>\n"
      ],
      "text/plain": [
       "这里是Job的内容                       这里是Cluster的内容                                                          \n",
       "                                                                                                                   \n",
       "                                                                                                                   \n",
       "                                                                                                                   \n",
       "                                                                                                                   \n",
       "                                                                                                                   \n",
       "                                                                                                                   \n",
       "                                                                                                                   \n",
       "                                                                                                                   \n",
       "                                                                                                                   \n",
       "                                                                                                                   \n",
       "                                                                                                                   \n",
       "                                                                                                                   \n",
       "                                                                                                                   \n",
       "                                                                                                                   \n",
       "                                                                                                                   \n",
       "                                                                                                                   \n",
       "                                                                                                                   \n",
       "                                                                                                                   \n",
       "                                                                                                                   \n",
       "                                                                                                                   \n",
       "                                                                                                                   \n",
       "                                                                                                                   \n",
       "                                                                                                                   \n",
       "                                                                                                                   \n",
       "                                                                                                                   \n",
       "                                                                                                                   \n",
       "                                                                                                                   \n",
       "                                                                                                                   \n",
       "                                                                                                                   \n",
       "                                                                                                                   \n",
       "                                                                                                                   \n",
       "                                                                                                                   \n",
       "                                                                                                                   \n",
       "                                                                                                                   \n",
       "                                                                                                                   \n",
       "                                                                                                                   \n",
       "                                                                                                                   \n",
       "                                                                                                                   \n",
       "                                                                                                                   \n",
       "                                                                                                                   \n",
       "                                                                                                                   \n",
       "                                                                                                                   \n",
       "                                                                                                                   \n",
       "                                                                                                                   \n",
       "                                                                                                                   \n",
       "                                                                                                                   \n",
       "                                                                                                                   \n",
       "                                                                                                                   \n",
       "                                                                                                                   \n",
       "                                                                                                                   \n",
       "                                                                                                                   \n",
       "                                                                                                                   \n",
       "                                                                                                                   \n",
       "                                                                                                                   \n",
       "                                                                                                                   \n",
       "                                                                                                                   \n",
       "                                                                                                                   \n",
       "                                                                                                                   \n",
       "                                                                                                                   \n",
       "                                                                                                                   \n",
       "                                                                                                                   \n",
       "                                                                                                                   \n",
       "                                                                                                                   \n",
       "                                                                                                                   \n",
       "                                                                                                                   \n",
       "这里是log的内容                                                                                                    \n",
       "                                                                                                                   \n",
       "                                                                                                                   \n",
       "                                                                                                                   \n",
       "                                                                                                                   \n",
       "                                                                                                                   \n",
       "                                                                                                                   \n",
       "                                                                                                                   \n",
       "                                                                                                                   \n",
       "                                                                                                                   \n",
       "                                                                                                                   \n",
       "                                                                                                                   \n",
       "                                                                                                                   \n",
       "                                                                                                                   \n",
       "                                                                                                                   \n",
       "                                                                                                                   \n",
       "                                                                                                                   \n",
       "                                                                                                                   \n",
       "                                                                                                                   \n",
       "                                                                                                                   \n",
       "                                                                                                                   \n",
       "                                                                                                                   \n",
       "                                                                                                                   \n",
       "                                                                                                                   \n",
       "                                                                                                                   \n",
       "                                                                                                                   \n",
       "                                                                                                                   \n",
       "                                                                                                                   \n",
       "                                                                                                                   \n",
       "                                                                                                                   \n",
       "                                                                                                                   \n",
       "                                                                                                                   \n",
       "                                                                                                                   \n",
       "                                                                                                                   \n"
      ]
     },
     "metadata": {},
     "output_type": "display_data"
    }
   ],
   "source": [
    "from rich.console import Console\n",
    "from rich.layout import Layout\n",
    "\n",
    "console = Console()\n",
    "layout = Layout()\n",
    "\n",
    "# 将命令行分为上下两个部分，比例为2:1\n",
    "layout.split(\n",
    "    Layout(name=\"top\", ratio=2),\n",
    "    Layout(name=\"bottom\", ratio=1)\n",
    ")\n",
    "\n",
    "# 将上面的layout分为两部分，比例为1:2\n",
    "layout[\"top\"].split_row(\n",
    "    Layout(name=\"Job\", ratio=1),\n",
    "    Layout(name=\"Cluster\", ratio=2)\n",
    ")\n",
    "\n",
    "# 给每个layout添加一些内容\n",
    "layout[\"Job\"].update(\"这里是Job的内容\")\n",
    "layout[\"Cluster\"].update(\"这里是Cluster的内容\")\n",
    "layout[\"bottom\"].update(\"这里是log的内容\")\n",
    "\n",
    "# 在控制台上显示layout\n",
    "console.print(layout)\n"
   ]
  },
  {
   "cell_type": "code",
   "execution_count": 2,
   "metadata": {},
   "outputs": [
    {
     "data": {
      "text/html": [
       "<pre style=\"white-space:pre;overflow-x:auto;line-height:normal;font-family:Menlo,'DejaVu Sans Mono',consolas,'Courier New',monospace\"><span style=\"font-style: italic\">                          Job Table                           </span>\n",
       "┏━━━━┳━━━━━━━━━┳━━━━━┳━━━━━━━━━━┳━━━━━━━━┳━━━━━━━━━━━━━━━━━━━┓\n",
       "┃<span style=\"font-weight: bold\"> ID </span>┃<span style=\"font-weight: bold\"> Res Vec </span>┃<span style=\"font-weight: bold\"> Len </span>┃<span style=\"font-weight: bold\"> Priority </span>┃<span style=\"font-weight: bold\"> Budget </span>┃<span style=\"font-weight: bold\"> Restrict Machines </span>┃\n",
       "┡━━━━╇━━━━━━━━━╇━━━━━╇━━━━━━━━━━╇━━━━━━━━╇━━━━━━━━━━━━━━━━━━━┩\n",
       "│<span style=\"color: #008080; text-decoration-color: #008080\">  0 </span>│<span style=\"color: #800080; text-decoration-color: #800080\">  [2, 3] </span>│<span style=\"color: #008000; text-decoration-color: #008000\">   5 </span>│<span style=\"color: #808000; text-decoration-color: #808000\">        1 </span>│<span style=\"color: #800000; text-decoration-color: #800000\"> 128.87 </span>│<span style=\"color: #000080; text-decoration-color: #000080\">            [1, 2] </span>│\n",
       "└────┴─────────┴─────┴──────────┴────────┴───────────────────┘\n",
       "</pre>\n"
      ],
      "text/plain": [
       "\u001b[3m                          Job Table                           \u001b[0m\n",
       "┏━━━━┳━━━━━━━━━┳━━━━━┳━━━━━━━━━━┳━━━━━━━━┳━━━━━━━━━━━━━━━━━━━┓\n",
       "┃\u001b[1m \u001b[0m\u001b[1mID\u001b[0m\u001b[1m \u001b[0m┃\u001b[1m \u001b[0m\u001b[1mRes Vec\u001b[0m\u001b[1m \u001b[0m┃\u001b[1m \u001b[0m\u001b[1mLen\u001b[0m\u001b[1m \u001b[0m┃\u001b[1m \u001b[0m\u001b[1mPriority\u001b[0m\u001b[1m \u001b[0m┃\u001b[1m \u001b[0m\u001b[1mBudget\u001b[0m\u001b[1m \u001b[0m┃\u001b[1m \u001b[0m\u001b[1mRestrict Machines\u001b[0m\u001b[1m \u001b[0m┃\n",
       "┡━━━━╇━━━━━━━━━╇━━━━━╇━━━━━━━━━━╇━━━━━━━━╇━━━━━━━━━━━━━━━━━━━┩\n",
       "│\u001b[36m \u001b[0m\u001b[36m 0\u001b[0m\u001b[36m \u001b[0m│\u001b[35m \u001b[0m\u001b[35m [2, 3]\u001b[0m\u001b[35m \u001b[0m│\u001b[32m \u001b[0m\u001b[32m  5\u001b[0m\u001b[32m \u001b[0m│\u001b[33m \u001b[0m\u001b[33m       1\u001b[0m\u001b[33m \u001b[0m│\u001b[31m \u001b[0m\u001b[31m128.87\u001b[0m\u001b[31m \u001b[0m│\u001b[34m \u001b[0m\u001b[34m           [1, 2]\u001b[0m\u001b[34m \u001b[0m│\n",
       "└────┴─────────┴─────┴──────────┴────────┴───────────────────┘\n"
      ]
     },
     "metadata": {},
     "output_type": "display_data"
    }
   ],
   "source": [
    "from rich.console import Console\n",
    "from rich.table import Table\n",
    "import Job\n",
    "class JobTable:\n",
    "    def __init__(self):\n",
    "        # Create a table object with a title\n",
    "        self.table = Table(title=\"Job Table\")\n",
    "        # Add columns with headers and styles\n",
    "        self.table.add_column(\"ID\", style=\"cyan\", justify=\"right\") # Right align this column\n",
    "        self.table.add_column(\"Res Vec\", style=\"magenta\", justify=\"right\") # Right align this column\n",
    "        self.table.add_column(\"Len\", style=\"green\", justify=\"right\") # Right align this column\n",
    "        self.table.add_column(\"Priority\", style=\"yellow\", justify=\"right\") # Right align this column\n",
    "        self.table.add_column(\"Budget\", style=\"red\", justify=\"right\") # Right align this column\n",
    "        self.table.add_column(\"Restrict Machines\", style=\"blue\", justify=\"right\") # Right align this column\n",
    "        # Create a console object to print the table\n",
    "        self.console = Console()\n",
    "\n",
    "    def add_job(self, data):\n",
    "        # Add a row with the data dict values\n",
    "        self.table.add_row(\n",
    "            data[\"id\"],\n",
    "            data[\"res_vec\"],\n",
    "            data[\"len\"],\n",
    "            data[\"priority\"],\n",
    "            data[\"budget\"],\n",
    "            data[\"restrict_machines\"]\n",
    "        )\n",
    "\n",
    "    def show_table(self):\n",
    "        # Print the table to the console\n",
    "        self.console.print(self.table)\n",
    "jt = JobTable()\n",
    "jt.add_job(Job.Job().static_info())\n",
    "jt.show_table()"
   ]
  },
  {
   "cell_type": "code",
   "execution_count": 3,
   "metadata": {},
   "outputs": [
    {
     "data": {
      "text/html": [
       "<pre style=\"white-space:pre;overflow-x:auto;line-height:normal;font-family:Menlo,'DejaVu Sans Mono',consolas,'Courier New',monospace\"></pre>\n"
      ],
      "text/plain": []
     },
     "metadata": {},
     "output_type": "display_data"
    },
    {
     "data": {
      "application/vnd.jupyter.widget-view+json": {
       "model_id": "f5b6d324632e4f758424ae064aca3109",
       "version_major": 2,
       "version_minor": 0
      },
      "text/plain": [
       "Output()"
      ]
     },
     "metadata": {},
     "output_type": "display_data"
    }
   ],
   "source": []
  },
  {
   "cell_type": "code",
   "execution_count": 1,
   "metadata": {},
   "outputs": [
    {
     "name": "stdout",
     "output_type": "stream",
     "text": [
      "Starting API test\n",
      "Passed API test\n"
     ]
    },
    {
     "name": "stderr",
     "output_type": "stream",
     "text": [
      "/home/yuan/ResMan/man/lib/python3.9/site-packages/pettingzoo/test/api_test.py:94: UserWarning: Observation is not NumPy array\n",
      "  warnings.warn(\"Observation is not NumPy array\")\n",
      "/home/yuan/ResMan/man/lib/python3.9/site-packages/pettingzoo/test/api_test.py:177: UserWarning: We recommend agents to be named in the format <descriptor>_<number>, like \"player_0\"\n",
      "  warnings.warn(\n"
     ]
    }
   ],
   "source": [
    "from pettingzoo.test import api_test\n",
    "import Environment\n",
    "env = Environment.VehicleJobSchedulingEnvACE()\n",
    "# env = Environment.VehicleJobSchedulingEnvACE()\n",
    "env.reset()\n",
    "api_test(env, num_cycles=100)\n",
    "para = env.parameters"
   ]
  },
  {
   "cell_type": "code",
   "execution_count": 2,
   "metadata": {},
   "outputs": [
    {
     "data": {
      "text/plain": [
       "{'reward': 0,\n",
       " 'earning': 0,\n",
       " 'slot': {'Resource 0': '██████████', 'Resource 1': '██████████'},\n",
       " 'action': 0.6888888888888889,\n",
       " 'bid': 25.33333333333333,\n",
       " 'finished_job_num': 1,\n",
       " 'running_job': []}"
      ]
     },
     "execution_count": 2,
     "metadata": {},
     "output_type": "execute_result"
    }
   ],
   "source": [
    "para.cluster.machines[0].info()"
   ]
  },
  {
   "cell_type": "code",
   "execution_count": 1,
   "metadata": {},
   "outputs": [
    {
     "data": {
      "application/vnd.jupyter.widget-view+json": {
       "model_id": "229fd1e00ae14248ab7f19a2af8a1fab",
       "version_major": 2,
       "version_minor": 0
      },
      "text/plain": [
       "Output()"
      ]
     },
     "metadata": {},
     "output_type": "display_data"
    },
    {
     "data": {
      "text/html": [
       "<pre style=\"white-space:pre;overflow-x:auto;line-height:normal;font-family:Menlo,'DejaVu Sans Mono',consolas,'Courier New',monospace\"></pre>\n"
      ],
      "text/plain": []
     },
     "metadata": {},
     "output_type": "display_data"
    },
    {
     "ename": "KeyboardInterrupt",
     "evalue": "",
     "output_type": "error",
     "traceback": [
      "\u001b[0;31m---------------------------------------------------------------------------\u001b[0m",
      "\u001b[0;31mKeyboardInterrupt\u001b[0m                         Traceback (most recent call last)",
      "Cell \u001b[0;32mIn[1], line 85\u001b[0m\n\u001b[1;32m     83\u001b[0m \u001b[39mwhile\u001b[39;00m \u001b[39mTrue\u001b[39;00m:\n\u001b[1;32m     84\u001b[0m     live\u001b[39m.\u001b[39mupdate(create_process_table(console\u001b[39m.\u001b[39msize\u001b[39m.\u001b[39mheight \u001b[39m-\u001b[39m \u001b[39m4\u001b[39m), refresh\u001b[39m=\u001b[39m\u001b[39mTrue\u001b[39;00m)\n\u001b[0;32m---> 85\u001b[0m     time\u001b[39m.\u001b[39;49msleep(\u001b[39m1\u001b[39;49m)\n",
      "\u001b[0;31mKeyboardInterrupt\u001b[0m: "
     ]
    }
   ],
   "source": [
    "\"\"\"Lite simulation of the top linux command.\"\"\"\n",
    "import datetime\n",
    "import random\n",
    "import sys\n",
    "import time\n",
    "from dataclasses import dataclass\n",
    "\n",
    "from rich import box\n",
    "from rich.console import Console\n",
    "from rich.live import Live\n",
    "from rich.table import Table\n",
    "\n",
    "if sys.version_info >= (3, 8):\n",
    "    from typing import Literal\n",
    "else:\n",
    "    from typing_extensions import Literal\n",
    "\n",
    "\n",
    "@dataclass\n",
    "class Process:\n",
    "    pid: int\n",
    "    command: str\n",
    "    cpu_percent: float\n",
    "    memory: int\n",
    "    start_time: datetime.datetime\n",
    "    thread_count: int\n",
    "    state: Literal[\"running\", \"sleeping\"]\n",
    "\n",
    "    @property\n",
    "    def memory_str(self) -> str:\n",
    "        if self.memory > 1e6:\n",
    "            return f\"{int(self.memory/1e6)}M\"\n",
    "        if self.memory > 1e3:\n",
    "            return f\"{int(self.memory/1e3)}K\"\n",
    "        return str(self.memory)\n",
    "\n",
    "    @property\n",
    "    def time_str(self) -> str:\n",
    "        return str(datetime.datetime.now() - self.start_time)\n",
    "\n",
    "\n",
    "def generate_process(pid: int) -> Process:\n",
    "    return Process(\n",
    "        pid=pid,\n",
    "        command=f\"Process {pid}\",\n",
    "        cpu_percent=random.random() * 20,\n",
    "        memory=random.randint(10, 200) ** 3,\n",
    "        start_time=datetime.datetime.now()\n",
    "        - datetime.timedelta(seconds=random.randint(0, 500) ** 2),\n",
    "        thread_count=random.randint(1, 32),\n",
    "        state=\"running\" if random.randint(0, 10) < 8 else \"sleeping\",\n",
    "    )\n",
    "\n",
    "\n",
    "def create_process_table(height: int) -> Table:\n",
    "\n",
    "    processes = sorted(\n",
    "        [generate_process(pid) for pid in range(height)],\n",
    "        key=lambda p: p.cpu_percent,\n",
    "        reverse=True,\n",
    "    )\n",
    "    table = Table(\n",
    "        \"PID\", \"Command\", \"CPU %\", \"Memory\", \"Time\", \"Thread #\", \"State\", box=box.SIMPLE\n",
    "    )\n",
    "\n",
    "    for process in processes:\n",
    "        table.add_row(\n",
    "            str(process.pid),\n",
    "            process.command,\n",
    "            f\"{process.cpu_percent:.1f}\",\n",
    "            process.memory_str,\n",
    "            process.time_str,\n",
    "            str(process.thread_count),\n",
    "            process.state,\n",
    "        )\n",
    "\n",
    "    return table\n",
    "\n",
    "\n",
    "console = Console()\n",
    "\n",
    "with Live(console=console, screen=True, auto_refresh=False) as live:\n",
    "    while True:\n",
    "        live.update(create_process_table(console.size.height - 4), refresh=True)\n",
    "        time.sleep(1)"
   ]
  },
  {
   "cell_type": "code",
   "execution_count": 2,
   "metadata": {},
   "outputs": [
    {
     "data": {
      "text/plain": [
       "10.0"
      ]
     },
     "execution_count": 2,
     "metadata": {},
     "output_type": "execute_result"
    }
   ],
   "source": [
    "27/3*2-8\n"
   ]
  },
  {
   "cell_type": "code",
   "execution_count": 6,
   "metadata": {},
   "outputs": [
    {
     "data": {
      "text/html": [
       "<pre style=\"white-space:pre;overflow-x:auto;line-height:normal;font-family:Menlo,'DejaVu Sans Mono',consolas,'Courier New',monospace\">╭───────────────────────────────────────────────────── 欢迎 ──────────────────────────────────────────────────────╮\n",
       "│ 你好，<span style=\"color: #800000; text-decoration-color: #800000\">世界！</span>                                                                                                    │\n",
       "╰───────────────────────────────────────────────────── 谢谢 ──────────────────────────────────────────────────────╯\n",
       "</pre>\n"
      ],
      "text/plain": [
       "╭───────────────────────────────────────────────────── 欢迎 ──────────────────────────────────────────────────────╮\n",
       "│ 你好，\u001b[31m世界！\u001b[0m                                                                                                    │\n",
       "╰───────────────────────────────────────────────────── 谢谢 ──────────────────────────────────────────────────────╯\n"
      ]
     },
     "metadata": {},
     "output_type": "display_data"
    }
   ],
   "source": [
    "from rich import print\n",
    "from rich.panel import Panel\n",
    "\n",
    "print(Panel(\"你好，[red]世界！\", title=\"欢迎\", subtitle=\"谢谢\"))"
   ]
  }
 ],
 "metadata": {
  "kernelspec": {
   "display_name": "man",
   "language": "python",
   "name": "python3"
  },
  "language_info": {
   "codemirror_mode": {
    "name": "ipython",
    "version": 3
   },
   "file_extension": ".py",
   "mimetype": "text/x-python",
   "name": "python",
   "nbconvert_exporter": "python",
   "pygments_lexer": "ipython3",
   "version": "3.9.13"
  },
  "orig_nbformat": 4,
  "vscode": {
   "interpreter": {
    "hash": "d652fbd7feb28eaf2ff622dc57929f599600a55ad62e1efe6c9f098053cf5e75"
   }
  }
 },
 "nbformat": 4,
 "nbformat_minor": 2
}
