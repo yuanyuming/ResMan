{
 "cells": [
  {
   "cell_type": "code",
   "execution_count": 2,
   "metadata": {},
   "outputs": [],
   "source": [
    "import numpy as np\n"
   ]
  },
  {
   "cell_type": "code",
   "execution_count": null,
   "metadata": {},
   "outputs": [],
   "source": [
    "n"
   ]
  },
  {
   "cell_type": "code",
   "execution_count": 5,
   "metadata": {},
   "outputs": [],
   "source": [
    "import tensorflow\n",
    "import gym\n",
    "import pandas"
   ]
  },
  {
   "cell_type": "code",
   "execution_count": 3,
   "metadata": {},
   "outputs": [
    {
     "data": {
      "text/plain": [
       "[PhysicalDevice(name='/physical_device:CPU:0', device_type='CPU')]"
      ]
     },
     "execution_count": 3,
     "metadata": {},
     "output_type": "execute_result"
    }
   ],
   "source": [
    "tensorflow.config.list_physical_devices()"
   ]
  },
  {
   "cell_type": "code",
   "execution_count": 11,
   "metadata": {},
   "outputs": [],
   "source": [
    "csv = pandas.read_csv(\"Sever.csv\")"
   ]
  },
  {
   "cell_type": "code",
   "execution_count": 28,
   "metadata": {},
   "outputs": [],
   "source": [
    "ze =numpy.zeros([3,15])"
   ]
  },
  {
   "cell_type": "code",
   "execution_count": 29,
   "metadata": {},
   "outputs": [
    {
     "data": {
      "text/plain": [
       "array([[0., 0., 0., 0., 0., 0., 0., 0., 0., 0., 0., 0., 0., 0., 0.],\n",
       "       [0., 0., 0., 0., 0., 0., 0., 0., 0., 0., 0., 0., 0., 0., 0.],\n",
       "       [0., 0., 0., 0., 0., 0., 0., 0., 0., 0., 0., 0., 0., 0., 0.]])"
      ]
     },
     "execution_count": 29,
     "metadata": {},
     "output_type": "execute_result"
    }
   ],
   "source": [
    "ze"
   ]
  },
  {
   "cell_type": "code",
   "execution_count": 30,
   "metadata": {},
   "outputs": [],
   "source": [
    "z1 = numpy.array([1,2,3])"
   ]
  },
  {
   "cell_type": "code",
   "execution_count": 93,
   "metadata": {},
   "outputs": [],
   "source": [
    "for i in range(1,100):\n",
    "    on1 = numpy.ones([10])\n",
    "    cpu = on1 * 10\n",
    "    mem = on1 * 20\n",
    "    numpy.concatenate([cpu,mem],axis=0).reshape([2,10])"
   ]
  },
  {
   "cell_type": "code",
   "execution_count": 94,
   "metadata": {},
   "outputs": [
    {
     "data": {
      "text/plain": [
       "array([[10, 10, 10, 10, 10, 10, 10, 10, 10, 10],\n",
       "       [20, 20, 20, 20, 20, 20, 20, 20, 20, 20]])"
      ]
     },
     "execution_count": 94,
     "metadata": {},
     "output_type": "execute_result"
    }
   ],
   "source": [
    "numpy.array([10,20]).repeat(10).reshape([2,10])"
   ]
  },
  {
   "cell_type": "code",
   "execution_count": 95,
   "metadata": {},
   "outputs": [],
   "source": [
    "request = [0,0]"
   ]
  },
  {
   "cell_type": "code",
   "execution_count": 99,
   "metadata": {},
   "outputs": [
    {
     "data": {
      "text/plain": [
       "2"
      ]
     },
     "execution_count": 99,
     "metadata": {},
     "output_type": "execute_result"
    }
   ],
   "source": [
    "request.__len__()"
   ]
  },
  {
   "cell_type": "code",
   "execution_count": 87,
   "metadata": {},
   "outputs": [
    {
     "data": {
      "text/plain": [
       "array([[1, 1, 1, 1, 1, 1, 1, 1, 1, 1, 1, 1, 1, 1, 1],\n",
       "       [2, 2, 2, 2, 2, 2, 2, 2, 2, 2, 2, 2, 2, 2, 2],\n",
       "       [3, 3, 3, 3, 3, 3, 3, 3, 3, 3, 3, 3, 3, 3, 3]])"
      ]
     },
     "execution_count": 87,
     "metadata": {},
     "output_type": "execute_result"
    }
   ],
   "source": [
    "numpy.repeat(z1,15).reshape([z1.size,15])"
   ]
  },
  {
   "cell_type": "code",
   "execution_count": 57,
   "metadata": {},
   "outputs": [],
   "source": [
    "    class Server_State:\n",
    "        # 剩余资源\n",
    "        def __init__(self,server_def=[0,0],server_cost = [0,0], \n",
    "                            server_used = numpy.zeros([2,15]),time = 15) -> None:\n",
    "            # 资源\n",
    "            # 持有资源\n",
    "            self.possess = numpy.array(server_def)\n",
    "            # 已用资源\n",
    "            self.used = server_used\n",
    "            # 可用资源\n",
    "            self.available = numpy.repeat(self.possess,time)\\\n",
    "                .reshape([self.possess.size,time]) - server_used\n",
    "            self.cost = numpy.array(server_cost)\n",
    "            pass\n",
    "        def allocate(self,server_use = numpy.zeros([2,15])):\n",
    "            self.available -= server_use\n",
    "            print(\"{a}\",self.available)"
   ]
  },
  {
   "cell_type": "code",
   "execution_count": 58,
   "metadata": {},
   "outputs": [],
   "source": [
    "st = Server_State([123,255],[1235,51555],numpy.ones([2,15]),15)"
   ]
  },
  {
   "cell_type": "code",
   "execution_count": 63,
   "metadata": {},
   "outputs": [
    {
     "ename": "ValueError",
     "evalue": "operands could not be broadcast together with shapes (2,10) (2,15) ",
     "output_type": "error",
     "traceback": [
      "\u001b[1;31m---------------------------------------------------------------------------\u001b[0m",
      "\u001b[1;31mValueError\u001b[0m                                Traceback (most recent call last)",
      "Cell \u001b[1;32mIn [63], line 1\u001b[0m\n\u001b[1;32m----> 1\u001b[0m st\u001b[39m.\u001b[39mallocate(numpy\u001b[39m.\u001b[39;49mones([\u001b[39m2\u001b[39;49m,\u001b[39m10\u001b[39;49m])\u001b[39m+\u001b[39;49mnumpy\u001b[39m.\u001b[39;49mzeros([\u001b[39m2\u001b[39;49m,\u001b[39m15\u001b[39;49m]))\n",
      "\u001b[1;31mValueError\u001b[0m: operands could not be broadcast together with shapes (2,10) (2,15) "
     ]
    }
   ],
   "source": [
    "st.allocate(numpy.ones([2,10])+numpy.zeros([2,15]))"
   ]
  },
  {
   "cell_type": "code",
   "execution_count": 67,
   "metadata": {},
   "outputs": [
    {
     "ename": "ValueError",
     "evalue": "operands could not be broadcast together with shapes (2,15) (2,10) ",
     "output_type": "error",
     "traceback": [
      "\u001b[1;31m---------------------------------------------------------------------------\u001b[0m",
      "\u001b[1;31mValueError\u001b[0m                                Traceback (most recent call last)",
      "Cell \u001b[1;32mIn [67], line 1\u001b[0m\n\u001b[1;32m----> 1\u001b[0m numpy\u001b[39m.\u001b[39;49mzeros([\u001b[39m2\u001b[39;49m,\u001b[39m15\u001b[39;49m])\u001b[39m+\u001b[39;49mnumpy\u001b[39m.\u001b[39;49mones([\u001b[39m2\u001b[39;49m,\u001b[39m10\u001b[39;49m])\n",
      "\u001b[1;31mValueError\u001b[0m: operands could not be broadcast together with shapes (2,15) (2,10) "
     ]
    }
   ],
   "source": [
    "numpy.zeros([2,15])+numpy.ones([2,10])"
   ]
  },
  {
   "cell_type": "code",
   "execution_count": 68,
   "metadata": {},
   "outputs": [],
   "source": [
    "on1 = numpy.ones([2,10])"
   ]
  },
  {
   "cell_type": "code",
   "execution_count": 72,
   "metadata": {},
   "outputs": [
    {
     "data": {
      "text/plain": [
       "array([[1., 1., 1., 1., 1., 1., 1., 1., 1., 1., 0., 0., 0., 0., 0.],\n",
       "       [1., 1., 1., 1., 1., 1., 1., 1., 1., 1., 0., 0., 0., 0., 0.]])"
      ]
     },
     "execution_count": 72,
     "metadata": {},
     "output_type": "execute_result"
    }
   ],
   "source": [
    "numpy.concatenate((on1,numpy.zeros([2,5])),axis=1)"
   ]
  },
  {
   "cell_type": "code",
   "execution_count": 74,
   "metadata": {},
   "outputs": [
    {
     "data": {
      "text/plain": [
       "120.0"
      ]
     },
     "execution_count": 74,
     "metadata": {},
     "output_type": "execute_result"
    }
   ],
   "source": [
    "st.available[0][0]"
   ]
  },
  {
   "cell_type": "code",
   "execution_count": 4,
   "metadata": {},
   "outputs": [
    {
     "data": {
      "text/plain": [
       "2"
      ]
     },
     "execution_count": 4,
     "metadata": {},
     "output_type": "execute_result"
    }
   ],
   "source": [
    "a = [[0,1],[0]]\n",
    "a[0].__len__()"
   ]
  },
  {
   "cell_type": "code",
   "execution_count": 7,
   "metadata": {},
   "outputs": [
    {
     "data": {
      "text/plain": [
       "array([[0., 0., 0.],\n",
       "       [0., 0., 0.]])"
      ]
     },
     "execution_count": 7,
     "metadata": {},
     "output_type": "execute_result"
    }
   ],
   "source": [
    "numpy.zeros([2,3])"
   ]
  },
  {
   "cell_type": "code",
   "execution_count": 8,
   "metadata": {},
   "outputs": [
    {
     "data": {
      "text/plain": [
       "1095"
      ]
     },
     "execution_count": 8,
     "metadata": {},
     "output_type": "execute_result"
    }
   ],
   "source": [
    "3*365"
   ]
  },
  {
   "cell_type": "code",
   "execution_count": 10,
   "metadata": {},
   "outputs": [
    {
     "data": {
      "text/plain": [
       "66.875799086758"
      ]
     },
     "execution_count": 10,
     "metadata": {},
     "output_type": "execute_result"
    }
   ],
   "source": [
    "73229/1095"
   ]
  },
  {
   "cell_type": "code",
   "execution_count": 1,
   "metadata": {},
   "outputs": [
    {
     "ename": "AttributeError",
     "evalue": "'numpy.ndarray' object has no attribute 'len'",
     "output_type": "error",
     "traceback": [
      "\u001b[1;31m---------------------------------------------------------------------------\u001b[0m",
      "\u001b[1;31mAttributeError\u001b[0m                            Traceback (most recent call last)",
      "Cell \u001b[1;32mIn[1], line 3\u001b[0m\n\u001b[0;32m      1\u001b[0m \u001b[39mimport\u001b[39;00m \u001b[39mnumpy\u001b[39;00m\n\u001b[0;32m      2\u001b[0m a \u001b[39m=\u001b[39m numpy\u001b[39m.\u001b[39mzeros([\u001b[39m4\u001b[39m,\u001b[39m5\u001b[39m])\n\u001b[1;32m----> 3\u001b[0m a\u001b[39m.\u001b[39;49mlen\n",
      "\u001b[1;31mAttributeError\u001b[0m: 'numpy.ndarray' object has no attribute 'len'"
     ]
    }
   ],
   "source": [
    "import numpy\n",
    "a = numpy.zeros([4,5])\n",
    "a.len"
   ]
  },
  {
   "cell_type": "code",
   "execution_count": 1,
   "metadata": {},
   "outputs": [
    {
     "data": {
      "text/plain": [
       "(array([[ 0,  1,  3,  0,  1,  3,  1,  3,  1,  1],\n",
       "        [ 1,  0, 13,  0,  0,  1,  0,  0,  0,  3],\n",
       "        [11,  2,  2, 14,  0,  0,  0,  1,  3,  0],\n",
       "        [ 2,  3,  0,  0,  3,  2,  3,  0,  1,  3],\n",
       "        [ 3,  2,  3,  2,  1,  1, 14,  1,  2,  3],\n",
       "        [13,  1,  0,  0,  0,  3,  0,  0,  1,  0],\n",
       "        [ 1,  0,  3,  2,  2, 12, 13,  3,  2,  1],\n",
       "        [ 0,  1,  3, 11,  3,  1,  2,  1, 12,  0],\n",
       "        [ 3,  3,  3,  2, 13,  1,  0,  2,  2, 14],\n",
       "        [ 2,  2,  2,  0,  1,  3,  1,  3,  1,  0]], dtype=int64),\n",
       " array([[[ 0,  0],\n",
       "         [ 2,  5],\n",
       "         [ 6,  2],\n",
       "         [ 0,  0],\n",
       "         [ 7,  2],\n",
       "         [ 7,  2],\n",
       "         [ 9,  1],\n",
       "         [ 6,  2],\n",
       "         [ 9,  2],\n",
       "         [ 8,  1]],\n",
       " \n",
       "        [[ 5,  1],\n",
       "         [ 0,  0],\n",
       "         [ 9,  2],\n",
       "         [ 0,  0],\n",
       "         [ 0,  0],\n",
       "         [ 6,  1],\n",
       "         [ 0,  0],\n",
       "         [ 0,  0],\n",
       "         [ 0,  0],\n",
       "         [ 1,  8]],\n",
       " \n",
       "        [[ 7,  1],\n",
       "         [ 2,  6],\n",
       "         [ 2,  6],\n",
       "         [ 2, 10],\n",
       "         [ 0,  0],\n",
       "         [ 0,  0],\n",
       "         [ 0,  0],\n",
       "         [ 8,  2],\n",
       "         [ 5,  2],\n",
       "         [ 0,  0]],\n",
       " \n",
       "        [[ 9,  1],\n",
       "         [ 1,  5],\n",
       "         [ 0,  0],\n",
       "         [ 0,  0],\n",
       "         [ 7,  1],\n",
       "         [ 7,  1],\n",
       "         [ 2,  7],\n",
       "         [ 0,  0],\n",
       "         [ 7,  1],\n",
       "         [ 8,  1]],\n",
       " \n",
       "        [[ 1,  8],\n",
       "         [10,  2],\n",
       "         [ 2,  7],\n",
       "         [ 8,  2],\n",
       "         [ 1,  5],\n",
       "         [ 2,  7],\n",
       "         [ 7,  2],\n",
       "         [ 9,  2],\n",
       "         [ 7,  1],\n",
       "         [ 1,  5]],\n",
       " \n",
       "        [[ 1,  6],\n",
       "         [ 2,  9],\n",
       "         [ 0,  0],\n",
       "         [ 0,  0],\n",
       "         [ 0,  0],\n",
       "         [ 1,  7],\n",
       "         [ 0,  0],\n",
       "         [ 0,  0],\n",
       "         [ 2,  7],\n",
       "         [ 0,  0]],\n",
       " \n",
       "        [[ 9,  1],\n",
       "         [ 0,  0],\n",
       "         [ 2,  9],\n",
       "         [ 2,  6],\n",
       "         [ 8,  2],\n",
       "         [ 2, 10],\n",
       "         [ 1,  7],\n",
       "         [ 2, 10],\n",
       "         [ 2,  5],\n",
       "         [ 1,  6]],\n",
       " \n",
       "        [[ 0,  0],\n",
       "         [ 2,  6],\n",
       "         [ 2,  9],\n",
       "         [ 1,  7],\n",
       "         [ 1, 10],\n",
       "         [ 9,  2],\n",
       "         [ 6,  1],\n",
       "         [ 1,  7],\n",
       "         [ 1, 10],\n",
       "         [ 0,  0]],\n",
       " \n",
       "        [[ 2, 10],\n",
       "         [ 1,  5],\n",
       "         [ 2,  7],\n",
       "         [ 7,  1],\n",
       "         [ 6,  1],\n",
       "         [ 1,  5],\n",
       "         [ 0,  0],\n",
       "         [ 2,  6],\n",
       "         [ 1,  5],\n",
       "         [ 5,  1]],\n",
       " \n",
       "        [[ 1,  5],\n",
       "         [10,  1],\n",
       "         [ 2,  9],\n",
       "         [ 0,  0],\n",
       "         [ 1,  5],\n",
       "         [ 1,  7],\n",
       "         [ 1,  7],\n",
       "         [ 8,  2],\n",
       "         [ 2,  9],\n",
       "         [ 0,  0]]], dtype=int8))"
      ]
     },
     "execution_count": 1,
     "metadata": {},
     "output_type": "execute_result"
    }
   ],
   "source": [
    "import JobDistribution\n",
    "JobDistribution.generate_sequence_work()\n"
   ]
  },
  {
   "cell_type": "code",
   "execution_count": 10,
   "metadata": {},
   "outputs": [
    {
     "data": {
      "text/plain": [
       "array([[0, 1, 3, 0, 1, 3, 1, 3, 1, 1]], dtype=int64)"
      ]
     },
     "execution_count": 10,
     "metadata": {},
     "output_type": "execute_result"
    }
   ],
   "source": []
  },
  {
   "cell_type": "code",
   "execution_count": null,
   "metadata": {},
   "outputs": [],
   "source": []
  }
 ],
 "metadata": {
  "kernelspec": {
   "display_name": "man",
   "language": "python",
   "name": "python3"
  },
  "language_info": {
   "codemirror_mode": {
    "name": "ipython",
    "version": 3
   },
   "file_extension": ".py",
   "mimetype": "text/x-python",
   "name": "python",
   "nbconvert_exporter": "python",
   "pygments_lexer": "ipython3",
   "version": "3.11.1"
  },
  "orig_nbformat": 4,
  "vscode": {
   "interpreter": {
    "hash": "5b7eb490b40a012832f2fc02dc7bf77486c8f7a1300ae4e40a0ef3f08ee869c4"
   }
  }
 },
 "nbformat": 4,
 "nbformat_minor": 2
}
