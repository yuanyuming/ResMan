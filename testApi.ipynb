{
 "cells": [
  {
   "cell_type": "code",
   "execution_count": 1,
   "metadata": {},
   "outputs": [
    {
     "name": "stdout",
     "output_type": "stream",
     "text": [
      "Load On # 0 Resource Dimension Is  1.1594666666666666\n",
      "Load On # 1 Resource Dimension Is  1.2198666666666667\n"
     ]
    },
    {
     "data": {
      "text/plain": [
       "(array([[1., 1., 1., ..., 0., 0., 0.],\n",
       "        [1., 1., 1., ..., 0., 0., 0.],\n",
       "        [1., 1., 1., ..., 0., 0., 0.],\n",
       "        ...,\n",
       "        [0., 0., 0., ..., 0., 0., 0.],\n",
       "        [0., 0., 0., ..., 0., 0., 0.],\n",
       "        [0., 0., 0., ..., 0., 0., 0.]]),\n",
       " -11.000000000000002,\n",
       " False,\n",
       " <Job.JobRecord at 0x1a692120610>)"
      ]
     },
     "execution_count": 1,
     "metadata": {},
     "output_type": "execute_result"
    }
   ],
   "source": [
    "import Environment\n",
    "import parameters\n",
    "pa = parameters.Parameters()\n",
    "pa.num_nw = 5\n",
    "pa.simulate_len = 50\n",
    "pa.num_ex = 10\n",
    "pa.new_job_rate = 1\n",
    "pa.compute_dependent_parameters()\n",
    "env = Environment.Allocation_Environment(pa, render=False, repre='image')\n",
    "env.step(5)\n",
    "env.step(5)\n",
    "env.step(5)\n",
    "env.step(5)\n",
    "env.step(5)\n"
   ]
  },
  {
   "cell_type": "code",
   "execution_count": 3,
   "metadata": {},
   "outputs": [],
   "source": [
    "job = env.job_backlog.backlog[0]\n"
   ]
  },
  {
   "cell_type": "code",
   "execution_count": 5,
   "metadata": {},
   "outputs": [
    {
     "name": "stdout",
     "output_type": "stream",
     "text": [
      "+--------+------------+------------+------------+-------------+\n",
      "| Job Id | Res Vector | Enter Time | Start Time | Finish Time |\n",
      "+--------+------------+------------+------------+-------------+\n",
      "|   1    |   [2 8]    |     2      |     -1     |      -1     |\n",
      "|   2    |   [8 2]    |     3      |     -1     |      -1     |\n",
      "|   2    |   [8 2]    |     3      |     -1     |      -1     |\n",
      "|   3    |   [7 1]    |     4      |     -1     |      -1     |\n",
      "|   3    |   [7 1]    |     4      |     -1     |      -1     |\n",
      "|   3    |   [7 1]    |     4      |     -1     |      -1     |\n",
      "|   4    |  [ 2 10]   |     5      |     -1     |      -1     |\n",
      "|   4    |  [ 2 10]   |     5      |     -1     |      -1     |\n",
      "|   4    |  [ 2 10]   |     5      |     -1     |      -1     |\n",
      "|   4    |  [ 2 10]   |     5      |     -1     |      -1     |\n",
      "+--------+------------+------------+------------+-------------+\n"
     ]
    }
   ],
   "source": [
    "env.job_backlog.show()"
   ]
  },
  {
   "cell_type": "code",
   "execution_count": null,
   "metadata": {},
   "outputs": [],
   "source": [
    "import numpy as np\n"
   ]
  },
  {
   "cell_type": "code",
   "execution_count": null,
   "metadata": {},
   "outputs": [],
   "source": [
    "n"
   ]
  },
  {
   "cell_type": "code",
   "execution_count": null,
   "metadata": {},
   "outputs": [],
   "source": [
    "import tensorflow\n",
    "import gym\n",
    "import pandas"
   ]
  },
  {
   "cell_type": "code",
   "execution_count": null,
   "metadata": {},
   "outputs": [],
   "source": [
    "tensorflow.config.list_physical_devices()"
   ]
  },
  {
   "cell_type": "code",
   "execution_count": null,
   "metadata": {},
   "outputs": [],
   "source": [
    "csv = pandas.read_csv(\"Sever.csv\")"
   ]
  },
  {
   "cell_type": "code",
   "execution_count": null,
   "metadata": {},
   "outputs": [],
   "source": [
    "ze =numpy.zeros([3,15])"
   ]
  },
  {
   "cell_type": "code",
   "execution_count": null,
   "metadata": {},
   "outputs": [],
   "source": [
    "ze"
   ]
  },
  {
   "cell_type": "code",
   "execution_count": null,
   "metadata": {},
   "outputs": [],
   "source": [
    "z1 = numpy.array([1,2,3])"
   ]
  },
  {
   "cell_type": "code",
   "execution_count": null,
   "metadata": {},
   "outputs": [],
   "source": [
    "for i in range(1,100):\n",
    "    on1 = numpy.ones([10])\n",
    "    cpu = on1 * 10\n",
    "    mem = on1 * 20\n",
    "    numpy.concatenate([cpu,mem],axis=0).reshape([2,10])"
   ]
  },
  {
   "cell_type": "code",
   "execution_count": null,
   "metadata": {},
   "outputs": [],
   "source": [
    "numpy.array([10,20]).repeat(10).reshape([2,10])"
   ]
  },
  {
   "cell_type": "code",
   "execution_count": null,
   "metadata": {},
   "outputs": [],
   "source": [
    "request = [0,0]"
   ]
  },
  {
   "cell_type": "code",
   "execution_count": null,
   "metadata": {},
   "outputs": [],
   "source": [
    "request.__len__()"
   ]
  },
  {
   "cell_type": "code",
   "execution_count": null,
   "metadata": {},
   "outputs": [],
   "source": [
    "numpy.repeat(z1,15).reshape([z1.size,15])"
   ]
  },
  {
   "cell_type": "code",
   "execution_count": null,
   "metadata": {},
   "outputs": [],
   "source": [
    "    class Server_State:\n",
    "        # 剩余资源\n",
    "        def __init__(self,server_def=[0,0],server_cost = [0,0], \n",
    "                            server_used = numpy.zeros([2,15]),time = 15) -> None:\n",
    "            # 资源\n",
    "            # 持有资源\n",
    "            self.possess = numpy.array(server_def)\n",
    "            # 已用资源\n",
    "            self.used = server_used\n",
    "            # 可用资源\n",
    "            self.available = numpy.repeat(self.possess,time)\\\n",
    "                .reshape([self.possess.size,time]) - server_used\n",
    "            self.cost = numpy.array(server_cost)\n",
    "            pass\n",
    "        def allocate(self,server_use = numpy.zeros([2,15])):\n",
    "            self.available -= server_use\n",
    "            print(\"{a}\",self.available)"
   ]
  },
  {
   "cell_type": "code",
   "execution_count": null,
   "metadata": {},
   "outputs": [],
   "source": [
    "st = Server_State([123,255],[1235,51555],numpy.ones([2,15]),15)"
   ]
  },
  {
   "cell_type": "code",
   "execution_count": null,
   "metadata": {},
   "outputs": [],
   "source": [
    "st.allocate(numpy.ones([2,10])+numpy.zeros([2,15]))"
   ]
  },
  {
   "cell_type": "code",
   "execution_count": null,
   "metadata": {},
   "outputs": [],
   "source": [
    "numpy.zeros([2,15])+numpy.ones([2,10])"
   ]
  },
  {
   "cell_type": "code",
   "execution_count": null,
   "metadata": {},
   "outputs": [],
   "source": [
    "on1 = numpy.ones([2,10])"
   ]
  },
  {
   "cell_type": "code",
   "execution_count": null,
   "metadata": {},
   "outputs": [],
   "source": [
    "numpy.concatenate((on1,numpy.zeros([2,5])),axis=1)"
   ]
  },
  {
   "cell_type": "code",
   "execution_count": null,
   "metadata": {},
   "outputs": [],
   "source": [
    "st.available[0][0]"
   ]
  },
  {
   "cell_type": "code",
   "execution_count": null,
   "metadata": {},
   "outputs": [],
   "source": [
    "a = [[0,1],[0]]\n",
    "a[0].__len__()"
   ]
  },
  {
   "cell_type": "code",
   "execution_count": null,
   "metadata": {},
   "outputs": [],
   "source": [
    "numpy.zeros([2,3])"
   ]
  },
  {
   "cell_type": "code",
   "execution_count": null,
   "metadata": {},
   "outputs": [],
   "source": [
    "3*365"
   ]
  },
  {
   "cell_type": "code",
   "execution_count": null,
   "metadata": {},
   "outputs": [],
   "source": [
    "73229/1095"
   ]
  },
  {
   "cell_type": "code",
   "execution_count": null,
   "metadata": {},
   "outputs": [],
   "source": [
    "import numpy\n",
    "a = numpy.zeros([4,5])\n",
    "a.len"
   ]
  },
  {
   "cell_type": "code",
   "execution_count": 5,
   "metadata": {},
   "outputs": [
    {
     "data": {
      "text/plain": [
       "array([9., 2.])"
      ]
     },
     "execution_count": 5,
     "metadata": {},
     "output_type": "execute_result"
    }
   ],
   "source": [
    "import job_distribution\n",
    "dist = job_distribution.Dist(2,10,15)\n",
    "nw_len,size = dist.bi_model_dist()\n",
    "size\n"
   ]
  },
  {
   "cell_type": "code",
   "execution_count": 1,
   "metadata": {},
   "outputs": [
    {
     "ename": "ValueError",
     "evalue": "could not broadcast input array from shape (2,) into shape (5,)",
     "output_type": "error",
     "traceback": [
      "\u001b[1;31m---------------------------------------------------------------------------\u001b[0m",
      "\u001b[1;31mValueError\u001b[0m                                Traceback (most recent call last)",
      "Cell \u001b[1;32mIn[1], line 3\u001b[0m\n\u001b[0;32m      1\u001b[0m \u001b[39mimport\u001b[39;00m \u001b[39mnumpy\u001b[39;00m \u001b[39mas\u001b[39;00m \u001b[39mnp\u001b[39;00m\n\u001b[0;32m      2\u001b[0m \u001b[39mimport\u001b[39;00m \u001b[39mEnvironment\u001b[39;00m\n\u001b[1;32m----> 3\u001b[0m env \u001b[39m=\u001b[39m Environment\u001b[39m.\u001b[39;49mAllocation_Environment()\n\u001b[0;32m      4\u001b[0m env\u001b[39m.\u001b[39mnw_size_seq[\u001b[39m0\u001b[39m,\u001b[39m0\u001b[39m]\n",
      "File \u001b[1;32mc:\\Users\\Yuming\\source\\repos\\ResMan\\Environment.py:31\u001b[0m, in \u001b[0;36mAllocation_Environment.__init__\u001b[1;34m(self, pa, nw_len_seq, nw_size_seq, seed, render, repre, end)\u001b[0m\n\u001b[0;32m     26\u001b[0m     np\u001b[39m.\u001b[39mrandom\u001b[39m.\u001b[39mseed(seed)\n\u001b[0;32m     28\u001b[0m \u001b[39mif\u001b[39;00m nw_len_seq \u001b[39mis\u001b[39;00m \u001b[39mNone\u001b[39;00m \u001b[39mor\u001b[39;00m nw_size_seq \u001b[39mis\u001b[39;00m \u001b[39mNone\u001b[39;00m:\n\u001b[0;32m     29\u001b[0m     \u001b[39m# 生成新任务\u001b[39;00m\n\u001b[0;32m     30\u001b[0m     \u001b[39mself\u001b[39m\u001b[39m.\u001b[39mnw_len_seq,\u001b[39mself\u001b[39m\u001b[39m.\u001b[39mnw_size_seq \u001b[39m=\u001b[39m \\\n\u001b[1;32m---> 31\u001b[0m         \u001b[39mself\u001b[39;49m\u001b[39m.\u001b[39;49mgenerate_sequence_work(\u001b[39mself\u001b[39;49m\u001b[39m.\u001b[39;49mpa\u001b[39m.\u001b[39;49msimulate_len\u001b[39m*\u001b[39;49m\u001b[39mself\u001b[39;49m\u001b[39m.\u001b[39;49mpa\u001b[39m.\u001b[39;49mnum_ex)\n\u001b[0;32m     32\u001b[0m     \u001b[39mself\u001b[39m\u001b[39m.\u001b[39mworkload \u001b[39m=\u001b[39m np\u001b[39m.\u001b[39mzeros(pa\u001b[39m.\u001b[39mnum_res)\n\u001b[0;32m     33\u001b[0m     \u001b[39mfor\u001b[39;00m i \u001b[39min\u001b[39;00m \u001b[39mrange\u001b[39m(pa\u001b[39m.\u001b[39mnum_res):\n",
      "File \u001b[1;32mc:\\Users\\Yuming\\source\\repos\\ResMan\\Environment.py:61\u001b[0m, in \u001b[0;36mAllocation_Environment.generate_sequence_work\u001b[1;34m(self, simu_len)\u001b[0m\n\u001b[0;32m     58\u001b[0m \u001b[39mfor\u001b[39;00m i \u001b[39min\u001b[39;00m \u001b[39mrange\u001b[39m(simu_len):\n\u001b[0;32m     59\u001b[0m     \u001b[39mif\u001b[39;00m np\u001b[39m.\u001b[39mrandom\u001b[39m.\u001b[39mrand() \u001b[39m<\u001b[39m \u001b[39mself\u001b[39m\u001b[39m.\u001b[39mpa\u001b[39m.\u001b[39mnew_job_rate:\n\u001b[0;32m     60\u001b[0m         \u001b[39m# 新任务到达\u001b[39;00m\n\u001b[1;32m---> 61\u001b[0m         nw_len_seq[i],nw_size_seq[i,:] \u001b[39m=\u001b[39m \u001b[39mself\u001b[39m\u001b[39m.\u001b[39mnw_dist()\n\u001b[0;32m     63\u001b[0m \u001b[39mreturn\u001b[39;00m nw_len_seq,nw_size_seq\n",
      "\u001b[1;31mValueError\u001b[0m: could not broadcast input array from shape (2,) into shape (5,)"
     ]
    }
   ],
   "source": [
    "import numpy as np\n",
    "import Environment\n",
    "env = Environment.Allocation_Environment()\n",
    "env.nw_size_seq[0,0]"
   ]
  },
  {
   "cell_type": "code",
   "execution_count": 2,
   "metadata": {},
   "outputs": [],
   "source": [
    "import sys\n",
    "sys.path.append(\"..\")"
   ]
  },
  {
   "cell_type": "code",
   "execution_count": 3,
   "metadata": {},
   "outputs": [
    {
     "data": {
      "text/plain": [
       "['c:\\\\Users\\\\Yuming\\\\source\\\\repos\\\\ResMan',\n",
       " 'C:\\\\Program Files\\\\Python311\\\\python311.zip',\n",
       " 'C:\\\\Program Files\\\\Python311\\\\DLLs',\n",
       " 'C:\\\\Program Files\\\\Python311\\\\Lib',\n",
       " 'C:\\\\Program Files\\\\Python311',\n",
       " 'c:\\\\Users\\\\Yuming\\\\source\\\\repos\\\\ResMan\\\\man',\n",
       " '',\n",
       " 'c:\\\\Users\\\\Yuming\\\\source\\\\repos\\\\ResMan\\\\man\\\\Lib\\\\site-packages',\n",
       " 'c:\\\\Users\\\\Yuming\\\\source\\\\repos\\\\ResMan\\\\man\\\\Lib\\\\site-packages\\\\win32',\n",
       " 'c:\\\\Users\\\\Yuming\\\\source\\\\repos\\\\ResMan\\\\man\\\\Lib\\\\site-packages\\\\win32\\\\lib',\n",
       " 'c:\\\\Users\\\\Yuming\\\\source\\\\repos\\\\ResMan\\\\man\\\\Lib\\\\site-packages\\\\Pythonwin',\n",
       " '..']"
      ]
     },
     "execution_count": 3,
     "metadata": {},
     "output_type": "execute_result"
    }
   ],
   "source": [
    "sys.path"
   ]
  },
  {
   "cell_type": "code",
   "execution_count": 2,
   "metadata": {},
   "outputs": [],
   "source": []
  },
  {
   "cell_type": "code",
   "execution_count": 2,
   "metadata": {},
   "outputs": [
    {
     "name": "stdout",
     "output_type": "stream",
     "text": [
      "Load On # 0 Resource Dimension Is  0.6933333333333334\n",
      "Load On # 1 Resource Dimension Is  1.7933333333333334\n"
     ]
    }
   ],
   "source": [
    "import parameters\n",
    "import Environment\n",
    "pa = parameters.Parameters()\n",
    "env = Environment.Allocation_Environment(pa)\n"
   ]
  },
  {
   "cell_type": "code",
   "execution_count": 9,
   "metadata": {},
   "outputs": [
    {
     "data": {
      "text/plain": [
       "array([1, 9])"
      ]
     },
     "execution_count": 9,
     "metadata": {},
     "output_type": "execute_result"
    }
   ],
   "source": [
    "job = env.get_new_job_from_seq(0,0)\n",
    "job.res_vec"
   ]
  },
  {
   "cell_type": "code",
   "execution_count": 3,
   "metadata": {},
   "outputs": [],
   "source": [
    "import Environment\n",
    "def test_image_representation():\n",
    "    \"\"\"\n",
    "    Purpose: representation the job image\n",
    "    \"\"\"\n",
    "    env = Environment.Allocation_Environment()\n",
    "    return env.machine.canvas"
   ]
  },
  {
   "cell_type": "code",
   "execution_count": 5,
   "metadata": {},
   "outputs": [
    {
     "name": "stdout",
     "output_type": "stream",
     "text": [
      "Load On # 0 Resource Dimension Is  0.6933333333333334\n",
      "Load On # 1 Resource Dimension Is  1.7933333333333334\n"
     ]
    }
   ],
   "source": [
    "canvas = test_image_representation()"
   ]
  },
  {
   "cell_type": "code",
   "execution_count": 8,
   "metadata": {},
   "outputs": [
    {
     "data": {
      "text/plain": [
       "(20, 15)"
      ]
     },
     "execution_count": 8,
     "metadata": {},
     "output_type": "execute_result"
    }
   ],
   "source": [
    "canvas[1].shape"
   ]
  },
  {
   "cell_type": "code",
   "execution_count": 1,
   "metadata": {},
   "outputs": [
    {
     "data": {
      "text/plain": [
       "[None, None, None, None, None]"
      ]
     },
     "execution_count": 1,
     "metadata": {},
     "output_type": "execute_result"
    }
   ],
   "source": [
    "[None] * 5"
   ]
  },
  {
   "cell_type": "code",
   "execution_count": 3,
   "metadata": {},
   "outputs": [],
   "source": [
    "import numpy as np\n",
    "canvas = np.zeros((2,10,10))"
   ]
  },
  {
   "cell_type": "code",
   "execution_count": 4,
   "metadata": {},
   "outputs": [],
   "source": [
    "canvas[1,2,[0,2,3]]=0.3\n"
   ]
  },
  {
   "cell_type": "code",
   "execution_count": 5,
   "metadata": {},
   "outputs": [
    {
     "data": {
      "text/plain": [
       "array([[[0. , 0. , 0. , 0. , 0. , 0. , 0. , 0. , 0. , 0. ],\n",
       "        [0. , 0. , 0. , 0. , 0. , 0. , 0. , 0. , 0. , 0. ],\n",
       "        [0. , 0. , 0. , 0. , 0. , 0. , 0. , 0. , 0. , 0. ],\n",
       "        [0. , 0. , 0. , 0. , 0. , 0. , 0. , 0. , 0. , 0. ],\n",
       "        [0. , 0. , 0. , 0. , 0. , 0. , 0. , 0. , 0. , 0. ],\n",
       "        [0. , 0. , 0. , 0. , 0. , 0. , 0. , 0. , 0. , 0. ],\n",
       "        [0. , 0. , 0. , 0. , 0. , 0. , 0. , 0. , 0. , 0. ],\n",
       "        [0. , 0. , 0. , 0. , 0. , 0. , 0. , 0. , 0. , 0. ],\n",
       "        [0. , 0. , 0. , 0. , 0. , 0. , 0. , 0. , 0. , 0. ],\n",
       "        [0. , 0. , 0. , 0. , 0. , 0. , 0. , 0. , 0. , 0. ]],\n",
       "\n",
       "       [[0. , 0. , 0. , 0. , 0. , 0. , 0. , 0. , 0. , 0. ],\n",
       "        [0. , 0. , 0. , 0. , 0. , 0. , 0. , 0. , 0. , 0. ],\n",
       "        [0.3, 0. , 0.3, 0.3, 0. , 0. , 0. , 0. , 0. , 0. ],\n",
       "        [0. , 0. , 0. , 0. , 0. , 0. , 0. , 0. , 0. , 0. ],\n",
       "        [0. , 0. , 0. , 0. , 0. , 0. , 0. , 0. , 0. , 0. ],\n",
       "        [0. , 0. , 0. , 0. , 0. , 0. , 0. , 0. , 0. , 0. ],\n",
       "        [0. , 0. , 0. , 0. , 0. , 0. , 0. , 0. , 0. , 0. ],\n",
       "        [0. , 0. , 0. , 0. , 0. , 0. , 0. , 0. , 0. , 0. ],\n",
       "        [0. , 0. , 0. , 0. , 0. , 0. , 0. , 0. , 0. , 0. ],\n",
       "        [0. , 0. , 0. , 0. , 0. , 0. , 0. , 0. , 0. , 0. ]]])"
      ]
     },
     "execution_count": 5,
     "metadata": {},
     "output_type": "execute_result"
    }
   ],
   "source": [
    "canvas"
   ]
  },
  {
   "cell_type": "code",
   "execution_count": null,
   "metadata": {},
   "outputs": [],
   "source": [
    "import cpuPower\n",
    "intel = cpuPower.INTELCPU()\n"
   ]
  },
  {
   "cell_type": "code",
   "execution_count": 33,
   "metadata": {},
   "outputs": [
    {
     "data": {
      "text/plain": [
       "24.70908949168137"
      ]
     },
     "execution_count": 33,
     "metadata": {},
     "output_type": "execute_result"
    }
   ],
   "source": [
    "intel.get_power()\n",
    "intel.get_power()\n"
   ]
  },
  {
   "cell_type": "code",
   "execution_count": 6,
   "metadata": {},
   "outputs": [],
   "source": [
    "import numpy as np\n",
    "back = np.arange(0,10,1)"
   ]
  },
  {
   "cell_type": "code",
   "execution_count": 3,
   "metadata": {},
   "outputs": [],
   "source": [
    "back[:-1]=back[1:]"
   ]
  },
  {
   "cell_type": "code",
   "execution_count": 4,
   "metadata": {},
   "outputs": [
    {
     "data": {
      "text/plain": [
       "array([1, 2, 3, 4, 5, 6, 7, 8, 9, 9])"
      ]
     },
     "execution_count": 4,
     "metadata": {},
     "output_type": "execute_result"
    }
   ],
   "source": [
    "back"
   ]
  },
  {
   "cell_type": "code",
   "execution_count": 7,
   "metadata": {},
   "outputs": [
    {
     "data": {
      "text/plain": [
       "array([ 5., 10.])"
      ]
     },
     "execution_count": 7,
     "metadata": {},
     "output_type": "execute_result"
    }
   ],
   "source": [
    "import numpy as np\n",
    "max_nw_vec=[10, 20]\n",
    "np.divide(np.array(max_nw_vec), 2)\n"
   ]
  },
  {
   "cell_type": "code",
   "execution_count": 4,
   "metadata": {},
   "outputs": [
    {
     "data": {
      "text/plain": [
       "10"
      ]
     },
     "execution_count": 4,
     "metadata": {},
     "output_type": "execute_result"
    }
   ],
   "source": [
    "len([None] * 10)\n",
    " "
   ]
  },
  {
   "cell_type": "code",
   "execution_count": 11,
   "metadata": {},
   "outputs": [
    {
     "data": {
      "text/plain": [
       "(array([ 3., 14., 14., 18., 16., 13.,  8.,  8.,  4.,  2.]),\n",
       " array([ 0. ,  1.1,  2.2,  3.3,  4.4,  5.5,  6.6,  7.7,  8.8,  9.9, 11. ]),\n",
       " <BarContainer object of 10 artists>)"
      ]
     },
     "execution_count": 11,
     "metadata": {},
     "output_type": "execute_result"
    },
    {
     "data": {
      "image/png": "[encoded data removed]",
      "text/plain": [
       "<Figure size 640x480 with 1 Axes>"
      ]
     },
     "metadata": {},
     "output_type": "display_data"
    }
   ],
   "source": [
    "from scipy.stats import poisson\n",
    "from collections import Counter\n",
    "import matplotlib.pyplot as plt  # \n",
    "poi = poisson.rvs(5,size=100)\n",
    "rctd = Counter(poi)\n",
    "plt.hist(poi)\n"
   ]
  },
  {
   "cell_type": "code",
   "execution_count": null,
   "metadata": {},
   "outputs": [],
   "source": []
  }
 ],
 "metadata": {
  "kernelspec": {
   "display_name": "man",
   "language": "python",
   "name": "python3"
  },
  "language_info": {
   "codemirror_mode": {
    "name": "ipython",
    "version": 3
   },
   "file_extension": ".py",
   "mimetype": "text/x-python",
   "name": "python",
   "nbconvert_exporter": "python",
   "pygments_lexer": "ipython3",
   "version": "3.11.2"
  },
  "orig_nbformat": 4,
  "vscode": {
   "interpreter": {
    "hash": "d652fbd7feb28eaf2ff622dc57929f599600a55ad62e1efe6c9f098053cf5e75"
   }
  }
 },
 "nbformat": 4,
 "nbformat_minor": 2
}
