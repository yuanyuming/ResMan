{
 "cells": [
  {
   "cell_type": "code",
   "execution_count": 20,
   "metadata": {},
   "outputs": [
    {
     "data": {
      "application/vnd.jupyter.widget-view+json": {
       "model_id": "9952484e7cc5498697c99af8124a248c",
       "version_major": 2,
       "version_minor": 0
      },
      "text/plain": [
       "Output()"
      ]
     },
     "metadata": {},
     "output_type": "display_data"
    },
    {
     "data": {
      "text/html": [
       "<pre style=\"white-space:pre;overflow-x:auto;line-height:normal;font-family:Menlo,'DejaVu Sans Mono',consolas,'Courier New',monospace\"></pre>\n"
      ],
      "text/plain": []
     },
     "metadata": {},
     "output_type": "display_data"
    },
    {
     "ename": "KeyboardInterrupt",
     "evalue": "",
     "output_type": "error",
     "traceback": [
      "\u001b[0;31m---------------------------------------------------------------------------\u001b[0m",
      "\u001b[0;31mKeyboardInterrupt\u001b[0m                         Traceback (most recent call last)",
      "Cell \u001b[0;32mIn[20], line 25\u001b[0m\n\u001b[1;32m     23\u001b[0m \u001b[39mwith\u001b[39;00m Live(generate_table(), refresh_per_second\u001b[39m=\u001b[39m\u001b[39m4\u001b[39m) \u001b[39mas\u001b[39;00m live:\n\u001b[1;32m     24\u001b[0m     \u001b[39mfor\u001b[39;00m _ \u001b[39min\u001b[39;00m \u001b[39mrange\u001b[39m(\u001b[39m40\u001b[39m):\n\u001b[0;32m---> 25\u001b[0m         time\u001b[39m.\u001b[39;49msleep(\u001b[39m0.4\u001b[39;49m)\n\u001b[1;32m     26\u001b[0m         live\u001b[39m.\u001b[39mupdate(generate_table())\n",
      "\u001b[0;31mKeyboardInterrupt\u001b[0m: "
     ]
    }
   ],
   "source": [
    "import random\n",
    "import time\n",
    "\n",
    "from rich.live import Live\n",
    "from rich.table import Table\n",
    "\n",
    "\n",
    "def generate_table() -> Table:\n",
    "    \"\"\"Make a new table.\"\"\"\n",
    "    table = Table()\n",
    "    table.add_column(\"ID\")\n",
    "    table.add_column(\"Value\")\n",
    "    table.add_column(\"Status\")\n",
    "\n",
    "    for row in range(random.randint(2, 6)):\n",
    "        value = random.random() * 100\n",
    "        table.add_row(\n",
    "            f\"{row}\", f\"{value:3.2f}\", \"[red]ERROR\" if value < 50 else \"[green]SUCCESS\"\n",
    "        )\n",
    "    return table\n",
    "\n",
    "\n",
    "with Live(generate_table(), refresh_per_second=4) as live:\n",
    "    for _ in range(40):\n",
    "        time.sleep(0.4)\n",
    "        live.update(generate_table())"
   ]
  },
  {
   "cell_type": "code",
   "execution_count": 1,
   "metadata": {},
   "outputs": [
    {
     "name": "stdout",
     "output_type": "stream",
     "text": [
      "Starting API test\n",
      "Passed API test\n"
     ]
    },
    {
     "name": "stderr",
     "output_type": "stream",
     "text": [
      "/home/yuan/ResMan/man/lib/python3.9/site-packages/pettingzoo/test/api_test.py:94: UserWarning: Observation is not NumPy array\n",
      "  warnings.warn(\"Observation is not NumPy array\")\n",
      "/home/yuan/ResMan/man/lib/python3.9/site-packages/pettingzoo/test/api_test.py:177: UserWarning: We recommend agents to be named in the format <descriptor>_<number>, like \"player_0\"\n",
      "  warnings.warn(\n"
     ]
    }
   ],
   "source": [
    "from pettingzoo.test import api_test\n",
    "import Environment\n",
    "env = Environment.VehicleJobSchedulingEnvACE()\n",
    "# env = Environment.VehicleJobSchedulingEnvACE()\n",
    "env.reset()\n",
    "api_test(env, num_cycles=100)\n",
    "para = env.parameters"
   ]
  },
  {
   "cell_type": "code",
   "execution_count": 2,
   "metadata": {},
   "outputs": [
    {
     "data": {
      "text/plain": [
       "{'reward': 0,\n",
       " 'earning': 0,\n",
       " 'slot': {'Resource 0': '██████████', 'Resource 1': '██████████'},\n",
       " 'action': 0.6888888888888889,\n",
       " 'bid': 25.33333333333333,\n",
       " 'finished_job_num': 1,\n",
       " 'running_job': []}"
      ]
     },
     "execution_count": 2,
     "metadata": {},
     "output_type": "execute_result"
    }
   ],
   "source": [
    "para.cluster.machines[0].info()"
   ]
  },
  {
   "cell_type": "code",
   "execution_count": null,
   "metadata": {},
   "outputs": [],
   "source": []
  }
 ],
 "metadata": {
  "kernelspec": {
   "display_name": "man",
   "language": "python",
   "name": "python3"
  },
  "language_info": {
   "codemirror_mode": {
    "name": "ipython",
    "version": 3
   },
   "file_extension": ".py",
   "mimetype": "text/x-python",
   "name": "python",
   "nbconvert_exporter": "python",
   "pygments_lexer": "ipython3",
   "version": "3.9.13"
  },
  "orig_nbformat": 4,
  "vscode": {
   "interpreter": {
    "hash": "d652fbd7feb28eaf2ff622dc57929f599600a55ad62e1efe6c9f098053cf5e75"
   }
  }
 },
 "nbformat": 4,
 "nbformat_minor": 2
}
