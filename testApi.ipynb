{
 "cells": [
  {
   "cell_type": "code",
   "execution_count": null,
   "metadata": {},
   "outputs": [],
   "source": [
    "\"\"\"This is a minimal example of using Tianshou with MARL to train agents.\n",
    "\n",
    "Author: Will (https://github.com/WillDudley)\n",
    "\n",
    "Python version used: 3.8.10\n",
    "\n",
    "Requirements:\n",
    "pettingzoo == 1.22.0\n",
    "git+https://github.com/thu-ml/tianshou\n",
    "\"\"\"\n",
    "\n",
    "import os\n",
    "from typing import Optional, Tuple\n",
    "\n",
    "import gymnasium as gym\n",
    "import numpy as np\n",
    "import torch\n",
    "from tianshou.data import Collector, VectorReplayBuffer\n",
    "from tianshou.env import DummyVectorEnv\n",
    "from tianshou.env.pettingzoo_env import PettingZooEnv\n",
    "from tianshou.policy import BasePolicy, DQNPolicy, MultiAgentPolicyManager, RandomPolicy\n",
    "from tianshou.trainer import offpolicy_trainer\n",
    "from tianshou.utils.net.common import Net\n",
    "\n",
    "from pettingzoo.classic import tictactoe_v3\n",
    "\n",
    "\n",
    "def _get_agents(\n",
    "    agent_learn: Optional[BasePolicy] = None,\n",
    "    agent_opponent: Optional[BasePolicy] = None,\n",
    "    optim: Optional[torch.optim.Optimizer] = None,\n",
    ") -> Tuple[BasePolicy, torch.optim.Optimizer, list]:\n",
    "    env = _get_env()\n",
    "    observation_space = (\n",
    "        env.observation_space[\"observation\"]\n",
    "        if isinstance(env.observation_space, gym.spaces.Dict)\n",
    "        else env.observation_space\n",
    "    )\n",
    "    if agent_learn is None:\n",
    "        # model\n",
    "        net = Net(\n",
    "            state_shape=observation_space.shape or observation_space.n,\n",
    "            action_shape=env.action_space.shape or env.action_space.n,\n",
    "            hidden_sizes=[128, 128, 128, 128],\n",
    "            device=\"cuda\" if torch.cuda.is_available() else \"cpu\",\n",
    "        ).to(\"cuda\" if torch.cuda.is_available() else \"cpu\")\n",
    "        if optim is None:\n",
    "            optim = torch.optim.Adam(net.parameters(), lr=1e-4)\n",
    "        agent_learn = DQNPolicy(\n",
    "            model=net,\n",
    "            optim=optim,\n",
    "            discount_factor=0.9,\n",
    "            estimation_step=3,\n",
    "            target_update_freq=320,\n",
    "        )\n",
    "\n",
    "    if agent_opponent is None:\n",
    "        agent_opponent = RandomPolicy()\n",
    "\n",
    "    agents = [agent_opponent, agent_learn]\n",
    "    policy = MultiAgentPolicyManager(agents, env)\n",
    "    return policy, optim, env.agents\n",
    "\n",
    "\n",
    "def _get_env():\n",
    "    \"\"\"This function is needed to provide callables for DummyVectorEnv.\"\"\"\n",
    "    return PettingZooEnv(tictactoe_v3.env())\n",
    "\n",
    "\n",
    "if __name__ == \"__main__\":\n",
    "    # ======== Step 1: Environment setup =========\n",
    "    train_envs = DummyVectorEnv([_get_env for _ in range(10)])\n",
    "    test_envs = DummyVectorEnv([_get_env for _ in range(10)])\n",
    "\n",
    "    # seed\n",
    "    seed = 1\n",
    "    np.random.seed(seed)\n",
    "    torch.manual_seed(seed)\n",
    "    train_envs.seed(seed)\n",
    "    test_envs.seed(seed)\n",
    "\n",
    "    # ======== Step 2: Agent setup =========\n",
    "    policy, optim, agents = _get_agents()\n",
    "\n",
    "    # ======== Step 3: Collector setup =========\n",
    "    train_collector = Collector(\n",
    "        policy,\n",
    "        train_envs,\n",
    "        VectorReplayBuffer(20_000, len(train_envs)),\n",
    "        exploration_noise=True,\n",
    "    )\n",
    "    test_collector = Collector(policy, test_envs, exploration_noise=True)\n",
    "    # policy.set_eps(1)\n",
    "    train_collector.collect(n_step=64 * 10)  # batch size * training_num\n",
    "\n",
    "    # ======== Step 4: Callback functions setup =========\n",
    "    def save_best_fn(policy):\n",
    "        model_save_path = os.path.join(\"log\", \"rps\", \"dqn\", \"policy.pth\")\n",
    "        os.makedirs(os.path.join(\"log\", \"rps\", \"dqn\"), exist_ok=True)\n",
    "        torch.save(policy.policies[agents[1]].state_dict(), model_save_path)\n",
    "\n",
    "    def stop_fn(mean_rewards):\n",
    "        return mean_rewards >= 0.6\n",
    "\n",
    "    def train_fn(epoch, env_step):\n",
    "        policy.policies[agents[1]].set_eps(0.1)\n",
    "\n",
    "    def test_fn(epoch, env_step):\n",
    "        policy.policies[agents[1]].set_eps(0.05)\n",
    "\n",
    "    def reward_metric(rews):\n",
    "        return rews[:, 1]\n",
    "\n",
    "    # ======== Step 5: Run the trainer =========\n",
    "    result = offpolicy_trainer(\n",
    "        policy=policy,\n",
    "        train_collector=train_collector,\n",
    "        test_collector=test_collector,\n",
    "        max_epoch=50,\n",
    "        step_per_epoch=1000,\n",
    "        step_per_collect=50,\n",
    "        episode_per_test=10,\n",
    "        batch_size=64,\n",
    "        train_fn=train_fn,\n",
    "        test_fn=test_fn,\n",
    "        stop_fn=stop_fn,\n",
    "        save_best_fn=save_best_fn,\n",
    "        update_per_step=0.1,\n",
    "        test_in_train=False,\n",
    "        reward_metric=reward_metric,\n",
    "    )\n",
    "\n",
    "    # return result, policy.policies[agents[1]]\n",
    "    print(f\"\\n==========Result==========\\n{result}\")\n",
    "    print(\"\\n(the trained policy can be accessed via policy.policies[agents[1]])\")"
   ]
  },
  {
   "cell_type": "code",
   "execution_count": null,
   "metadata": {},
   "outputs": [],
   "source": [
    "performance_benchmark(env)"
   ]
  },
  {
   "cell_type": "code",
   "execution_count": null,
   "metadata": {},
   "outputs": [],
   "source": [
    "import Environment\n",
    "env = Environment.VehicleJobSchedulingEnvACE()\n",
    "from pettingzoo.test import performance_benchmark\n",
    "import cProfile\n",
    "cProfile.run(\"performance_benchmark(env)\")"
   ]
  },
  {
   "cell_type": "code",
   "execution_count": null,
   "metadata": {},
   "outputs": [],
   "source": [
    "%conda install scipy"
   ]
  },
  {
   "cell_type": "code",
   "execution_count": 6,
   "metadata": {},
   "outputs": [],
   "source": [
    "from pettingzoo.utils.wrappers import BaseWrapper\n",
    "from gymnasium.wrappers import FlattenObservation\n",
    "import Environment\n",
    "from tianshou.env import PettingZooEnv\n",
    "env = Environment.VehicleJobSchedulingEnvACE()\n",
    "\n",
    "\n",
    "env = BaseWrapper(env)\n",
    "\n",
    "env = PettingZooEnv(env)\n",
    "\n"
   ]
  },
  {
   "cell_type": "code",
   "execution_count": 9,
   "metadata": {},
   "outputs": [],
   "source": [
    "obs, _, _, _,_= env.step(1)"
   ]
  },
  {
   "cell_type": "code",
   "execution_count": 15,
   "metadata": {},
   "outputs": [],
   "source": [
    "from gym.spaces import flatten,flatten_space"
   ]
  },
  {
   "cell_type": "code",
   "execution_count": 16,
   "metadata": {},
   "outputs": [
    {
     "ename": "NotImplementedError",
     "evalue": "Unknown space: `Dict('avail_slot': Box(0, 100, (10, 2), int8), 'request_job': Dict('res_vec': MultiDiscrete([20 30]), 'len': Discrete(10), 'priority': Discrete(6)))`",
     "output_type": "error",
     "traceback": [
      "\u001b[0;31m---------------------------------------------------------------------------\u001b[0m",
      "\u001b[0;31mNotImplementedError\u001b[0m                       Traceback (most recent call last)",
      "Cell \u001b[0;32mIn[16], line 1\u001b[0m\n\u001b[0;32m----> 1\u001b[0m flatten_space(env\u001b[39m.\u001b[39;49mobservation_space)\n",
      "File \u001b[0;32m/root/anaconda3/lib/python3.9/functools.py:888\u001b[0m, in \u001b[0;36msingledispatch.<locals>.wrapper\u001b[0;34m(*args, **kw)\u001b[0m\n\u001b[1;32m    884\u001b[0m \u001b[39mif\u001b[39;00m \u001b[39mnot\u001b[39;00m args:\n\u001b[1;32m    885\u001b[0m     \u001b[39mraise\u001b[39;00m \u001b[39mTypeError\u001b[39;00m(\u001b[39mf\u001b[39m\u001b[39m'\u001b[39m\u001b[39m{\u001b[39;00mfuncname\u001b[39m}\u001b[39;00m\u001b[39m requires at least \u001b[39m\u001b[39m'\u001b[39m\n\u001b[1;32m    886\u001b[0m                     \u001b[39m'\u001b[39m\u001b[39m1 positional argument\u001b[39m\u001b[39m'\u001b[39m)\n\u001b[0;32m--> 888\u001b[0m \u001b[39mreturn\u001b[39;00m dispatch(args[\u001b[39m0\u001b[39;49m]\u001b[39m.\u001b[39;49m\u001b[39m__class__\u001b[39;49m)(\u001b[39m*\u001b[39;49margs, \u001b[39m*\u001b[39;49m\u001b[39m*\u001b[39;49mkw)\n",
      "File \u001b[0;32m~/ResMan/man/lib/python3.9/site-packages/gym/spaces/utils.py:199\u001b[0m, in \u001b[0;36mflatten_space\u001b[0;34m(space)\u001b[0m\n\u001b[1;32m    160\u001b[0m \u001b[39m@singledispatch\u001b[39m\n\u001b[1;32m    161\u001b[0m \u001b[39mdef\u001b[39;00m \u001b[39mflatten_space\u001b[39m(space: Space) \u001b[39m-\u001b[39m\u001b[39m>\u001b[39m Box:\n\u001b[1;32m    162\u001b[0m \u001b[39m    \u001b[39m\u001b[39m\"\"\"Flatten a space into a single ``Box``.\u001b[39;00m\n\u001b[1;32m    163\u001b[0m \n\u001b[1;32m    164\u001b[0m \u001b[39m    This is equivalent to ``flatten()``, but operates on the space itself. The\u001b[39;00m\n\u001b[0;32m   (...)\u001b[0m\n\u001b[1;32m    197\u001b[0m \u001b[39m        True\u001b[39;00m\n\u001b[1;32m    198\u001b[0m \u001b[39m    \"\"\"\u001b[39;00m\n\u001b[0;32m--> 199\u001b[0m     \u001b[39mraise\u001b[39;00m \u001b[39mNotImplementedError\u001b[39;00m(\u001b[39mf\u001b[39m\u001b[39m\"\u001b[39m\u001b[39mUnknown space: `\u001b[39m\u001b[39m{\u001b[39;00mspace\u001b[39m}\u001b[39;00m\u001b[39m`\u001b[39m\u001b[39m\"\u001b[39m)\n",
      "\u001b[0;31mNotImplementedError\u001b[0m: Unknown space: `Dict('avail_slot': Box(0, 100, (10, 2), int8), 'request_job': Dict('res_vec': MultiDiscrete([20 30]), 'len': Discrete(10), 'priority': Discrete(6)))`"
     ]
    }
   ],
   "source": [
    "flatten_space(env.observation_space)"
   ]
  },
  {
   "cell_type": "code",
   "execution_count": 13,
   "metadata": {},
   "outputs": [
    {
     "ename": "NotImplementedError",
     "evalue": "Unknown space: `Dict('avail_slot': Box(0, 100, (10, 2), int8), 'request_job': Dict('res_vec': MultiDiscrete([20 30]), 'len': Discrete(10), 'priority': Discrete(6)))`",
     "output_type": "error",
     "traceback": [
      "\u001b[0;31m---------------------------------------------------------------------------\u001b[0m",
      "\u001b[0;31mNotImplementedError\u001b[0m                       Traceback (most recent call last)",
      "Cell \u001b[0;32mIn[13], line 1\u001b[0m\n\u001b[0;32m----> 1\u001b[0m flatten(env\u001b[39m.\u001b[39;49mobservation_space, obs)\n",
      "File \u001b[0;32m/root/anaconda3/lib/python3.9/functools.py:888\u001b[0m, in \u001b[0;36msingledispatch.<locals>.wrapper\u001b[0;34m(*args, **kw)\u001b[0m\n\u001b[1;32m    884\u001b[0m \u001b[39mif\u001b[39;00m \u001b[39mnot\u001b[39;00m args:\n\u001b[1;32m    885\u001b[0m     \u001b[39mraise\u001b[39;00m \u001b[39mTypeError\u001b[39;00m(\u001b[39mf\u001b[39m\u001b[39m'\u001b[39m\u001b[39m{\u001b[39;00mfuncname\u001b[39m}\u001b[39;00m\u001b[39m requires at least \u001b[39m\u001b[39m'\u001b[39m\n\u001b[1;32m    886\u001b[0m                     \u001b[39m'\u001b[39m\u001b[39m1 positional argument\u001b[39m\u001b[39m'\u001b[39m)\n\u001b[0;32m--> 888\u001b[0m \u001b[39mreturn\u001b[39;00m dispatch(args[\u001b[39m0\u001b[39;49m]\u001b[39m.\u001b[39;49m\u001b[39m__class__\u001b[39;49m)(\u001b[39m*\u001b[39;49margs, \u001b[39m*\u001b[39;49m\u001b[39m*\u001b[39;49mkw)\n",
      "File \u001b[0;32m~/ResMan/man/lib/python3.9/site-packages/gym/spaces/utils.py:69\u001b[0m, in \u001b[0;36mflatten\u001b[0;34m(space, x)\u001b[0m\n\u001b[1;32m     58\u001b[0m \u001b[39m@singledispatch\u001b[39m\n\u001b[1;32m     59\u001b[0m \u001b[39mdef\u001b[39;00m \u001b[39mflatten\u001b[39m(space: Space[T], x: T) \u001b[39m-\u001b[39m\u001b[39m>\u001b[39m np\u001b[39m.\u001b[39mndarray:\n\u001b[1;32m     60\u001b[0m \u001b[39m    \u001b[39m\u001b[39m\"\"\"Flatten a data point from a space.\u001b[39;00m\n\u001b[1;32m     61\u001b[0m \n\u001b[1;32m     62\u001b[0m \u001b[39m    This is useful when e.g. points from spaces must be passed to a neural\u001b[39;00m\n\u001b[0;32m   (...)\u001b[0m\n\u001b[1;32m     67\u001b[0m \u001b[39m    ``gym.spaces``.\u001b[39;00m\n\u001b[1;32m     68\u001b[0m \u001b[39m    \"\"\"\u001b[39;00m\n\u001b[0;32m---> 69\u001b[0m     \u001b[39mraise\u001b[39;00m \u001b[39mNotImplementedError\u001b[39;00m(\u001b[39mf\u001b[39m\u001b[39m\"\u001b[39m\u001b[39mUnknown space: `\u001b[39m\u001b[39m{\u001b[39;00mspace\u001b[39m}\u001b[39;00m\u001b[39m`\u001b[39m\u001b[39m\"\u001b[39m)\n",
      "\u001b[0;31mNotImplementedError\u001b[0m: Unknown space: `Dict('avail_slot': Box(0, 100, (10, 2), int8), 'request_job': Dict('res_vec': MultiDiscrete([20 30]), 'len': Discrete(10), 'priority': Discrete(6)))`"
     ]
    }
   ],
   "source": [
    "flatten(env.observation_space, obs)"
   ]
  },
  {
   "cell_type": "code",
   "execution_count": 28,
   "metadata": {},
   "outputs": [],
   "source": [
    "obs = env.observation_space\n"
   ]
  },
  {
   "cell_type": "code",
   "execution_count": 29,
   "metadata": {},
   "outputs": [
    {
     "data": {
      "text/plain": [
       "Box(0, [100 100 100 100 100 100 100 100 100 100 100 100 100 100 100 100 100 100\n",
       " 100 100   1   1   1   1   1   1   1   1   1   1   1   1   1   1   1   1\n",
       "   1   1   1   1   1   1   1   1   1   1   1   1   1   1   1   1   1   1\n",
       "   1   1   1   1   1   1   1   1   1   1   1   1   1   1   1   1   1   1\n",
       "   1   1   1   1   1   1   1   1   1   1   1   1   1   1], (86,), int64)"
      ]
     },
     "execution_count": 29,
     "metadata": {},
     "output_type": "execute_result"
    }
   ],
   "source": [
    "obs"
   ]
  },
  {
   "cell_type": "code",
   "execution_count": 30,
   "metadata": {},
   "outputs": [],
   "source": [
    "obss = obs.sample()"
   ]
  },
  {
   "cell_type": "code",
   "execution_count": 31,
   "metadata": {},
   "outputs": [
    {
     "data": {
      "text/plain": [
       "array([61, 70, 29,  8, 60, 72, 96, 23, 58, 32, 37, 97,  5, 27, 26, 90,  6,\n",
       "       61, 17, 38,  0,  0,  1,  1,  1,  0,  0,  1,  0,  1,  0,  0,  1,  1,\n",
       "        1,  0,  0,  1,  0,  1,  1,  1,  1,  0,  0,  1,  1,  1,  1,  1,  0,\n",
       "        0,  1,  1,  0,  0,  1,  0,  1,  0,  0,  1,  1,  1,  1,  1,  0,  1,\n",
       "        0,  1,  0,  0,  0,  1,  1,  1,  0,  1,  0,  0,  1,  0,  1,  1,  0,\n",
       "        1])"
      ]
     },
     "execution_count": 31,
     "metadata": {},
     "output_type": "execute_result"
    }
   ],
   "source": [
    "obss"
   ]
  },
  {
   "cell_type": "code",
   "execution_count": 11,
   "metadata": {},
   "outputs": [],
   "source": [
    "import numpy as np"
   ]
  },
  {
   "cell_type": "code",
   "execution_count": 25,
   "metadata": {},
   "outputs": [
    {
     "data": {
      "text/plain": [
       "array([100,  36,  62,  95,  77,  33,  43,  89,  70,  85,  56,  80,  29,\n",
       "        67,   3,   0,  15,   4,  59,  92,   4,  25,   7,   0])"
      ]
     },
     "execution_count": 25,
     "metadata": {},
     "output_type": "execute_result"
    }
   ],
   "source": [
    "np.concatenate([np.ravel(obss[\"avail_slot\"]),np.hstack([obss[\"request_job\"][item] for item in obss[\"request_job\"]])])"
   ]
  },
  {
   "cell_type": "code",
   "execution_count": 15,
   "metadata": {},
   "outputs": [
    {
     "data": {
      "text/plain": [
       "[array([ 4, 25]), 7, 0]"
      ]
     },
     "execution_count": 15,
     "metadata": {},
     "output_type": "execute_result"
    }
   ],
   "source": [
    "[obss[\"request_job\"][item] for item in obss[\"request_job\"]]"
   ]
  },
  {
   "cell_type": "code",
   "execution_count": 20,
   "metadata": {},
   "outputs": [
    {
     "ename": "ValueError",
     "evalue": "all the input arrays must have same number of dimensions, but the array at index 0 has 1 dimension(s) and the array at index 1 has 0 dimension(s)",
     "output_type": "error",
     "traceback": [
      "\u001b[0;31m---------------------------------------------------------------------------\u001b[0m",
      "\u001b[0;31mValueError\u001b[0m                                Traceback (most recent call last)",
      "Cell \u001b[0;32mIn[20], line 1\u001b[0m\n\u001b[0;32m----> 1\u001b[0m np\u001b[39m.\u001b[39;49mconcatenate(([[ \u001b[39m4\u001b[39;49m, \u001b[39m25\u001b[39;49m], \u001b[39m7\u001b[39;49m, \u001b[39m0\u001b[39;49m]),axis\u001b[39m=\u001b[39;49m\u001b[39m0\u001b[39;49m)\n",
      "File \u001b[0;32m<__array_function__ internals>:180\u001b[0m, in \u001b[0;36mconcatenate\u001b[0;34m(*args, **kwargs)\u001b[0m\n",
      "\u001b[0;31mValueError\u001b[0m: all the input arrays must have same number of dimensions, but the array at index 0 has 1 dimension(s) and the array at index 1 has 0 dimension(s)"
     ]
    }
   ],
   "source": [
    "np.concatenate(([[ 4, 25], 7, 0]),axis=0)"
   ]
  },
  {
   "cell_type": "code",
   "execution_count": 23,
   "metadata": {},
   "outputs": [
    {
     "data": {
      "text/plain": [
       "array([ 4, 25,  7,  0])"
      ]
     },
     "execution_count": 23,
     "metadata": {},
     "output_type": "execute_result"
    }
   ],
   "source": [
    "np.hstack([obss[\"request_job\"][item] for item in obss[\"request_job\"]])"
   ]
  },
  {
   "cell_type": "code",
   "execution_count": 12,
   "metadata": {},
   "outputs": [
    {
     "ename": "ValueError",
     "evalue": "all the input arrays must have same number of dimensions, but the array at index 0 has 2 dimension(s) and the array at index 1 has 0 dimension(s)",
     "output_type": "error",
     "traceback": [
      "\u001b[0;31m---------------------------------------------------------------------------\u001b[0m",
      "\u001b[0;31mValueError\u001b[0m                                Traceback (most recent call last)",
      "Cell \u001b[0;32mIn[12], line 1\u001b[0m\n\u001b[0;32m----> 1\u001b[0m flatten_obs \u001b[39m=\u001b[39m np\u001b[39m.\u001b[39;49mconcatenate([obss[key] \u001b[39mfor\u001b[39;49;00m key \u001b[39min\u001b[39;49;00m obss\u001b[39m.\u001b[39;49mkeys()])\n",
      "File \u001b[0;32m<__array_function__ internals>:180\u001b[0m, in \u001b[0;36mconcatenate\u001b[0;34m(*args, **kwargs)\u001b[0m\n",
      "\u001b[0;31mValueError\u001b[0m: all the input arrays must have same number of dimensions, but the array at index 0 has 2 dimension(s) and the array at index 1 has 0 dimension(s)"
     ]
    }
   ],
   "source": [
    "flatten_obs = np.ravel(obss[\"avail_slot\"])\n"
   ]
  },
  {
   "cell_type": "code",
   "execution_count": 8,
   "metadata": {},
   "outputs": [],
   "source": [
    "def flaten_obs(obss):\n",
    "    return obss.flatten()"
   ]
  },
  {
   "cell_type": "code",
   "execution_count": 3,
   "metadata": {},
   "outputs": [],
   "source": [
    "import gym.spaces as spaces\n",
    "from gym.spaces.utils import flatten, flatten_space\n",
    "import numpy as np\n",
    "from collections import OrderedDict\n",
    "import supersuit\n",
    "nobs = spaces.Dict(\n",
    "            OrderedDict(\n",
    "                [\n",
    "                    (\n",
    "                        \"avail_slot\",\n",
    "                        spaces.Box(\n",
    "                            low=0,\n",
    "                            high=100,\n",
    "                            shape=(\n",
    "                                10,\n",
    "                                2,\n",
    "                            ),\n",
    "                            dtype=np.int8,\n",
    "                        ),\n",
    "                    ),\n",
    "                    (\n",
    "                        \"request_res_vec\",\n",
    "                        spaces.MultiDiscrete([20,30]),\n",
    "                    ),\n",
    "                    (\n",
    "                        \"request_len\",\n",
    "                        spaces.Discrete(10),\n",
    "                    ),\n",
    "                    (\n",
    "                        \"request_priority\",\n",
    "                        spaces.Discrete(6),\n",
    "                    ),\n",
    "                ]\n",
    "            )\n",
    "        )\n",
    "obss = nobs.sample()\n",
    "obs_flat = flatten_space(nobs)\n",
    "obssf = flatten(nobs,obss)\n"
   ]
  },
  {
   "cell_type": "code",
   "execution_count": 4,
   "metadata": {},
   "outputs": [
    {
     "data": {
      "text/plain": [
       "Dict(avail_slot:Box(0, 100, (10, 2), int8), request_res_vec:MultiDiscrete([20 30]), request_len:Discrete(10), request_priority:Discrete(6))"
      ]
     },
     "execution_count": 4,
     "metadata": {},
     "output_type": "execute_result"
    }
   ],
   "source": [
    "nobs"
   ]
  },
  {
   "cell_type": "code",
   "execution_count": 9,
   "metadata": {},
   "outputs": [
    {
     "data": {
      "text/plain": [
       "Dict('avail_slot': Box(0, 100, (10, 2), int8), 'request_res_vec': MultiDiscrete([20 30]), 'request_len': Discrete(10), 'request_priority': Discrete(6))"
      ]
     },
     "execution_count": 9,
     "metadata": {},
     "output_type": "execute_result"
    }
   ],
   "source": [
    "obs"
   ]
  },
  {
   "cell_type": "code",
   "execution_count": 3,
   "metadata": {},
   "outputs": [
    {
     "data": {
      "text/plain": [
       "array([42, 95, 51, 26, 96, 45, 83, 96, 87, 82, 88, 76, 79,  4, 63, 52,  7,\n",
       "       93, 15,  6,  1,  0,  0,  0,  0,  0,  0,  0,  0,  0,  0,  0,  0,  0,\n",
       "        0,  0,  0,  0,  0,  0,  0,  0,  1,  0,  0,  0,  0,  0,  0,  0,  0,\n",
       "        0,  0,  0,  0,  0,  0,  0,  0,  0,  0,  0,  0,  0,  0,  0,  0,  0,\n",
       "        0,  0,  0,  0,  1,  0,  0,  0,  0,  0,  0,  0,  1,  0,  0,  0,  0,\n",
       "        0])"
      ]
     },
     "execution_count": 3,
     "metadata": {},
     "output_type": "execute_result"
    }
   ],
   "source": [
    "obssf\n"
   ]
  },
  {
   "cell_type": "code",
   "execution_count": 1,
   "metadata": {},
   "outputs": [
    {
     "data": {
      "text/plain": [
       "array([20, 44, 20, 44, 20, 44, 20, 44, 20, 44, 20, 44, 20, 44, 20, 44, 20,\n",
       "       44, 20, 44,  1,  0,  0,  0,  0,  0,  0,  0,  0,  0,  0,  0,  0,  0,\n",
       "        0,  0,  0,  0,  0,  0,  1,  0,  0,  0,  0,  0,  0,  0,  0,  0,  0,\n",
       "        0,  0,  0,  0,  0,  0,  0,  0,  0,  0,  0,  0,  0,  0,  0,  0,  0,\n",
       "        0,  0,  1,  0,  0,  0,  0,  0,  0,  0,  0,  0,  1,  0,  0,  0,  0,\n",
       "        0])"
      ]
     },
     "execution_count": 1,
     "metadata": {},
     "output_type": "execute_result"
    }
   ],
   "source": [
    "import Environment\n",
    "env = Environment.VehicleJobSchedulingEnvACE()\n",
    "from gymnasium import spaces\n",
    "import gymnasium.spaces.utils as utils\n",
    "import numpy as np\n",
    "from collections import OrderedDict\n",
    "\n",
    "utils.flatten(env.obs,env.parameters.cluster.machines[0].observe())"
   ]
  },
  {
   "cell_type": "code",
   "execution_count": 4,
   "metadata": {},
   "outputs": [
    {
     "data": {
      "text/plain": [
       "OrderedDict([('avail_slot',\n",
       "              array([[23, 40],\n",
       "                     [23, 40],\n",
       "                     [23, 40],\n",
       "                     [23, 40],\n",
       "                     [23, 40],\n",
       "                     [23, 40],\n",
       "                     [23, 40],\n",
       "                     [23, 40],\n",
       "                     [23, 40],\n",
       "                     [23, 40]], dtype=int8)),\n",
       "             ('request_res_vec', [0, 0]),\n",
       "             ('request_len', 0),\n",
       "             ('request_priority', 0)])"
      ]
     },
     "execution_count": 4,
     "metadata": {},
     "output_type": "execute_result"
    }
   ],
   "source": [
    "env.parameters.cluster.machines[0].observe()"
   ]
  },
  {
   "cell_type": "code",
   "execution_count": 6,
   "metadata": {},
   "outputs": [
    {
     "ename": "NameError",
     "evalue": "name 'flatten' is not defined",
     "output_type": "error",
     "traceback": [
      "\u001b[0;31m---------------------------------------------------------------------------\u001b[0m",
      "\u001b[0;31mNameError\u001b[0m                                 Traceback (most recent call last)",
      "Cell \u001b[0;32mIn[6], line 1\u001b[0m\n\u001b[0;32m----> 1\u001b[0m flatten(env\u001b[39m.\u001b[39mobservation_space, env\u001b[39m.\u001b[39mobs)\n",
      "\u001b[0;31mNameError\u001b[0m: name 'flatten' is not defined"
     ]
    }
   ],
   "source": [
    "flatten(env.observation_space, env.obs)"
   ]
  },
  {
   "cell_type": "code",
   "execution_count": 5,
   "metadata": {},
   "outputs": [
    {
     "data": {
      "text/plain": [
       "OrderedDict([('avail_slot',\n",
       "              array([[26, 56],\n",
       "                     [47,  6],\n",
       "                     [31, 70],\n",
       "                     [97, 54],\n",
       "                     [ 5, 23],\n",
       "                     [73, 15],\n",
       "                     [ 8, 96],\n",
       "                     [42, 76],\n",
       "                     [81, 33],\n",
       "                     [22, 12]], dtype=int8)),\n",
       "             ('request_res_vec', array([ 8, 19])),\n",
       "             ('request_len', 3),\n",
       "             ('request_priority', 3)])"
      ]
     },
     "execution_count": 5,
     "metadata": {},
     "output_type": "execute_result"
    }
   ],
   "source": [
    "env.obs.sample()"
   ]
  },
  {
   "cell_type": "code",
   "execution_count": 14,
   "metadata": {},
   "outputs": [
    {
     "data": {
      "text/plain": [
       "Dict('avail_slot': Box(0, 100, (10, 2), int8), 'request_res_vec': MultiDiscrete([20 30]), 'request_len': Discrete(10), 'request_priority': Discrete(6))"
      ]
     },
     "execution_count": 14,
     "metadata": {},
     "output_type": "execute_result"
    }
   ],
   "source": [
    "env.obs"
   ]
  },
  {
   "cell_type": "code",
   "execution_count": 15,
   "metadata": {},
   "outputs": [
    {
     "data": {
      "text/plain": [
       "Dict('avail_slot': Box(0, 100, (10, 2), int8), 'request_res_vec': MultiDiscrete([20 30]), 'request_len': Discrete(10), 'request_priority': Discrete(6))"
      ]
     },
     "execution_count": 15,
     "metadata": {},
     "output_type": "execute_result"
    }
   ],
   "source": [
    "obs"
   ]
  },
  {
   "cell_type": "code",
   "execution_count": 17,
   "metadata": {},
   "outputs": [
    {
     "data": {
      "text/plain": [
       "Box(0, [100 100 100 100 100 100 100 100 100 100 100 100 100 100 100 100 100 100\n",
       " 100 100   1   1   1   1   1   1   1   1   1   1   1   1   1   1   1   1\n",
       "   1   1   1   1   1   1   1   1   1   1   1   1   1   1   1   1   1   1\n",
       "   1   1   1   1   1   1   1   1   1   1   1   1   1   1   1   1   1   1\n",
       "   1   1   1   1   1   1   1   1   1   1   1   1   1   1], (86,), int64)"
      ]
     },
     "execution_count": 17,
     "metadata": {},
     "output_type": "execute_result"
    }
   ],
   "source": [
    "obs_flat = utils.flatten_space(env.obs)\n",
    "obs_flat"
   ]
  },
  {
   "cell_type": "code",
   "execution_count": 19,
   "metadata": {},
   "outputs": [],
   "source": [
    "obss = obs.sample()\n",
    "obs_flat = utils.flatten_space(obs)\n",
    "obssf = utils.flatten(obs,obss)"
   ]
  },
  {
   "cell_type": "code",
   "execution_count": 3,
   "metadata": {},
   "outputs": [
    {
     "data": {
      "text/plain": [
       "30"
      ]
     },
     "execution_count": 3,
     "metadata": {},
     "output_type": "execute_result"
    }
   ],
   "source": [
    "np.max([20,30])"
   ]
  },
  {
   "cell_type": "code",
   "execution_count": 1,
   "metadata": {},
   "outputs": [
    {
     "name": "stdout",
     "output_type": "stream",
     "text": [
      "Starting performance benchmark\n",
      "5449.794705495007 turns per second\n",
      "544.9794705495008 cycles per second\n",
      "Finished performance benchmark\n",
      "         3299429 function calls (3190399 primitive calls) in 5.002 seconds\n",
      "\n",
      "   Ordered by: standard name\n",
      "\n",
      "   ncalls  tottime  percall  cumtime  percall filename:lineno(function)\n",
      "    55642    0.056    0.000    0.495    0.000 <__array_function__ internals>:177(all)\n",
      "       20    0.000    0.000    0.000    0.000 <__array_function__ internals>:177(amax)\n",
      "       40    0.000    0.000    0.000    0.000 <__array_function__ internals>:177(amin)\n",
      "    27250    0.022    0.000    0.230    0.000 <__array_function__ internals>:177(any)\n",
      "     1887    0.002    0.000    0.025    0.000 <__array_function__ internals>:177(argsort)\n",
      "        3    0.000    0.000    0.000    0.000 <__array_function__ internals>:177(atleast_1d)\n",
      "        3    0.000    0.000    0.000    0.000 <__array_function__ internals>:177(broadcast_arrays)\n",
      "    27264    0.023    0.000    0.121    0.000 <__array_function__ internals>:177(concatenate)\n",
      "       50    0.000    0.000    0.000    0.000 <__array_function__ internals>:177(copyto)\n",
      "    11517    0.043    0.000    0.076    0.000 <__array_function__ internals>:177(dot)\n",
      "     1887    0.002    0.000    0.011    0.000 <__array_function__ internals>:177(sort)\n",
      "        1    0.000    0.000    5.002    5.002 <string>:1(<module>)\n",
      "        3    0.000    0.000    0.000    0.000 <string>:5(_parse_args_rvs)\n",
      "     1887    0.007    0.000    0.044    0.000 AllocationMechanism.py:25(allocate)\n",
      "     7572    0.022    0.000    0.668    0.000 Auction.py:19(auction)\n",
      "     7572    0.023    0.000    0.535    0.000 Auction.py:37(request_auction)\n",
      "        1    0.000    0.000    0.000    0.000 Environment.py:100(reset)\n",
      "       74    0.000    0.000    0.000    0.000 Environment.py:108(stop_condition_total_job)\n",
      "       10    0.000    0.000    0.002    0.000 Environment.py:313(action_space)\n",
      "        1    0.000    0.000    0.002    0.002 Environment.py:317(reset)\n",
      "        1    0.000    0.000    0.000    0.000 Environment.py:320(<listcomp>)\n",
      "        1    0.000    0.000    0.000    0.000 Environment.py:323(<dictcomp>)\n",
      "        1    0.000    0.000    0.000    0.000 Environment.py:324(<dictcomp>)\n",
      "        1    0.000    0.000    0.000    0.000 Environment.py:325(<dictcomp>)\n",
      "        1    0.000    0.000    0.000    0.000 Environment.py:326(<dictcomp>)\n",
      "        1    0.000    0.000    0.000    0.000 Environment.py:327(<dictcomp>)\n",
      "        1    0.000    0.000    0.001    0.001 Environment.py:328(<dictcomp>)\n",
      "        1    0.000    0.000    0.000    0.000 Environment.py:334(<dictcomp>)\n",
      "        1    0.000    0.000    0.000    0.000 Environment.py:343(<listcomp>)\n",
      "    27250    0.011    0.000    0.011    0.000 Environment.py:346(observe)\n",
      "     7648    0.003    0.000    0.409    0.000 Environment.py:371(get_job_next_step)\n",
      "     7648    0.015    0.000    0.055    0.000 Environment.py:378(_agent_selector)\n",
      "     7573    0.030    0.000    0.030    0.000 Environment.py:381(<listcomp>)\n",
      "     7647    0.013    0.000    0.681    0.000 Environment.py:388(auction)\n",
      "     7647    0.181    0.000    1.811    0.000 Environment.py:392(next_job)\n",
      "       74    0.002    0.000    0.030    0.000 Environment.py:410(<dictcomp>)\n",
      "       74    0.000    0.000    0.005    0.000 Environment.py:423(round_end)\n",
      "    27250    0.138    0.000    2.716    0.000 Environment.py:435(step)\n",
      "     9084    0.015    0.000    0.143    0.000 Job.py:117(__init__)\n",
      "     9084    0.005    0.000    0.005    0.000 Job.py:149(generate_job)\n",
      "     9084    0.018    0.000    0.124    0.000 Job.py:153(calculate_budget)\n",
      "      668    0.002    0.000    0.002    0.000 Job.py:177(start)\n",
      "      668    0.000    0.000    0.000    0.000 Job.py:183(finish)\n",
      "        1    0.000    0.000    0.000    0.000 Job.py:255(reset)\n",
      "        3    0.017    0.006    0.329    0.110 Job.py:285(get_job_collections)\n",
      "        1    0.000    0.000    0.000    0.000 Job.py:310(__iter__)\n",
      "        3    0.000    0.000    0.329    0.110 Job.py:313(__next__)\n",
      "       10    0.000    0.000    0.000    0.000 Job.py:323(__init__)\n",
      "       10    0.000    0.000    0.000    0.000 Job.py:409(__init__)\n",
      "     9084    0.004    0.000    0.025    0.000 Job.py:52(priority_dist)\n",
      "     9084    0.035    0.000    0.142    0.000 Job.py:68(bi_model_dist)\n",
      "      740    0.000    0.000    0.000    0.000 Machine.py:103(clear_job)\n",
      "    27253    0.088    0.000    0.157    0.000 Machine.py:106(observe)\n",
      "     2433    0.001    0.000    0.001    0.000 Machine.py:152(request_auction)\n",
      "    26499    0.235    0.000    0.434    0.000 Machine.py:157(can_allocate)\n",
      "     1887    0.022    0.000    0.041    0.000 Machine.py:182(allocate_job)\n",
      "      740    0.003    0.000    0.004    0.000 Machine.py:223(step)\n",
      "       74    0.000    0.000    0.004    0.000 Machine.py:393(step)\n",
      "       74    0.000    0.000    0.004    0.000 Machine.py:394(<listcomp>)\n",
      "       74    0.000    0.000    0.000    0.000 Machine.py:398(get_finish_job_total)\n",
      "       74    0.000    0.000    0.000    0.000 Machine.py:399(<listcomp>)\n",
      "       74    0.000    0.000    0.000    0.000 Machine.py:404(clear_job)\n",
      "        1    0.000    0.000    0.000    0.000 Machine.py:408(reset)\n",
      "    26499    0.006    0.000    0.006    0.000 Machine.py:413(get_machine)\n",
      "     7572    0.013    0.000    0.053    0.000 Machine.py:435(__init__)\n",
      "     7572    0.034    0.000    0.040    0.000 Machine.py:436(<listcomp>)\n",
      "     7572    0.004    0.000    0.025    0.000 Machine.py:441(get_bids)\n",
      "     7572    0.022    0.000    0.459    0.000 Machine.py:445(request_bids)\n",
      "        1    0.000    0.000    0.000    0.000 Machine.py:482(reset)\n",
      "        3    0.013    0.004    0.405    0.135 Machine.py:487(generate_restrict)\n",
      "        1    0.000    0.000    0.000    0.000 Machine.py:513(__iter__)\n",
      "        3    0.000    0.000    0.405    0.135 Machine.py:516(__next__)\n",
      "        1    0.000    0.000    0.000    0.000 Machine.py:521(__init__)\n",
      "        1    0.000    0.000    0.000    0.000 Machine.py:526(__iter__)\n",
      "       75    0.001    0.000    0.406    0.005 Machine.py:529(__next__)\n",
      "       10    0.000    0.000    0.000    0.000 Machine.py:80(reset)\n",
      "     2433    0.002    0.000    0.020    0.000 Machine.py:89(get_bid)\n",
      "     2433    0.006    0.000    0.018    0.000 Machine.py:94(drl_bid)\n",
      "        3    0.000    0.000    0.000    0.000 _discrete_distns.py:811(_argcheck)\n",
      "        3    0.000    0.000    0.000    0.000 _discrete_distns.py:814(_rvs)\n",
      "        3    0.000    0.000    0.001    0.000 _distn_infrastructure.py:1032(rvs)\n",
      "        3    0.000    0.000    0.001    0.000 _distn_infrastructure.py:3087(rvs)\n",
      "        3    0.000    0.000    0.000    0.000 _distn_infrastructure.py:883(_argcheck_rvs)\n",
      "        9    0.000    0.000    0.000    0.000 _distn_infrastructure.py:897(squeeze_left)\n",
      "        3    0.000    0.000    0.000    0.000 _distn_infrastructure.py:913(<listcomp>)\n",
      "        3    0.000    0.000    0.000    0.000 _distn_infrastructure.py:942(<listcomp>)\n",
      "        6    0.000    0.000    0.000    0.000 _methods.py:60(_all)\n",
      "       22    0.000    0.000    0.000    0.000 _ufunc_config.py:131(geterr)\n",
      "       22    0.000    0.000    0.000    0.000 _ufunc_config.py:32(seterr)\n",
      "       11    0.000    0.000    0.000    0.000 _ufunc_config.py:429(__enter__)\n",
      "       11    0.000    0.000    0.000    0.000 _ufunc_config.py:434(__exit__)\n",
      "       13    0.000    0.000    0.000    0.000 abc.py:117(__instancecheck__)\n",
      "      8/2    0.000    0.000    0.000    0.000 abc.py:121(__subclasscheck__)\n",
      "     7648    0.004    0.000    0.010    0.000 agent_selector.py:12(__init__)\n",
      "     7648    0.006    0.000    0.006    0.000 agent_selector.py:15(reinit)\n",
      "    27251    0.028    0.000    0.035    0.000 agent_selector.py:24(next)\n",
      "    28000    0.011    0.000    0.011    0.000 agent_selector.py:29(is_last)\n",
      "       20    0.000    0.000    0.001    0.000 box.py:13(_short_repr)\n",
      "    27260    0.006    0.000    0.006    0.000 box.py:139(shape)\n",
      "    54506    0.007    0.000    0.007    0.000 box.py:144(is_np_flattenable)\n",
      "    27250    0.632    0.000    2.016    0.000 box.py:174(sample)\n",
      "       40    0.000    0.000    0.000    0.000 box.py:30(is_float_integer)\n",
      "       30    0.000    0.000    0.000    0.000 box.py:316(get_precision)\n",
      "       20    0.000    0.000    0.000    0.000 box.py:324(_broadcast)\n",
      "       10    0.000    0.000    0.001    0.000 box.py:55(__init__)\n",
      "       20    0.000    0.000    0.000    0.000 box.py:90(<genexpr>)\n",
      "       20    0.000    0.000    0.000    0.000 box.py:93(<genexpr>)\n",
      "       11    0.000    0.000    0.000    0.000 contextlib.py:63(_recreate_cm)\n",
      "       11    0.000    0.000    0.001    0.000 contextlib.py:76(inner)\n",
      "    27253    0.031    0.000    0.130    0.000 dict.py:106(is_np_flattenable)\n",
      "   136265    0.053    0.000    0.066    0.000 dict.py:109(<genexpr>)\n",
      "    54506    0.005    0.000    0.005    0.000 discrete.py:53(is_np_flattenable)\n",
      "     2725    0.001    0.000    0.002    0.000 env.py:135(num_agents)\n",
      "    27250    0.036    0.000    0.036    0.000 env.py:158(_clear_rewards)\n",
      "      750    0.003    0.000    0.003    0.000 env.py:163(_accumulate_rewards)\n",
      "     2725    0.002    0.000    0.003    0.000 env.py:171(agent_iter)\n",
      "    27250    0.032    0.000    0.043    0.000 env.py:178(last)\n",
      "     2725    0.001    0.000    0.001    0.000 env.py:256(__init__)\n",
      "     2725    0.002    0.000    0.002    0.000 env.py:260(__iter__)\n",
      "     2725    0.001    0.000    0.001    0.000 env.py:265(__init__)\n",
      "    29975    0.026    0.000    0.026    0.000 env.py:269(__next__)\n",
      "     1887    0.000    0.000    0.000    0.000 fromnumeric.py:1008(_argsort_dispatcher)\n",
      "     1887    0.002    0.000    0.021    0.000 fromnumeric.py:1012(argsort)\n",
      "    27250    0.005    0.000    0.005    0.000 fromnumeric.py:2300(_any_dispatcher)\n",
      "    27250    0.027    0.000    0.139    0.000 fromnumeric.py:2305(any)\n",
      "    55642    0.010    0.000    0.010    0.000 fromnumeric.py:2399(_all_dispatcher)\n",
      "    55642    0.063    0.000    0.377    0.000 fromnumeric.py:2404(all)\n",
      "       20    0.000    0.000    0.000    0.000 fromnumeric.py:2670(_amax_dispatcher)\n",
      "       20    0.000    0.000    0.000    0.000 fromnumeric.py:2675(amax)\n",
      "       40    0.000    0.000    0.000    0.000 fromnumeric.py:2795(_amin_dispatcher)\n",
      "       40    0.000    0.000    0.000    0.000 fromnumeric.py:2800(amin)\n",
      "     1887    0.007    0.000    0.015    0.000 fromnumeric.py:38(_wrapit)\n",
      "     1887    0.004    0.000    0.019    0.000 fromnumeric.py:51(_wrapfunc)\n",
      "    82952    0.134    0.000    0.427    0.000 fromnumeric.py:69(_wrapreduction)\n",
      "    82952    0.039    0.000    0.039    0.000 fromnumeric.py:70(<dictcomp>)\n",
      "     1887    0.000    0.000    0.000    0.000 fromnumeric.py:848(_sort_dispatcher)\n",
      "     1887    0.003    0.000    0.008    0.000 fromnumeric.py:852(sort)\n",
      "   136265    0.080    0.000    0.148    0.000 functools.py:817(dispatch)\n",
      "136265/27253    0.111    0.000    1.001    0.000 functools.py:883(wrapper)\n",
      "       30    0.000    0.000    0.000    0.000 getlimits.py:457(__new__)\n",
      "        2    0.000    0.000    0.000    0.000 iostream.py:203(schedule)\n",
      "        8    0.000    0.000    0.000    0.000 iostream.py:444(_is_master_process)\n",
      "        8    0.000    0.000    0.000    0.000 iostream.py:465(_schedule_flush)\n",
      "        8    0.000    0.000    0.000    0.000 iostream.py:535(write)\n",
      "        2    0.000    0.000    0.000    0.000 iostream.py:90(_event_pipe)\n",
      "       50    0.000    0.000    0.000    0.000 multiarray.py:1071(copyto)\n",
      "    27264    0.005    0.000    0.005    0.000 multiarray.py:148(concatenate)\n",
      "    11517    0.002    0.000    0.002    0.000 multiarray.py:736(dot)\n",
      "       10    0.000    0.000    0.000    0.000 numeric.py:149(ones)\n",
      "        3    0.000    0.000    0.000    0.000 numeric.py:1859(isscalar)\n",
      "       40    0.000    0.000    0.000    0.000 numeric.py:289(full)\n",
      "      200    0.000    0.000    0.000    0.000 numerictypes.py:282(issubclass_)\n",
      "      100    0.000    0.000    0.000    0.000 numerictypes.py:356(issubdtype)\n",
      "        1    0.160    0.160    5.002    5.002 performance_benchmark.py:7(performance_benchmark)\n",
      "       11    0.000    0.000    0.000    0.000 random.py:791(getrandbits)\n",
      "       10    0.000    0.000    0.001    0.000 seeding.py:9(np_random)\n",
      "        3    0.000    0.000    0.000    0.000 shape_base.py:19(_atleast_1d_dispatcher)\n",
      "        3    0.000    0.000    0.000    0.000 shape_base.py:23(atleast_1d)\n",
      "        2    0.000    0.000    0.000    0.000 socket.py:613(send)\n",
      "       10    0.000    0.000    0.001    0.000 space.py:105(seed)\n",
      "       10    0.000    0.000    0.000    0.000 space.py:44(__init__)\n",
      "   109000    0.026    0.000    0.027    0.000 space.py:66(np_random)\n",
      "        3    0.000    0.000    0.000    0.000 stride_tricks.py:415(_broadcast_shape)\n",
      "        3    0.000    0.000    0.000    0.000 stride_tricks.py:475(_broadcast_arrays_dispatcher)\n",
      "        3    0.000    0.000    0.000    0.000 stride_tricks.py:479(broadcast_arrays)\n",
      "        3    0.000    0.000    0.000    0.000 stride_tricks.py:537(<listcomp>)\n",
      "       12    0.000    0.000    0.000    0.000 stride_tricks.py:541(<genexpr>)\n",
      "        2    0.000    0.000    0.000    0.000 threading.py:1066(_wait_for_tstate_lock)\n",
      "        2    0.000    0.000    0.000    0.000 threading.py:1133(is_alive)\n",
      "        2    0.000    0.000    0.000    0.000 threading.py:536(is_set)\n",
      "    54506    0.040    0.000    0.139    0.000 utils.py:158(_flatten_box_multibinary)\n",
      "    54506    0.068    0.000    0.131    0.000 utils.py:164(_flatten_discrete)\n",
      "    27253    0.069    0.000    0.922    0.000 utils.py:192(_flatten_dict)\n",
      "    27253    0.097    0.000    0.598    0.000 utils.py:196(<listcomp>)\n",
      "   136265    0.052    0.000    0.052    0.000 weakref.py:415(__getitem__)\n",
      "        3    0.000    0.000    0.000    0.000 weakref.py:428(__setitem__)\n",
      "       13    0.000    0.000    0.000    0.000 {built-in method _abc._abc_instancecheck}\n",
      "      8/2    0.000    0.000    0.000    0.000 {built-in method _abc._abc_subclasscheck}\n",
      "   136265    0.016    0.000    0.016    0.000 {built-in method _abc.get_cache_token}\n",
      "    81769    0.042    0.000    0.107    0.000 {built-in method builtins.all}\n",
      "        1    0.000    0.000    5.002    5.002 {built-in method builtins.exec}\n",
      "     3780    0.001    0.000    0.001    0.000 {built-in method builtins.getattr}\n",
      "    27284    0.009    0.000    0.009    0.000 {built-in method builtins.isinstance}\n",
      "      300    0.000    0.000    0.000    0.000 {built-in method builtins.issubclass}\n",
      "        2    0.000    0.000    0.000    0.000 {built-in method builtins.iter}\n",
      "    39528    0.010    0.000    0.010    0.000 {built-in method builtins.len}\n",
      "     9084    0.005    0.000    0.005    0.000 {built-in method builtins.max}\n",
      "       10    0.000    0.000    0.000    0.000 {built-in method builtins.min}\n",
      "7653/7647    0.004    0.000    0.413    0.000 {built-in method builtins.next}\n",
      "        4    0.000    0.000    0.000    0.000 {built-in method builtins.print}\n",
      "       74    0.000    0.000    0.000    0.000 {built-in method builtins.sum}\n",
      "       11    0.000    0.000    0.000    0.000 {built-in method from_bytes}\n",
      "     9084    0.007    0.000    0.007    0.000 {built-in method numpy.arange}\n",
      "   163527    0.120    0.000    0.120    0.000 {built-in method numpy.array}\n",
      "     1890    0.002    0.000    0.002    0.000 {built-in method numpy.asanyarray}\n",
      "    56393    0.042    0.000    0.042    0.000 {built-in method numpy.asarray}\n",
      "   125563    0.242    0.000    0.788    0.000 {built-in method numpy.core._multiarray_umath.implement_array_function}\n",
      "    27300    0.021    0.000    0.021    0.000 {built-in method numpy.empty}\n",
      "       44    0.000    0.000    0.000    0.000 {built-in method numpy.geterrobj}\n",
      "       22    0.000    0.000    0.000    0.000 {built-in method numpy.seterrobj}\n",
      "    63590    0.068    0.000    0.068    0.000 {built-in method numpy.zeros}\n",
      "        8    0.000    0.000    0.000    0.000 {built-in method posix.getpid}\n",
      "       11    0.000    0.000    0.000    0.000 {built-in method posix.urandom}\n",
      "     2727    0.001    0.000    0.001    0.000 {built-in method time.time}\n",
      "       11    0.000    0.000    0.000    0.000 {function SeedSequence.generate_state at 0x7f38143eb0d0}\n",
      "        8    0.000    0.000    0.000    0.000 {method '__exit__' of '_thread.RLock' objects}\n",
      "        2    0.000    0.000    0.000    0.000 {method 'acquire' of '_thread.lock' objects}\n",
      "        6    0.000    0.000    0.000    0.000 {method 'all' of 'numpy.generic' objects}\n",
      "        2    0.000    0.000    0.000    0.000 {method 'append' of 'collections.deque' objects}\n",
      "    15351    0.003    0.000    0.003    0.000 {method 'append' of 'list' objects}\n",
      "     1887    0.003    0.000    0.003    0.000 {method 'argsort' of 'numpy.ndarray' objects}\n",
      "    27273    0.033    0.000    0.033    0.000 {method 'astype' of 'numpy.ndarray' objects}\n",
      "     1887    0.002    0.000    0.002    0.000 {method 'copy' of 'numpy.ndarray' objects}\n",
      "        1    0.000    0.000    0.000    0.000 {method 'disable' of '_lsprof.Profiler' objects}\n",
      "    54500    0.164    0.000    0.164    0.000 {method 'exponential' of 'numpy.random._generator.Generator' objects}\n",
      "    54506    0.061    0.000    0.061    0.000 {method 'flatten' of 'numpy.ndarray' objects}\n",
      "       33    0.000    0.000    0.000    0.000 {method 'get' of 'dict' objects}\n",
      "    27253    0.004    0.000    0.004    0.000 {method 'items' of 'collections.OrderedDict' objects}\n",
      "    83702    0.013    0.000    0.013    0.000 {method 'items' of 'dict' objects}\n",
      "    27250    0.176    0.000    0.176    0.000 {method 'normal' of 'numpy.random._generator.Generator' objects}\n",
      "     9084    0.035    0.000    0.035    0.000 {method 'normal' of 'numpy.random.mtrand.RandomState' objects}\n",
      "        3    0.000    0.000    0.000    0.000 {method 'poisson' of 'numpy.random.mtrand.RandomState' objects}\n",
      "        6    0.000    0.000    0.000    0.000 {method 'pop' of 'dict' objects}\n",
      "     9084    0.008    0.000    0.008    0.000 {method 'rand' of 'numpy.random.mtrand.RandomState' objects}\n",
      "    63588    0.157    0.000    0.157    0.000 {method 'randint' of 'numpy.random.mtrand.RandomState' objects}\n",
      "    82952    0.242    0.000    0.242    0.000 {method 'reduce' of 'numpy.ufunc' objects}\n",
      "      640    0.000    0.000    0.000    0.000 {method 'remove' of 'list' objects}\n",
      "        3    0.000    0.000    0.000    0.000 {method 'reshape' of 'numpy.ndarray' objects}\n",
      "        1    0.000    0.000    0.000    0.000 {method 'seed' of 'numpy.random.mtrand.RandomState' objects}\n",
      "     9084    0.013    0.000    0.013    0.000 {method 'shuffle' of 'numpy.random.mtrand.RandomState' objects}\n",
      "     1887    0.001    0.000    0.001    0.000 {method 'sort' of 'numpy.ndarray' objects}\n",
      "    27250    0.449    0.000    0.958    0.000 {method 'uniform' of 'numpy.random._generator.Generator' objects}\n",
      "    27253    0.004    0.000    0.004    0.000 {method 'values' of 'collections.OrderedDict' objects}\n",
      "    54500    0.008    0.000    0.008    0.000 {method 'values' of 'dict' objects}\n",
      "        8    0.000    0.000    0.000    0.000 {method 'write' of '_io.StringIO' objects}\n",
      "\n",
      "\n"
     ]
    }
   ],
   "source": [
    "import Environment\n",
    "env = Environment.VehicleJobSchedulingEnvACE()\n",
    "import cProfile\n",
    "from pettingzoo.test import performance_benchmark\n",
    "cProfile.run('performance_benchmark(env)')\n",
    "     "
   ]
  }
 ],
 "metadata": {
  "kernelspec": {
   "display_name": "man",
   "language": "python",
   "name": "python3"
  },
  "language_info": {
   "codemirror_mode": {
    "name": "ipython",
    "version": 3
   },
   "file_extension": ".py",
   "mimetype": "text/x-python",
   "name": "python",
   "nbconvert_exporter": "python",
   "pygments_lexer": "ipython3",
   "version": "3.9.13"
  },
  "orig_nbformat": 4,
  "vscode": {
   "interpreter": {
    "hash": "d652fbd7feb28eaf2ff622dc57929f599600a55ad62e1efe6c9f098053cf5e75"
   }
  }
 },
 "nbformat": 4,
 "nbformat_minor": 2
}
