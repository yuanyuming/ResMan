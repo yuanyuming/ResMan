{
 "cells": [
  {
   "cell_type": "code",
   "execution_count": 1,
   "metadata": {},
   "outputs": [
    {
     "name": "stdout",
     "output_type": "stream",
     "text": [
      "Load On # 0 Resource Dimension Is  1.1594666666666666\n",
      "Load On # 1 Resource Dimension Is  1.2198666666666667\n"
     ]
    },
    {
     "data": {
      "text/plain": [
       "(array([[1., 1., 1., ..., 0., 0., 0.],\n",
       "        [1., 1., 1., ..., 0., 0., 0.],\n",
       "        [1., 1., 1., ..., 0., 0., 0.],\n",
       "        ...,\n",
       "        [0., 0., 0., ..., 0., 0., 0.],\n",
       "        [0., 0., 0., ..., 0., 0., 0.],\n",
       "        [0., 0., 0., ..., 0., 0., 0.]]),\n",
       " -11.000000000000002,\n",
       " False,\n",
       " <Job.JobRecord at 0x1a692120610>)"
      ]
     },
     "execution_count": 1,
     "metadata": {},
     "output_type": "execute_result"
    }
   ],
   "source": [
    "import Environment\n",
    "import parameters\n",
    "pa = parameters.Parameters()\n",
    "pa.num_nw = 5\n",
    "pa.simulate_len = 50\n",
    "pa.num_ex = 10\n",
    "pa.new_job_rate = 1\n",
    "pa.compute_dependent_parameters()\n",
    "env = Environment.Allocation_Environment(pa, render=False, repre='image')\n",
    "env.step(5)\n",
    "env.step(5)\n",
    "env.step(5)\n",
    "env.step(5)\n",
    "env.step(5)\n"
   ]
  },
  {
   "cell_type": "code",
   "execution_count": 3,
   "metadata": {},
   "outputs": [],
   "source": [
    "job = env.job_backlog.backlog[0]\n"
   ]
  },
  {
   "cell_type": "code",
   "execution_count": 5,
   "metadata": {},
   "outputs": [
    {
     "name": "stdout",
     "output_type": "stream",
     "text": [
      "+--------+------------+------------+------------+-------------+\n",
      "| Job Id | Res Vector | Enter Time | Start Time | Finish Time |\n",
      "+--------+------------+------------+------------+-------------+\n",
      "|   1    |   [2 8]    |     2      |     -1     |      -1     |\n",
      "|   2    |   [8 2]    |     3      |     -1     |      -1     |\n",
      "|   2    |   [8 2]    |     3      |     -1     |      -1     |\n",
      "|   3    |   [7 1]    |     4      |     -1     |      -1     |\n",
      "|   3    |   [7 1]    |     4      |     -1     |      -1     |\n",
      "|   3    |   [7 1]    |     4      |     -1     |      -1     |\n",
      "|   4    |  [ 2 10]   |     5      |     -1     |      -1     |\n",
      "|   4    |  [ 2 10]   |     5      |     -1     |      -1     |\n",
      "|   4    |  [ 2 10]   |     5      |     -1     |      -1     |\n",
      "|   4    |  [ 2 10]   |     5      |     -1     |      -1     |\n",
      "+--------+------------+------------+------------+-------------+\n"
     ]
    }
   ],
   "source": [
    "env.job_backlog.show()"
   ]
  },
  {
   "cell_type": "code",
   "execution_count": null,
   "metadata": {},
   "outputs": [],
   "source": [
    "import numpy as np\n"
   ]
  },
  {
   "cell_type": "code",
   "execution_count": null,
   "metadata": {},
   "outputs": [],
   "source": [
    "n"
   ]
  },
  {
   "cell_type": "code",
   "execution_count": null,
   "metadata": {},
   "outputs": [],
   "source": [
    "import tensorflow\n",
    "import gym\n",
    "import pandas"
   ]
  },
  {
   "cell_type": "code",
   "execution_count": null,
   "metadata": {},
   "outputs": [],
   "source": [
    "tensorflow.config.list_physical_devices()"
   ]
  },
  {
   "cell_type": "code",
   "execution_count": null,
   "metadata": {},
   "outputs": [],
   "source": [
    "csv = pandas.read_csv(\"Sever.csv\")"
   ]
  },
  {
   "cell_type": "code",
   "execution_count": null,
   "metadata": {},
   "outputs": [],
   "source": [
    "ze =numpy.zeros([3,15])"
   ]
  },
  {
   "cell_type": "code",
   "execution_count": null,
   "metadata": {},
   "outputs": [],
   "source": [
    "ze"
   ]
  },
  {
   "cell_type": "code",
   "execution_count": null,
   "metadata": {},
   "outputs": [],
   "source": [
    "z1 = numpy.array([1,2,3])"
   ]
  },
  {
   "cell_type": "code",
   "execution_count": null,
   "metadata": {},
   "outputs": [],
   "source": [
    "for i in range(1,100):\n",
    "    on1 = numpy.ones([10])\n",
    "    cpu = on1 * 10\n",
    "    mem = on1 * 20\n",
    "    numpy.concatenate([cpu,mem],axis=0).reshape([2,10])"
   ]
  },
  {
   "cell_type": "code",
   "execution_count": null,
   "metadata": {},
   "outputs": [],
   "source": [
    "numpy.array([10,20]).repeat(10).reshape([2,10])"
   ]
  },
  {
   "cell_type": "code",
   "execution_count": null,
   "metadata": {},
   "outputs": [],
   "source": [
    "request = [0,0]"
   ]
  },
  {
   "cell_type": "code",
   "execution_count": null,
   "metadata": {},
   "outputs": [],
   "source": [
    "request.__len__()"
   ]
  },
  {
   "cell_type": "code",
   "execution_count": null,
   "metadata": {},
   "outputs": [],
   "source": [
    "numpy.repeat(z1,15).reshape([z1.size,15])"
   ]
  },
  {
   "cell_type": "code",
   "execution_count": null,
   "metadata": {},
   "outputs": [],
   "source": [
    "    class Server_State:\n",
    "        # 剩余资源\n",
    "        def __init__(self,server_def=[0,0],server_cost = [0,0], \n",
    "                            server_used = numpy.zeros([2,15]),time = 15) -> None:\n",
    "            # 资源\n",
    "            # 持有资源\n",
    "            self.possess = numpy.array(server_def)\n",
    "            # 已用资源\n",
    "            self.used = server_used\n",
    "            # 可用资源\n",
    "            self.available = numpy.repeat(self.possess,time)\\\n",
    "                .reshape([self.possess.size,time]) - server_used\n",
    "            self.cost = numpy.array(server_cost)\n",
    "            pass\n",
    "        def allocate(self,server_use = numpy.zeros([2,15])):\n",
    "            self.available -= server_use\n",
    "            print(\"{a}\",self.available)"
   ]
  },
  {
   "cell_type": "code",
   "execution_count": null,
   "metadata": {},
   "outputs": [],
   "source": [
    "st = Server_State([123,255],[1235,51555],numpy.ones([2,15]),15)"
   ]
  },
  {
   "cell_type": "code",
   "execution_count": null,
   "metadata": {},
   "outputs": [],
   "source": [
    "st.allocate(numpy.ones([2,10])+numpy.zeros([2,15]))"
   ]
  },
  {
   "cell_type": "code",
   "execution_count": null,
   "metadata": {},
   "outputs": [],
   "source": [
    "numpy.zeros([2,15])+numpy.ones([2,10])"
   ]
  },
  {
   "cell_type": "code",
   "execution_count": null,
   "metadata": {},
   "outputs": [],
   "source": [
    "on1 = numpy.ones([2,10])"
   ]
  },
  {
   "cell_type": "code",
   "execution_count": null,
   "metadata": {},
   "outputs": [],
   "source": [
    "numpy.concatenate((on1,numpy.zeros([2,5])),axis=1)"
   ]
  },
  {
   "cell_type": "code",
   "execution_count": null,
   "metadata": {},
   "outputs": [],
   "source": [
    "st.available[0][0]"
   ]
  },
  {
   "cell_type": "code",
   "execution_count": null,
   "metadata": {},
   "outputs": [],
   "source": [
    "a = [[0,1],[0]]\n",
    "a[0].__len__()"
   ]
  },
  {
   "cell_type": "code",
   "execution_count": null,
   "metadata": {},
   "outputs": [],
   "source": [
    "numpy.zeros([2,3])"
   ]
  },
  {
   "cell_type": "code",
   "execution_count": null,
   "metadata": {},
   "outputs": [],
   "source": [
    "3*365"
   ]
  },
  {
   "cell_type": "code",
   "execution_count": null,
   "metadata": {},
   "outputs": [],
   "source": [
    "73229/1095"
   ]
  },
  {
   "cell_type": "code",
   "execution_count": null,
   "metadata": {},
   "outputs": [],
   "source": [
    "import numpy\n",
    "a = numpy.zeros([4,5])\n",
    "a.len"
   ]
  },
  {
   "cell_type": "code",
   "execution_count": 5,
   "metadata": {},
   "outputs": [
    {
     "data": {
      "text/plain": [
       "array([9., 2.])"
      ]
     },
     "execution_count": 5,
     "metadata": {},
     "output_type": "execute_result"
    }
   ],
   "source": [
    "import job_distribution\n",
    "dist = job_distribution.Dist(2,10,15)\n",
    "nw_len,size = dist.bi_model_dist()\n",
    "size\n"
   ]
  },
  {
   "cell_type": "code",
   "execution_count": 1,
   "metadata": {},
   "outputs": [
    {
     "ename": "ValueError",
     "evalue": "could not broadcast input array from shape (2,) into shape (5,)",
     "output_type": "error",
     "traceback": [
      "\u001b[1;31m---------------------------------------------------------------------------\u001b[0m",
      "\u001b[1;31mValueError\u001b[0m                                Traceback (most recent call last)",
      "Cell \u001b[1;32mIn[1], line 3\u001b[0m\n\u001b[0;32m      1\u001b[0m \u001b[39mimport\u001b[39;00m \u001b[39mnumpy\u001b[39;00m \u001b[39mas\u001b[39;00m \u001b[39mnp\u001b[39;00m\n\u001b[0;32m      2\u001b[0m \u001b[39mimport\u001b[39;00m \u001b[39mEnvironment\u001b[39;00m\n\u001b[1;32m----> 3\u001b[0m env \u001b[39m=\u001b[39m Environment\u001b[39m.\u001b[39;49mAllocation_Environment()\n\u001b[0;32m      4\u001b[0m env\u001b[39m.\u001b[39mnw_size_seq[\u001b[39m0\u001b[39m,\u001b[39m0\u001b[39m]\n",
      "File \u001b[1;32mc:\\Users\\Yuming\\source\\repos\\ResMan\\Environment.py:31\u001b[0m, in \u001b[0;36mAllocation_Environment.__init__\u001b[1;34m(self, pa, nw_len_seq, nw_size_seq, seed, render, repre, end)\u001b[0m\n\u001b[0;32m     26\u001b[0m     np\u001b[39m.\u001b[39mrandom\u001b[39m.\u001b[39mseed(seed)\n\u001b[0;32m     28\u001b[0m \u001b[39mif\u001b[39;00m nw_len_seq \u001b[39mis\u001b[39;00m \u001b[39mNone\u001b[39;00m \u001b[39mor\u001b[39;00m nw_size_seq \u001b[39mis\u001b[39;00m \u001b[39mNone\u001b[39;00m:\n\u001b[0;32m     29\u001b[0m     \u001b[39m# 生成新任务\u001b[39;00m\n\u001b[0;32m     30\u001b[0m     \u001b[39mself\u001b[39m\u001b[39m.\u001b[39mnw_len_seq,\u001b[39mself\u001b[39m\u001b[39m.\u001b[39mnw_size_seq \u001b[39m=\u001b[39m \\\n\u001b[1;32m---> 31\u001b[0m         \u001b[39mself\u001b[39;49m\u001b[39m.\u001b[39;49mgenerate_sequence_work(\u001b[39mself\u001b[39;49m\u001b[39m.\u001b[39;49mpa\u001b[39m.\u001b[39;49msimulate_len\u001b[39m*\u001b[39;49m\u001b[39mself\u001b[39;49m\u001b[39m.\u001b[39;49mpa\u001b[39m.\u001b[39;49mnum_ex)\n\u001b[0;32m     32\u001b[0m     \u001b[39mself\u001b[39m\u001b[39m.\u001b[39mworkload \u001b[39m=\u001b[39m np\u001b[39m.\u001b[39mzeros(pa\u001b[39m.\u001b[39mnum_res)\n\u001b[0;32m     33\u001b[0m     \u001b[39mfor\u001b[39;00m i \u001b[39min\u001b[39;00m \u001b[39mrange\u001b[39m(pa\u001b[39m.\u001b[39mnum_res):\n",
      "File \u001b[1;32mc:\\Users\\Yuming\\source\\repos\\ResMan\\Environment.py:61\u001b[0m, in \u001b[0;36mAllocation_Environment.generate_sequence_work\u001b[1;34m(self, simu_len)\u001b[0m\n\u001b[0;32m     58\u001b[0m \u001b[39mfor\u001b[39;00m i \u001b[39min\u001b[39;00m \u001b[39mrange\u001b[39m(simu_len):\n\u001b[0;32m     59\u001b[0m     \u001b[39mif\u001b[39;00m np\u001b[39m.\u001b[39mrandom\u001b[39m.\u001b[39mrand() \u001b[39m<\u001b[39m \u001b[39mself\u001b[39m\u001b[39m.\u001b[39mpa\u001b[39m.\u001b[39mnew_job_rate:\n\u001b[0;32m     60\u001b[0m         \u001b[39m# 新任务到达\u001b[39;00m\n\u001b[1;32m---> 61\u001b[0m         nw_len_seq[i],nw_size_seq[i,:] \u001b[39m=\u001b[39m \u001b[39mself\u001b[39m\u001b[39m.\u001b[39mnw_dist()\n\u001b[0;32m     63\u001b[0m \u001b[39mreturn\u001b[39;00m nw_len_seq,nw_size_seq\n",
      "\u001b[1;31mValueError\u001b[0m: could not broadcast input array from shape (2,) into shape (5,)"
     ]
    }
   ],
   "source": [
    "import numpy as np\n",
    "import Environment\n",
    "env = Environment.Allocation_Environment()\n",
    "env.nw_size_seq[0,0]"
   ]
  },
  {
   "cell_type": "code",
   "execution_count": 2,
   "metadata": {},
   "outputs": [],
   "source": [
    "import sys\n",
    "sys.path.append(\"..\")"
   ]
  },
  {
   "cell_type": "code",
   "execution_count": 3,
   "metadata": {},
   "outputs": [
    {
     "data": {
      "text/plain": [
       "['c:\\\\Users\\\\Yuming\\\\source\\\\repos\\\\ResMan',\n",
       " 'C:\\\\Program Files\\\\Python311\\\\python311.zip',\n",
       " 'C:\\\\Program Files\\\\Python311\\\\DLLs',\n",
       " 'C:\\\\Program Files\\\\Python311\\\\Lib',\n",
       " 'C:\\\\Program Files\\\\Python311',\n",
       " 'c:\\\\Users\\\\Yuming\\\\source\\\\repos\\\\ResMan\\\\man',\n",
       " '',\n",
       " 'c:\\\\Users\\\\Yuming\\\\source\\\\repos\\\\ResMan\\\\man\\\\Lib\\\\site-packages',\n",
       " 'c:\\\\Users\\\\Yuming\\\\source\\\\repos\\\\ResMan\\\\man\\\\Lib\\\\site-packages\\\\win32',\n",
       " 'c:\\\\Users\\\\Yuming\\\\source\\\\repos\\\\ResMan\\\\man\\\\Lib\\\\site-packages\\\\win32\\\\lib',\n",
       " 'c:\\\\Users\\\\Yuming\\\\source\\\\repos\\\\ResMan\\\\man\\\\Lib\\\\site-packages\\\\Pythonwin',\n",
       " '..']"
      ]
     },
     "execution_count": 3,
     "metadata": {},
     "output_type": "execute_result"
    }
   ],
   "source": [
    "sys.path"
   ]
  },
  {
   "cell_type": "code",
   "execution_count": 2,
   "metadata": {},
   "outputs": [],
   "source": []
  },
  {
   "cell_type": "code",
   "execution_count": 2,
   "metadata": {},
   "outputs": [
    {
     "name": "stdout",
     "output_type": "stream",
     "text": [
      "Load On # 0 Resource Dimension Is  0.6933333333333334\n",
      "Load On # 1 Resource Dimension Is  1.7933333333333334\n"
     ]
    }
   ],
   "source": [
    "import parameters\n",
    "import Environment\n",
    "pa = parameters.Parameters()\n",
    "env = Environment.Allocation_Environment(pa)\n"
   ]
  },
  {
   "cell_type": "code",
   "execution_count": 9,
   "metadata": {},
   "outputs": [
    {
     "data": {
      "text/plain": [
       "array([1, 9])"
      ]
     },
     "execution_count": 9,
     "metadata": {},
     "output_type": "execute_result"
    }
   ],
   "source": [
    "job = env.get_new_job_from_seq(0,0)\n",
    "job.res_vec"
   ]
  },
  {
   "cell_type": "code",
   "execution_count": 3,
   "metadata": {},
   "outputs": [],
   "source": [
    "import Environment\n",
    "def test_image_representation():\n",
    "    \"\"\"\n",
    "    Purpose: representation the job image\n",
    "    \"\"\"\n",
    "    env = Environment.Allocation_Environment()\n",
    "    return env.machine.canvas"
   ]
  },
  {
   "cell_type": "code",
   "execution_count": 5,
   "metadata": {},
   "outputs": [
    {
     "name": "stdout",
     "output_type": "stream",
     "text": [
      "Load On # 0 Resource Dimension Is  0.6933333333333334\n",
      "Load On # 1 Resource Dimension Is  1.7933333333333334\n"
     ]
    }
   ],
   "source": [
    "canvas = test_image_representation()"
   ]
  },
  {
   "cell_type": "code",
   "execution_count": 8,
   "metadata": {},
   "outputs": [
    {
     "data": {
      "text/plain": [
       "(20, 15)"
      ]
     },
     "execution_count": 8,
     "metadata": {},
     "output_type": "execute_result"
    }
   ],
   "source": [
    "canvas[1].shape"
   ]
  },
  {
   "cell_type": "code",
   "execution_count": 1,
   "metadata": {},
   "outputs": [
    {
     "data": {
      "text/plain": [
       "[None, None, None, None, None]"
      ]
     },
     "execution_count": 1,
     "metadata": {},
     "output_type": "execute_result"
    }
   ],
   "source": [
    "[None] * 5"
   ]
  },
  {
   "cell_type": "code",
   "execution_count": 3,
   "metadata": {},
   "outputs": [],
   "source": [
    "import numpy as np\n",
    "canvas = np.zeros((2,10,10))"
   ]
  },
  {
   "cell_type": "code",
   "execution_count": 4,
   "metadata": {},
   "outputs": [],
   "source": [
    "canvas[1,2,[0,2,3]]=0.3\n"
   ]
  },
  {
   "cell_type": "code",
   "execution_count": 5,
   "metadata": {},
   "outputs": [
    {
     "data": {
      "text/plain": [
       "array([[[0. , 0. , 0. , 0. , 0. , 0. , 0. , 0. , 0. , 0. ],\n",
       "        [0. , 0. , 0. , 0. , 0. , 0. , 0. , 0. , 0. , 0. ],\n",
       "        [0. , 0. , 0. , 0. , 0. , 0. , 0. , 0. , 0. , 0. ],\n",
       "        [0. , 0. , 0. , 0. , 0. , 0. , 0. , 0. , 0. , 0. ],\n",
       "        [0. , 0. , 0. , 0. , 0. , 0. , 0. , 0. , 0. , 0. ],\n",
       "        [0. , 0. , 0. , 0. , 0. , 0. , 0. , 0. , 0. , 0. ],\n",
       "        [0. , 0. , 0. , 0. , 0. , 0. , 0. , 0. , 0. , 0. ],\n",
       "        [0. , 0. , 0. , 0. , 0. , 0. , 0. , 0. , 0. , 0. ],\n",
       "        [0. , 0. , 0. , 0. , 0. , 0. , 0. , 0. , 0. , 0. ],\n",
       "        [0. , 0. , 0. , 0. , 0. , 0. , 0. , 0. , 0. , 0. ]],\n",
       "\n",
       "       [[0. , 0. , 0. , 0. , 0. , 0. , 0. , 0. , 0. , 0. ],\n",
       "        [0. , 0. , 0. , 0. , 0. , 0. , 0. , 0. , 0. , 0. ],\n",
       "        [0.3, 0. , 0.3, 0.3, 0. , 0. , 0. , 0. , 0. , 0. ],\n",
       "        [0. , 0. , 0. , 0. , 0. , 0. , 0. , 0. , 0. , 0. ],\n",
       "        [0. , 0. , 0. , 0. , 0. , 0. , 0. , 0. , 0. , 0. ],\n",
       "        [0. , 0. , 0. , 0. , 0. , 0. , 0. , 0. , 0. , 0. ],\n",
       "        [0. , 0. , 0. , 0. , 0. , 0. , 0. , 0. , 0. , 0. ],\n",
       "        [0. , 0. , 0. , 0. , 0. , 0. , 0. , 0. , 0. , 0. ],\n",
       "        [0. , 0. , 0. , 0. , 0. , 0. , 0. , 0. , 0. , 0. ],\n",
       "        [0. , 0. , 0. , 0. , 0. , 0. , 0. , 0. , 0. , 0. ]]])"
      ]
     },
     "execution_count": 5,
     "metadata": {},
     "output_type": "execute_result"
    }
   ],
   "source": [
    "canvas"
   ]
  },
  {
   "cell_type": "code",
   "execution_count": null,
   "metadata": {},
   "outputs": [],
   "source": [
    "import cpuPower\n",
    "intel = cpuPower.INTELCPU()\n"
   ]
  },
  {
   "cell_type": "code",
   "execution_count": 33,
   "metadata": {},
   "outputs": [
    {
     "data": {
      "text/plain": [
       "24.70908949168137"
      ]
     },
     "execution_count": 33,
     "metadata": {},
     "output_type": "execute_result"
    }
   ],
   "source": [
    "intel.get_power()\n",
    "intel.get_power()\n"
   ]
  },
  {
   "cell_type": "code",
   "execution_count": 6,
   "metadata": {},
   "outputs": [],
   "source": [
    "import numpy as np\n",
    "back = np.arange(0,10,1)"
   ]
  },
  {
   "cell_type": "code",
   "execution_count": 3,
   "metadata": {},
   "outputs": [],
   "source": [
    "back[:-1]=back[1:]"
   ]
  },
  {
   "cell_type": "code",
   "execution_count": 4,
   "metadata": {},
   "outputs": [
    {
     "data": {
      "text/plain": [
       "array([1, 2, 3, 4, 5, 6, 7, 8, 9, 9])"
      ]
     },
     "execution_count": 4,
     "metadata": {},
     "output_type": "execute_result"
    }
   ],
   "source": [
    "back"
   ]
  },
  {
   "cell_type": "code",
   "execution_count": 7,
   "metadata": {},
   "outputs": [
    {
     "data": {
      "text/plain": [
       "array([ 5., 10.])"
      ]
     },
     "execution_count": 7,
     "metadata": {},
     "output_type": "execute_result"
    }
   ],
   "source": [
    "import numpy as np\n",
    "max_nw_vec=[10, 20]\n",
    "np.divide(np.array(max_nw_vec), 2)\n"
   ]
  },
  {
   "cell_type": "code",
   "execution_count": 4,
   "metadata": {},
   "outputs": [
    {
     "data": {
      "text/plain": [
       "10"
      ]
     },
     "execution_count": 4,
     "metadata": {},
     "output_type": "execute_result"
    }
   ],
   "source": [
    "len([None] * 10)\n",
    " "
   ]
  },
  {
   "cell_type": "code",
   "execution_count": 21,
   "metadata": {},
   "outputs": [
    {
     "data": {
      "text/plain": [
       "[4,\n",
       " 8,\n",
       " 7,\n",
       " 5,\n",
       " 3,\n",
       " 9,\n",
       " 4,\n",
       " 9,\n",
       " 5,\n",
       " 2,\n",
       " 1,\n",
       " 8,\n",
       " 5,\n",
       " 4,\n",
       " 7,\n",
       " 7,\n",
       " 4,\n",
       " 5,\n",
       " 7,\n",
       " 8,\n",
       " 3,\n",
       " 6,\n",
       " 6,\n",
       " 12,\n",
       " 4,\n",
       " 2,\n",
       " 9,\n",
       " 5,\n",
       " 3,\n",
       " 6,\n",
       " 3,\n",
       " 7,\n",
       " 1,\n",
       " 3,\n",
       " 7,\n",
       " 10,\n",
       " 4,\n",
       " 4,\n",
       " 3,\n",
       " 4,\n",
       " 6,\n",
       " 5,\n",
       " 2,\n",
       " 2,\n",
       " 3,\n",
       " 5,\n",
       " 8,\n",
       " 5,\n",
       " 6,\n",
       " 6,\n",
       " 6,\n",
       " 6,\n",
       " 3,\n",
       " 4,\n",
       " 9,\n",
       " 8,\n",
       " 5,\n",
       " 5,\n",
       " 3,\n",
       " 5,\n",
       " 3,\n",
       " 8,\n",
       " 5,\n",
       " 8,\n",
       " 7,\n",
       " 5,\n",
       " 4,\n",
       " 4,\n",
       " 2,\n",
       " 6,\n",
       " 7,\n",
       " 6,\n",
       " 6,\n",
       " 5,\n",
       " 2,\n",
       " 2,\n",
       " 5,\n",
       " 3,\n",
       " 4,\n",
       " 6,\n",
       " 5,\n",
       " 6,\n",
       " 4,\n",
       " 2,\n",
       " 5,\n",
       " 5,\n",
       " 5,\n",
       " 8,\n",
       " 6,\n",
       " 3,\n",
       " 4,\n",
       " 2,\n",
       " 3,\n",
       " 5,\n",
       " 5,\n",
       " 4,\n",
       " 6,\n",
       " 3,\n",
       " 5,\n",
       " 2]"
      ]
     },
     "execution_count": 21,
     "metadata": {},
     "output_type": "execute_result"
    }
   ],
   "source": [
    "from scipy.stats import poisson\n",
    "from collections import Counter\n",
    "import matplotlib.pyplot as plt  # \n",
    "poi = poisson.rvs(5,size=1000)\n",
    "rctd = Counter(poi)\n",
    "plt.hist(poi)\n"
   ]
  },
  {
   "cell_type": "code",
   "execution_count": 14,
   "metadata": {},
   "outputs": [],
   "source": [
    "for id in range(10,10):\n",
    "    print(id)"
   ]
  },
  {
   "cell_type": "code",
   "execution_count": 13,
   "metadata": {},
   "outputs": [
    {
     "data": {
      "text/plain": [
       "array([[1.        , 1.        ],\n",
       "       [0.6       , 0.57142857],\n",
       "       [0.        , 0.        ]])"
      ]
     },
     "execution_count": 13,
     "metadata": {},
     "output_type": "execute_result"
    }
   ],
   "source": [
    "import numpy as np\n",
    "import math\n",
    "\n",
    "avail = np.asarray([[5,7],[3,4],[0,0]])\n",
    "av = avail/[5,7]\n",
    "av\n"
   ]
  },
  {
   "cell_type": "code",
   "execution_count": 20,
   "metadata": {},
   "outputs": [
    {
     "ename": "TypeError",
     "evalue": "sequence item 0: expected str instance, numpy.float64 found",
     "output_type": "error",
     "traceback": [
      "\u001b[1;31m---------------------------------------------------------------------------\u001b[0m",
      "\u001b[1;31mTypeError\u001b[0m                                 Traceback (most recent call last)",
      "Cell \u001b[1;32mIn[20], line 3\u001b[0m\n\u001b[0;32m      1\u001b[0m av8 \u001b[39m=\u001b[39m av\u001b[39m*\u001b[39m\u001b[39m8\u001b[39m\n\u001b[0;32m      2\u001b[0m av8 \u001b[39m=\u001b[39m av8\u001b[39m.\u001b[39mround()\n\u001b[1;32m----> 3\u001b[0m \u001b[39m\"\u001b[39;49m\u001b[39m\"\u001b[39;49m\u001b[39m.\u001b[39;49mjoin(av8[:,\u001b[39m1\u001b[39;49m])\n",
      "\u001b[1;31mTypeError\u001b[0m: sequence item 0: expected str instance, numpy.float64 found"
     ]
    }
   ],
   "source": [
    "av8 = av*8\n",
    "av8 = av8.round()\n",
    "def to_char(n):\n",
    "    \n",
    "avc = []"
   ]
  },
  {
   "cell_type": "code",
   "execution_count": 2,
   "metadata": {},
   "outputs": [
    {
     "name": "stdout",
     "output_type": "stream",
     "text": [
      "▁▂▃▄▅▆▇█▉\n",
      "▁▂▃▄▅▆▇█▉\n"
     ]
    }
   ],
   "source": [
    "char = bytes('\\u2580',encoding=\"utf8\")\n",
    "lst = [c for c in char]\n",
    "llst = []\n",
    "for i in range(9):\n",
    "    l=[]\n",
    "    lst[2] +=1\n",
    "    l=lst.copy()\n",
    "    llst.append(l)\n",
    "    cc = ''\n",
    "for i in range(9):\n",
    "    cc += str(bytes(llst[i]),encoding='utf8')\n",
    "\n",
    "print(cc)\n",
    "print(cc)\n"
   ]
  },
  {
   "cell_type": "code",
   "execution_count": 5,
   "metadata": {},
   "outputs": [],
   "source": [
    "import numpy as np"
   ]
  },
  {
   "cell_type": "code",
   "execution_count": 11,
   "metadata": {},
   "outputs": [
    {
     "data": {
      "text/plain": [
       "[['█', '▃', '▄']]"
      ]
     },
     "execution_count": 11,
     "metadata": {},
     "output_type": "execute_result"
    }
   ],
   "source": [
    "bar = \" ▁▂▃▄▅▆▇█\"\n",
    "bars = np.array([char for char in bar])\n",
    "\n",
    "rr = np.array([[8, 3], [3, 5], [4, 7]])\n",
    "cc = []\n",
    "cc.append([bars[i] for i in rr[:,0]])\n",
    "cc"
   ]
  },
  {
   "cell_type": "code",
   "execution_count": 6,
   "metadata": {},
   "outputs": [
    {
     "data": {
      "text/plain": [
       "['1 2 3 4 5 6 7', '1 2 3 4 5 6 7']"
      ]
     },
     "execution_count": 6,
     "metadata": {},
     "output_type": "execute_result"
    }
   ],
   "source": [
    "arr = [[1, 2, 3, 4, 5, 6, 7], [1, 2, 3, 4, 5, 6, 7]]\n",
    "lst = [' '.join([str(c) for c in i]) for i in arr]\n",
    "\n",
    "lst"
   ]
  },
  {
   "cell_type": "code",
   "execution_count": 5,
   "metadata": {},
   "outputs": [
    {
     "ename": "TypeError",
     "evalue": "sequence item 0: expected str instance, int found",
     "output_type": "error",
     "traceback": [
      "\u001b[1;31m---------------------------------------------------------------------------\u001b[0m",
      "\u001b[1;31mTypeError\u001b[0m                                 Traceback (most recent call last)",
      "Cell \u001b[1;32mIn[5], line 1\u001b[0m\n\u001b[1;32m----> 1\u001b[0m \u001b[39m'\u001b[39;49m\u001b[39m \u001b[39;49m\u001b[39m'\u001b[39;49m\u001b[39m.\u001b[39;49mjoin([\u001b[39m1\u001b[39;49m, \u001b[39m2\u001b[39;49m, \u001b[39m3\u001b[39;49m, \u001b[39m4\u001b[39;49m, \u001b[39m5\u001b[39;49m, \u001b[39m6\u001b[39;49m, \u001b[39m7\u001b[39;49m])\n",
      "\u001b[1;31mTypeError\u001b[0m: sequence item 0: expected str instance, int found"
     ]
    }
   ],
   "source": [
    "' '.join([1, 2, 3, 4, 5, 6, 7])\n"
   ]
  },
  {
   "cell_type": "code",
   "execution_count": 5,
   "metadata": {},
   "outputs": [
    {
     "data": {
      "text/plain": [
       "'2.1.0.dev20230308+cpu'"
      ]
     },
     "execution_count": 5,
     "metadata": {},
     "output_type": "execute_result"
    }
   ],
   "source": [
    "import torch\n",
    "\n",
    "torch.torch_version.__version__"
   ]
  },
  {
   "cell_type": "code",
   "execution_count": 3,
   "metadata": {},
   "outputs": [
    {
     "ename": "RuntimeError",
     "evalue": "Windows not yet supported for torch.compile",
     "output_type": "error",
     "traceback": [
      "\u001b[1;31m---------------------------------------------------------------------------\u001b[0m",
      "\u001b[1;31mRuntimeError\u001b[0m                              Traceback (most recent call last)",
      "Cell \u001b[1;32mIn[3], line 6\u001b[0m\n\u001b[0;32m      4\u001b[0m model \u001b[39m=\u001b[39m models\u001b[39m.\u001b[39mresnet18()\n\u001b[0;32m      5\u001b[0m optimizer \u001b[39m=\u001b[39m torch\u001b[39m.\u001b[39moptim\u001b[39m.\u001b[39mSGD(model\u001b[39m.\u001b[39mparameters(), lr\u001b[39m=\u001b[39m\u001b[39m0.01\u001b[39m)\n\u001b[1;32m----> 6\u001b[0m compiled_model \u001b[39m=\u001b[39m torch\u001b[39m.\u001b[39;49mcompile(model)\n\u001b[0;32m      8\u001b[0m x \u001b[39m=\u001b[39m torch\u001b[39m.\u001b[39mrandn(\u001b[39m16\u001b[39m, \u001b[39m3\u001b[39m, \u001b[39m224\u001b[39m, \u001b[39m224\u001b[39m)\n\u001b[0;32m      9\u001b[0m optimizer\u001b[39m.\u001b[39mzero_grad()\n",
      "File \u001b[1;32mc:\\Users\\Yuming\\Documents\\ResMan\\man\\lib\\site-packages\\torch\\__init__.py:1441\u001b[0m, in \u001b[0;36mcompile\u001b[1;34m(model, fullgraph, dynamic, backend, mode, options, disable)\u001b[0m\n\u001b[0;32m   1439\u001b[0m \u001b[39mif\u001b[39;00m backend \u001b[39m==\u001b[39m \u001b[39m\"\u001b[39m\u001b[39minductor\u001b[39m\u001b[39m\"\u001b[39m:\n\u001b[0;32m   1440\u001b[0m     backend \u001b[39m=\u001b[39m _TorchCompileInductorWrapper(mode, options, dynamic)\n\u001b[1;32m-> 1441\u001b[0m \u001b[39mreturn\u001b[39;00m torch\u001b[39m.\u001b[39;49m_dynamo\u001b[39m.\u001b[39;49moptimize(backend\u001b[39m=\u001b[39;49mbackend, nopython\u001b[39m=\u001b[39;49mfullgraph, dynamic\u001b[39m=\u001b[39;49mdynamic, disable\u001b[39m=\u001b[39;49mdisable)(model)\n",
      "File \u001b[1;32mc:\\Users\\Yuming\\Documents\\ResMan\\man\\lib\\site-packages\\torch\\_dynamo\\eval_frame.py:413\u001b[0m, in \u001b[0;36moptimize\u001b[1;34m(backend, nopython, guard_export_fn, guard_fail_fn, disable, dynamic)\u001b[0m\n\u001b[0;32m    380\u001b[0m \u001b[39mdef\u001b[39;00m \u001b[39moptimize\u001b[39m(\n\u001b[0;32m    381\u001b[0m     backend\u001b[39m=\u001b[39m\u001b[39m\"\u001b[39m\u001b[39minductor\u001b[39m\u001b[39m\"\u001b[39m,\n\u001b[0;32m    382\u001b[0m     \u001b[39m*\u001b[39m,\n\u001b[1;32m   (...)\u001b[0m\n\u001b[0;32m    387\u001b[0m     dynamic\u001b[39m=\u001b[39m\u001b[39mFalse\u001b[39;00m,\n\u001b[0;32m    388\u001b[0m ):\n\u001b[0;32m    389\u001b[0m \u001b[39m    \u001b[39m\u001b[39m\"\"\"\u001b[39;00m\n\u001b[0;32m    390\u001b[0m \u001b[39m    The main entrypoint of TorchDynamo.  Do graph capture and call\u001b[39;00m\n\u001b[0;32m    391\u001b[0m \u001b[39m    backend() to optimize extracted graphs.\u001b[39;00m\n\u001b[1;32m   (...)\u001b[0m\n\u001b[0;32m    411\u001b[0m \u001b[39m            ...\u001b[39;00m\n\u001b[0;32m    412\u001b[0m \u001b[39m    \"\"\"\u001b[39;00m\n\u001b[1;32m--> 413\u001b[0m     check_if_dynamo_supported()\n\u001b[0;32m    414\u001b[0m     \u001b[39m# Note: The hooks object could be global instead of passed around, *however* that would make\u001b[39;00m\n\u001b[0;32m    415\u001b[0m     \u001b[39m# for a confusing API usage and plumbing story wherein we nest multiple .optimize calls.\u001b[39;00m\n\u001b[0;32m    416\u001b[0m     \u001b[39m# There is some prior art around this, w/r/t nesting backend calls are enforced to be the same\u001b[39;00m\n\u001b[0;32m    417\u001b[0m     \u001b[39m# compiler, however, this feels onerous for callback and hooks, and it feels better to give our users an\u001b[39;00m\n\u001b[0;32m    418\u001b[0m     \u001b[39m# easier to understand UX at the cost of a little more plumbing on our end.\u001b[39;00m\n\u001b[0;32m    419\u001b[0m     hooks \u001b[39m=\u001b[39m Hooks(guard_export_fn\u001b[39m=\u001b[39mguard_export_fn, guard_fail_fn\u001b[39m=\u001b[39mguard_fail_fn)\n",
      "File \u001b[1;32mc:\\Users\\Yuming\\Documents\\ResMan\\man\\lib\\site-packages\\torch\\_dynamo\\eval_frame.py:375\u001b[0m, in \u001b[0;36mcheck_if_dynamo_supported\u001b[1;34m()\u001b[0m\n\u001b[0;32m    373\u001b[0m \u001b[39mdef\u001b[39;00m \u001b[39mcheck_if_dynamo_supported\u001b[39m():\n\u001b[0;32m    374\u001b[0m     \u001b[39mif\u001b[39;00m sys\u001b[39m.\u001b[39mplatform \u001b[39m==\u001b[39m \u001b[39m\"\u001b[39m\u001b[39mwin32\u001b[39m\u001b[39m\"\u001b[39m:\n\u001b[1;32m--> 375\u001b[0m         \u001b[39mraise\u001b[39;00m \u001b[39mRuntimeError\u001b[39;00m(\u001b[39m\"\u001b[39m\u001b[39mWindows not yet supported for torch.compile\u001b[39m\u001b[39m\"\u001b[39m)\n\u001b[0;32m    376\u001b[0m     \u001b[39mif\u001b[39;00m sys\u001b[39m.\u001b[39mversion_info \u001b[39m>\u001b[39m\u001b[39m=\u001b[39m (\u001b[39m3\u001b[39m, \u001b[39m11\u001b[39m):\n\u001b[0;32m    377\u001b[0m         \u001b[39mraise\u001b[39;00m \u001b[39mRuntimeError\u001b[39;00m(\u001b[39m\"\u001b[39m\u001b[39mPython 3.11+ not yet supported for torch.compile\u001b[39m\u001b[39m\"\u001b[39m)\n",
      "\u001b[1;31mRuntimeError\u001b[0m: Windows not yet supported for torch.compile"
     ]
    }
   ],
   "source": [
    "import torch\n",
    "import torchvision.models as models\n",
    "\n",
    "model = models.resnet18()\n",
    "optimizer = torch.optim.SGD(model.parameters(), lr=0.01)\n",
    "compiled_model = torch.compile(model)\n",
    "\n",
    "x = torch.randn(16, 3, 224, 224)\n",
    "optimizer.zero_grad()\n",
    "out = compiled_model(x)\n",
    "out.sum().backward()\n",
    "optimizer.step()\n",
    "print(out.shape)"
   ]
  },
  {
   "cell_type": "code",
   "execution_count": 15,
   "metadata": {},
   "outputs": [
    {
     "name": "stdout",
     "output_type": "stream",
     "text": [
      "[6, 2, 5, 8, 4]\n",
      "4.18 µs ± 46.6 ns per loop (mean ± std. dev. of 7 runs, 100,000 loops each)\n"
     ]
    }
   ],
   "source": [
    "# 导入random模块\n",
    "import random\n",
    "\n",
    "# 定义一个函数，接受三个参数：min, max, t\n",
    "def pick_numbers_r(min, max, t):\n",
    "  # 创建一个空列表，用于存储选出的数\n",
    "  result = []\n",
    "  # 判断t是否大于max-min+1，如果是，抛出异常\n",
    "  if t > max - min + 1:\n",
    "    raise ValueError(\"t cannot be larger than max - min + 1\")\n",
    "  # 循环t次\n",
    "  for i in range(t):\n",
    "    # 随机生成一个数，范围在min和max之间（包含两端）\n",
    "    num = random.randint(min, max)\n",
    "    # 判断这个数是否已经在结果列表中，如果是，重新生成\n",
    "    while num in result:\n",
    "      num = random.randint(min, max)\n",
    "    # 将这个数添加到结果列表中\n",
    "    result.append(num)\n",
    "  # 返回结果列表\n",
    "  return result\n",
    "\n",
    "# 调用函数，打印结果\n",
    "print(pick_numbers_r(1, 10, 5))\n",
    "%timeit pick_numbers_r(1, 10, 5)\n"
   ]
  },
  {
   "cell_type": "code",
   "execution_count": 13,
   "metadata": {},
   "outputs": [
    {
     "name": "stdout",
     "output_type": "stream",
     "text": [
      "[3 2 8 7 1]\n",
      "1.81 µs ± 13 ns per loop (mean ± std. dev. of 7 runs, 1,000,000 loops each)\n"
     ]
    }
   ],
   "source": [
    "# 导入numpy模块\n",
    "import timeit\n",
    "import numpy as np\n",
    "\n",
    "# 定义一个函数，接受三个参数：min, max, t\n",
    "\n",
    "\n",
    "def pick_numbers_s(min, max, t):\n",
    "  # 判断t是否大于max-min+1，如果是，抛出异常\n",
    "  if t > max - min + 1:\n",
    "    raise ValueError(\"t cannot be larger than max - min + 1\")\n",
    "  # 生成一个从min到max的整数数组\n",
    "  array = np.arange(min, max + 1)\n",
    "  # 随机打乱数组的顺序\n",
    "  np.random.shuffle(array)\n",
    "  # 返回数组的前t个元素\n",
    "  return array[:t]\n",
    "\n",
    "\n",
    "# 调用函数，打印结果\n",
    "print(pick_numbers_s(1, 10, 5))\n",
    "%timeit pick_numbers_s(1, 10, 5)\n"
   ]
  },
  {
   "cell_type": "code",
   "execution_count": 12,
   "metadata": {},
   "outputs": [
    {
     "name": "stdout",
     "output_type": "stream",
     "text": [
      "[8 4 6 9 7]\n",
      "12.6 µs ± 60.9 ns per loop (mean ± std. dev. of 7 runs, 100,000 loops each)\n"
     ]
    }
   ],
   "source": [
    "# 导入numpy模块\n",
    "import numpy as np\n",
    "\n",
    "# 定义一个函数，接受三个参数：min, max, t\n",
    "\n",
    "\n",
    "def pick_numbers_c(min, max, t):\n",
    "  # 判断t是否大于max-min+1，如果是，抛出异常\n",
    "  if t > max - min + 1:\n",
    "    raise ValueError(\"t cannot be larger than max - min + 1\")\n",
    "  # 用numpy的choice函数从min到max的整数中随机选取t个不重复的数\n",
    "  result = np.random.choice(np.arange(min, max + 1), size=t, replace=False)\n",
    "  # 返回结果数组\n",
    "  return result\n",
    "\n",
    "\n",
    "# 调用函数，打印结果\n",
    "print(pick_numbers_c(1, 10, 5))\n",
    "\n",
    "%timeit pick_numbers_c(1, 10, 5)\n"
   ]
  },
  {
   "cell_type": "code",
   "execution_count": 28,
   "metadata": {},
   "outputs": [
    {
     "data": {
      "text/plain": [
       "array([3, 5, 1, 4])"
      ]
     },
     "execution_count": 28,
     "metadata": {},
     "output_type": "execute_result"
    }
   ],
   "source": [
    "min = np.random.randint(0, 15)\n",
    "t = np.random.randint(3, 5)\n",
    "array = np.arange(min, min+5)\n",
    "np.random.shuffle(array)\n",
    "array[:t]\n"
   ]
  },
  {
   "cell_type": "code",
   "execution_count": 1,
   "metadata": {},
   "outputs": [
    {
     "data": {
      "text/plain": [
       "26"
      ]
     },
     "execution_count": 1,
     "metadata": {},
     "output_type": "execute_result"
    }
   ],
   "source": [
    "import numpy as np\n",
    "np.dot([2,3],[4,6])\n"
   ]
  },
  {
   "cell_type": "code",
   "execution_count": 2,
   "metadata": {},
   "outputs": [
    {
     "data": {
      "text/plain": [
       "26"
      ]
     },
     "execution_count": 2,
     "metadata": {},
     "output_type": "execute_result"
    }
   ],
   "source": [
    "8+18"
   ]
  },
  {
   "cell_type": "code",
   "execution_count": 3,
   "metadata": {},
   "outputs": [
    {
     "data": {
      "text/plain": [
       "-0.11528185322625457"
      ]
     },
     "execution_count": 3,
     "metadata": {},
     "output_type": "execute_result"
    }
   ],
   "source": [
    "np.random.normal()"
   ]
  },
  {
   "cell_type": "code",
   "execution_count": 4,
   "metadata": {},
   "outputs": [
    {
     "name": "stderr",
     "output_type": "stream",
     "text": [
      "<>:1: SyntaxWarning: list indices must be integers or slices, not tuple; perhaps you missed a comma?\n",
      "<>:1: SyntaxWarning: list indices must be integers or slices, not tuple; perhaps you missed a comma?\n",
      "C:\\Users\\Yuming\\AppData\\Local\\Temp\\ipykernel_13204\\2954475527.py:1: SyntaxWarning: list indices must be integers or slices, not tuple; perhaps you missed a comma?\n",
      "  [1,2,3,4,5,6][2,4,5]\n",
      "C:\\Users\\Yuming\\AppData\\Local\\Temp\\ipykernel_13204\\2954475527.py:1: SyntaxWarning: list indices must be integers or slices, not tuple; perhaps you missed a comma?\n",
      "  [1,2,3,4,5,6][2,4,5]\n",
      "C:\\Users\\Yuming\\AppData\\Local\\Temp\\ipykernel_13204\\2954475527.py:1: SyntaxWarning: list indices must be integers or slices, not tuple; perhaps you missed a comma?\n",
      "  [1,2,3,4,5,6][2,4,5]\n"
     ]
    },
    {
     "ename": "TypeError",
     "evalue": "list indices must be integers or slices, not tuple",
     "output_type": "error",
     "traceback": [
      "\u001b[1;31m---------------------------------------------------------------------------\u001b[0m",
      "\u001b[1;31mTypeError\u001b[0m                                 Traceback (most recent call last)",
      "Cell \u001b[1;32mIn[4], line 1\u001b[0m\n\u001b[1;32m----> 1\u001b[0m [\u001b[39m1\u001b[39;49m,\u001b[39m2\u001b[39;49m,\u001b[39m3\u001b[39;49m,\u001b[39m4\u001b[39;49m,\u001b[39m5\u001b[39;49m,\u001b[39m6\u001b[39;49m][\u001b[39m2\u001b[39;49m,\u001b[39m4\u001b[39;49m,\u001b[39m5\u001b[39;49m]\n",
      "\u001b[1;31mTypeError\u001b[0m: list indices must be integers or slices, not tuple"
     ]
    }
   ],
   "source": [
    "[1,2,3,4,5,6][2,4,5]"
   ]
  },
  {
   "cell_type": "code",
   "execution_count": 5,
   "metadata": {},
   "outputs": [
    {
     "name": "stdout",
     "output_type": "stream",
     "text": [
      "[1 4 5]\n"
     ]
    }
   ],
   "source": [
    "import numpy as np\n",
    "# 假设列表是 list1，子集是 list2\n",
    "# 用 numpy 的 in1d 函数直接从 list1 中筛选出在 list2 中的元素，得到结果数组\n",
    "list1 = [1,2,4,5,6,7]\n",
    "list2 = [1,3,4,5]\n",
    "result = np.array(list1)[np.in1d(list1, list2)]\n",
    "# 打印结果数组\n",
    "print(result)\n"
   ]
  },
  {
   "cell_type": "code",
   "execution_count": 7,
   "metadata": {},
   "outputs": [
    {
     "data": {
      "text/plain": [
       "array([ True, False,  True,  True, False, False])"
      ]
     },
     "execution_count": 7,
     "metadata": {},
     "output_type": "execute_result"
    }
   ],
   "source": [
    "np.in1d(list1, list2)\n"
   ]
  },
  {
   "cell_type": "code",
   "execution_count": 6,
   "metadata": {},
   "outputs": [
    {
     "ename": "IndexError",
     "evalue": "too many indices for array: array is 1-dimensional, but 3 were indexed",
     "output_type": "error",
     "traceback": [
      "\u001b[1;31m---------------------------------------------------------------------------\u001b[0m",
      "\u001b[1;31mIndexError\u001b[0m                                Traceback (most recent call last)",
      "Cell \u001b[1;32mIn[6], line 1\u001b[0m\n\u001b[1;32m----> 1\u001b[0m np\u001b[39m.\u001b[39;49marray(list1)[\u001b[39m1\u001b[39;49m,\u001b[39m4\u001b[39;49m,\u001b[39m5\u001b[39;49m]\n",
      "\u001b[1;31mIndexError\u001b[0m: too many indices for array: array is 1-dimensional, but 3 were indexed"
     ]
    }
   ],
   "source": [
    "np.array(list1)[1,4,5]"
   ]
  },
  {
   "cell_type": "code",
   "execution_count": 8,
   "metadata": {},
   "outputs": [
    {
     "data": {
      "text/plain": [
       "(5, 6)"
      ]
     },
     "execution_count": 8,
     "metadata": {},
     "output_type": "execute_result"
    }
   ],
   "source": [
    "(5,6)"
   ]
  },
  {
   "cell_type": "code",
   "execution_count": 1,
   "metadata": {},
   "outputs": [],
   "source": [
    "import Job\n",
    "jc = Job.JobCollection()\n",
    "ijc = iter(jc)\n"
   ]
  },
  {
   "cell_type": "code",
   "execution_count": 2,
   "metadata": {},
   "outputs": [
    {
     "data": {
      "text/plain": [
       "[[<Job.Job at 0x19324d04a30>,\n",
       "  <Job.Job at 0x19324d18850>,\n",
       "  <Job.Job at 0x19324d184f0>],\n",
       " [<Job.Job at 0x19324d18fd0>,\n",
       "  <Job.Job at 0x19324d188e0>,\n",
       "  <Job.Job at 0x19324d18c70>,\n",
       "  <Job.Job at 0x19324d18250>,\n",
       "  <Job.Job at 0x19324d18e20>],\n",
       " [<Job.Job at 0x19324d184c0>,\n",
       "  <Job.Job at 0x19324d18340>,\n",
       "  <Job.Job at 0x19324d18a00>,\n",
       "  <Job.Job at 0x19324d18bb0>,\n",
       "  <Job.Job at 0x19324d189a0>],\n",
       " [<Job.Job at 0x19324d18d60>, <Job.Job at 0x19324d18dc0>],\n",
       " [<Job.Job at 0x19324c2dac0>,\n",
       "  <Job.Job at 0x19324c2d580>,\n",
       "  <Job.Job at 0x1933c946a00>,\n",
       "  <Job.Job at 0x1933c9e01c0>],\n",
       " [<Job.Job at 0x1935357b7f0>,\n",
       "  <Job.Job at 0x1933c892a60>,\n",
       "  <Job.Job at 0x19353586640>,\n",
       "  <Job.Job at 0x19353586760>,\n",
       "  <Job.Job at 0x19353586790>,\n",
       "  <Job.Job at 0x193535867c0>,\n",
       "  <Job.Job at 0x193535867f0>,\n",
       "  <Job.Job at 0x19353586820>,\n",
       "  <Job.Job at 0x19353586850>,\n",
       "  <Job.Job at 0x19353586880>,\n",
       "  <Job.Job at 0x193535868b0>],\n",
       " [<Job.Job at 0x193535868e0>,\n",
       "  <Job.Job at 0x19353586910>,\n",
       "  <Job.Job at 0x19353586940>,\n",
       "  <Job.Job at 0x19353586970>,\n",
       "  <Job.Job at 0x193535869a0>],\n",
       " [<Job.Job at 0x193535869d0>,\n",
       "  <Job.Job at 0x19353586a00>,\n",
       "  <Job.Job at 0x19353586a30>,\n",
       "  <Job.Job at 0x19353586a60>,\n",
       "  <Job.Job at 0x19353586a90>,\n",
       "  <Job.Job at 0x19353586ac0>,\n",
       "  <Job.Job at 0x19353586af0>,\n",
       "  <Job.Job at 0x19353586b20>],\n",
       " [<Job.Job at 0x19353586b50>,\n",
       "  <Job.Job at 0x19353586b80>,\n",
       "  <Job.Job at 0x19353586bb0>,\n",
       "  <Job.Job at 0x19353586be0>],\n",
       " [<Job.Job at 0x19353586c10>,\n",
       "  <Job.Job at 0x19353586c40>,\n",
       "  <Job.Job at 0x19353586c70>]]"
      ]
     },
     "execution_count": 2,
     "metadata": {},
     "output_type": "execute_result"
    }
   ],
   "source": [
    "next(ijc)"
   ]
  }
 ],
 "metadata": {
  "kernelspec": {
   "display_name": "man",
   "language": "python",
   "name": "python3"
  },
  "language_info": {
   "codemirror_mode": {
    "name": "ipython",
    "version": 3
   },
   "file_extension": ".py",
   "mimetype": "text/x-python",
   "name": "python",
   "nbconvert_exporter": "python",
   "pygments_lexer": "ipython3",
   "version": "3.9.10"
  },
  "orig_nbformat": 4,
  "vscode": {
   "interpreter": {
    "hash": "d652fbd7feb28eaf2ff622dc57929f599600a55ad62e1efe6c9f098053cf5e75"
   }
  }
 },
 "nbformat": 4,
 "nbformat_minor": 2
}
