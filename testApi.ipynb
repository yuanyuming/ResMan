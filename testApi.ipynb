{
 "cells": [
  {
   "cell_type": "code",
   "execution_count": null,
   "metadata": {},
   "outputs": [],
   "source": [
    "\"\"\"This is a minimal example of using Tianshou with MARL to train agents.\n",
    "\n",
    "Author: Will (https://github.com/WillDudley)\n",
    "\n",
    "Python version used: 3.8.10\n",
    "\n",
    "Requirements:\n",
    "pettingzoo == 1.22.0\n",
    "git+https://github.com/thu-ml/tianshou\n",
    "\"\"\"\n",
    "\n",
    "import os\n",
    "from typing import Optional, Tuple\n",
    "\n",
    "import gymnasium as gym\n",
    "import numpy as np\n",
    "import torch\n",
    "from tianshou.data import Collector, VectorReplayBuffer\n",
    "from tianshou.env import DummyVectorEnv\n",
    "from tianshou.env.pettingzoo_env import PettingZooEnv\n",
    "from tianshou.policy import BasePolicy, DQNPolicy, MultiAgentPolicyManager, RandomPolicy\n",
    "from tianshou.trainer import offpolicy_trainer\n",
    "from tianshou.utils.net.common import Net\n",
    "\n",
    "from pettingzoo.classic import tictactoe_v3\n",
    "\n",
    "\n",
    "def _get_agents(\n",
    "    agent_learn: Optional[BasePolicy] = None,\n",
    "    agent_opponent: Optional[BasePolicy] = None,\n",
    "    optim: Optional[torch.optim.Optimizer] = None,\n",
    ") -> Tuple[BasePolicy, torch.optim.Optimizer, list]:\n",
    "    env = _get_env()\n",
    "    observation_space = (\n",
    "        env.observation_space[\"observation\"]\n",
    "        if isinstance(env.observation_space, gym.spaces.Dict)\n",
    "        else env.observation_space\n",
    "    )\n",
    "    if agent_learn is None:\n",
    "        # model\n",
    "        net = Net(\n",
    "            state_shape=observation_space.shape or observation_space.n,\n",
    "            action_shape=env.action_space.shape or env.action_space.n,\n",
    "            hidden_sizes=[128, 128, 128, 128],\n",
    "            device=\"cuda\" if torch.cuda.is_available() else \"cpu\",\n",
    "        ).to(\"cuda\" if torch.cuda.is_available() else \"cpu\")\n",
    "        if optim is None:\n",
    "            optim = torch.optim.Adam(net.parameters(), lr=1e-4)\n",
    "        agent_learn = DQNPolicy(\n",
    "            model=net,\n",
    "            optim=optim,\n",
    "            discount_factor=0.9,\n",
    "            estimation_step=3,\n",
    "            target_update_freq=320,\n",
    "        )\n",
    "\n",
    "    if agent_opponent is None:\n",
    "        agent_opponent = RandomPolicy()\n",
    "\n",
    "    agents = [agent_opponent, agent_learn]\n",
    "    policy = MultiAgentPolicyManager(agents, env)\n",
    "    return policy, optim, env.agents\n",
    "\n",
    "\n",
    "def _get_env():\n",
    "    \"\"\"This function is needed to provide callables for DummyVectorEnv.\"\"\"\n",
    "    return PettingZooEnv(tictactoe_v3.env())\n",
    "\n",
    "\n",
    "if __name__ == \"__main__\":\n",
    "    # ======== Step 1: Environment setup =========\n",
    "    train_envs = DummyVectorEnv([_get_env for _ in range(10)])\n",
    "    test_envs = DummyVectorEnv([_get_env for _ in range(10)])\n",
    "\n",
    "    # seed\n",
    "    seed = 1\n",
    "    np.random.seed(seed)\n",
    "    torch.manual_seed(seed)\n",
    "    train_envs.seed(seed)\n",
    "    test_envs.seed(seed)\n",
    "\n",
    "    # ======== Step 2: Agent setup =========\n",
    "    policy, optim, agents = _get_agents()\n",
    "\n",
    "    # ======== Step 3: Collector setup =========\n",
    "    train_collector = Collector(\n",
    "        policy,\n",
    "        train_envs,\n",
    "        VectorReplayBuffer(20_000, len(train_envs)),\n",
    "        exploration_noise=True,\n",
    "    )\n",
    "    test_collector = Collector(policy, test_envs, exploration_noise=True)\n",
    "    # policy.set_eps(1)\n",
    "    train_collector.collect(n_step=64 * 10)  # batch size * training_num\n",
    "\n",
    "    # ======== Step 4: Callback functions setup =========\n",
    "    def save_best_fn(policy):\n",
    "        model_save_path = os.path.join(\"log\", \"rps\", \"dqn\", \"policy.pth\")\n",
    "        os.makedirs(os.path.join(\"log\", \"rps\", \"dqn\"), exist_ok=True)\n",
    "        torch.save(policy.policies[agents[1]].state_dict(), model_save_path)\n",
    "\n",
    "    def stop_fn(mean_rewards):\n",
    "        return mean_rewards >= 0.6\n",
    "\n",
    "    def train_fn(epoch, env_step):\n",
    "        policy.policies[agents[1]].set_eps(0.1)\n",
    "\n",
    "    def test_fn(epoch, env_step):\n",
    "        policy.policies[agents[1]].set_eps(0.05)\n",
    "\n",
    "    def reward_metric(rews):\n",
    "        return rews[:, 1]\n",
    "\n",
    "    # ======== Step 5: Run the trainer =========\n",
    "    result = offpolicy_trainer(\n",
    "        policy=policy,\n",
    "        train_collector=train_collector,\n",
    "        test_collector=test_collector,\n",
    "        max_epoch=50,\n",
    "        step_per_epoch=1000,\n",
    "        step_per_collect=50,\n",
    "        episode_per_test=10,\n",
    "        batch_size=64,\n",
    "        train_fn=train_fn,\n",
    "        test_fn=test_fn,\n",
    "        stop_fn=stop_fn,\n",
    "        save_best_fn=save_best_fn,\n",
    "        update_per_step=0.1,\n",
    "        test_in_train=False,\n",
    "        reward_metric=reward_metric,\n",
    "    )\n",
    "\n",
    "    # return result, policy.policies[agents[1]]\n",
    "    print(f\"\\n==========Result==========\\n{result}\")\n",
    "    print(\"\\n(the trained policy can be accessed via policy.policies[agents[1]])\")"
   ]
  },
  {
   "cell_type": "code",
   "execution_count": null,
   "metadata": {},
   "outputs": [],
   "source": [
    "performance_benchmark(env)"
   ]
  },
  {
   "cell_type": "code",
   "execution_count": null,
   "metadata": {},
   "outputs": [],
   "source": [
    "import Environment\n",
    "env = Environment.VehicleJobSchedulingEnvACE()\n",
    "from pettingzoo.test import performance_benchmark\n",
    "import cProfile\n",
    "cProfile.run(\"performance_benchmark(env)\")"
   ]
  },
  {
   "cell_type": "code",
   "execution_count": null,
   "metadata": {},
   "outputs": [],
   "source": [
    "%conda install scipy"
   ]
  },
  {
   "cell_type": "code",
   "execution_count": 2,
   "metadata": {},
   "outputs": [
    {
     "ename": "AttributeError",
     "evalue": "'Dict' object has no attribute 'low'",
     "output_type": "error",
     "traceback": [
      "\u001b[0;31m---------------------------------------------------------------------------\u001b[0m",
      "\u001b[0;31mTypeError\u001b[0m                                 Traceback (most recent call last)",
      "File \u001b[0;32m~/ResMan/man/lib/python3.9/site-packages/supersuit/lambda_wrappers/observation_lambda.py:49\u001b[0m, in \u001b[0;36maec_observation_lambda.observation_space\u001b[0;34m(self, agent)\u001b[0m\n\u001b[1;32m     48\u001b[0m \u001b[39mtry\u001b[39;00m:\n\u001b[0;32m---> 49\u001b[0m     \u001b[39mreturn\u001b[39;00m \u001b[39mself\u001b[39;49m\u001b[39m.\u001b[39;49mchange_obs_space_fn(old_obs_space, agent)\n\u001b[1;32m     50\u001b[0m \u001b[39mexcept\u001b[39;00m \u001b[39mTypeError\u001b[39;00m:\n",
      "\u001b[0;31mTypeError\u001b[0m: change_space() takes 1 positional argument but 2 were given",
      "\nDuring handling of the above exception, another exception occurred:\n",
      "\u001b[0;31mAttributeError\u001b[0m                            Traceback (most recent call last)",
      "Cell \u001b[0;32mIn[2], line 5\u001b[0m\n\u001b[1;32m      3\u001b[0m \u001b[39mfrom\u001b[39;00m \u001b[39mtianshou\u001b[39;00m\u001b[39m.\u001b[39;00m\u001b[39menv\u001b[39;00m \u001b[39mimport\u001b[39;00m PettingZooEnv\n\u001b[1;32m      4\u001b[0m env \u001b[39m=\u001b[39m Environment\u001b[39m.\u001b[39mVehicleJobSchedulingEnvACE()\n\u001b[0;32m----> 5\u001b[0m env \u001b[39m=\u001b[39m flatten_v0(env)\n\u001b[1;32m      6\u001b[0m env \u001b[39m=\u001b[39m PettingZooEnv(env)\n\u001b[1;32m      8\u001b[0m env\u001b[39m.\u001b[39maction_space\u001b[39m.\u001b[39mshape, env\u001b[39m.\u001b[39mobservation_space\n",
      "File \u001b[0;32m~/ResMan/man/lib/python3.9/site-packages/supersuit/generic_wrappers/basic_wrappers.py:32\u001b[0m, in \u001b[0;36mflatten_v0\u001b[0;34m(env)\u001b[0m\n\u001b[1;32m     31\u001b[0m \u001b[39mdef\u001b[39;00m \u001b[39mflatten_v0\u001b[39m(env):\n\u001b[0;32m---> 32\u001b[0m     \u001b[39mreturn\u001b[39;00m basic_obs_wrapper(env, basic_transforms\u001b[39m.\u001b[39;49mflatten, \u001b[39mTrue\u001b[39;49;00m)\n",
      "File \u001b[0;32m~/ResMan/man/lib/python3.9/site-packages/supersuit/generic_wrappers/basic_wrappers.py:15\u001b[0m, in \u001b[0;36mbasic_obs_wrapper\u001b[0;34m(env, module, param)\u001b[0m\n\u001b[1;32m     13\u001b[0m \u001b[39mdef\u001b[39;00m \u001b[39mchange_obs\u001b[39m(obs, obs_space):\n\u001b[1;32m     14\u001b[0m     \u001b[39mreturn\u001b[39;00m module\u001b[39m.\u001b[39mchange_observation(obs, obs_space, param)\n\u001b[0;32m---> 15\u001b[0m \u001b[39mreturn\u001b[39;00m observation_lambda_v0(env, change_obs, change_space)\n",
      "File \u001b[0;32m~/ResMan/man/lib/python3.9/site-packages/supersuit/utils/wrapper_chooser.py:20\u001b[0m, in \u001b[0;36mWrapperChooser.__call__\u001b[0;34m(self, env, *args, **kwargs)\u001b[0m\n\u001b[1;32m     18\u001b[0m \u001b[39melif\u001b[39;00m \u001b[39misinstance\u001b[39m(env, AECEnv):\n\u001b[1;32m     19\u001b[0m     \u001b[39mif\u001b[39;00m \u001b[39mself\u001b[39m\u001b[39m.\u001b[39maec_wrapper \u001b[39mis\u001b[39;00m \u001b[39mnot\u001b[39;00m \u001b[39mNone\u001b[39;00m:\n\u001b[0;32m---> 20\u001b[0m         \u001b[39mreturn\u001b[39;00m \u001b[39mself\u001b[39;49m\u001b[39m.\u001b[39;49maec_wrapper(env, \u001b[39m*\u001b[39;49margs, \u001b[39m*\u001b[39;49m\u001b[39m*\u001b[39;49mkwargs)\n\u001b[1;32m     21\u001b[0m     \u001b[39melse\u001b[39;00m:\n\u001b[1;32m     22\u001b[0m         \u001b[39mreturn\u001b[39;00m from_parallel(\u001b[39mself\u001b[39m\u001b[39m.\u001b[39mparallel_wrapper(to_parallel(env), \u001b[39m*\u001b[39margs, \u001b[39m*\u001b[39m\u001b[39m*\u001b[39mkwargs))\n",
      "File \u001b[0;32m~/ResMan/man/lib/python3.9/site-packages/supersuit/lambda_wrappers/observation_lambda.py:22\u001b[0m, in \u001b[0;36maec_observation_lambda.__init__\u001b[0;34m(self, env, change_observation_fn, change_obs_space_fn)\u001b[0m\n\u001b[1;32m     19\u001b[0m \u001b[39mif\u001b[39;00m \u001b[39mhasattr\u001b[39m(\u001b[39mself\u001b[39m, \u001b[39m'\u001b[39m\u001b[39mpossible_agents\u001b[39m\u001b[39m'\u001b[39m):\n\u001b[1;32m     20\u001b[0m     \u001b[39mfor\u001b[39;00m agent \u001b[39min\u001b[39;00m \u001b[39mself\u001b[39m\u001b[39m.\u001b[39mpossible_agents:\n\u001b[1;32m     21\u001b[0m         \u001b[39m# call any validation logic in this function\u001b[39;00m\n\u001b[0;32m---> 22\u001b[0m         \u001b[39mself\u001b[39;49m\u001b[39m.\u001b[39;49mobservation_space(agent)\n",
      "File \u001b[0;32m~/ResMan/man/lib/python3.9/site-packages/supersuit/lambda_wrappers/observation_lambda.py:51\u001b[0m, in \u001b[0;36maec_observation_lambda.observation_space\u001b[0;34m(self, agent)\u001b[0m\n\u001b[1;32m     49\u001b[0m     \u001b[39mreturn\u001b[39;00m \u001b[39mself\u001b[39m\u001b[39m.\u001b[39mchange_obs_space_fn(old_obs_space, agent)\n\u001b[1;32m     50\u001b[0m \u001b[39mexcept\u001b[39;00m \u001b[39mTypeError\u001b[39;00m:\n\u001b[0;32m---> 51\u001b[0m     \u001b[39mreturn\u001b[39;00m \u001b[39mself\u001b[39;49m\u001b[39m.\u001b[39;49mchange_obs_space_fn(old_obs_space)\n",
      "File \u001b[0;32m~/ResMan/man/lib/python3.9/site-packages/supersuit/generic_wrappers/basic_wrappers.py:10\u001b[0m, in \u001b[0;36mbasic_obs_wrapper.<locals>.change_space\u001b[0;34m(space)\u001b[0m\n\u001b[1;32m      8\u001b[0m \u001b[39mdef\u001b[39;00m \u001b[39mchange_space\u001b[39m(space):\n\u001b[1;32m      9\u001b[0m     module\u001b[39m.\u001b[39mcheck_param(space, param)\n\u001b[0;32m---> 10\u001b[0m     space \u001b[39m=\u001b[39m module\u001b[39m.\u001b[39;49mchange_obs_space(space, param)\n\u001b[1;32m     11\u001b[0m     \u001b[39mreturn\u001b[39;00m space\n",
      "File \u001b[0;32m~/ResMan/man/lib/python3.9/site-packages/supersuit/utils/basic_transforms/flatten.py:9\u001b[0m, in \u001b[0;36mchange_obs_space\u001b[0;34m(obs_space, param)\u001b[0m\n\u001b[1;32m      8\u001b[0m \u001b[39mdef\u001b[39;00m \u001b[39mchange_obs_space\u001b[39m(obs_space, param):\n\u001b[0;32m----> 9\u001b[0m     \u001b[39mreturn\u001b[39;00m convert_box(\u001b[39mlambda\u001b[39;49;00m obs: change_observation(obs, obs_space, param), obs_space)\n",
      "File \u001b[0;32m~/ResMan/man/lib/python3.9/site-packages/supersuit/utils/basic_transforms/__init__.py:5\u001b[0m, in \u001b[0;36mconvert_box\u001b[0;34m(convert_obs_fn, old_box)\u001b[0m\n\u001b[1;32m      4\u001b[0m \u001b[39mdef\u001b[39;00m \u001b[39mconvert_box\u001b[39m(convert_obs_fn, old_box):\n\u001b[0;32m----> 5\u001b[0m     new_low \u001b[39m=\u001b[39m convert_obs_fn(old_box\u001b[39m.\u001b[39;49mlow)\n\u001b[1;32m      6\u001b[0m     new_high \u001b[39m=\u001b[39m convert_obs_fn(old_box\u001b[39m.\u001b[39mhigh)\n\u001b[1;32m      7\u001b[0m     \u001b[39mreturn\u001b[39;00m Box(low\u001b[39m=\u001b[39mnew_low, high\u001b[39m=\u001b[39mnew_high, dtype\u001b[39m=\u001b[39mnew_low\u001b[39m.\u001b[39mdtype)\n",
      "\u001b[0;31mAttributeError\u001b[0m: 'Dict' object has no attribute 'low'"
     ]
    }
   ],
   "source": [
    "import Environment\n",
    "from supersuit import flatten_v0\n",
    "from tianshou.env import PettingZooEnv\n",
    "env = Environment.VehicleJobSchedulingEnvACE()\n",
    "\n",
    "env = PettingZooEnv(env)\n",
    "\n",
    "env.action_space.shape, env.observation_space"
   ]
  },
  {
   "cell_type": "code",
   "execution_count": 4,
   "metadata": {},
   "outputs": [
    {
     "ename": "ImportError",
     "evalue": "cannot import name 'BaseParallelWraper' from 'pettingzoo.utils.wrappers' (/home/yuan/ResMan/man/lib/python3.9/site-packages/pettingzoo/utils/wrappers/__init__.py)",
     "output_type": "error",
     "traceback": [
      "\u001b[0;31m---------------------------------------------------------------------------\u001b[0m",
      "\u001b[0;31mImportError\u001b[0m                               Traceback (most recent call last)",
      "Cell \u001b[0;32mIn[4], line 1\u001b[0m\n\u001b[0;32m----> 1\u001b[0m \u001b[39mfrom\u001b[39;00m \u001b[39mpettingzoo\u001b[39;00m\u001b[39m.\u001b[39;00m\u001b[39mutils\u001b[39;00m\u001b[39m.\u001b[39;00m\u001b[39mwrappers\u001b[39;00m \u001b[39mimport\u001b[39;00m BaseWrapper, BaseParallelWraper\n",
      "\u001b[0;31mImportError\u001b[0m: cannot import name 'BaseParallelWraper' from 'pettingzoo.utils.wrappers' (/home/yuan/ResMan/man/lib/python3.9/site-packages/pettingzoo/utils/wrappers/__init__.py)"
     ]
    }
   ],
   "source": [
    "from pettingzoo.utils.wrappers import BaseWrapper,BaseParallelWrapper,BaseParallelWraper"
   ]
  },
  {
   "cell_type": "code",
   "execution_count": 15,
   "metadata": {},
   "outputs": [],
   "source": [
    "from rich import pretty\n",
    "pretty.install()"
   ]
  },
  {
   "cell_type": "code",
   "execution_count": 2,
   "metadata": {},
   "outputs": [
    {
     "ename": "KeyError",
     "evalue": "'avail_slot'",
     "output_type": "error",
     "traceback": [
      "\u001b[0;31m---------------------------------------------------------------------------\u001b[0m",
      "\u001b[0;31mKeyError\u001b[0m                                  Traceback (most recent call last)",
      "Cell \u001b[0;32mIn[2], line 1\u001b[0m\n\u001b[0;32m----> 1\u001b[0m env\u001b[39m.\u001b[39;49mreset()\n\u001b[1;32m      2\u001b[0m env\u001b[39m.\u001b[39mstep(\u001b[39m1\u001b[39m)\n\u001b[1;32m      3\u001b[0m env\u001b[39m.\u001b[39mlast()\n",
      "File \u001b[0;32m~/ResMan/man/lib/python3.9/site-packages/gymnasium/core.py:463\u001b[0m, in \u001b[0;36mObservationWrapper.reset\u001b[0;34m(self, seed, options)\u001b[0m\n\u001b[1;32m    461\u001b[0m \u001b[39m\u001b[39m\u001b[39m\"\"\"Modifies the :attr:`env` after calling :meth:`reset`, returning a modified observation using :meth:`self.observation`.\"\"\"\u001b[39;00m\n\u001b[1;32m    462\u001b[0m obs, info \u001b[39m=\u001b[39m \u001b[39mself\u001b[39m\u001b[39m.\u001b[39menv\u001b[39m.\u001b[39mreset(seed\u001b[39m=\u001b[39mseed, options\u001b[39m=\u001b[39moptions)\n\u001b[0;32m--> 463\u001b[0m \u001b[39mreturn\u001b[39;00m \u001b[39mself\u001b[39;49m\u001b[39m.\u001b[39;49mobservation(obs), info\n",
      "File \u001b[0;32m~/ResMan/man/lib/python3.9/site-packages/gymnasium/wrappers/flatten_observation.py:43\u001b[0m, in \u001b[0;36mFlattenObservation.observation\u001b[0;34m(self, observation)\u001b[0m\n\u001b[1;32m     34\u001b[0m \u001b[39mdef\u001b[39;00m \u001b[39mobservation\u001b[39m(\u001b[39mself\u001b[39m, observation):\n\u001b[1;32m     35\u001b[0m \u001b[39m    \u001b[39m\u001b[39m\"\"\"Flattens an observation.\u001b[39;00m\n\u001b[1;32m     36\u001b[0m \n\u001b[1;32m     37\u001b[0m \u001b[39m    Args:\u001b[39;00m\n\u001b[0;32m   (...)\u001b[0m\n\u001b[1;32m     41\u001b[0m \u001b[39m        The flattened observation\u001b[39;00m\n\u001b[1;32m     42\u001b[0m \u001b[39m    \"\"\"\u001b[39;00m\n\u001b[0;32m---> 43\u001b[0m     \u001b[39mreturn\u001b[39;00m spaces\u001b[39m.\u001b[39;49mflatten(\u001b[39mself\u001b[39;49m\u001b[39m.\u001b[39;49menv\u001b[39m.\u001b[39;49mobservation_space, observation)\n",
      "File \u001b[0;32m/root/anaconda3/lib/python3.9/functools.py:888\u001b[0m, in \u001b[0;36msingledispatch.<locals>.wrapper\u001b[0;34m(*args, **kw)\u001b[0m\n\u001b[1;32m    884\u001b[0m \u001b[39mif\u001b[39;00m \u001b[39mnot\u001b[39;00m args:\n\u001b[1;32m    885\u001b[0m     \u001b[39mraise\u001b[39;00m \u001b[39mTypeError\u001b[39;00m(\u001b[39mf\u001b[39m\u001b[39m'\u001b[39m\u001b[39m{\u001b[39;00mfuncname\u001b[39m}\u001b[39;00m\u001b[39m requires at least \u001b[39m\u001b[39m'\u001b[39m\n\u001b[1;32m    886\u001b[0m                     \u001b[39m'\u001b[39m\u001b[39m1 positional argument\u001b[39m\u001b[39m'\u001b[39m)\n\u001b[0;32m--> 888\u001b[0m \u001b[39mreturn\u001b[39;00m dispatch(args[\u001b[39m0\u001b[39;49m]\u001b[39m.\u001b[39;49m\u001b[39m__class__\u001b[39;49m)(\u001b[39m*\u001b[39;49margs, \u001b[39m*\u001b[39;49m\u001b[39m*\u001b[39;49mkw)\n",
      "File \u001b[0;32m~/ResMan/man/lib/python3.9/site-packages/gymnasium/spaces/utils.py:196\u001b[0m, in \u001b[0;36m_flatten_dict\u001b[0;34m(space, x)\u001b[0m\n\u001b[1;32m    192\u001b[0m \u001b[39m@flatten\u001b[39m\u001b[39m.\u001b[39mregister(Dict)\n\u001b[1;32m    193\u001b[0m \u001b[39mdef\u001b[39;00m \u001b[39m_flatten_dict\u001b[39m(space: Dict, x: \u001b[39mdict\u001b[39m[\u001b[39mstr\u001b[39m, Any]) \u001b[39m-\u001b[39m\u001b[39m>\u001b[39m \u001b[39mdict\u001b[39m[\u001b[39mstr\u001b[39m, Any] \u001b[39m|\u001b[39m NDArray[Any]:\n\u001b[1;32m    194\u001b[0m     \u001b[39mif\u001b[39;00m space\u001b[39m.\u001b[39mis_np_flattenable:\n\u001b[1;32m    195\u001b[0m         \u001b[39mreturn\u001b[39;00m np\u001b[39m.\u001b[39mconcatenate(\n\u001b[0;32m--> 196\u001b[0m             [np\u001b[39m.\u001b[39marray(flatten(s, x[key])) \u001b[39mfor\u001b[39;00m key, s \u001b[39min\u001b[39;00m space\u001b[39m.\u001b[39mspaces\u001b[39m.\u001b[39mitems()]\n\u001b[1;32m    197\u001b[0m         )\n\u001b[1;32m    198\u001b[0m     \u001b[39mreturn\u001b[39;00m OrderedDict((key, flatten(s, x[key])) \u001b[39mfor\u001b[39;00m key, s \u001b[39min\u001b[39;00m space\u001b[39m.\u001b[39mspaces\u001b[39m.\u001b[39mitems())\n",
      "File \u001b[0;32m~/ResMan/man/lib/python3.9/site-packages/gymnasium/spaces/utils.py:196\u001b[0m, in \u001b[0;36m<listcomp>\u001b[0;34m(.0)\u001b[0m\n\u001b[1;32m    192\u001b[0m \u001b[39m@flatten\u001b[39m\u001b[39m.\u001b[39mregister(Dict)\n\u001b[1;32m    193\u001b[0m \u001b[39mdef\u001b[39;00m \u001b[39m_flatten_dict\u001b[39m(space: Dict, x: \u001b[39mdict\u001b[39m[\u001b[39mstr\u001b[39m, Any]) \u001b[39m-\u001b[39m\u001b[39m>\u001b[39m \u001b[39mdict\u001b[39m[\u001b[39mstr\u001b[39m, Any] \u001b[39m|\u001b[39m NDArray[Any]:\n\u001b[1;32m    194\u001b[0m     \u001b[39mif\u001b[39;00m space\u001b[39m.\u001b[39mis_np_flattenable:\n\u001b[1;32m    195\u001b[0m         \u001b[39mreturn\u001b[39;00m np\u001b[39m.\u001b[39mconcatenate(\n\u001b[0;32m--> 196\u001b[0m             [np\u001b[39m.\u001b[39marray(flatten(s, x[key])) \u001b[39mfor\u001b[39;00m key, s \u001b[39min\u001b[39;00m space\u001b[39m.\u001b[39mspaces\u001b[39m.\u001b[39mitems()]\n\u001b[1;32m    197\u001b[0m         )\n\u001b[1;32m    198\u001b[0m     \u001b[39mreturn\u001b[39;00m OrderedDict((key, flatten(s, x[key])) \u001b[39mfor\u001b[39;00m key, s \u001b[39min\u001b[39;00m space\u001b[39m.\u001b[39mspaces\u001b[39m.\u001b[39mitems())\n",
      "\u001b[0;31mKeyError\u001b[0m: 'avail_slot'"
     ]
    }
   ],
   "source": [
    "env.reset()\n",
    "env.step(1)\n",
    "env.last()"
   ]
  },
  {
   "cell_type": "code",
   "execution_count": 4,
   "metadata": {},
   "outputs": [],
   "source": [
    "env = Environment.VehicleJobSchedulingEnvACE()\n",
    "sp, _ = env.reset()"
   ]
  },
  {
   "cell_type": "code",
   "execution_count": 6,
   "metadata": {},
   "outputs": [
    {
     "data": {
      "text/plain": [
       "OrderedDict([('avail_slot',\n",
       "              array([[20, 37],\n",
       "                     [20, 37],\n",
       "                     [20, 37],\n",
       "                     [20, 37],\n",
       "                     [20, 37],\n",
       "                     [20, 37],\n",
       "                     [20, 37],\n",
       "                     [20, 37],\n",
       "                     [20, 37],\n",
       "                     [20, 37]], dtype=int8)),\n",
       "             ('request_job',\n",
       "              OrderedDict([('res_vec', [0, 0]),\n",
       "                           ('len', 0),\n",
       "                           ('priority', 0)]))])"
      ]
     },
     "execution_count": 6,
     "metadata": {},
     "output_type": "execute_result"
    }
   ],
   "source": [
    "sp"
   ]
  },
  {
   "cell_type": "code",
   "execution_count": 13,
   "metadata": {},
   "outputs": [
    {
     "ename": "ImportError",
     "evalue": "cannot import name 'AECWrapper' from 'pettingzoo.utils' (/home/yuan/ResMan/man/lib/python3.9/site-packages/pettingzoo/utils/__init__.py)",
     "output_type": "error",
     "traceback": [
      "\u001b[0;31m---------------------------------------------------------------------------\u001b[0m",
      "\u001b[0;31mImportError\u001b[0m                               Traceback (most recent call last)",
      "Cell \u001b[0;32mIn[13], line 3\u001b[0m\n\u001b[1;32m      1\u001b[0m \u001b[39mimport\u001b[39;00m \u001b[39mgym\u001b[39;00m\n\u001b[1;32m      2\u001b[0m \u001b[39mimport\u001b[39;00m \u001b[39mpettingzoo\u001b[39;00m\n\u001b[0;32m----> 3\u001b[0m \u001b[39mfrom\u001b[39;00m \u001b[39mpettingzoo\u001b[39;00m\u001b[39m.\u001b[39;00m\u001b[39mutils\u001b[39;00m \u001b[39mimport\u001b[39;00m AECWrapper \u001b[39m# add this line\u001b[39;00m\n\u001b[1;32m      5\u001b[0m \u001b[39mclass\u001b[39;00m \u001b[39mFlattenWrapper\u001b[39;00m(AECWrapper): \u001b[39m# change this line\u001b[39;00m\n\u001b[1;32m      6\u001b[0m     \u001b[39mdef\u001b[39;00m \u001b[39m__init__\u001b[39m(\u001b[39mself\u001b[39m, env):\n",
      "\u001b[0;31mImportError\u001b[0m: cannot import name 'AECWrapper' from 'pettingzoo.utils' (/home/yuan/ResMan/man/lib/python3.9/site-packages/pettingzoo/utils/__init__.py)"
     ]
    }
   ],
   "source": [
    "\n",
    "\n"
   ]
  },
  {
   "cell_type": "code",
   "execution_count": null,
   "metadata": {},
   "outputs": [],
   "source": []
  }
 ],
 "metadata": {
  "kernelspec": {
   "display_name": "man",
   "language": "python",
   "name": "python3"
  },
  "language_info": {
   "codemirror_mode": {
    "name": "ipython",
    "version": 3
   },
   "file_extension": ".py",
   "mimetype": "text/x-python",
   "name": "python",
   "nbconvert_exporter": "python",
   "pygments_lexer": "ipython3",
   "version": "3.10.4"
  },
  "orig_nbformat": 4,
  "vscode": {
   "interpreter": {
    "hash": "d652fbd7feb28eaf2ff622dc57929f599600a55ad62e1efe6c9f098053cf5e75"
   }
  }
 },
 "nbformat": 4,
 "nbformat_minor": 2
}
