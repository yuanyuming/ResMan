{
 "cells": [
  {
   "cell_type": "code",
   "execution_count": null,
   "metadata": {},
   "outputs": [],
   "source": [
    "import Environment\n",
    "import parameters\n",
    "pa = parameters.Parameters()\n",
    "pa.num_nw = 5\n",
    "pa.simulate_len = 50\n",
    "pa.num_ex = 10\n",
    "pa.new_job_rate = 1\n",
    "pa.compute_dependent_parameters()\n",
    "env = Environment.Allocation_Environment(pa, render=False, repre='image')\n",
    "env.step(5)\n",
    "env.step(5)\n",
    "env.step(5)\n",
    "env.step(5)\n",
    "env.step(5)\n"
   ]
  },
  {
   "cell_type": "code",
   "execution_count": null,
   "metadata": {},
   "outputs": [],
   "source": [
    "job = env.job_backlog.backlog[0]\n"
   ]
  },
  {
   "cell_type": "code",
   "execution_count": null,
   "metadata": {},
   "outputs": [],
   "source": [
    "env.job_backlog.show()"
   ]
  },
  {
   "cell_type": "code",
   "execution_count": null,
   "metadata": {},
   "outputs": [],
   "source": [
    "import numpy as np\n"
   ]
  },
  {
   "cell_type": "code",
   "execution_count": 1,
   "metadata": {},
   "outputs": [
    {
     "name": "stdout",
     "output_type": "stream",
     "text": [
      "id:0,Res Vector:[2, 3],Job Len:5\n"
     ]
    }
   ],
   "source": [
    "import Job\n",
    "job = Job.Job()\n",
    "print(job)"
   ]
  },
  {
   "cell_type": "code",
   "execution_count": null,
   "metadata": {},
   "outputs": [],
   "source": [
    "import tensorflow\n",
    "import gym\n",
    "import pandas"
   ]
  },
  {
   "cell_type": "code",
   "execution_count": null,
   "metadata": {},
   "outputs": [],
   "source": [
    "tensorflow.config.list_physical_devices()"
   ]
  },
  {
   "cell_type": "code",
   "execution_count": null,
   "metadata": {},
   "outputs": [],
   "source": [
    "csv = pandas.read_csv(\"Sever.csv\")"
   ]
  },
  {
   "cell_type": "code",
   "execution_count": null,
   "metadata": {},
   "outputs": [],
   "source": [
    "ze =numpy.zeros([3,15])"
   ]
  },
  {
   "cell_type": "code",
   "execution_count": null,
   "metadata": {},
   "outputs": [],
   "source": [
    "ze"
   ]
  },
  {
   "cell_type": "code",
   "execution_count": null,
   "metadata": {},
   "outputs": [],
   "source": [
    "z1 = numpy.array([1,2,3])"
   ]
  },
  {
   "cell_type": "code",
   "execution_count": null,
   "metadata": {},
   "outputs": [],
   "source": [
    "for i in range(1,100):\n",
    "    on1 = numpy.ones([10])\n",
    "    cpu = on1 * 10\n",
    "    mem = on1 * 20\n",
    "    numpy.concatenate([cpu,mem],axis=0).reshape([2,10])"
   ]
  },
  {
   "cell_type": "code",
   "execution_count": null,
   "metadata": {},
   "outputs": [],
   "source": [
    "numpy.array([10,20]).repeat(10).reshape([2,10])"
   ]
  },
  {
   "cell_type": "code",
   "execution_count": null,
   "metadata": {},
   "outputs": [],
   "source": [
    "request = [0,0]"
   ]
  },
  {
   "cell_type": "code",
   "execution_count": null,
   "metadata": {},
   "outputs": [],
   "source": [
    "request.__len__()"
   ]
  },
  {
   "cell_type": "code",
   "execution_count": null,
   "metadata": {},
   "outputs": [],
   "source": [
    "numpy.repeat(z1,15).reshape([z1.size,15])"
   ]
  },
  {
   "cell_type": "code",
   "execution_count": null,
   "metadata": {},
   "outputs": [],
   "source": [
    "    class Server_State:\n",
    "        # 剩余资源\n",
    "        def __init__(self,server_def=[0,0],server_cost = [0,0], \n",
    "                            server_used = numpy.zeros([2,15]),time = 15) -> None:\n",
    "            # 资源\n",
    "            # 持有资源\n",
    "            self.possess = numpy.array(server_def)\n",
    "            # 已用资源\n",
    "            self.used = server_used\n",
    "            # 可用资源\n",
    "            self.available = numpy.repeat(self.possess,time)\\\n",
    "                .reshape([self.possess.size,time]) - server_used\n",
    "            self.cost = numpy.array(server_cost)\n",
    "            pass\n",
    "        def allocate(self,server_use = numpy.zeros([2,15])):\n",
    "            self.available -= server_use\n",
    "            print(\"{a}\",self.available)"
   ]
  },
  {
   "cell_type": "code",
   "execution_count": null,
   "metadata": {},
   "outputs": [],
   "source": [
    "st = Server_State([123,255],[1235,51555],numpy.ones([2,15]),15)"
   ]
  },
  {
   "cell_type": "code",
   "execution_count": null,
   "metadata": {},
   "outputs": [],
   "source": [
    "st.allocate(numpy.ones([2,10])+numpy.zeros([2,15]))"
   ]
  },
  {
   "cell_type": "code",
   "execution_count": null,
   "metadata": {},
   "outputs": [],
   "source": [
    "numpy.zeros([2,15])+numpy.ones([2,10])"
   ]
  },
  {
   "cell_type": "code",
   "execution_count": null,
   "metadata": {},
   "outputs": [],
   "source": [
    "on1 = numpy.ones([2,10])"
   ]
  },
  {
   "cell_type": "code",
   "execution_count": null,
   "metadata": {},
   "outputs": [],
   "source": [
    "numpy.concatenate((on1,numpy.zeros([2,5])),axis=1)"
   ]
  },
  {
   "cell_type": "code",
   "execution_count": null,
   "metadata": {},
   "outputs": [],
   "source": [
    "st.available[0][0]"
   ]
  },
  {
   "cell_type": "code",
   "execution_count": null,
   "metadata": {},
   "outputs": [],
   "source": [
    "a = [[0,1],[0]]\n",
    "a[0].__len__()"
   ]
  },
  {
   "cell_type": "code",
   "execution_count": null,
   "metadata": {},
   "outputs": [],
   "source": [
    "numpy.zeros([2,3])"
   ]
  },
  {
   "cell_type": "code",
   "execution_count": null,
   "metadata": {},
   "outputs": [],
   "source": [
    "3*365"
   ]
  },
  {
   "cell_type": "code",
   "execution_count": null,
   "metadata": {},
   "outputs": [],
   "source": [
    "73229/1095"
   ]
  },
  {
   "cell_type": "code",
   "execution_count": null,
   "metadata": {},
   "outputs": [],
   "source": [
    "import numpy\n",
    "a = numpy.zeros([4,5])\n",
    "a.len"
   ]
  },
  {
   "cell_type": "code",
   "execution_count": null,
   "metadata": {},
   "outputs": [],
   "source": [
    "import job_distribution\n",
    "dist = job_distribution.Dist(2,10,15)\n",
    "nw_len,size = dist.bi_model_dist()\n",
    "size\n"
   ]
  },
  {
   "cell_type": "code",
   "execution_count": null,
   "metadata": {},
   "outputs": [],
   "source": [
    "import numpy as np\n",
    "import Environment\n",
    "env = Environment.Allocation_Environment()\n",
    "env.nw_size_seq[0,0]"
   ]
  },
  {
   "cell_type": "code",
   "execution_count": null,
   "metadata": {},
   "outputs": [],
   "source": [
    "import sys\n",
    "sys.path.append(\"..\")"
   ]
  },
  {
   "cell_type": "code",
   "execution_count": null,
   "metadata": {},
   "outputs": [],
   "source": [
    "sys.path"
   ]
  },
  {
   "cell_type": "code",
   "execution_count": null,
   "metadata": {},
   "outputs": [],
   "source": []
  },
  {
   "cell_type": "code",
   "execution_count": null,
   "metadata": {},
   "outputs": [],
   "source": [
    "import parameters\n",
    "import Environment\n",
    "pa = parameters.Parameters()\n",
    "env = Environment.Allocation_Environment(pa)\n"
   ]
  },
  {
   "cell_type": "code",
   "execution_count": null,
   "metadata": {},
   "outputs": [],
   "source": [
    "job = env.get_new_job_from_seq(0,0)\n",
    "job.res_vec"
   ]
  },
  {
   "cell_type": "code",
   "execution_count": null,
   "metadata": {},
   "outputs": [],
   "source": [
    "import Environment\n",
    "def test_image_representation():\n",
    "    \"\"\"\n",
    "    Purpose: representation the job image\n",
    "    \"\"\"\n",
    "    env = Environment.Allocation_Environment()\n",
    "    return env.machine.canvas"
   ]
  },
  {
   "cell_type": "code",
   "execution_count": null,
   "metadata": {},
   "outputs": [],
   "source": [
    "canvas = test_image_representation()"
   ]
  },
  {
   "cell_type": "code",
   "execution_count": null,
   "metadata": {},
   "outputs": [],
   "source": [
    "canvas[1].shape"
   ]
  },
  {
   "cell_type": "code",
   "execution_count": null,
   "metadata": {},
   "outputs": [],
   "source": [
    "[None] * 5"
   ]
  },
  {
   "cell_type": "code",
   "execution_count": null,
   "metadata": {},
   "outputs": [],
   "source": [
    "import numpy as np\n",
    "canvas = np.zeros((2,10,10))"
   ]
  },
  {
   "cell_type": "code",
   "execution_count": null,
   "metadata": {},
   "outputs": [],
   "source": [
    "canvas[1,2,[0,2,3]]=0.3\n"
   ]
  },
  {
   "cell_type": "code",
   "execution_count": null,
   "metadata": {},
   "outputs": [],
   "source": [
    "canvas"
   ]
  },
  {
   "cell_type": "code",
   "execution_count": null,
   "metadata": {},
   "outputs": [],
   "source": [
    "import cpuPower\n",
    "intel = cpuPower.INTELCPU()\n"
   ]
  },
  {
   "cell_type": "code",
   "execution_count": null,
   "metadata": {},
   "outputs": [],
   "source": [
    "intel.get_power()\n",
    "intel.get_power()\n"
   ]
  },
  {
   "cell_type": "code",
   "execution_count": null,
   "metadata": {},
   "outputs": [],
   "source": [
    "import numpy as np\n",
    "back = np.arange(0,10,1)"
   ]
  },
  {
   "cell_type": "code",
   "execution_count": null,
   "metadata": {},
   "outputs": [],
   "source": [
    "back[:-1]=back[1:]"
   ]
  },
  {
   "cell_type": "code",
   "execution_count": null,
   "metadata": {},
   "outputs": [],
   "source": [
    "back"
   ]
  },
  {
   "cell_type": "code",
   "execution_count": null,
   "metadata": {},
   "outputs": [],
   "source": [
    "import numpy as np\n",
    "max_nw_vec=[10, 20]\n",
    "np.divide(np.array(max_nw_vec), 2)\n"
   ]
  },
  {
   "cell_type": "code",
   "execution_count": null,
   "metadata": {},
   "outputs": [],
   "source": [
    "len([None] * 10)\n",
    " "
   ]
  },
  {
   "cell_type": "code",
   "execution_count": null,
   "metadata": {},
   "outputs": [],
   "source": [
    "from scipy.stats import poisson\n",
    "from collections import Counter\n",
    "import matplotlib.pyplot as plt  # \n",
    "poi = poisson.rvs(5,size=1000)\n",
    "rctd = Counter(poi)\n",
    "plt.hist(poi)\n"
   ]
  },
  {
   "cell_type": "code",
   "execution_count": null,
   "metadata": {},
   "outputs": [],
   "source": [
    "for id in range(10,10):\n",
    "    print(id)"
   ]
  },
  {
   "cell_type": "code",
   "execution_count": null,
   "metadata": {},
   "outputs": [],
   "source": [
    "import numpy as np\n",
    "import math\n",
    "\n",
    "avail = np.asarray([[5,7],[3,4],[0,0]])\n",
    "av = avail/[5,7]\n",
    "av\n"
   ]
  },
  {
   "cell_type": "code",
   "execution_count": null,
   "metadata": {},
   "outputs": [],
   "source": [
    "av8 = av*8\n",
    "av8 = av8.round()\n",
    "def to_char(n):\n",
    "    \n",
    "avc = []"
   ]
  },
  {
   "cell_type": "code",
   "execution_count": null,
   "metadata": {},
   "outputs": [],
   "source": [
    "char = bytes('\\u2580',encoding=\"utf8\")\n",
    "lst = [c for c in char]\n",
    "llst = []\n",
    "for i in range(9):\n",
    "    l=[]\n",
    "    lst[2] +=1\n",
    "    l=lst.copy()\n",
    "    llst.append(l)\n",
    "    cc = ''\n",
    "for i in range(9):\n",
    "    cc += str(bytes(llst[i]),encoding='utf8')\n",
    "\n",
    "print(cc)\n",
    "print(cc)\n"
   ]
  },
  {
   "cell_type": "code",
   "execution_count": null,
   "metadata": {},
   "outputs": [],
   "source": [
    "import numpy as np"
   ]
  },
  {
   "cell_type": "code",
   "execution_count": null,
   "metadata": {},
   "outputs": [],
   "source": [
    "bar = \" ▁▂▃▄▅▆▇█\"\n",
    "bars = np.array([char for char in bar])\n",
    "\n",
    "rr = np.array([[8, 3], [3, 5], [4, 7]])\n",
    "cc = []\n",
    "cc.append([bars[i] for i in rr[:,0]])\n",
    "cc"
   ]
  },
  {
   "cell_type": "code",
   "execution_count": null,
   "metadata": {},
   "outputs": [],
   "source": [
    "arr = [[1, 2, 3, 4, 5, 6, 7], [1, 2, 3, 4, 5, 6, 7]]\n",
    "lst = [' '.join([str(c) for c in i]) for i in arr]\n",
    "\n",
    "lst"
   ]
  },
  {
   "cell_type": "code",
   "execution_count": null,
   "metadata": {},
   "outputs": [],
   "source": [
    "' '.join([1, 2, 3, 4, 5, 6, 7])\n"
   ]
  },
  {
   "cell_type": "code",
   "execution_count": null,
   "metadata": {},
   "outputs": [],
   "source": [
    "import torch\n",
    "\n",
    "torch.torch_version.__version__"
   ]
  },
  {
   "cell_type": "code",
   "execution_count": null,
   "metadata": {},
   "outputs": [],
   "source": [
    "import torch\n",
    "import torchvision.models as models\n",
    "\n",
    "model = models.resnet18()\n",
    "optimizer = torch.optim.SGD(model.parameters(), lr=0.01)\n",
    "compiled_model = torch.compile(model)\n",
    "\n",
    "x = torch.randn(16, 3, 224, 224)\n",
    "optimizer.zero_grad()\n",
    "out = compiled_model(x)\n",
    "out.sum().backward()\n",
    "optimizer.step()\n",
    "print(out.shape)"
   ]
  },
  {
   "cell_type": "code",
   "execution_count": null,
   "metadata": {},
   "outputs": [],
   "source": [
    "# 导入random模块\n",
    "import random\n",
    "\n",
    "# 定义一个函数，接受三个参数：min, max, t\n",
    "def pick_numbers_r(min, max, t):\n",
    "  # 创建一个空列表，用于存储选出的数\n",
    "  result = []\n",
    "  # 判断t是否大于max-min+1，如果是，抛出异常\n",
    "  if t > max - min + 1:\n",
    "    raise ValueError(\"t cannot be larger than max - min + 1\")\n",
    "  # 循环t次\n",
    "  for i in range(t):\n",
    "    # 随机生成一个数，范围在min和max之间（包含两端）\n",
    "    num = random.randint(min, max)\n",
    "    # 判断这个数是否已经在结果列表中，如果是，重新生成\n",
    "    while num in result:\n",
    "      num = random.randint(min, max)\n",
    "    # 将这个数添加到结果列表中\n",
    "    result.append(num)\n",
    "  # 返回结果列表\n",
    "  return result\n",
    "\n",
    "# 调用函数，打印结果\n",
    "print(pick_numbers_r(1, 10, 5))\n",
    "%timeit pick_numbers_r(1, 10, 5)\n"
   ]
  },
  {
   "cell_type": "code",
   "execution_count": null,
   "metadata": {},
   "outputs": [],
   "source": [
    "# 导入numpy模块\n",
    "import timeit\n",
    "import numpy as np\n",
    "\n",
    "# 定义一个函数，接受三个参数：min, max, t\n",
    "\n",
    "\n",
    "def pick_numbers_s(min, max, t):\n",
    "  # 判断t是否大于max-min+1，如果是，抛出异常\n",
    "  if t > max - min + 1:\n",
    "    raise ValueError(\"t cannot be larger than max - min + 1\")\n",
    "  # 生成一个从min到max的整数数组\n",
    "  array = np.arange(min, max + 1)\n",
    "  # 随机打乱数组的顺序\n",
    "  np.random.shuffle(array)\n",
    "  # 返回数组的前t个元素\n",
    "  return array[:t]\n",
    "\n",
    "\n",
    "# 调用函数，打印结果\n",
    "print(pick_numbers_s(1, 10, 5))\n",
    "%timeit pick_numbers_s(1, 10, 5)\n"
   ]
  },
  {
   "cell_type": "code",
   "execution_count": null,
   "metadata": {},
   "outputs": [],
   "source": [
    "# 导入numpy模块\n",
    "import numpy as np\n",
    "\n",
    "# 定义一个函数，接受三个参数：min, max, t\n",
    "\n",
    "\n",
    "def pick_numbers_c(min, max, t):\n",
    "  # 判断t是否大于max-min+1，如果是，抛出异常\n",
    "  if t > max - min + 1:\n",
    "    raise ValueError(\"t cannot be larger than max - min + 1\")\n",
    "  # 用numpy的choice函数从min到max的整数中随机选取t个不重复的数\n",
    "  result = np.random.choice(np.arange(min, max + 1), size=t, replace=False)\n",
    "  # 返回结果数组\n",
    "  return result\n",
    "\n",
    "\n",
    "# 调用函数，打印结果\n",
    "print(pick_numbers_c(1, 10, 5))\n",
    "\n",
    "%timeit pick_numbers_c(1, 10, 5)\n"
   ]
  },
  {
   "cell_type": "code",
   "execution_count": null,
   "metadata": {},
   "outputs": [],
   "source": [
    "min = np.random.randint(0, 15)\n",
    "t = np.random.randint(3, 5)\n",
    "array = np.arange(min, min+5)\n",
    "np.random.shuffle(array)\n",
    "array[:t]\n"
   ]
  },
  {
   "cell_type": "code",
   "execution_count": null,
   "metadata": {},
   "outputs": [],
   "source": [
    "import numpy as np\n",
    "np.dot([2,3],[4,6])\n"
   ]
  },
  {
   "cell_type": "code",
   "execution_count": null,
   "metadata": {},
   "outputs": [],
   "source": [
    "8+18"
   ]
  },
  {
   "cell_type": "code",
   "execution_count": null,
   "metadata": {},
   "outputs": [],
   "source": [
    "np.random.normal()"
   ]
  },
  {
   "cell_type": "code",
   "execution_count": null,
   "metadata": {},
   "outputs": [],
   "source": [
    "[1,2,3,4,5,6][2,4,5]"
   ]
  },
  {
   "cell_type": "code",
   "execution_count": null,
   "metadata": {},
   "outputs": [],
   "source": [
    "import numpy as np\n",
    "# 假设列表是 list1，子集是 list2\n",
    "# 用 numpy 的 in1d 函数直接从 list1 中筛选出在 list2 中的元素，得到结果数组\n",
    "list1 = [1,2,4,5,6,7]\n",
    "list2 = [1,3,4,5]\n",
    "result = np.array(list1)[np.in1d(list1, list2)]\n",
    "# 打印结果数组\n",
    "print(result)\n"
   ]
  },
  {
   "cell_type": "code",
   "execution_count": null,
   "metadata": {},
   "outputs": [],
   "source": [
    "np.in1d(list1, list2)\n"
   ]
  },
  {
   "cell_type": "code",
   "execution_count": null,
   "metadata": {},
   "outputs": [],
   "source": [
    "np.array(list1)[1,4,5]"
   ]
  },
  {
   "cell_type": "code",
   "execution_count": null,
   "metadata": {},
   "outputs": [],
   "source": [
    "(5,6)"
   ]
  },
  {
   "cell_type": "code",
   "execution_count": null,
   "metadata": {},
   "outputs": [],
   "source": [
    "\n",
    "import Job\n",
    "import Machine\n",
    "collection = Job.JobCollection(average=1)\n",
    "cluster = Machine.Cluster()\n",
    "cluster.generate_machines_random(10)\n",
    "mr = Machine.MachineRestrict(cluster, iter(collection))\n"
   ]
  },
  {
   "cell_type": "code",
   "execution_count": null,
   "metadata": {},
   "outputs": [],
   "source": [
    "li = Machine.ListIterator(iter(mr))\n"
   ]
  },
  {
   "cell_type": "code",
   "execution_count": null,
   "metadata": {},
   "outputs": [],
   "source": [
    "next(li)\n",
    "for i in range(100):\n",
    "    for jobs in iter(li):\n",
    "        for job in jobs:\n",
    "            job.show()"
   ]
  },
  {
   "cell_type": "code",
   "execution_count": null,
   "metadata": {},
   "outputs": [],
   "source": [
    "import Machine\n",
    "it = Machine.NestedList([[],[1],[2]])\n"
   ]
  },
  {
   "cell_type": "code",
   "execution_count": null,
   "metadata": {},
   "outputs": [],
   "source": [
    "it = Machine.NestedList([[],[1],[2]])"
   ]
  },
  {
   "cell_type": "code",
   "execution_count": null,
   "metadata": {},
   "outputs": [],
   "source": [
    "next(it)"
   ]
  },
  {
   "cell_type": "code",
   "execution_count": 1,
   "metadata": {},
   "outputs": [],
   "source": [
    "import Environment\n",
    "vp = Environment.VehicleJobSchedulingParameters()\n",
    "\n"
   ]
  },
  {
   "cell_type": "code",
   "execution_count": 8,
   "metadata": {},
   "outputs": [
    {
     "name": "stdout",
     "output_type": "stream",
     "text": [
      "+------------------------------------------------------------------------------------------------+\n",
      "|                                            Job Info                                            |\n",
      "| Job Id | Res Vector | Job Len |   Restrict Machines    | Enter Time | Start Time | Finish Time |\n",
      "|   9    | [ 2. 14.]  |    1    | [11  6 12  4  8 13 10] |     2      |     -1     |      -1     |\n",
      "Job Vector\n",
      "[array([ 2., 14.])]\n"
     ]
    }
   ],
   "source": [
    "next(vp.job_iterator)[0].show()"
   ]
  },
  {
   "cell_type": "code",
   "execution_count": 5,
   "metadata": {},
   "outputs": [],
   "source": [
    "vp.reset()"
   ]
  }
 ],
 "metadata": {
  "kernelspec": {
   "display_name": "man",
   "language": "python",
   "name": "python3"
  },
  "language_info": {
   "codemirror_mode": {
    "name": "ipython",
    "version": 3
   },
   "file_extension": ".py",
   "mimetype": "text/x-python",
   "name": "python",
   "nbconvert_exporter": "python",
   "pygments_lexer": "ipython3",
   "version": "3.10.4"
  },
  "orig_nbformat": 4,
  "vscode": {
   "interpreter": {
    "hash": "d652fbd7feb28eaf2ff622dc57929f599600a55ad62e1efe6c9f098053cf5e75"
   }
  }
 },
 "nbformat": 4,
 "nbformat_minor": 2
}
