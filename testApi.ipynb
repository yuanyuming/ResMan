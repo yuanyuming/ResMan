{
 "cells": [
  {
   "cell_type": "code",
   "execution_count": null,
   "metadata": {},
   "outputs": [],
   "source": [
    "import Environment\n",
    "import parameters\n",
    "pa = parameters.Parameters()\n",
    "pa.num_nw = 5\n",
    "pa.simulate_len = 50\n",
    "pa.num_ex = 10\n",
    "pa.new_job_rate = 1\n",
    "pa.compute_dependent_parameters()\n",
    "env = Environment.Allocation_Environment(pa, render=False, repre='image')\n",
    "env.step(5)\n",
    "env.step(5)\n",
    "env.step(5)\n",
    "env.step(5)\n",
    "env.step(5)\n"
   ]
  },
  {
   "cell_type": "code",
   "execution_count": null,
   "metadata": {},
   "outputs": [],
   "source": [
    "job = env.job_backlog.backlog[0]\n"
   ]
  },
  {
   "cell_type": "code",
   "execution_count": null,
   "metadata": {},
   "outputs": [],
   "source": [
    "env.job_backlog.show()"
   ]
  },
  {
   "cell_type": "code",
   "execution_count": null,
   "metadata": {},
   "outputs": [],
   "source": [
    "import numpy as np\n"
   ]
  },
  {
   "cell_type": "code",
   "execution_count": null,
   "metadata": {},
   "outputs": [],
   "source": [
    "import Job\n",
    "job = Job.Job()\n",
    "print(job)"
   ]
  },
  {
   "cell_type": "code",
   "execution_count": null,
   "metadata": {},
   "outputs": [],
   "source": [
    "import tensorflow\n",
    "import gym\n",
    "import pandas"
   ]
  },
  {
   "cell_type": "code",
   "execution_count": null,
   "metadata": {},
   "outputs": [],
   "source": [
    "tensorflow.config.list_physical_devices()"
   ]
  },
  {
   "cell_type": "code",
   "execution_count": null,
   "metadata": {},
   "outputs": [],
   "source": [
    "csv = pandas.read_csv(\"Sever.csv\")"
   ]
  },
  {
   "cell_type": "code",
   "execution_count": null,
   "metadata": {},
   "outputs": [],
   "source": [
    "ze =numpy.zeros([3,15])"
   ]
  },
  {
   "cell_type": "code",
   "execution_count": null,
   "metadata": {},
   "outputs": [],
   "source": [
    "ze"
   ]
  },
  {
   "cell_type": "code",
   "execution_count": null,
   "metadata": {},
   "outputs": [],
   "source": [
    "z1 = numpy.array([1,2,3])"
   ]
  },
  {
   "cell_type": "code",
   "execution_count": null,
   "metadata": {},
   "outputs": [],
   "source": [
    "for i in range(1,100):\n",
    "    on1 = numpy.ones([10])\n",
    "    cpu = on1 * 10\n",
    "    mem = on1 * 20\n",
    "    numpy.concatenate([cpu,mem],axis=0).reshape([2,10])"
   ]
  },
  {
   "cell_type": "code",
   "execution_count": null,
   "metadata": {},
   "outputs": [],
   "source": [
    "numpy.array([10,20]).repeat(10).reshape([2,10])"
   ]
  },
  {
   "cell_type": "code",
   "execution_count": null,
   "metadata": {},
   "outputs": [],
   "source": [
    "request = [0,0]"
   ]
  },
  {
   "cell_type": "code",
   "execution_count": null,
   "metadata": {},
   "outputs": [],
   "source": [
    "request.__len__()"
   ]
  },
  {
   "cell_type": "code",
   "execution_count": null,
   "metadata": {},
   "outputs": [],
   "source": [
    "numpy.repeat(z1,15).reshape([z1.size,15])"
   ]
  },
  {
   "cell_type": "code",
   "execution_count": null,
   "metadata": {},
   "outputs": [],
   "source": [
    "    class Server_State:\n",
    "        # 剩余资源\n",
    "        def __init__(self,server_def=[0,0],server_cost = [0,0], \n",
    "                            server_used = numpy.zeros([2,15]),time = 15) -> None:\n",
    "            # 资源\n",
    "            # 持有资源\n",
    "            self.possess = numpy.array(server_def)\n",
    "            # 已用资源\n",
    "            self.used = server_used\n",
    "            # 可用资源\n",
    "            self.available = numpy.repeat(self.possess,time)\\\n",
    "                .reshape([self.possess.size,time]) - server_used\n",
    "            self.cost = numpy.array(server_cost)\n",
    "            pass\n",
    "        def allocate(self,server_use = numpy.zeros([2,15])):\n",
    "            self.available -= server_use\n",
    "            print(\"{a}\",self.available)"
   ]
  },
  {
   "cell_type": "code",
   "execution_count": null,
   "metadata": {},
   "outputs": [],
   "source": [
    "st = Server_State([123,255],[1235,51555],numpy.ones([2,15]),15)"
   ]
  },
  {
   "cell_type": "code",
   "execution_count": null,
   "metadata": {},
   "outputs": [],
   "source": [
    "st.allocate(numpy.ones([2,10])+numpy.zeros([2,15]))"
   ]
  },
  {
   "cell_type": "code",
   "execution_count": null,
   "metadata": {},
   "outputs": [],
   "source": [
    "numpy.zeros([2,15])+numpy.ones([2,10])"
   ]
  },
  {
   "cell_type": "code",
   "execution_count": null,
   "metadata": {},
   "outputs": [],
   "source": [
    "on1 = numpy.ones([2,10])"
   ]
  },
  {
   "cell_type": "code",
   "execution_count": null,
   "metadata": {},
   "outputs": [],
   "source": [
    "numpy.concatenate((on1,numpy.zeros([2,5])),axis=1)"
   ]
  },
  {
   "cell_type": "code",
   "execution_count": null,
   "metadata": {},
   "outputs": [],
   "source": [
    "st.available[0][0]"
   ]
  },
  {
   "cell_type": "code",
   "execution_count": null,
   "metadata": {},
   "outputs": [],
   "source": [
    "a = [[0,1],[0]]\n",
    "a[0].__len__()"
   ]
  },
  {
   "cell_type": "code",
   "execution_count": null,
   "metadata": {},
   "outputs": [],
   "source": [
    "numpy.zeros([2,3])"
   ]
  },
  {
   "cell_type": "code",
   "execution_count": null,
   "metadata": {},
   "outputs": [],
   "source": [
    "3*365"
   ]
  },
  {
   "cell_type": "code",
   "execution_count": null,
   "metadata": {},
   "outputs": [],
   "source": [
    "73229/1095"
   ]
  },
  {
   "cell_type": "code",
   "execution_count": null,
   "metadata": {},
   "outputs": [],
   "source": [
    "import numpy\n",
    "a = numpy.zeros([4,5])\n",
    "a.len"
   ]
  },
  {
   "cell_type": "code",
   "execution_count": null,
   "metadata": {},
   "outputs": [],
   "source": [
    "import job_distribution\n",
    "dist = job_distribution.Dist(2,10,15)\n",
    "nw_len,size = dist.bi_model_dist()\n",
    "size\n"
   ]
  },
  {
   "cell_type": "code",
   "execution_count": null,
   "metadata": {},
   "outputs": [],
   "source": [
    "import numpy as np\n",
    "import Environment\n",
    "env = Environment.Allocation_Environment()\n",
    "env.nw_size_seq[0,0]"
   ]
  },
  {
   "cell_type": "code",
   "execution_count": null,
   "metadata": {},
   "outputs": [],
   "source": [
    "import sys\n",
    "sys.path.append(\"..\")"
   ]
  },
  {
   "cell_type": "code",
   "execution_count": null,
   "metadata": {},
   "outputs": [],
   "source": [
    "sys.path"
   ]
  },
  {
   "cell_type": "code",
   "execution_count": null,
   "metadata": {},
   "outputs": [],
   "source": []
  },
  {
   "cell_type": "code",
   "execution_count": null,
   "metadata": {},
   "outputs": [],
   "source": [
    "import parameters\n",
    "import Environment\n",
    "pa = parameters.Parameters()\n",
    "env = Environment.Allocation_Environment(pa)\n"
   ]
  },
  {
   "cell_type": "code",
   "execution_count": null,
   "metadata": {},
   "outputs": [],
   "source": [
    "job = env.get_new_job_from_seq(0,0)\n",
    "job.res_vec"
   ]
  },
  {
   "cell_type": "code",
   "execution_count": null,
   "metadata": {},
   "outputs": [],
   "source": [
    "import Environment\n",
    "def test_image_representation():\n",
    "    \"\"\"\n",
    "    Purpose: representation the job image\n",
    "    \"\"\"\n",
    "    env = Environment.Allocation_Environment()\n",
    "    return env.machine.canvas"
   ]
  },
  {
   "cell_type": "code",
   "execution_count": null,
   "metadata": {},
   "outputs": [],
   "source": [
    "canvas = test_image_representation()"
   ]
  },
  {
   "cell_type": "code",
   "execution_count": null,
   "metadata": {},
   "outputs": [],
   "source": [
    "canvas[1].shape"
   ]
  },
  {
   "cell_type": "code",
   "execution_count": null,
   "metadata": {},
   "outputs": [],
   "source": [
    "[None] * 5"
   ]
  },
  {
   "cell_type": "code",
   "execution_count": null,
   "metadata": {},
   "outputs": [],
   "source": [
    "import numpy as np\n",
    "canvas = np.zeros((2,10,10))"
   ]
  },
  {
   "cell_type": "code",
   "execution_count": null,
   "metadata": {},
   "outputs": [],
   "source": [
    "canvas[1,2,[0,2,3]]=0.3\n"
   ]
  },
  {
   "cell_type": "code",
   "execution_count": null,
   "metadata": {},
   "outputs": [],
   "source": [
    "canvas"
   ]
  },
  {
   "cell_type": "code",
   "execution_count": null,
   "metadata": {},
   "outputs": [],
   "source": [
    "import cpuPower\n",
    "intel = cpuPower.INTELCPU()\n"
   ]
  },
  {
   "cell_type": "code",
   "execution_count": null,
   "metadata": {},
   "outputs": [],
   "source": [
    "intel.get_power()\n",
    "intel.get_power()\n"
   ]
  },
  {
   "cell_type": "code",
   "execution_count": null,
   "metadata": {},
   "outputs": [],
   "source": [
    "import numpy as np\n",
    "back = np.arange(0,10,1)"
   ]
  },
  {
   "cell_type": "code",
   "execution_count": null,
   "metadata": {},
   "outputs": [],
   "source": [
    "back[:-1]=back[1:]"
   ]
  },
  {
   "cell_type": "code",
   "execution_count": null,
   "metadata": {},
   "outputs": [],
   "source": [
    "back"
   ]
  },
  {
   "cell_type": "code",
   "execution_count": null,
   "metadata": {},
   "outputs": [],
   "source": [
    "import numpy as np\n",
    "max_nw_vec=[10, 20]\n",
    "np.divide(np.array(max_nw_vec), 2)\n"
   ]
  },
  {
   "cell_type": "code",
   "execution_count": null,
   "metadata": {},
   "outputs": [],
   "source": [
    "len([None] * 10)\n",
    " "
   ]
  },
  {
   "cell_type": "code",
   "execution_count": null,
   "metadata": {},
   "outputs": [],
   "source": [
    "from scipy.stats import poisson\n",
    "from collections import Counter\n",
    "import matplotlib.pyplot as plt  # \n",
    "poi = poisson.rvs(5,size=1000)\n",
    "rctd = Counter(poi)\n",
    "plt.hist(poi)\n"
   ]
  },
  {
   "cell_type": "code",
   "execution_count": null,
   "metadata": {},
   "outputs": [],
   "source": [
    "for id in range(10,10):\n",
    "    print(id)"
   ]
  },
  {
   "cell_type": "code",
   "execution_count": null,
   "metadata": {},
   "outputs": [],
   "source": [
    "import numpy as np\n",
    "import math\n",
    "\n",
    "avail = np.asarray([[5,7],[3,4],[0,0]])\n",
    "av = avail/[5,7]\n",
    "av\n"
   ]
  },
  {
   "cell_type": "code",
   "execution_count": null,
   "metadata": {},
   "outputs": [],
   "source": [
    "av8 = av*8\n",
    "av8 = av8.round()\n",
    "def to_char(n):\n",
    "    \n",
    "avc = []"
   ]
  },
  {
   "cell_type": "code",
   "execution_count": null,
   "metadata": {},
   "outputs": [],
   "source": [
    "char = bytes('\\u2580',encoding=\"utf8\")\n",
    "lst = [c for c in char]\n",
    "llst = []\n",
    "for i in range(9):\n",
    "    l=[]\n",
    "    lst[2] +=1\n",
    "    l=lst.copy()\n",
    "    llst.append(l)\n",
    "    cc = ''\n",
    "for i in range(9):\n",
    "    cc += str(bytes(llst[i]),encoding='utf8')\n",
    "\n",
    "print(cc)\n",
    "print(cc)\n"
   ]
  },
  {
   "cell_type": "code",
   "execution_count": null,
   "metadata": {},
   "outputs": [],
   "source": [
    "import numpy as np"
   ]
  },
  {
   "cell_type": "code",
   "execution_count": null,
   "metadata": {},
   "outputs": [],
   "source": [
    "bar = \" ▁▂▃▄▅▆▇█\"\n",
    "bars = np.array([char for char in bar])\n",
    "\n",
    "rr = np.array([[8, 3], [3, 5], [4, 7]])\n",
    "cc = []\n",
    "cc.append([bars[i] for i in rr[:,0]])\n",
    "cc"
   ]
  },
  {
   "cell_type": "code",
   "execution_count": null,
   "metadata": {},
   "outputs": [],
   "source": [
    "arr = [[1, 2, 3, 4, 5, 6, 7], [1, 2, 3, 4, 5, 6, 7]]\n",
    "lst = [' '.join([str(c) for c in i]) for i in arr]\n",
    "\n",
    "lst"
   ]
  },
  {
   "cell_type": "code",
   "execution_count": null,
   "metadata": {},
   "outputs": [],
   "source": [
    "' '.join([1, 2, 3, 4, 5, 6, 7])\n"
   ]
  },
  {
   "cell_type": "code",
   "execution_count": null,
   "metadata": {},
   "outputs": [],
   "source": [
    "import torch\n",
    "\n",
    "torch.torch_version.__version__"
   ]
  },
  {
   "cell_type": "code",
   "execution_count": null,
   "metadata": {},
   "outputs": [],
   "source": [
    "import torch\n",
    "import torchvision.models as models\n",
    "\n",
    "model = models.resnet18()\n",
    "optimizer = torch.optim.SGD(model.parameters(), lr=0.01)\n",
    "compiled_model = torch.compile(model)\n",
    "\n",
    "x = torch.randn(16, 3, 224, 224)\n",
    "optimizer.zero_grad()\n",
    "out = compiled_model(x)\n",
    "out.sum().backward()\n",
    "optimizer.step()\n",
    "print(out.shape)"
   ]
  },
  {
   "cell_type": "code",
   "execution_count": null,
   "metadata": {},
   "outputs": [],
   "source": [
    "# 导入random模块\n",
    "import random\n",
    "\n",
    "# 定义一个函数，接受三个参数：min, max, t\n",
    "def pick_numbers_r(min, max, t):\n",
    "  # 创建一个空列表，用于存储选出的数\n",
    "  result = []\n",
    "  # 判断t是否大于max-min+1，如果是，抛出异常\n",
    "  if t > max - min + 1:\n",
    "    raise ValueError(\"t cannot be larger than max - min + 1\")\n",
    "  # 循环t次\n",
    "  for i in range(t):\n",
    "    # 随机生成一个数，范围在min和max之间（包含两端）\n",
    "    num = random.randint(min, max)\n",
    "    # 判断这个数是否已经在结果列表中，如果是，重新生成\n",
    "    while num in result:\n",
    "      num = random.randint(min, max)\n",
    "    # 将这个数添加到结果列表中\n",
    "    result.append(num)\n",
    "  # 返回结果列表\n",
    "  return result\n",
    "\n",
    "# 调用函数，打印结果\n",
    "print(pick_numbers_r(1, 10, 5))\n",
    "%timeit pick_numbers_r(1, 10, 5)\n"
   ]
  },
  {
   "cell_type": "code",
   "execution_count": null,
   "metadata": {},
   "outputs": [],
   "source": [
    "# 导入numpy模块\n",
    "import timeit\n",
    "import numpy as np\n",
    "\n",
    "# 定义一个函数，接受三个参数：min, max, t\n",
    "\n",
    "\n",
    "def pick_numbers_s(min, max, t):\n",
    "  # 判断t是否大于max-min+1，如果是，抛出异常\n",
    "  if t > max - min + 1:\n",
    "    raise ValueError(\"t cannot be larger than max - min + 1\")\n",
    "  # 生成一个从min到max的整数数组\n",
    "  array = np.arange(min, max + 1)\n",
    "  # 随机打乱数组的顺序\n",
    "  np.random.shuffle(array)\n",
    "  # 返回数组的前t个元素\n",
    "  return array[:t]\n",
    "\n",
    "\n",
    "# 调用函数，打印结果\n",
    "print(pick_numbers_s(1, 10, 5))\n",
    "%timeit pick_numbers_s(1, 10, 5)\n"
   ]
  },
  {
   "cell_type": "code",
   "execution_count": null,
   "metadata": {},
   "outputs": [],
   "source": [
    "# 导入numpy模块\n",
    "import numpy as np\n",
    "\n",
    "# 定义一个函数，接受三个参数：min, max, t\n",
    "\n",
    "\n",
    "def pick_numbers_c(min, max, t):\n",
    "  # 判断t是否大于max-min+1，如果是，抛出异常\n",
    "  if t > max - min + 1:\n",
    "    raise ValueError(\"t cannot be larger than max - min + 1\")\n",
    "  # 用numpy的choice函数从min到max的整数中随机选取t个不重复的数\n",
    "  result = np.random.choice(np.arange(min, max + 1), size=t, replace=False)\n",
    "  # 返回结果数组\n",
    "  return result\n",
    "\n",
    "\n",
    "# 调用函数，打印结果\n",
    "print(pick_numbers_c(1, 10, 5))\n",
    "\n",
    "%timeit pick_numbers_c(1, 10, 5)\n"
   ]
  },
  {
   "cell_type": "code",
   "execution_count": null,
   "metadata": {},
   "outputs": [],
   "source": [
    "min = np.random.randint(0, 15)\n",
    "t = np.random.randint(3, 5)\n",
    "array = np.arange(min, min+5)\n",
    "np.random.shuffle(array)\n",
    "array[:t]\n"
   ]
  },
  {
   "cell_type": "code",
   "execution_count": null,
   "metadata": {},
   "outputs": [],
   "source": [
    "import numpy as np\n",
    "np.dot([2,3],[4,6])\n"
   ]
  },
  {
   "cell_type": "code",
   "execution_count": null,
   "metadata": {},
   "outputs": [],
   "source": [
    "8+18"
   ]
  },
  {
   "cell_type": "code",
   "execution_count": null,
   "metadata": {},
   "outputs": [],
   "source": [
    "np.random.normal()"
   ]
  },
  {
   "cell_type": "code",
   "execution_count": null,
   "metadata": {},
   "outputs": [],
   "source": [
    "[1,2,3,4,5,6][2,4,5]"
   ]
  },
  {
   "cell_type": "code",
   "execution_count": null,
   "metadata": {},
   "outputs": [],
   "source": [
    "import numpy as np\n",
    "# 假设列表是 list1，子集是 list2\n",
    "# 用 numpy 的 in1d 函数直接从 list1 中筛选出在 list2 中的元素，得到结果数组\n",
    "list1 = [1,2,4,5,6,7]\n",
    "list2 = [1,3,4,5]\n",
    "result = np.array(list1)[np.in1d(list1, list2)]\n",
    "# 打印结果数组\n",
    "print(result)\n"
   ]
  },
  {
   "cell_type": "code",
   "execution_count": null,
   "metadata": {},
   "outputs": [],
   "source": [
    "np.in1d(list1, list2)\n"
   ]
  },
  {
   "cell_type": "code",
   "execution_count": null,
   "metadata": {},
   "outputs": [],
   "source": [
    "np.array(list1)[1,4,5]"
   ]
  },
  {
   "cell_type": "code",
   "execution_count": null,
   "metadata": {},
   "outputs": [],
   "source": [
    "(5,6)"
   ]
  },
  {
   "cell_type": "code",
   "execution_count": null,
   "metadata": {},
   "outputs": [],
   "source": [
    "\n",
    "import Job\n",
    "import Machine\n",
    "collection = Job.JobCollection(average=1)\n",
    "cluster = Machine.Cluster()\n",
    "cluster.generate_machines_random(10)\n",
    "mr = Machine.MachineRestrict(cluster, iter(collection))\n"
   ]
  },
  {
   "cell_type": "code",
   "execution_count": null,
   "metadata": {},
   "outputs": [],
   "source": [
    "li = Machine.ListIterator(iter(mr))\n"
   ]
  },
  {
   "cell_type": "code",
   "execution_count": null,
   "metadata": {},
   "outputs": [],
   "source": [
    "next(li)\n",
    "for i in range(100):\n",
    "    for jobs in iter(li):\n",
    "        for job in jobs:\n",
    "            job.show()"
   ]
  },
  {
   "cell_type": "code",
   "execution_count": null,
   "metadata": {},
   "outputs": [],
   "source": [
    "import Machine\n",
    "it = Machine.NestedList([[],[1],[2]])\n"
   ]
  },
  {
   "cell_type": "code",
   "execution_count": null,
   "metadata": {},
   "outputs": [],
   "source": [
    "it = Machine.NestedList([[],[1],[2]])"
   ]
  },
  {
   "cell_type": "code",
   "execution_count": null,
   "metadata": {},
   "outputs": [],
   "source": [
    "next(it)"
   ]
  },
  {
   "cell_type": "code",
   "execution_count": null,
   "metadata": {},
   "outputs": [],
   "source": [
    "import Environment\n",
    "vp = Environment.VehicleJobSchedulingParameters()\n",
    "\n"
   ]
  },
  {
   "cell_type": "code",
   "execution_count": null,
   "metadata": {},
   "outputs": [],
   "source": [
    "next(vp.job_iterator)[0].show()"
   ]
  },
  {
   "cell_type": "code",
   "execution_count": null,
   "metadata": {},
   "outputs": [],
   "source": [
    "vp.reset()"
   ]
  },
  {
   "cell_type": "code",
   "execution_count": null,
   "metadata": {},
   "outputs": [],
   "source": [
    "import malib"
   ]
  },
  {
   "cell_type": "code",
   "execution_count": null,
   "metadata": {},
   "outputs": [],
   "source": [
    "import pandas as pd\n",
    "\n",
    "server = pd.read_csv('Sever.csv')"
   ]
  },
  {
   "cell_type": "code",
   "execution_count": null,
   "metadata": {},
   "outputs": [],
   "source": [
    "server"
   ]
  },
  {
   "cell_type": "code",
   "execution_count": null,
   "metadata": {},
   "outputs": [],
   "source": [
    "data = np.loadtxt('Server.csv', delimiter=',',skiprows=1,usecols=range(1, 5))\n"
   ]
  },
  {
   "cell_type": "code",
   "execution_count": null,
   "metadata": {},
   "outputs": [],
   "source": [
    "data"
   ]
  },
  {
   "cell_type": "code",
   "execution_count": 1,
   "metadata": {},
   "outputs": [],
   "source": [
    "# 导入必要的包\n",
    "import torch\n",
    "import torch.nn as nn\n",
    "import torch.optim as optim\n",
    "import numpy as np\n",
    "\n",
    "# 读取或生成数据，这里假设数据已经存储在csv文件中，每行有五列，分别是cores, mem, price, maintain\n",
    "# 读取csv文件，转换为numpy数组\n",
    "data = np.loadtxt('Server.csv', delimiter=',',skiprows=1,usecols=range(1, 5),dtype=np.float32)\n",
    "# 将numpy数组转换为tensor\n",
    "data = torch.from_numpy(data)\n",
    "# 划分自变量和因变量，假设自变量是cores和mem，因变量是price和maintain\n",
    "x_data = data[:, :2] # 取前两列作为自变量\n",
    "y_data = data[:, 2:] # 取后两列作为因变量\n",
    "y_data.to(torch.float32)\n",
    "x_data.to(torch.float32)\n",
    "# 定义一个线性回归模型，继承自nn.Module，实现__init__和forward方法\n",
    "class LinearRegression(nn.Module):\n",
    "    def __init__(self):\n",
    "        super(LinearRegression, self).__init__()\n",
    "        # 定义一个线性层，输入维度是2，输出维度是2\n",
    "        self.linear = nn.Linear(2, 2)\n",
    "    \n",
    "    def forward(self, x):\n",
    "        # 计算线性层的输出\n",
    "        out = self.linear(x)\n",
    "        return out\n",
    "\n",
    "# 创建一个模型实例\n",
    "model = LinearRegression()\n",
    "model.train()\n",
    "# 定义损失函数，使用均方误差作为损失函数\n",
    "criterion = nn.MSELoss()\n",
    "# 定义优化器，使用随机梯度下降作为优化器，学习率设置为0.01\n",
    "optimizer = optim.SGD(model.parameters(), lr=0.01)\n",
    "\n",
    "# 迭代训练模型，设置迭代次数为1000\n",
    "num_epochs = 1000"
   ]
  },
  {
   "cell_type": "code",
   "execution_count": 4,
   "metadata": {},
   "outputs": [],
   "source": [
    "    inputs = torch.autograd.Variable(x_data)\n",
    "    outputs = torch.autograd.Variable(y_data)\n",
    "    # 计算模型的输出和损失\n",
    "    preds = model(inputs)"
   ]
  },
  {
   "cell_type": "code",
   "execution_count": 5,
   "metadata": {},
   "outputs": [
    {
     "data": {
      "text/plain": [
       "tensor(1.1060e+10, grad_fn=<MseLossBackward0>)"
      ]
     },
     "execution_count": 5,
     "metadata": {},
     "output_type": "execute_result"
    }
   ],
   "source": [
    "criterion(preds, outputs)"
   ]
  },
  {
   "cell_type": "code",
   "execution_count": null,
   "metadata": {},
   "outputs": [],
   "source": [
    "optimizer.zero_grad()"
   ]
  },
  {
   "cell_type": "code",
   "execution_count": 6,
   "metadata": {},
   "outputs": [
    {
     "name": "stdout",
     "output_type": "stream",
     "text": [
      "Epoch [ 20/ 1000], loss: nan\n",
      "Epoch [ 40/ 1000], loss: nan\n",
      "Epoch [ 60/ 1000], loss: nan\n",
      "Epoch [ 80/ 1000], loss: nan\n",
      "Epoch [ 100/ 1000], loss: nan\n",
      "Epoch [ 120/ 1000], loss: nan\n",
      "Epoch [ 140/ 1000], loss: nan\n",
      "Epoch [ 160/ 1000], loss: nan\n",
      "Epoch [ 180/ 1000], loss: nan\n",
      "Epoch [ 200/ 1000], loss: nan\n",
      "Epoch [ 220/ 1000], loss: nan\n",
      "Epoch [ 240/ 1000], loss: nan\n",
      "Epoch [ 260/ 1000], loss: nan\n",
      "Epoch [ 280/ 1000], loss: nan\n",
      "Epoch [ 300/ 1000], loss: nan\n",
      "Epoch [ 320/ 1000], loss: nan\n",
      "Epoch [ 340/ 1000], loss: nan\n",
      "Epoch [ 360/ 1000], loss: nan\n",
      "Epoch [ 380/ 1000], loss: nan\n",
      "Epoch [ 400/ 1000], loss: nan\n",
      "Epoch [ 420/ 1000], loss: nan\n",
      "Epoch [ 440/ 1000], loss: nan\n",
      "Epoch [ 460/ 1000], loss: nan\n",
      "Epoch [ 480/ 1000], loss: nan\n",
      "Epoch [ 500/ 1000], loss: nan\n",
      "Epoch [ 520/ 1000], loss: nan\n",
      "Epoch [ 540/ 1000], loss: nan\n",
      "Epoch [ 560/ 1000], loss: nan\n",
      "Epoch [ 580/ 1000], loss: nan\n",
      "Epoch [ 600/ 1000], loss: nan\n",
      "Epoch [ 620/ 1000], loss: nan\n",
      "Epoch [ 640/ 1000], loss: nan\n",
      "Epoch [ 660/ 1000], loss: nan\n",
      "Epoch [ 680/ 1000], loss: nan\n",
      "Epoch [ 700/ 1000], loss: nan\n",
      "Epoch [ 720/ 1000], loss: nan\n",
      "Epoch [ 740/ 1000], loss: nan\n",
      "Epoch [ 760/ 1000], loss: nan\n",
      "Epoch [ 780/ 1000], loss: nan\n",
      "Epoch [ 800/ 1000], loss: nan\n",
      "Epoch [ 820/ 1000], loss: nan\n",
      "Epoch [ 840/ 1000], loss: nan\n",
      "Epoch [ 860/ 1000], loss: nan\n",
      "Epoch [ 880/ 1000], loss: nan\n",
      "Epoch [ 900/ 1000], loss: nan\n",
      "Epoch [ 920/ 1000], loss: nan\n",
      "Epoch [ 940/ 1000], loss: nan\n",
      "Epoch [ 960/ 1000], loss: nan\n",
      "Epoch [ 980/ 1000], loss: nan\n",
      "Epoch [ 1000/ 1000], loss: nan\n",
      "Model parameters:\n",
      "linear.weight tensor([[nan, nan],\n",
      "        [nan, nan]])\n",
      "linear.bias tensor([nan, nan])\n",
      "Predictions:\n",
      "tensor([[nan, nan],\n",
      "        [nan, nan],\n",
      "        [nan, nan],\n",
      "        [nan, nan],\n",
      "        [nan, nan],\n",
      "        [nan, nan],\n",
      "        [nan, nan],\n",
      "        [nan, nan],\n",
      "        [nan, nan],\n",
      "        [nan, nan]], grad_fn=<AddmmBackward0>)\n"
     ]
    }
   ],
   "source": [
    "\n",
    "for epoch in range(num_epochs):\n",
    "    # 将数据转换为Variable，可以进行自动求导\n",
    "    inputs = torch.autograd.Variable(x_data)\n",
    "    outputs = torch.autograd.Variable(y_data)\n",
    "    # 计算模型的输出和损失\n",
    "    preds = model(inputs)\n",
    "    loss = criterion(preds, outputs)\n",
    "    # 清零梯度，反向传播和更新参数\n",
    "    loss.backward()\n",
    "    optimizer.step()\n",
    "    optimizer.zero_grad()\n",
    "    \n",
    "    \n",
    "    # 每隔20次打印一下当前的损失值\n",
    "    if (epoch + 1) % 20 == 0:\n",
    "        print('Epoch [ {}/ {}], loss: {:.6f}'. format(epoch+ 1 ,num_epochs,loss.data))\n",
    "\n",
    "# 评估模型的效果，打印出模型的参数和预测结果\n",
    "print('Model parameters:')\n",
    "for name, param in model.named_parameters():\n",
    "    print(name, param.data)\n",
    "print('Predictions:')\n",
    "print(model(torch.autograd.Variable(x_data)))\n"
   ]
  },
  {
   "cell_type": "code",
   "execution_count": 10,
   "metadata": {},
   "outputs": [
    {
     "ename": "RuntimeError",
     "evalue": "mat1 and mat2 must have the same dtype",
     "output_type": "error",
     "traceback": [
      "\u001b[0;31m---------------------------------------------------------------------------\u001b[0m",
      "\u001b[0;31mRuntimeError\u001b[0m                              Traceback (most recent call last)",
      "Cell \u001b[0;32mIn[10], line 1\u001b[0m\n\u001b[0;32m----> 1\u001b[0m model(torch\u001b[39m.\u001b[39;49mfrom_numpy(np\u001b[39m.\u001b[39;49marray([[ \u001b[39m0.\u001b[39;49m,  \u001b[39m1\u001b[39;49m],[ \u001b[39m1\u001b[39;49m,  \u001b[39m0.\u001b[39;49m]],dtype\u001b[39m=\u001b[39;49mnp\u001b[39m.\u001b[39;49mfloat64)))\n",
      "File \u001b[0;32m/workspaces/ResMan/man/lib/python3.10/site-packages/torch/nn/modules/module.py:1501\u001b[0m, in \u001b[0;36mModule._call_impl\u001b[0;34m(self, *args, **kwargs)\u001b[0m\n\u001b[1;32m   1496\u001b[0m \u001b[39m# If we don't have any hooks, we want to skip the rest of the logic in\u001b[39;00m\n\u001b[1;32m   1497\u001b[0m \u001b[39m# this function, and just call forward.\u001b[39;00m\n\u001b[1;32m   1498\u001b[0m \u001b[39mif\u001b[39;00m \u001b[39mnot\u001b[39;00m (\u001b[39mself\u001b[39m\u001b[39m.\u001b[39m_backward_hooks \u001b[39mor\u001b[39;00m \u001b[39mself\u001b[39m\u001b[39m.\u001b[39m_backward_pre_hooks \u001b[39mor\u001b[39;00m \u001b[39mself\u001b[39m\u001b[39m.\u001b[39m_forward_hooks \u001b[39mor\u001b[39;00m \u001b[39mself\u001b[39m\u001b[39m.\u001b[39m_forward_pre_hooks\n\u001b[1;32m   1499\u001b[0m         \u001b[39mor\u001b[39;00m _global_backward_pre_hooks \u001b[39mor\u001b[39;00m _global_backward_hooks\n\u001b[1;32m   1500\u001b[0m         \u001b[39mor\u001b[39;00m _global_forward_hooks \u001b[39mor\u001b[39;00m _global_forward_pre_hooks):\n\u001b[0;32m-> 1501\u001b[0m     \u001b[39mreturn\u001b[39;00m forward_call(\u001b[39m*\u001b[39;49margs, \u001b[39m*\u001b[39;49m\u001b[39m*\u001b[39;49mkwargs)\n\u001b[1;32m   1502\u001b[0m \u001b[39m# Do not call functions when jit is used\u001b[39;00m\n\u001b[1;32m   1503\u001b[0m full_backward_hooks, non_full_backward_hooks \u001b[39m=\u001b[39m [], []\n",
      "Cell \u001b[0;32mIn[7], line 26\u001b[0m, in \u001b[0;36mLinearRegression.forward\u001b[0;34m(self, x)\u001b[0m\n\u001b[1;32m     24\u001b[0m \u001b[39mdef\u001b[39;00m \u001b[39mforward\u001b[39m(\u001b[39mself\u001b[39m, x):\n\u001b[1;32m     25\u001b[0m     \u001b[39m# 计算线性层的输出\u001b[39;00m\n\u001b[0;32m---> 26\u001b[0m     out \u001b[39m=\u001b[39m \u001b[39mself\u001b[39;49m\u001b[39m.\u001b[39;49mlinear(x)\n\u001b[1;32m     27\u001b[0m     \u001b[39mreturn\u001b[39;00m out\n",
      "File \u001b[0;32m/workspaces/ResMan/man/lib/python3.10/site-packages/torch/nn/modules/module.py:1501\u001b[0m, in \u001b[0;36mModule._call_impl\u001b[0;34m(self, *args, **kwargs)\u001b[0m\n\u001b[1;32m   1496\u001b[0m \u001b[39m# If we don't have any hooks, we want to skip the rest of the logic in\u001b[39;00m\n\u001b[1;32m   1497\u001b[0m \u001b[39m# this function, and just call forward.\u001b[39;00m\n\u001b[1;32m   1498\u001b[0m \u001b[39mif\u001b[39;00m \u001b[39mnot\u001b[39;00m (\u001b[39mself\u001b[39m\u001b[39m.\u001b[39m_backward_hooks \u001b[39mor\u001b[39;00m \u001b[39mself\u001b[39m\u001b[39m.\u001b[39m_backward_pre_hooks \u001b[39mor\u001b[39;00m \u001b[39mself\u001b[39m\u001b[39m.\u001b[39m_forward_hooks \u001b[39mor\u001b[39;00m \u001b[39mself\u001b[39m\u001b[39m.\u001b[39m_forward_pre_hooks\n\u001b[1;32m   1499\u001b[0m         \u001b[39mor\u001b[39;00m _global_backward_pre_hooks \u001b[39mor\u001b[39;00m _global_backward_hooks\n\u001b[1;32m   1500\u001b[0m         \u001b[39mor\u001b[39;00m _global_forward_hooks \u001b[39mor\u001b[39;00m _global_forward_pre_hooks):\n\u001b[0;32m-> 1501\u001b[0m     \u001b[39mreturn\u001b[39;00m forward_call(\u001b[39m*\u001b[39;49margs, \u001b[39m*\u001b[39;49m\u001b[39m*\u001b[39;49mkwargs)\n\u001b[1;32m   1502\u001b[0m \u001b[39m# Do not call functions when jit is used\u001b[39;00m\n\u001b[1;32m   1503\u001b[0m full_backward_hooks, non_full_backward_hooks \u001b[39m=\u001b[39m [], []\n",
      "File \u001b[0;32m/workspaces/ResMan/man/lib/python3.10/site-packages/torch/nn/modules/linear.py:114\u001b[0m, in \u001b[0;36mLinear.forward\u001b[0;34m(self, input)\u001b[0m\n\u001b[1;32m    113\u001b[0m \u001b[39mdef\u001b[39;00m \u001b[39mforward\u001b[39m(\u001b[39mself\u001b[39m, \u001b[39minput\u001b[39m: Tensor) \u001b[39m-\u001b[39m\u001b[39m>\u001b[39m Tensor:\n\u001b[0;32m--> 114\u001b[0m     \u001b[39mreturn\u001b[39;00m F\u001b[39m.\u001b[39;49mlinear(\u001b[39minput\u001b[39;49m, \u001b[39mself\u001b[39;49m\u001b[39m.\u001b[39;49mweight, \u001b[39mself\u001b[39;49m\u001b[39m.\u001b[39;49mbias)\n",
      "\u001b[0;31mRuntimeError\u001b[0m: mat1 and mat2 must have the same dtype"
     ]
    }
   ],
   "source": [
    "model(torch.from_numpy(np.array([[ 0.,  1],[ 1,  0.]],dtype=np.float64)))"
   ]
  },
  {
   "cell_type": "code",
   "execution_count": 1,
   "metadata": {},
   "outputs": [
    {
     "data": {
      "text/plain": [
       "2"
      ]
     },
     "execution_count": 1,
     "metadata": {},
     "output_type": "execute_result"
    },
    {
     "name": "stderr",
     "output_type": "stream",
     "text": [
      "Bad pipe message: %s [b'm\\x1d+\\xfc\\x9f*\\xceQ)^\\xffTy\\x85\\xb1\\x87\\x19h \\x80\\x9d \\x9ct\\xd9xq` #\\xe6\\x8e\\xa2T\\xe4\\xb6\\x19U$\\x10;h)\\xa3g\\xe6\\x8c\\x07\\x02Rz\\x00\\x08\\x13\\x02\\x13\\x03\\x13\\x01\\x00\\xff\\x01\\x00\\x00\\x8f\\x00\\x00\\x00\\x0e\\x00\\x0c\\x00\\x00\\t127.0.0.1\\x00\\x0b\\x00\\x04\\x03\\x00\\x01\\x02\\x00\\n\\x00\\x0c\\x00\\n\\x00\\x1d\\x00\\x17\\x00\\x1e\\x00\\x19\\x00\\x18\\x00#\\x00\\x00\\x00\\x16\\x00\\x00\\x00\\x17\\x00\\x00\\x00\\r\\x00\\x1e\\x00\\x1c\\x04\\x03\\x05\\x03\\x06\\x03\\x08\\x07\\x08\\x08\\x08\\t\\x08\\n\\x08\\x0b\\x08\\x04\\x08\\x05\\x08\\x06\\x04\\x01\\x05\\x01\\x06\\x01\\x00+\\x00\\x03\\x02\\x03', b'-\\x00\\x02']\n",
      "Bad pipe message: %s [b\".\\x9d\\xc3\\xd7;d\\xeb&&\\xa8\\xac\\x97\\xaeD6\\xd5\\x0f\\xf8\\x00\\x00\\x86\\xc00\\xc0,\\xc0(\\xc0$\\xc0\\x14\\xc0\\n\\x00\\xa5\\x00\\xa3\\x00\\xa1\\x00\\x9f\\x00k\\x00j\\x00i\\x00h\\x009\\x008\\x007\\x006\\xc02\\xc0.\\xc0*\\xc0&\\xc0\\x0f\\xc0\\x05\\x00\\x9d\\x00=\\x005\\xc0/\\xc0+\\xc0'\\xc0#\\xc0\\x13\\xc0\\t\\x00\\xa4\\x00\\xa2\\x00\\xa0\\x00\\x9e\\x00g\\x00@\\x00?\\x00>\\x003\\x002\\x001\\x000\\xc0\", b'-\\xc0)\\xc0%\\xc0\\x0e\\xc0\\x04\\x00\\x9c\\x00<\\x00/\\x00\\x9a\\x00\\x99\\x00\\x98\\x00\\x97\\x00\\x96\\x00\\x07\\xc0\\x11\\xc0\\x07\\xc0\\x0c\\xc0\\x02\\x00\\x05\\x00\\x04\\x00\\xff\\x02\\x01\\x00\\x00g\\x00\\x00']\n",
      "Bad pipe message: %s [b\"{I\\x1a\\xdc\\xe6-\\xb7\\xa0\\x1c\\x9b\\xbe\\xac\\xebzga\\xe4\\xb2\\x00\\x00|\\xc0,\\xc00\\x00\\xa3\\x00\\x9f\\xcc\\xa9\\xcc\\xa8\\xcc\\xaa\\xc0\\xaf\\xc0\\xad\\xc0\\xa3\\xc0\\x9f\\xc0]\\xc0a\\xc0W\\xc0S\\xc0+\\xc0/\\x00\\xa2\\x00\\x9e\\xc0\\xae\\xc0\\xac\\xc0\\xa2\\xc0\\x9e\\xc0\\\\\\xc0`\\xc0V\\xc0R\\xc0$\\xc0(\\x00k\\x00j\\xc0#\\xc0'\\x00g\\x00@\\xc0\\n\\xc0\\x14\\x009\\x008\"]\n",
      "Bad pipe message: %s [b\"\\xc8\\xb1<\\xc3\\xa9\\xcf\\xd5\\xa4\\x08\\xa4H\\xcfpz}\\xb54\\x00\\x00\\x00\\xa6\\xc0,\\xc00\\x00\\xa3\\x00\\x9f\\xcc\\xa9\\xcc\\xa8\\xcc\\xaa\\xc0\\xaf\\xc0\\xad\\xc0\\xa3\\xc0\\x9f\\xc0]\\xc0a\\xc0W\\xc0S\\xc0+\\xc0/\\x00\\xa2\\x00\\x9e\\xc0\\xae\\xc0\\xac\\xc0\\xa2\\xc0\\x9e\\xc0\\\\\\xc0`\\xc0V\\xc0R\\xc0$\\xc0(\\x00k\\x00j\\xc0s\\xc0w\\x00\\xc4\\x00\\xc3\\xc0#\\xc0'\\x00g\\x00@\\xc0r\\xc0v\\x00\\xbe\\x00\\xbd\\xc0\\n\\xc0\\x14\\x009\\x008\\x00\\x88\\x00\\x87\\xc0\\t\\xc0\\x13\"]\n",
      "Bad pipe message: %s [b'\\xd5|\\x0b\\xc6\\x04K\\x0fO\\xc4\\x15N\\x10\\x90\\x19\\xfd!\\x01\\x1d\\x00\\x00\\xa2\\xc0\\x14\\xc0\\n\\x009\\x008\\x007\\x006\\x00\\x88\\x00\\x87\\x00\\x86\\x00\\x85\\xc0\\x19\\x00:\\x00\\x89\\xc0\\x0f\\xc0\\x05\\x005\\x00\\x84\\xc0\\x13\\xc0\\t\\x003\\x002\\x001\\x000\\x00\\x9a\\x00\\x99\\x00\\x98\\x00\\x97\\x00E\\x00D\\x00C\\x00B\\xc0\\x18\\x004\\x00\\x9b\\x00F\\xc0\\x0e\\xc0\\x04\\x00/\\x00\\x96\\x00A\\x00\\x07\\xc0\\x11\\xc0\\x07\\xc0\\x16\\x00\\x18\\xc0\\x0c\\xc0\\x02\\x00\\x05\\x00\\x04\\xc0\\x12\\xc0\\x08\\x00\\x16\\x00\\x13\\x00\\x10\\x00\\r\\xc0\\x17\\x00\\x1b\\xc0\\r\\xc0\\x03\\x00\\n\\x00\\x15\\x00\\x12\\x00\\x0f\\x00\\x0c\\x00\\x1a\\x00\\t\\x00\\x14\\x00\\x11\\x00\\x19\\x00\\x08\\x00\\x06\\x00\\x17\\x00\\x03\\xc0\\x10\\xc0\\x06\\xc0\\x15\\xc0\\x0b\\xc0\\x01\\x00', b'\\x01']\n",
      "Bad pipe message: %s [b'L\\xe6\\xd3\\xcd?@@\\xc9\\x95\\xc6\\xcd\\xb8\\xda\\x1e\\xc5\\x9a\\xd9-\\x00\\x00\\xa2\\xc0\\x14\\xc0\\n\\x009\\x008\\x007\\x006\\x00\\x88\\x00\\x87\\x00\\x86\\x00\\x85\\xc0\\x19\\x00:\\x00\\x89\\xc0\\x0f\\xc0\\x05\\x005\\x00\\x84\\xc0\\x13\\xc0\\t\\x003\\x002\\x001\\x000\\x00\\x9a\\x00\\x99\\x00\\x98\\x00\\x97\\x00E\\x00D\\x00C\\x00B\\xc0\\x18\\x004\\x00\\x9b\\x00F\\xc0\\x0e\\xc0\\x04\\x00/\\x00\\x96\\x00A\\x00\\x07\\xc0\\x11\\xc0\\x07\\xc0\\x16\\x00\\x18\\xc0\\x0c\\xc0\\x02\\x00\\x05\\x00\\x04\\xc0\\x12\\xc0\\x08\\x00\\x16\\x00\\x13\\x00\\x10\\x00\\r\\xc0\\x17\\x00\\x1b\\xc0\\r\\xc0\\x03\\x00\\n\\x00\\x15\\x00\\x12\\x00\\x0f\\x00\\x0c\\x00\\x1a\\x00\\t\\x00\\x14\\x00\\x11\\x00\\x19\\x00\\x08\\x00\\x06\\x00\\x17\\x00\\x03\\xc0\\x10\\xc0\\x06\\xc0\\x15']\n",
      "Bad pipe message: %s [b'\\xd9]\\xec\\tF\\xd8oo\\t>,\\xe3\\x12\\xb0\\x9dI\\xb4\\x87\\x00\\x00>\\xc0\\x14\\xc0\\n\\x009\\x008\\x007\\x006\\xc0\\x0f\\xc0\\x05\\x005\\xc0\\x13\\xc0\\t\\x003\\x002\\x001\\x000\\xc0\\x0e\\xc0\\x04\\x00/\\x00\\x9a\\x00\\x99\\x00\\x98\\x00\\x97\\x00\\x96\\x00\\x07\\xc0\\x11\\xc0\\x07\\xc0\\x0c\\xc0\\x02\\x00\\x05\\x00\\x04\\x00\\xff\\x02\\x01\\x00\\x00C\\x00\\x00\\x00\\x0e\\x00\\x0c\\x00\\x00\\t127.0.0.']\n",
      "Bad pipe message: %s [b'\\xef\\x8bZhF\\xf6\\xc3\\x04\\x95\\x04\\xac\\x99\\xde\\xa7\\xd2\\x19\\xd8\\xc5\\x00\\x00\\xa2\\xc0\\x14\\xc0\\n\\x009\\x008\\x007\\x006\\x00\\x88\\x00\\x87\\x00\\x86\\x00\\x85\\xc0\\x19\\x00:\\x00\\x89\\xc0\\x0f\\xc0\\x05\\x005\\x00\\x84\\xc0\\x13\\xc0\\t\\x003\\x002\\x001\\x000\\x00\\x9a\\x00\\x99\\x00\\x98\\x00\\x97\\x00E\\x00D\\x00C\\x00B\\xc0\\x18\\x004\\x00\\x9b\\x00F\\xc0\\x0e\\xc0\\x04\\x00/\\x00\\x96\\x00A\\x00\\x07\\xc0\\x11\\xc0\\x07\\xc0\\x16\\x00\\x18\\xc0\\x0c\\xc0\\x02\\x00\\x05\\x00\\x04\\xc0\\x12\\xc0\\x08\\x00\\x16\\x00\\x13\\x00\\x10\\x00\\r\\xc0\\x17\\x00\\x1b\\xc0\\r\\xc0\\x03\\x00\\n\\x00\\x15\\x00\\x12\\x00\\x0f\\x00\\x0c\\x00\\x1a\\x00\\t\\x00\\x14\\x00\\x11\\x00\\x19\\x00\\x08\\x00\\x06\\x00\\x17\\x00\\x03\\xc0\\x10\\xc0\\x06\\xc0\\x15\\xc0\\x0b\\xc0\\x01\\x00\\x02\\x00\\x01\\x00\\xff\\x02\\x01\\x00\\x00C\\x00\\x00\\x00\\x0e\\x00\\x0c\\x00\\x00\\t127.0.0.1\\x00\\x0b\\x00\\x04\\x03\\x00\\x01\\x02\\x00\\n\\x00\\x1c\\x00\\x1a\\x00\\x17\\x00\\x19\\x00\\x1c']\n",
      "Bad pipe message: %s [b'\\x0b\\x00\\x04\\x03\\x00\\x01\\x02\\x00\\n\\x00\\x1c\\x00\\x1a\\x00\\x17\\x00\\x19\\x00\\x1c\\x00\\x1b\\x00\\x18\\x00\\x1a\\x00\\x16\\x00\\x0e\\x00\\r\\x00\\x0b\\x00\\x0c\\x00\\t\\x00\\n\\x00#\\x00\\x00\\x00\\x0f\\x00\\x01\\x01']\n",
      "Bad pipe message: %s [b\"*\\xf7\\x84\\x96\\xa2\\x98\\x9c\\xee\\xfd*\\xda\\x9b[\\x06E\\xffV\\xe9\\x00\\x00\\xf4\\xc00\\xc0,\\xc0(\\xc0$\\xc0\\x14\\xc0\\n\\x00\\xa5\\x00\\xa3\\x00\\xa1\\x00\\x9f\\x00k\\x00j\\x00i\\x00h\\x009\\x008\\x007\\x006\\x00\\x88\\x00\\x87\\x00\\x86\\x00\\x85\\xc0\\x19\\x00\\xa7\\x00m\\x00:\\x00\\x89\\xc02\\xc0.\\xc0*\\xc0&\\xc0\\x0f\\xc0\\x05\\x00\\x9d\\x00=\\x005\\x00\\x84\\xc0/\\xc0+\\xc0'\\xc0#\\xc0\\x13\\xc0\\t\\x00\\xa4\\x00\\xa2\\x00\\xa0\\x00\\x9e\\x00g\\x00@\\x00?\\x00>\\x003\\x002\\x001\\x000\\x00\\x9a\\x00\\x99\\x00\\x98\\x00\\x97\\x00E\\x00D\\x00C\\x00B\\xc0\\x18\\x00\\xa6\\x00l\\x004\\x00\\x9b\\x00F\\xc01\\xc0-\\xc0)\\xc0%\\xc0\\x0e\\xc0\\x04\\x00\\x9c\\x00<\\x00/\\x00\\x96\\x00A\\x00\\x07\\xc0\\x11\\xc0\\x07\\xc0\\x16\\x00\\x18\\xc0\\x0c\\xc0\\x02\\x00\\x05\\x00\\x04\\xc0\\x12\\xc0\\x08\\x00\\x16\\x00\", b'\\x10\\x00\\r\\xc0\\x17\\x00\\x1b\\xc0\\r\\xc0\\x03\\x00\\n\\x00\\x15\\x00\\x12\\x00']\n",
      "Bad pipe message: %s [b'\\x0c\\x00\\x1a\\x00\\t\\x00\\x14\\x00\\x11\\x00\\x19\\x00\\x08\\x00']\n",
      "Bad pipe message: %s [b'\\x17\\x00\\x03\\xc0\\x10']\n"
     ]
    }
   ],
   "source": [
    "[1,2,3][1]"
   ]
  },
  {
   "cell_type": "code",
   "execution_count": 1,
   "metadata": {},
   "outputs": [
    {
     "ename": "AttributeError",
     "evalue": "can't set attribute 'num_agents'",
     "output_type": "error",
     "traceback": [
      "\u001b[0;31m---------------------------------------------------------------------------\u001b[0m",
      "\u001b[0;31mAttributeError\u001b[0m                            Traceback (most recent call last)",
      "Cell \u001b[0;32mIn[1], line 2\u001b[0m\n\u001b[1;32m      1\u001b[0m \u001b[39mimport\u001b[39;00m \u001b[39mEnvironment\u001b[39;00m\n\u001b[0;32m----> 2\u001b[0m env \u001b[39m=\u001b[39m Environment\u001b[39m.\u001b[39;49mVehicleJobScheduling()\n",
      "File \u001b[0;32m/workspaces/ResMan/Environment.py:79\u001b[0m, in \u001b[0;36mVehicleJobScheduling.__init__\u001b[0;34m(self, render_mode, parameter)\u001b[0m\n\u001b[1;32m     75\u001b[0m \u001b[39mdef\u001b[39;00m \u001b[39m__init__\u001b[39m(\n\u001b[1;32m     76\u001b[0m     \u001b[39mself\u001b[39m, render_mode\u001b[39m=\u001b[39m\u001b[39mNone\u001b[39;00m, parameter\u001b[39m=\u001b[39mVehicleJobSchedulingParameters()\n\u001b[1;32m     77\u001b[0m ) \u001b[39m-\u001b[39m\u001b[39m>\u001b[39m \u001b[39mNone\u001b[39;00m:\n\u001b[1;32m     78\u001b[0m     \u001b[39m# 初始化环境的参数，可以根据需要添加或修改\u001b[39;00m\n\u001b[0;32m---> 79\u001b[0m     \u001b[39mself\u001b[39;49m\u001b[39m.\u001b[39;49mnum_agents \u001b[39m=\u001b[39m parameter\u001b[39m.\u001b[39mmachine_numbers  \u001b[39m# 环境中的智能体数量\u001b[39;00m\n\u001b[1;32m     80\u001b[0m     \u001b[39mself\u001b[39m\u001b[39m.\u001b[39magents \u001b[39m=\u001b[39m [ machine \u001b[39mfor\u001b[39;00m machine \u001b[39min\u001b[39;00m parameter\u001b[39m.\u001b[39mcluster\u001b[39m.\u001b[39mmachines]  \u001b[39m# 环境中的智能体列表\u001b[39;00m\n\u001b[1;32m     81\u001b[0m     \u001b[39mself\u001b[39m\u001b[39m.\u001b[39mmax_cycles \u001b[39m=\u001b[39m \u001b[39m1000\u001b[39m  \u001b[39m# 环境的最大步数或时间限制\u001b[39;00m\n",
      "\u001b[0;31mAttributeError\u001b[0m: can't set attribute 'num_agents'"
     ]
    }
   ],
   "source": [
    "import Environment\n",
    "env = Environment.VehicleJobScheduling()"
   ]
  },
  {
   "cell_type": "code",
   "execution_count": 2,
   "metadata": {},
   "outputs": [],
   "source": [
    " parameter=Environment.VehicleJobSchedulingParameters()"
   ]
  },
  {
   "cell_type": "code",
   "execution_count": 3,
   "metadata": {},
   "outputs": [
    {
     "data": {
      "text/plain": [
       "10"
      ]
     },
     "execution_count": 3,
     "metadata": {},
     "output_type": "execute_result"
    }
   ],
   "source": [
    "parameter.machine_numbers"
   ]
  },
  {
   "cell_type": "code",
   "execution_count": null,
   "metadata": {},
   "outputs": [],
   "source": []
  }
 ],
 "metadata": {
  "kernelspec": {
   "display_name": "man",
   "language": "python",
   "name": "python3"
  },
  "language_info": {
   "codemirror_mode": {
    "name": "ipython",
    "version": 3
   },
   "file_extension": ".py",
   "mimetype": "text/x-python",
   "name": "python",
   "nbconvert_exporter": "python",
   "pygments_lexer": "ipython3",
   "version": "3.10.4"
  },
  "orig_nbformat": 4,
  "vscode": {
   "interpreter": {
    "hash": "d652fbd7feb28eaf2ff622dc57929f599600a55ad62e1efe6c9f098053cf5e75"
   }
  }
 },
 "nbformat": 4,
 "nbformat_minor": 2
}
